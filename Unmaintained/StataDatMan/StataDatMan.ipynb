{
 "cells": [
  {
   "cell_type": "markdown",
   "metadata": {},
   "source": [
    "Introduction\n",
    "============\n",
    "\n",
    "Materials and Setup\n",
    "-------------------\n",
    "\n",
    "-   Lab computer log in:\n",
    "    -   USERNAME: dataclass\n",
    "    -   PASSWORD: on the board to your left\n",
    "-   Workshop materials:\n",
    "    -   Download class materials from <http://tutorials.iq.harvard.edu/Stata/StataDatMan.zip>\n",
    "    -   Open a file browser, right-click on `StataDatMan.zip`, select the `WinZip` menu and select `Extract to Here`.\n",
    "\n",
    "Copy the workshop materials to your home directory<span class=\"tag\" data-tag-name=\"mitsetup\"></span>\n",
    "----------------------------------------------------------------------------------------------------\n",
    "\n",
    "-   **Log in to an Athena workstation** using your Athena user name and password\n",
    "-   **Click on the \"Ubuntu\" button** on the upper-left and type \"term\" as shown below\n",
    "\n",
    "<!-- -->\n",
    "\n",
    "-   **Click on the \"Terminal\" icon** as shown above\n",
    "-   In the terminal, **type this line exactly as shown**:\n",
    "\n",
    "<!-- -->\n",
    "\n",
    "-   If you see \"ERROR 404: Not Found\", then you mistyped the command -- try again, making sure to type the command exactly as shown. If it still doesn't work, open <http://j.mp/stata-datman> in a web browser.\n",
    "\n",
    "Launch Stata on Athena<span class=\"tag\" data-tag-name=\"mitsetup\"></span>\n",
    "------------------------------------------------------------------------\n",
    "\n",
    "-   To start Stata **type these commands in the terminal**:"
   ]
  },
  {
   "cell_type": "markdown",
   "metadata": {},
   "source": [
    "``` example\n",
    "    add stata\n",
    "    xstata\n",
    "```\n"
   ]
  },
  {
   "cell_type": "markdown",
   "metadata": {},
   "source": [
    "-   Open up today's Stata script\n",
    "    -   In Stata, go to **Window =&gt; New do file =&gt; Open**\n",
    "    -   Locate and open the `StatDatMan.do` script in the StataDatMan folder in your home directory\n",
    "-   I encourage you to add your own notes to this file!\n",
    "\n",
    "Workshop Description\n",
    "--------------------\n",
    "\n",
    "-   This is an Introduction to data management in Stata\n",
    "-   Assumes basic knowledge of Stata\n",
    "-   Not appropriate for people already well familiar with Stata\n",
    "-   If you are catching on before the rest of the class, experiment with command features described in help files\n",
    "\n",
    "Organization\n",
    "------------\n",
    "\n",
    "-   Please feel free to ask questions at any point if they are relevant to the current topic (or if you are lost!)\n",
    "-   There will be a Q&A after class for more specific, personalized questions\n",
    "-   Collaboration with your neighbors is encouraged\n",
    "-   If you are using a laptop, you will need to adjust paths accordingly\n",
    "\n",
    "Opening Files in Stata\n",
    "----------------------\n",
    "\n",
    "-   Look at bottom left hand corner of Stata screen\n",
    "    -   This is the directory Stata is currently reading from\n",
    "-   Files are located in the StataDatMan folder in your home directory\n",
    "-   Start by telling Stata where to look for these"
   ]
  },
  {
   "cell_type": "code",
   "execution_count": null,
   "metadata": {
    "attributes": {
     "classes": [
      "stata"
     ],
     "id": ""
    }
   },
   "outputs": [],
   "source": [
    "  // change directory\n",
    "  cd \"~/tutorials/Stata/StataDatMan\"\n",
    "\n",
    "  // Use dir to see what is in the directory:\n",
    "  dir\n",
    "  dir dataSets\n",
    "\n",
    "  // use the gss data set\n",
    "  use dataSets/gss.dta"
   ]
  },
  {
   "cell_type": "markdown",
   "metadata": {},
   "source": [
    "``` example\n",
    "set more off\n",
    "\n",
    "cd \"~/tutorials/Stata/StataDatMan\"\n",
    "/nfs/www/edu-harvard-iq-tutorials/Stata/StataDatMan\n",
    "\n",
    "\n",
    "dir\n",
    "\n",
    "total 100\n",
    "drwxrwsr-x. 2 apache tutorwww  4096 Oct  9 08:44 dataSets/\n",
    "-rwxrwxr-x. 1 izahn  tutorwww  1302 Oct  9 08:44 Exercises.do*\n",
    "drwxrwsr-x. 2 apache tutorwww  4096 Oct  9 08:44 images/\n",
    "drwxrwsr-x. 4 apache tutorwww  4096 Oct  9 08:44 StataDatMan/\n",
    "-rwxrwxr-x. 1 izahn  tutorwww 17446 Oct  9 08:44 StataDatMan.do*\n",
    "-rwxrwxr-x. 1 izahn  tutorwww 38153 Oct  9 08:44 StataDatMan.html*\n",
    "-rwxrwxr-x. 1 izahn  tutorwww 20463 Oct  9 08:44 StataDatMan.org*\n",
    "dir dataSets\n",
    "\n",
    "total 2644\n",
    "-rwxrwxr-x. 1 izahn tutorwww 275705 Oct  9 08:44 gss1.dta*\n",
    "-rwxrwxr-x. 1 izahn tutorwww 263324 Oct  9 08:44 gss2.dta*\n",
    "-rwxrwxr-x. 1 izahn tutorwww 532880 Oct  9 08:44 gssAddObserve.dta*\n",
    "-rwxrwxr-x. 1 izahn tutorwww 527005 Oct  9 08:44 gssAppend.dta*\n",
    "-rwxrwxr-x. 1 izahn tutorwww 527005 Oct  9 08:44 gsscompare1.dta*\n",
    "-rwxrwxr-x. 1 izahn tutorwww 538755 Oct  9 08:44 gss.dta*\n",
    "-rwxrwxr-x. 1 izahn tutorwww   1139 Oct  9 08:44 marital.dta*\n",
    "\n",
    "\n",
    "use dataSets/gss.dta\n",
    "```\n"
   ]
  },
  {
   "cell_type": "markdown",
   "metadata": {},
   "source": [
    "Generating and replacing variables\n",
    "==================================\n",
    "\n",
    "Basic Data Manipulation Commands\n",
    "--------------------------------\n",
    "\n",
    "Basic commands you'll use for generating new variables or recoding existing variables:\n",
    "\n",
    "-   gen\n",
    "-   egen\n",
    "-   replace\n",
    "-   recode\n",
    "\n",
    "Many different means of accomplishing the same thing in Stata -- find what is comfortable (and easy) for you!\n",
    "\n",
    "Generate and Replace\n",
    "--------------------\n",
    "\n",
    "The `replace` command is often used with logic statements. Available logical operators include the following:\n",
    "\n",
    "| Operator | Meaning                  |\n",
    "|----------|--------------------------|\n",
    "| ==       | equal to                 |\n",
    "| !=       | not equal to             |\n",
    "| &gt;     | greater than             |\n",
    "| &gt;=    | greater than or equal to |\n",
    "| &lt;     | less than                |\n",
    "| &lt;=    | less than or equal to    |\n",
    "| &        | and                      |\n",
    "|          | or                       |\n",
    "\n",
    "For example:"
   ]
  },
  {
   "cell_type": "code",
   "execution_count": null,
   "metadata": {
    "attributes": {
     "classes": [
      "stata"
     ],
     "id": ""
    }
   },
   "outputs": [],
   "source": [
    "  //create \"hapnew\" variable\n",
    "  gen hapnew = .\n",
    "  //set to 0 if happy equals 1\n",
    "  replace hapnew=0 if happy==1 \n",
    "  //set to 1 if happy both and hapmar are greater than 3\n",
    "  replace hapnew=1 if happy>3 & hapmar>3 \n",
    "  // tabulate the new \n",
    "  tab hapnew"
   ]
  },
  {
   "cell_type": "markdown",
   "metadata": {},
   "source": [
    "``` example\n",
    "\n",
    "gen hapnew = .\n",
    "(1,419 missing values generated)\n",
    "\n",
    "replace hapnew=0 if happy==1 \n",
    "(435 real changes made)\n",
    "\n",
    "replace hapnew=1 if happy>3 & hapmar>3 \n",
    "(4 real changes made)\n",
    "\n",
    "tab hapnew\n",
    "\n",
    "     hapnew |      Freq.     Percent        Cum.\n",
    "------------+-----------------------------------\n",
    "          0 |        435       99.09       99.09\n",
    "          1 |          4        0.91      100.00\n",
    "------------+-----------------------------------\n",
    "      Total |        439      100.00\n",
    "```\n"
   ]
  },
  {
   "cell_type": "markdown",
   "metadata": {},
   "source": [
    "Recode\n",
    "------\n",
    "\n",
    "The `recode` command is basically generate and replace combined. You can recode an existing variable OR use recode to create a new variable (via the `gen` option)."
   ]
  },
  {
   "cell_type": "code",
   "execution_count": null,
   "metadata": {
    "attributes": {
     "classes": [
      "stata"
     ],
     "id": ""
    }
   },
   "outputs": [],
   "source": [
    "  // recode the wrkstat variable \n",
    "  recode wrkstat (1=8) (2=7) (3=6) (4=5) (5=4) (6=3) (7=2) (8=1)\n",
    "  // recode wrkstat into a new variable named wrkstat2\n",
    "  recode wrkstat (1=8), gen(wrkstat2)\n",
    "  // tabulate workstat\n",
    "  tab wrkstat"
   ]
  },
  {
   "cell_type": "markdown",
   "metadata": {},
   "source": [
    "``` example\n",
    "\n",
    "recode wrkstat (1=8) (2=7) (3=6) (4=5) (5=4) (6=3) (7=2) (8=1)\n",
    "(wrkstat: 1419 changes made)\n",
    "\n",
    "recode wrkstat (1=8), gen(wrkstat2)\n",
    "(32 differences between wrkstat and wrkstat2)\n",
    "\n",
    "tab wrkstat\n",
    "\n",
    "      LABOR FRCE |\n",
    "          STATUS |      Freq.     Percent        Cum.\n",
    "-----------------+-----------------------------------\n",
    "WORKING FULLTIME |         32        2.26        2.26\n",
    "WORKING PARTTIME |        155       10.92       13.18\n",
    "TEMP NOT WORKING |         34        2.40       15.57\n",
    "UNEMPL, LAID OFF |        214       15.08       30.66\n",
    "         RETIRED |         29        2.04       32.70\n",
    "          SCHOOL |         35        2.47       35.17\n",
    "   KEEPING HOUSE |        146       10.29       45.45\n",
    "           OTHER |        774       54.55      100.00\n",
    "-----------------+-----------------------------------\n",
    "           Total |      1,419      100.00\n",
    "```\n"
   ]
  },
  {
   "cell_type": "markdown",
   "metadata": {},
   "source": [
    "The table below illustrates common forms of recoding\n",
    "\n",
    "| Rule          | Example                                | Meaning                 |                          |\n",
    "|---------------|----------------------------------------|-------------------------|--------------------------|\n",
    "| \\#=\\#         | 3=1                                    | 3 recoded to 1          |                          |\n",
    "| \\#\\#=\\#       | 2. `9     | 2 and . recoded to 9     | \n",
    "                 | #/# ` \\#                              | 1/5=4                   | 1 through 5 recoded to 4 |\n",
    "| nonmissing=\\# | nonmiss=8                              | nonmissing recoded to 8 |                          |\n",
    "| missing=\\#    | miss=9                                 | missing recoded to 9    |                          |\n",
    "\n",
    "egen\n",
    "----\n",
    "\n",
    "The `egen` command (\"extensions\" to the `gen` command) provides convenient methods for performing many common data manipulation tasks.\n",
    "\n",
    "For example, we can use `egen` to create a new variable that counts the number of \"yes\" responses on computer, email and internet use:"
   ]
  },
  {
   "cell_type": "code",
   "execution_count": null,
   "metadata": {
    "attributes": {
     "classes": [
      "stata"
     ],
     "id": ""
    }
   },
   "outputs": [],
   "source": [
    "  // count number of yes on use comp email and net \n",
    "  egen compuser= anycount(usecomp usemail usenet), values(1)\n",
    "  tab compuser"
   ]
  },
  {
   "cell_type": "markdown",
   "metadata": {},
   "source": [
    "``` example\n",
    "\n",
    "egen compuser= anycount(usecomp usemail usenet), values(1)\n",
    "tab compuser\n",
    "\n",
    "    usecomp |\n",
    "    usemail |\n",
    "usenet == 1 |      Freq.     Percent        Cum.\n",
    "------------+-----------------------------------\n",
    "          0 |        623       43.90       43.90\n",
    "          1 |        142       10.01       53.91\n",
    "          2 |         78        5.50       59.41\n",
    "          3 |        576       40.59      100.00\n",
    "------------+-----------------------------------\n",
    "      Total |      1,419      100.00\n",
    "```\n"
   ]
  },
  {
   "cell_type": "markdown",
   "metadata": {},
   "source": [
    "Here are some additional examples of `egen` in action:"
   ]
  },
  {
   "cell_type": "code",
   "execution_count": null,
   "metadata": {
    "attributes": {
     "classes": [
      "stata"
     ],
     "id": ""
    }
   },
   "outputs": [],
   "source": [
    "  // assess how much missing data each participant has:\n",
    "  egen countmiss = rowmiss(age-wifeft)\n",
    "  codebook countmiss\n",
    "  // compare values on multiple variables\n",
    "  egen ftdiff=diff(wkftwife wkfthusb)\n",
    "  codebook ftdiff"
   ]
  },
  {
   "cell_type": "markdown",
   "metadata": {},
   "source": [
    "``` example\n",
    "\n",
    "egen countmiss = rowmiss(age-wifeft)\n",
    "codebook countmiss\n",
    "\n",
    "-------------------------------------------------------------------------------\n",
    "countmiss                                                           (unlabeled)\n",
    "-------------------------------------------------------------------------------\n",
    "\n",
    "                  type:  numeric (float)\n",
    "\n",
    "                 range:  [0,7]                        units:  1\n",
    "         unique values:  6                        missing .:  0/1,419\n",
    "\n",
    "            tabulation:  Freq.  Value\n",
    "                           296  0\n",
    "                           215  1\n",
    "                           113  2\n",
    "                             7  3\n",
    "                           782  6\n",
    "                             6  7\n",
    "\n",
    "egen ftdiff=diff(wkftwife wkfthusb)\n",
    "codebook ftdiff\n",
    "\n",
    "-------------------------------------------------------------------------------\n",
    "ftdiff                                                   diff wkftwife wkfthusb\n",
    "-------------------------------------------------------------------------------\n",
    "\n",
    "                  type:  numeric (float)\n",
    "\n",
    "                 range:  [0,1]                        units:  1\n",
    "         unique values:  2                        missing .:  0/1,419\n",
    "\n",
    "            tabulation:  Freq.  Value\n",
    "                         1,169  0\n",
    "                           250  1\n",
    "```\n"
   ]
  },
  {
   "cell_type": "markdown",
   "metadata": {},
   "source": [
    "You will need to refer to the documentation to discover what else `egen` can do: type \"help egen\" in Stata to get a complete list of functions.\n",
    "\n",
    "Exercise 1: Generate, Replace, Recode & Egen\n",
    "--------------------------------------------\n",
    "\n",
    "Open the gss.dta data.\n",
    "\n",
    "1.  Generate a new variable that represents the squared value of age.\n",
    "2.  Generate a new variable equal to \"1\" if income is greater than \"19\".\n",
    "3.  Create a new variable that counts the number of missing responses for each respondent. What is the maximum number of missing variables?\n",
    "\n",
    "Exercise 1 prototype<span class=\"tag\" data-tag-name=\"prototype\"></span>\n",
    "-----------------------------------------------------------------------\n",
    "\n",
    "Open the gss.dta data.\n",
    "\n",
    "1.  \\[@1\\] Generate a new variable that represents the squared value of age."
   ]
  },
  {
   "cell_type": "code",
   "execution_count": null,
   "metadata": {
    "attributes": {
     "classes": [
      "stata"
     ],
     "id": ""
    }
   },
   "outputs": [],
   "source": [
    "     use dataSets/gss.dta, clear\n",
    "     gen age2 = age^2"
   ]
  },
  {
   "cell_type": "markdown",
   "metadata": {},
   "source": [
    "1.  \\[@2\\] Generate a new variable equal to \"1\" if income is greater than \"19\"."
   ]
  },
  {
   "cell_type": "code",
   "execution_count": null,
   "metadata": {
    "attributes": {
     "classes": [
      "stata"
     ],
     "id": ""
    }
   },
   "outputs": [],
   "source": [
    "     describe income\n",
    "     label list income\n",
    "     recode income (99=.) (98=.)\n",
    "     gen highincome =0 if income != .\n",
    "     replace highincome=1 if income>19\n",
    "     sum highincome"
   ]
  },
  {
   "cell_type": "markdown",
   "metadata": {},
   "source": [
    "1.  \\[@3\\]Create a new variable that counts the number of missing responses for each respondent. What is the maximum number of missing variables?"
   ]
  },
  {
   "cell_type": "code",
   "execution_count": null,
   "metadata": {
    "attributes": {
     "classes": [
      "stata"
     ],
     "id": ""
    }
   },
   "outputs": [],
   "source": [
    "  egen nmissing = rowmiss(_all)\n",
    "  sum nmissing"
   ]
  },
  {
   "cell_type": "markdown",
   "metadata": {},
   "source": [
    "By processing\n",
    "=============\n",
    "\n",
    "The \"bysort\" Command\n",
    "--------------------\n",
    "\n",
    "Sometimes, you'd like to create variables based on different categories of a single variable. For example, say you want to look at happiness based on whether an individual is male or female. The \"bysort\" prefix does just this:"
   ]
  },
  {
   "cell_type": "code",
   "execution_count": null,
   "metadata": {
    "attributes": {
     "classes": [
      "stata"
     ],
     "id": ""
    }
   },
   "outputs": [],
   "source": [
    "  // tabulate happy separately for male and female \n",
    "  bysort sex: tab happy\n",
    "  // generate summary statistics using bysort \n",
    "  bysort state: egen stateincome = mean(income)\n",
    "  bysort degree: egen degreeincome = mean(income)\n",
    "  bysort marital: egen marincomesd = sd(income)"
   ]
  },
  {
   "cell_type": "markdown",
   "metadata": {},
   "source": [
    "``` example\n",
    "\n",
    "bysort sex: tab happy\n",
    "\n",
    "-------------------------------------------------------------------------------\n",
    "-> sex = Male\n",
    "\n",
    "      GENERAL |\n",
    "    HAPPINESS |      Freq.     Percent        Cum.\n",
    "--------------+-----------------------------------\n",
    "   VERY HAPPY |        189       30.39       30.39\n",
    " PRETTY HAPPY |        350       56.27       86.66\n",
    "NOT TOO HAPPY |         73       11.74       98.39\n",
    "           NA |         10        1.61      100.00\n",
    "--------------+-----------------------------------\n",
    "        Total |        622      100.00\n",
    "\n",
    "-------------------------------------------------------------------------------\n",
    "-> sex = Female\n",
    "\n",
    "      GENERAL |\n",
    "    HAPPINESS |      Freq.     Percent        Cum.\n",
    "--------------+-----------------------------------\n",
    "   VERY HAPPY |        246       30.87       30.87\n",
    " PRETTY HAPPY |        447       56.09       86.95\n",
    "NOT TOO HAPPY |         84       10.54       97.49\n",
    "           DK |          1        0.13       97.62\n",
    "           NA |         19        2.38      100.00\n",
    "--------------+-----------------------------------\n",
    "        Total |        797      100.00\n",
    "\n",
    "bysort state: egen stateincome = mean(income)\n",
    "variable state not found\n",
    "r(111);\n",
    "bysort degree: egen degreeincome = mean(income)\n",
    "bysort marital: egen marincomesd = sd(income)\n",
    "```\n"
   ]
  },
  {
   "cell_type": "markdown",
   "metadata": {},
   "source": [
    "By prefix vs. by options\n",
    "------------------------\n",
    "\n",
    "Some commands won't work with by prefix, but instead have a `by` option:"
   ]
  },
  {
   "cell_type": "code",
   "execution_count": null,
   "metadata": {
    "attributes": {
     "classes": [
      "stata"
     ],
     "id": ""
    }
   },
   "outputs": [],
   "source": [
    "  // generate separate histograms for female and male \n",
    "  hist nethrs, by(sex)"
   ]
  },
  {
   "cell_type": "markdown",
   "metadata": {},
   "source": [
    "Missing values\n",
    "==============\n",
    "\n",
    "Missing Values\n",
    "--------------\n",
    "\n",
    "You always need to consider how missing values are coded when recoding variables.\n",
    "\n",
    "-   Stata's symbol for a missing value is \".\"\n",
    "-   Stata interprets \".\" as a large value\n",
    "-   Easy to make mistakes!\n",
    "\n",
    "To identify highly educated women, we might use the command:"
   ]
  },
  {
   "cell_type": "code",
   "execution_count": null,
   "metadata": {
    "attributes": {
     "classes": [
      "stata"
     ],
     "id": ""
    }
   },
   "outputs": [],
   "source": [
    "  // generate and replace without considering missing values\n",
    "  gen hi_ed=0\n",
    "  replace hi_ed=1 if wifeduc>15\n",
    "  // What happens to our missing values?\n",
    "  tab hi_ed, mi nola"
   ]
  },
  {
   "cell_type": "markdown",
   "metadata": {},
   "source": [
    "``` example\n",
    "\n",
    "gen hi_ed=0\n",
    "replace hi_ed=1 if wifeduc>15\n",
    "(944 real changes made)\n",
    "\n",
    "tab hi_ed, mi nola\n",
    "\n",
    "      hi_ed |      Freq.     Percent        Cum.\n",
    "------------+-----------------------------------\n",
    "          0 |        475       33.47       33.47\n",
    "          1 |        944       66.53      100.00\n",
    "------------+-----------------------------------\n",
    "      Total |      1,419      100.00\n",
    "```\n"
   ]
  },
  {
   "cell_type": "markdown",
   "metadata": {},
   "source": [
    "It looks like around 66% have higher education, but look closer:"
   ]
  },
  {
   "cell_type": "code",
   "execution_count": null,
   "metadata": {
    "attributes": {
     "classes": [
      "stata"
     ],
     "id": ""
    }
   },
   "outputs": [],
   "source": [
    "  // gen hi_ed2, but don't set a value if wifeduc is missing\n",
    "  gen hi_ed2 = 0 if wifeduc != . \n",
    "  // only replace non-missing\n",
    "  replace hi_ed2=1 if wifeduc >15 & wifeduc !=. \n",
    "  //check to see that missingness is preserved\n",
    "  tab hi_ed2, mi"
   ]
  },
  {
   "cell_type": "markdown",
   "metadata": {},
   "source": [
    "``` example\n",
    "\n",
    "gen hi_ed2 = 0 if wifeduc != . \n",
    "(797 missing values generated)\n",
    "\n",
    "replace hi_ed2=1 if wifeduc >15 & wifeduc !=. \n",
    "(147 real changes made)\n",
    "\n",
    " |        797       56.17      100.00\n",
    "------------+-----------------------------------\n",
    "      Total |      1,419      100.00\n",
    "```\n"
   ]
  },
  {
   "cell_type": "markdown",
   "metadata": {},
   "source": [
    "The correct value is 10%. Moral of the story? Be careful with missing values and remember that Stata considers missing values to be large!\n",
    "\n",
    "Bulk Conversion to Missing Values\n",
    "---------------------------------\n",
    "\n",
    "Often the data collection/generating procedure will have used some other value besides \".\" to represent missing values. The `mvdecode` command will convert all these values to missing. For example:"
   ]
  },
  {
   "cell_type": "code",
   "execution_count": null,
   "metadata": {
    "attributes": {
     "classes": [
      "stata"
     ],
     "id": ""
    }
   },
   "outputs": [],
   "source": [
    "  mvdecode _all, mv(999)"
   ]
  },
  {
   "cell_type": "markdown",
   "metadata": {},
   "source": [
    "``` example\n",
    "mvdecode _all, mv(999)\n",
    "```\n"
   ]
  },
  {
   "cell_type": "markdown",
   "metadata": {},
   "source": [
    "-   The \"\\_all\" command tells Stata to do this to all variables\n",
    "-   Use this command carefully!\n",
    "    -   If you have any variables where \"999\" is a legitimate value, Stata is going to recode it to missing\n",
    "    -   As an alternative, you could list var names separately rather than using \"\\_all\"\n",
    "\n",
    "Variable types\n",
    "==============\n",
    "\n",
    "Variable Types\n",
    "--------------\n",
    "\n",
    "Stata uses two main types of variables: String and Numeric. To be able to perform any mathematical operations, your variables need to be in a numeric format. Stata can store numbers with differing levels of precision, as described in the table below.\n",
    "\n",
    "| type   | Minimum                         | Maximum                        | being 0              | bytes |\n",
    "|--------|---------------------------------|--------------------------------|----------------------|-------|\n",
    "| byte   | -127                            | 100                            | +/-1                 | 1     |\n",
    "| int    | -32,767                         | 32,740                         | +/-1                 | 2     |\n",
    "| long   | -2,147,483,647                  | 2,147,483,620                  | +/-1                 | 4     |\n",
    "| float  | -1.70141173319\\*10<sup>38</sup> | 1.70141173319\\*10<sup>38</sup> | +/-10<sup>-38</sup>  | 4     |\n",
    "| double | -8.9884656743\\*10<sup>307</sup> | 8.9884656743\\*10<sup>307</sup> | +/-10<sup>-323</sup> | 8     |\n",
    "\n",
    "-   Precision for float is 3.795x10<sup>-8</sup>.\n",
    "-   Precision for double is 1.414x10<sup>-16</sup>.\n",
    "\n",
    "Converting to and from Strings\n",
    "------------------------------\n",
    "\n",
    "Stata provides several ways to convert to and from strings. You can use `tostring` and `destring` to convert from one type to the other:"
   ]
  },
  {
   "cell_type": "code",
   "execution_count": null,
   "metadata": {
    "attributes": {
     "classes": [
      "stata"
     ],
     "id": ""
    }
   },
   "outputs": [],
   "source": [
    "  // convert degree to a string\n",
    "  tostring degree, gen(degree_s)\n",
    "  // and back to a number\n",
    "  destring degree_s, gen(degree_n)"
   ]
  },
  {
   "cell_type": "markdown",
   "metadata": {},
   "source": [
    "``` example\n",
    "\n",
    "tostring degree, gen(degree_s)\n",
    "degree_s generated as str1\n",
    "\n",
    "destring degree_s, gen(degree_n)\n",
    "degree_s has all characters numeric; degree_n generated as byte\n",
    "```\n"
   ]
  },
  {
   "cell_type": "markdown",
   "metadata": {},
   "source": [
    "Use `decode` and `encode` to convert to/from variable labels:"
   ]
  },
  {
   "cell_type": "code",
   "execution_count": null,
   "metadata": {
    "attributes": {
     "classes": [
      "stata"
     ],
     "id": ""
    }
   },
   "outputs": [],
   "source": [
    "  // convert degree to a descriptive string\n",
    "  decode degree, gen(degree_s2)\n",
    "  // and back to a number with labels\n",
    "  encode degree_s2, gen(degree_n2)"
   ]
  },
  {
   "cell_type": "markdown",
   "metadata": {},
   "source": [
    "``` example\n",
    "\n",
    "decode degree, gen(degree_s2)\n",
    "\n",
    "encode degree_s2, gen(degree_n2)\n",
    "```\n"
   ]
  },
  {
   "cell_type": "markdown",
   "metadata": {},
   "source": [
    "Converting Strings to Date/Time\n",
    "-------------------------------\n",
    "\n",
    "Often date/time variables start out as strings -- You'll need to convert them to numbers using one of the conversion functions listed below.\n",
    "\n",
    "| Format | Meaning      | String-to-numeric conversion function |\n",
    "|--------|--------------|---------------------------------------|\n",
    "| %tc    | milliseconds | clock(string, mask)                   |\n",
    "| %td    | days         | date(string, mask)                    |\n",
    "| %tw    | weeks        | weekly(string, mask)                  |\n",
    "| %tm    | months       | monthly(string, mask)                 |\n",
    "| %tq    | quarters     | quarterly(string, mask)               |\n",
    "| %ty    | years        | yearly(string, mask)                  |\n",
    "\n",
    "Date/time variables are stored as the number of units elapsed since 01jan1960 00:00:00.000. For example, the `date` function returns the number of days since that time, and the `clock` function returns the number of milliseconds since that time."
   ]
  },
  {
   "cell_type": "code",
   "execution_count": null,
   "metadata": {
    "attributes": {
     "classes": [
      "stata"
     ],
     "id": ""
    }
   },
   "outputs": [],
   "source": [
    "  // create string variable and convert to date\n",
    "  gen date = \"November 9 2020\"\n",
    "  gen date1 = date(date, \"MDY\")\n",
    "  list date1 in 1/5"
   ]
  },
  {
   "cell_type": "markdown",
   "metadata": {},
   "source": [
    "``` example\n",
    "\n",
    "gen date = \"November 9 2020\"\n",
    "gen date1 = date(date, \"MDY\")\n",
    "list date1 in 1/5\n",
    "\n",
    "     +-------+\n",
    "     | date1 |\n",
    "     |-------|\n",
    "  1. | 22228 |\n",
    "  2. | 22228 |\n",
    "  3. | 22228 |\n",
    "  4. | 22228 |\n",
    "  5. | 22228 |\n",
    "     +-------+\n",
    "```\n"
   ]
  },
  {
   "cell_type": "markdown",
   "metadata": {},
   "source": [
    "Formatting Numbers as Dates\n",
    "---------------------------\n",
    "\n",
    "Once you have converted the string to a number you can format it for display. You can simply accept the defaults used by your formatting string or provide details to customize it."
   ]
  },
  {
   "cell_type": "code",
   "execution_count": null,
   "metadata": {
    "attributes": {
     "classes": [
      "stata"
     ],
     "id": ""
    }
   },
   "outputs": [],
   "source": [
    "  // format so humans can read the date\n",
    "  format date1 %d\n",
    "  list date1 in 1/5\n",
    "  // format with detail\n",
    "  format date1 %tdMonth_dd,_CCYY\n",
    "  list date1 in 1/5"
   ]
  },
  {
   "cell_type": "markdown",
   "metadata": {},
   "source": [
    "``` example\n",
    "\n",
    "format date1 %d\n",
    "list date1 in 1/5\n",
    "\n",
    "     +-----------+\n",
    "     |     date1 |\n",
    "     |-----------|\n",
    "  1. | 09nov2020 |\n",
    "  2. | 09nov2020 |\n",
    "  3. | 09nov2020 |\n",
    "  4. | 09nov2020 |\n",
    "  5. | 09nov2020 |\n",
    "     +-----------+\n",
    "\n",
    "format date1 %tdMonth_dd,_CCYY\n",
    "list date1 in 1/5\n",
    "\n",
    "     +------------------+\n",
    "     |            date1 |\n",
    "     |------------------|\n",
    "  1. | November 9, 2020 |\n",
    "  2. | November 9, 2020 |\n",
    "  3. | November 9, 2020 |\n",
    "  4. | November 9, 2020 |\n",
    "  5. | November 9, 2020 |\n",
    "     +------------------+\n",
    "```\n"
   ]
  },
  {
   "cell_type": "markdown",
   "metadata": {},
   "source": [
    "Exercise 2: Missing Values, String Conversion, and by Processing\n",
    "----------------------------------------------------------------\n",
    "\n",
    "1.  Recode values \"99\" and \"98\" on the variable, \"hrs1\" as \"missing.\"\n",
    "2.  Recode the marital variable into a \"string\" variable and then back into a numeric variable.\n",
    "3.  Create a new variable that associates each individual with the average number of hours worked among individuals with matching educational degrees (see the last \"by\" example for inspiration).\n",
    "\n",
    "Exercise 2 prototype<span class=\"tag\" data-tag-name=\"prototype\"></span>\n",
    "-----------------------------------------------------------------------\n",
    "\n",
    "1.  \\[@1\\] Recode values \"99\" and \"98\" on the variable, \"hrs1\" as \"missing.\""
   ]
  },
  {
   "cell_type": "code",
   "execution_count": null,
   "metadata": {
    "attributes": {
     "classes": [
      "stata"
     ],
     "id": ""
    }
   },
   "outputs": [],
   "source": [
    "  use dataSets/gss.dta, clear\n",
    "  sum hrs1\n",
    "  recode hrs1 (99=.) (98=.) \n",
    "  sum hrs1"
   ]
  },
  {
   "cell_type": "markdown",
   "metadata": {},
   "source": [
    "1.  \\[@2\\] Recode the marital variable into a \"string\" variable and then back into a numeric variable."
   ]
  },
  {
   "cell_type": "code",
   "execution_count": null,
   "metadata": {
    "attributes": {
     "classes": [
      "stata"
     ],
     "id": ""
    }
   },
   "outputs": [],
   "source": [
    "  tostring marital, gen(marstring)\n",
    "  destring marstring, gen(mardstring)\n",
    "  //compare with\n",
    "  decode marital, gen(marital_s)\n",
    "  encode marital_s, gen(marital_n)\n",
    "\n",
    "  describe marital marstring mardstring marital_s marital_n\n",
    "  sum marital marstring mardstring marital_s marital_n"
   ]
  },
  {
   "cell_type": "markdown",
   "metadata": {},
   "source": [
    "1.  \\[@3\\] Create a new variable that associates each individual with the average number of hours worked among individuals with matching educational degrees (see the last \"by\" example for inspiration)."
   ]
  },
  {
   "cell_type": "code",
   "execution_count": null,
   "metadata": {
    "attributes": {
     "classes": [
      "stata"
     ],
     "id": ""
    }
   },
   "outputs": [],
   "source": [
    "  bysort degree: egen hrsdegree = mean(hrs1)\n",
    "  tab hrsdegree\n",
    "  tab hrsdegree degree "
   ]
  },
  {
   "cell_type": "markdown",
   "metadata": {},
   "source": [
    "Merging, appending, and joining\n",
    "===============================\n",
    "\n",
    "Appending Datasets\n",
    "------------------\n",
    "\n",
    "Sometimes you have observations in two different datasets, or you'd like to add observations to an existing dataset. In this case you can use the `append` command to add observations to the end of the observations in the master dataset. For example:"
   ]
  },
  {
   "cell_type": "code",
   "execution_count": null,
   "metadata": {
    "attributes": {
     "classes": [
      "stata"
     ],
     "id": ""
    }
   },
   "outputs": [],
   "source": [
    "  clear\n",
    "  // from the append help file\n",
    "  webuse even\n",
    "  list\n",
    "  webuse odd\n",
    "  list\n",
    "  // Append even data to the end of the odd data\n",
    "  append using \"http://www.stata-press.com/data/r14/even\"\n",
    "  list\n",
    "  clear"
   ]
  },
  {
   "cell_type": "markdown",
   "metadata": {},
   "source": [
    "``` example\n",
    "clear\n",
    "\n",
    "webuse even\n",
    "(6th through 8th even numbers)\n",
    "list\n",
    "\n",
    "     +---------------+\n",
    "     | number   even |\n",
    "     |---------------|\n",
    "  1. |      6     12 |\n",
    "  2. |      7     14 |\n",
    "  3. |      8     16 |\n",
    "     +---------------+\n",
    "webuse odd\n",
    "(First five odd numbers)\n",
    "list\n",
    "\n",
    "     +--------------+\n",
    "     | number   odd |\n",
    "     |--------------|\n",
    "  1. |      1     1 |\n",
    "  2. |      2     3 |\n",
    "  3. |      3     5 |\n",
    "  4. |      4     7 |\n",
    "  5. |      5     9 |\n",
    "     +--------------+\n",
    "\n",
    "append using \"http://www.stata-press.com/data/r14/even\"\n",
    "list\n",
    "\n",
    "     +---------------------+\n",
    "     | number   odd   even |\n",
    "     |---------------------|\n",
    "  1. |      1     1      . |\n",
    "  2. |      2     3      . |\n",
    "  3. |      3     5      . |\n",
    "  4. |      4     7      . |\n",
    "  5. |      5     9      . |\n",
    "     |---------------------|\n",
    "  6. |      6     .     12 |\n",
    "  7. |      7     .     14 |\n",
    "  8. |      8     .     16 |\n",
    "     +---------------------+\n",
    "clear\n",
    "```\n"
   ]
  },
  {
   "cell_type": "markdown",
   "metadata": {},
   "source": [
    "To keep track of where observations came from, use the `generate` option as shown below:"
   ]
  },
  {
   "cell_type": "code",
   "execution_count": null,
   "metadata": {
    "attributes": {
     "classes": [
      "stata"
     ],
     "id": ""
    }
   },
   "outputs": [],
   "source": [
    "  webuse odd\n",
    "  append using \"http://www.stata-press.com/data/r14/even\", generate(observesource)\n",
    "  list\n",
    "  clear"
   ]
  },
  {
   "cell_type": "markdown",
   "metadata": {},
   "source": [
    "``` example\n",
    "webuse odd\n",
    "(First five odd numbers)\n",
    " ce)\n",
    "list\n",
    "\n",
    "     +--------------------------------+\n",
    "     | number   odd   observ~e   even |\n",
    "     |--------------------------------|\n",
    "  1. |      1     1          0      . |\n",
    "  2. |      2     3          0      . |\n",
    "  3. |      3     5          0      . |\n",
    "  4. |      4     7          0      . |\n",
    "  5. |      5     9          0      . |\n",
    "     |--------------------------------|\n",
    "  6. |      6     .          1     12 |\n",
    "  7. |      7     .          1     14 |\n",
    "  8. |      8     .          1     16 |\n",
    "     +--------------------------------+\n",
    "clear\n",
    "```\n"
   ]
  },
  {
   "cell_type": "markdown",
   "metadata": {},
   "source": [
    "There is a \"force\" option will allow for data type mismatches, but again this is not recommended.\n",
    "\n",
    "Remember, `append` is for adding observations (i.e., rows) from a second data set.\n",
    "\n",
    "Merging Datasets\n",
    "----------------\n",
    "\n",
    "You can `merge` variables from a second dataset to the dataset you're currently working with.\n",
    "\n",
    "-   Current active dataset = master dataset\n",
    "-   Dataset you'd like to merge with master = using dataset\n",
    "\n",
    "There are different ways that you might be interested in merging data:\n",
    "\n",
    "-   Two datasets with same participant pool, one row per participant (1:1)\n",
    "-   A dataset with one participant per row with a dataset with multiple rows per participant (1:many or many:1)\n",
    "\n",
    "Before you begin:\n",
    "\n",
    "-   Identify the \"ID\" that you will use to merge your two datasets\n",
    "-   Determine which variables you'd like to merge\n",
    "-   In Stata &gt;= 11, data does NOT have to be sorted\n",
    "-   Variable types must match across datasets (there is a \"force\" option to get around this, but not recommended)"
   ]
  },
  {
   "cell_type": "code",
   "execution_count": null,
   "metadata": {
    "attributes": {
     "classes": [
      "stata"
     ],
     "id": ""
    }
   },
   "outputs": [],
   "source": [
    "  // Adapted from the merge help page\n",
    "  webuse autosize \n",
    "  list\n",
    "  webuse autoexpense\n",
    "  list\n",
    "\n",
    "  webuse autosize\n",
    "  merge 1:1 make using \"http://www.stata-press.com/data/r14/autoexpense\"\n",
    "  list\n",
    "  clear\n",
    "\n",
    "  // keep only the matches (AKA \"inner join\")\n",
    "  webuse autosize, clear\n",
    "  merge 1:1 make using \"http://www.stata-press.com/data/r14/autoexpense\", keep(match) nogen\n",
    "  list\n",
    "  clear"
   ]
  },
  {
   "cell_type": "markdown",
   "metadata": {},
   "source": [
    "``` example\n",
    "\n",
    "webuse autosize \n",
    "(1978 Automobile Data)\n",
    "list\n",
    "\n",
    "     +------------------------------------+\n",
    "     | make               weight   length |\n",
    "     |------------------------------------|\n",
    "  1. | Toyota Celica       2,410      174 |\n",
    "  2. | BMW 320i            2,650      177 |\n",
    "  3. | Cad. Seville        4,290      204 |\n",
    "  4. | Pont. Grand Prix    3,210      201 |\n",
    "  5. | Datsun 210          2,020      165 |\n",
    "     |------------------------------------|\n",
    "  6. | Plym. Arrow         3,260      170 |\n",
    "     +------------------------------------+\n",
    "webuse autoexpense\n",
    "(1978 Automobile Data)\n",
    "list\n",
    "\n",
    "     +---------------------------------+\n",
    "     | make                price   mpg |\n",
    "     |---------------------------------|\n",
    "  1. | Toyota Celica       5,899    18 |\n",
    "  2. | BMW 320i            9,735    25 |\n",
    "  3. | Cad. Seville       15,906    21 |\n",
    "  4. | Pont. Grand Prix    5,222    19 |\n",
    "  5. | Datsun 210          4,589    35 |\n",
    "     +---------------------------------+\n",
    "\n",
    "webuse autosize\n",
    "(1978 Automobile Data)\n",
    "merge 1:1 make using \"http://www.stata-press.com/data/r14/autoexpense\"\n",
    "\n",
    "    Result                           # of obs.\n",
    "    -----------------------------------------\n",
    "    not matched                             1\n",
    "        from master                         1  (_merge==1)\n",
    "        from using                          0  (_merge==2)\n",
    "\n",
    "    matched                                 5  (_merge==3)\n",
    "    -----------------------------------------\n",
    "list\n",
    "\n",
    "     +---------------------------------------------------------------------+\n",
    "     | make               weight   length    price   mpg            _merge |\n",
    "     |---------------------------------------------------------------------|\n",
    "  1. | BMW 320i            2,650      177    9,735    25       matched (3) |\n",
    "  2. | Cad. Seville        4,290      204   15,906    21       matched (3) |\n",
    "  3. | Datsun 210          2,020      165    4,589    35       matched (3) |\n",
    "  4. | Plym. Arrow         3,260      170        .     .   master only (1) |\n",
    "  5. | Pont. Grand Prix    3,210      201    5,222    19       matched (3) |\n",
    "     |---------------------------------------------------------------------|\n",
    "  6. | Toyota Celica       2,410      174    5,899    18       matched (3) |\n",
    "     +---------------------------------------------------------------------+\n",
    "clear\n",
    "\n",
    "\n",
    "webuse autosize, clear\n",
    "(1978 Automobile Data)\n",
    " match) nogen\n",
    "\n",
    "    Result                           # of obs.\n",
    "    -----------------------------------------\n",
    "    not matched                             0\n",
    "    matched                                 5  \n",
    "    -----------------------------------------\n",
    "list\n",
    "\n",
    "     +---------------------------------------------------+\n",
    "     | make               weight   length    price   mpg |\n",
    "     |---------------------------------------------------|\n",
    "  1. | BMW 320i            2,650      177    9,735    25 |\n",
    "  2. | Cad. Seville        4,290      204   15,906    21 |\n",
    "  3. | Datsun 210          2,020      165    4,589    35 |\n",
    "  4. | Pont. Grand Prix    3,210      201    5,222    19 |\n",
    "  5. | Toyota Celica       2,410      174    5,899    18 |\n",
    "     +---------------------------------------------------+\n",
    "clear\n",
    "```\n"
   ]
  },
  {
   "cell_type": "markdown",
   "metadata": {},
   "source": [
    "Remember, `merge` is for adding variables (i.e., columns) from a second data set.\n",
    "\n",
    "Merge Options\n",
    "-------------\n",
    "\n",
    "There are several options that provide more fine-grain control over what happens to non-id columns contained in both data sets. If you've carefully cleaned and prepared the data prior to merging this shouldn't be an issue, but here are some details about how stata handles this situation.\n",
    "\n",
    "-   In standard merge, the master dataset is the authority and WON'T CHANGE\n",
    "-   If your master dataset has missing data and some of those values are not missing in your using dataset, specify \"update\" -- this will fill in missing data in master\n",
    "-   If you want data from your using dataset to overwrite that in your master, specify \"replace update\" -- this will replace master data with using data UNLESS the value is missing in the using dataset\n",
    "\n",
    "Many-to-many merges\n",
    "-------------------\n",
    "\n",
    "Stata allows you to specify merges like `merge m:m id using newdata.dta`, but I have never seen this do anything useful. To quote the official [Stata manual](https://www.stata.com/manuals13/dmerge.pdf):\n",
    "\n",
    "> `m:m` specifies a many-to-many merge and is a **bad idea**. In an `m:m` merge, observations are matched within equal values of the key variable(s), with the first observation being matched to the first; the second, to the second; and so on. If the master and using have an unequal number of observations within the group, then the last observation of the shorter group is used repeatedly to match with subsequent observations of the longer group. Thus **m:m merges are dependent on the current sort order—something which should never happen**. **Because m:m merges are such a bad idea, we are not going to show you an example**. If you think that you need an m:m merge, then you probably need to work with your data so that you can use a 1:m or m:1 merge. Tips for this are given in Troubleshooting m:m merges below\n",
    "\n",
    "(emphasis added).\n",
    "\n",
    "If you are thinking about using `merge m:m` chances are good that you actually need `joinby`. Here is a quick example, modified from the `joinby` help page."
   ]
  },
  {
   "cell_type": "code",
   "execution_count": null,
   "metadata": {
    "attributes": {
     "classes": [
      "stata"
     ],
     "id": ""
    }
   },
   "outputs": [],
   "source": [
    "  clear\n",
    "  webuse parent\n",
    "  list\n",
    "  webuse children\n",
    "  list\n",
    "  // Complete and utter nonsense!\n",
    "  merge m:m family_id using http://www.stata-press.com/data/r14/parent \n",
    "  // You want joinby instead\n",
    "  clear\n",
    "  webuse children\n",
    "  joinby family_id using http://www.stata-press.com/data/r14/parent "
   ]
  },
  {
   "cell_type": "markdown",
   "metadata": {},
   "source": [
    "Remeber, `merge m:m` is old and broken; **do not use**. Anytime you think you might want `m:m` you should use `joinby` instead.\n",
    "\n",
    "Creating summarized data sets\n",
    "=============================\n",
    "\n",
    "Collapse\n",
    "--------\n",
    "\n",
    "Collapse will take master data and create a new dataset of summary statistics\n",
    "\n",
    "-   Useful in hierarchical linear modeling if you'd like to create aggregate, summary statistics\n",
    "-   Can generate group summary data for many descriptive stats\n",
    "-   Can also attach weights\n",
    "\n",
    "Before you collapse:\n",
    "\n",
    "-   Save your master dataset and then save it again under a new name (this will prevent collapse from writing over your original data\\_\n",
    "-   Consider issues of missing data. Do you want Stata to use all possible observations? If not, the `cw` (casewise) option will make casewise deletions\n",
    "\n",
    "Collapse Example\n",
    "----------------"
   ]
  },
  {
   "cell_type": "code",
   "execution_count": null,
   "metadata": {
    "attributes": {
     "classes": [
      "stata"
     ],
     "id": ""
    }
   },
   "outputs": [],
   "source": [
    "  // Adapted from the collapse help page\n",
    "  clear\n",
    "  webuse college\n",
    "  list\n",
    "  // mean and sd by hospital\n",
    "  collapse (mean) mean_gpa = gpa mean_hour = hour (sd) sd_gpa = gpa sd_hour = hour, by(year)\n",
    "  list\n",
    "  clear"
   ]
  },
  {
   "cell_type": "markdown",
   "metadata": {},
   "source": [
    "``` example\n",
    "\n",
    "clear\n",
    "webuse college\n",
    "list\n",
    "\n",
    "     +----------------------------+\n",
    "     | gpa   hour   year   number |\n",
    "     |----------------------------|\n",
    "  1. | 3.2     30      1        3 |\n",
    "  2. | 3.5     34      1        2 |\n",
    "  3. | 2.8     28      1        9 |\n",
    "  4. | 2.1     30      1        4 |\n",
    "  5. | 3.8     29      2        3 |\n",
    "     |----------------------------|\n",
    "  6. | 2.5     30      2        4 |\n",
    "  7. | 2.9     35      2        5 |\n",
    "  8. | 3.7     30      3        4 |\n",
    "  9. | 2.2     35      3        2 |\n",
    " 10. | 3.3     33      3        3 |\n",
    "     |----------------------------|\n",
    " 11. | 3.4     32      4        5 |\n",
    " 12. | 2.9     31      4        2 |\n",
    "     +----------------------------+\n",
    "\n",
    " our, by(year)\n",
    "list\n",
    "\n",
    "     +--------------------------------------------------+\n",
    "     | year   mean_gpa   mean_h~r     sd_gpa    sd_hour |\n",
    "     |--------------------------------------------------|\n",
    "  1. |    1        2.9       30.5   .6055301   2.516612 |\n",
    "  2. |    2   3.066667   31.33333   .6658328    3.21455 |\n",
    "  3. |    3   3.066667   32.66667   .7767453   2.516612 |\n",
    "  4. |    4       3.15       31.5   .3535534   .7071068 |\n",
    "     +--------------------------------------------------+\n",
    "clear\n",
    "```\n"
   ]
  },
  {
   "cell_type": "markdown",
   "metadata": {},
   "source": [
    "You could also generate different statistics for multiple variables\n",
    "\n",
    "Exercise 3: Merge, Append, and Collapse\n",
    "---------------------------------------\n",
    "\n",
    "Open the gss2.dta dataset. This dataset contains only half of the variables that are in the complete gss dataset.\n",
    "\n",
    "1.  Merge dataset gss1.dta with dataset gss2.dta. The identification variable is \"id.\"\n",
    "2.  Open the gss.dta dataset and merge in data from the \"marital.dta\" dataset, which includes income information grouped by individuals' marital status. The marital dataset contains collapsed data regarding average statistics of individuals based on their marital status.\n",
    "3.  Open the gssAppend.dta dataset and Create a new dataset that combines the observations in gssAppend.dta with those in gssAddObserve.dta.\n",
    "4.  Open the gss.dta dataset. Create a new dataset that summarizes mean and standard deviation of income based on individuals' degree status (\"degree\"). In the process of creating this new dataset, rename your three new variables.\n",
    "\n",
    "Exercise 3 prototype<span class=\"tag\" data-tag-name=\"prototype\"></span>\n",
    "-----------------------------------------------------------------------\n",
    "\n",
    "Open the gss2.dta dataset. This dataset contains only half of the variables that are in the complete gss dataset.\n",
    "\n",
    "1.  \\[@1\\] Merge dataset gss1.dta with dataset gss2.dta. The identification variable is \"id.\""
   ]
  },
  {
   "cell_type": "code",
   "execution_count": null,
   "metadata": {
    "attributes": {
     "classes": [
      "stata"
     ],
     "id": ""
    }
   },
   "outputs": [],
   "source": [
    "  use dataSets/gss2.dta, clear\n",
    "  merge 1:1 id using dataSets/gss1.dta\n",
    "  save gss3.dta, replace"
   ]
  },
  {
   "cell_type": "markdown",
   "metadata": {},
   "source": [
    "1.  \\[@2\\] Open the gss.dta dataset and merge in data from the \"marital.dta\" dataset, which includes income information grouped by individuals' marital status. The marital dataset contains collapsed data regarding average statistics of individuals based on their marital status."
   ]
  },
  {
   "cell_type": "code",
   "execution_count": null,
   "metadata": {
    "attributes": {
     "classes": [
      "stata"
     ],
     "id": ""
    }
   },
   "outputs": [],
   "source": [
    "  use dataSets/gss.dta, clear\n",
    "  merge m:1 marital using dataSets/marital.dta, nogenerate replace update\n",
    "  save gss4.dta, replace\n",
    "\n"
   ]
  },
  {
   "cell_type": "markdown",
   "metadata": {},
   "source": [
    "1.  \\[@3\\] Open the gssAppend.dta dataset and Create a new dataset that combines the observations in gssAppend.dta with those in gssAddObserve.dta."
   ]
  },
  {
   "cell_type": "code",
   "execution_count": null,
   "metadata": {
    "attributes": {
     "classes": [
      "stata"
     ],
     "id": ""
    }
   },
   "outputs": [],
   "source": [
    "  use dataSets/gssAppend.dta, clear\n",
    "  append using dataSets/gssAddObserve, generate(observe) \n"
   ]
  },
  {
   "cell_type": "markdown",
   "metadata": {},
   "source": [
    "1.  \\[@4\\] Open the gss.dta dataset. Create a new dataset that summarizes mean and standard deviation of income based on individuals' degree status (\"degree\"). In the process of creating this new dataset, rename your three new variables."
   ]
  },
  {
   "cell_type": "code",
   "execution_count": null,
   "metadata": {
    "attributes": {
     "classes": [
      "stata"
     ],
     "id": ""
    }
   },
   "outputs": [],
   "source": [
    "  use dataSets/gss.dta, clear\n",
    "  save collapse2.dta, replace\n",
    "  use collapse2.dta, clear\n",
    "  collapse (mean) meaninc=income (sd) sdinc=income, by(marital)"
   ]
  },
  {
   "cell_type": "markdown",
   "metadata": {},
   "source": [
    "Wrap-up\n",
    "=======\n",
    "\n",
    "Help Us Make This Workshop Better\n",
    "---------------------------------\n",
    "\n",
    "-   Please take a moment to fill out a very short feedback form\n",
    "-   These workshops exist for you--tell us what you need!\n",
    "-   <http://tinyurl.com/StataDatManFeedback>\n",
    "\n",
    "Additional resources\n",
    "--------------------\n",
    "\n",
    "-   training and consulting\n",
    "    -   IQSS workshops: <http://projects.iq.harvard.edu/rtc/filter_by/workshops>\n",
    "    -   IQSS statistical consulting: <http://dss.iq.harvard.edu>\n",
    "-   Stata resources\n",
    "    -   UCLA website: <http://www.ats.ucla.edu/stat/Stata/>\n",
    "    -   Great for self-study\n",
    "    -   Links to resources\n",
    "-   Stata website: <http://www.stata.com/help.cgi?contents>\n",
    "-   Email list: <http://www.stata.com/statalist/>"
   ]
  }
 ],
  "metadata": {
  "kernelspec": {
   "display_name": "Stata",
   "language": "stata",
   "name": "stata"
  },
  "language_info": {
   "file_extension": "do",
   "mimetype": "text/x-stata",
   "name": "stata"
  }
 },
 "nbformat": 4,
 "nbformat_minor": 0
}
