{
 "cells": [
  {
   "cell_type": "markdown",
   "metadata": {},
   "source": [
    "\n",
    "Workshop overview and materials\n",
    "===============================\n",
    "\n",
    "Workshop description\n",
    "--------------------\n",
    "\n",
    "This is an intermediate/advanced R course appropriate for those with basic\n",
    "knowledge of R. It is intended for those already comfortable with using R for\n",
    "data analysis who wish to move on to writing their own functions.\n",
    "\n",
    "Prerequisite: basic familiarity with R, such as acquired from an introductory R\n",
    "workshop.\n",
    "\n",
    "To the extent possible this workshop uses real-world examples. That is to say\n",
    "that concepts are introduced as they are needed for a realistic analysis task.\n",
    "In the course of working through a realistic project we will lean about regular\n",
    "expressions, iteration, functions, control flow and more.\n",
    "\n",
    "This workshop uses\n",
    "the [tidyverse](https://cran.r-project.org/web/packages/tidyverse/index.html)\n",
    "package which provides more consistent file IO\n",
    "([readr](https://cran.r-project.org/web/packages/readr/index.html)), data\n",
    "manipulation\n",
    "([dplyr](https://cran.r-project.org/web/packages/dplyr/index.html),\n",
    "[tidyr](https://cran.r-project.org/web/packages/tidyr/index.html)) and\n",
    "functional programming\n",
    "([purrr](https://cran.r-project.org/web/packages/purrr/index.html)) tools for R.\n",
    "\n",
    "Materials and setup\n",
    "-------------------\n",
    "\n",
    "**NOTE: skip this section if you are running these examples in your web browser at tutorials-live.iq.harvard.edu**\n",
    "\n",
    "Everyone should have R installed -- if not:\n",
    "\n",
    "-   Open a web browser and go to <http://cran.r-project.org> and download and\n",
    "    install it\n",
    "-   Also helpful to install RStudio (download from <http://rstudio.com>)\n",
    "\n",
    "Materials for this workshop consists of notes and example code.\n",
    "\n",
    "-   Download materials from\n",
    "    <http://tutorials.iq.harvard.edu/R/RProgramming.zip>\n",
    "-   Extract the zip file containing the materials to your desktop\n",
    "\n",
    "Example project overview\n",
    "------------------------\n",
    "\n",
    "It is common for data to be made available on a website somewhere, either by a\n",
    "government agency, research group, or other organizations and entities. Often\n",
    "the data you want is spread over many files, and retrieving it all one file at a\n",
    "time is tedious and time consuming. Such is the case with the baby names data we\n",
    "will be using today.\n",
    "\n",
    "The UK [Office for National Statistics](https://www.ons.gov.uk) provides yearly\n",
    "data on the most popular baby names going back to 1996. The data is provided\n",
    "separately for boys and girls. These data have been cleaned up and copied\n",
    "to <http://tutorials.iq.harvard.edu/example_data/baby_names/>. Although we could\n",
    "open a web browser and download files one at a time, it will be faster and\n",
    "easier to instruct R to do that for us. Doing it this way will also give us an\n",
    "excuse to talk about iteration, text processing, and other useful techniques.\n",
    "\n",
    "Extracting information from a text file (string manipulation)\n",
    "=============================================================\n",
    "\n",
    "Our first goal is to download all the .csv files from\n",
    "<http://tutorials.iq.harvard.edu/example_data/baby_names/EW>.\n",
    "\n",
    "In order to do that we need a list of the Uniform Resource Locators (URLs) of\n",
    "those files. The URLs we need are right there as links in the web page. All we\n",
    "need to do is extract them.\n",
    "\n",
    "Introduction to the tidyverse\n",
    "-----------------------------\n",
    "\n",
    "In order extract the data URls from the website we will use functions for\n",
    "manipulating strings[^1]. What functions or packages should we use? Here are\n",
    "some tools to help us decide.\n",
    "\n",
    "Task views\n",
    ":   <https://cran.r-project.org/web/views/NaturalLanguageProcessing.html>\n",
    "\n",
    "R package search\n",
    ":   <http://www.r-pkg.org/search.html?q=string>\n",
    "\n",
    "Web search\n",
    ":   <https://www.google.com/search?q=R+string+manipulation&ie=utf-8&oe=utf-8>\n",
    "\n",
    "Base R provides some string manipulation capabilities (see `?regex`, `?sub` and\n",
    "`?grep`), but I recommend either\n",
    "the [stringr](https://cran.r-project.org/web/packages/stringr/index.html)\n",
    "or [stringi](https://cran.r-project.org/web/packages/stringi/index.html)\n",
    "packages. The *stringr* package is more user-friendly, and the *stringi* package\n",
    "is more powerful and complex. Let's use the friendlier one. While we're\n",
    "attaching packages we'll also attach\n",
    "the [tidyverse](https://cran.r-project.org/web/packages/tidyverse/index.html)\n",
    "package which provides more modern versions of many basic functions in R.\n",
    "\n"
   ]
  },
  {
   "cell_type": "code",
   "execution_count": null,
   "metadata": {
    "autoscroll": false,
    "collapsed": true
   },
   "outputs": [],
   "source": [
    "## install.packages(\"tidyverse\")\n",
    "library(tidyverse)\n",
    "library(stringr)"
   ]
  },
  {
   "cell_type": "markdown",
   "metadata": {},
   "source": [
    "\n",
    "Packages in the tidyverse are often more convenient to use with pipes rather\n",
    "than nested function calls. The pipe operator looks like `%>%` and it inserts\n",
    "the value on the left as the first argument to the function on the right. It\n",
    "looks like this:\n",
    "\n"
   ]
  },
  {
   "cell_type": "code",
   "execution_count": null,
   "metadata": {
    "autoscroll": false,
    "collapsed": true
   },
   "outputs": [],
   "source": [
    "(x <- rnorm(5)) # extra parens around expression is a shortcut to assign and print\n",
    "\n",
    "## nested function calls to sort and round\n",
    "round(sort(x), digits = 2)\n",
    "\n",
    "## pipeline that does the same thing\n",
    "x %>%\n",
    "sort() %>%\n",
    "round(digits = 2)\n",
    "\n",
    "## nested function calls to sample letters, convert to uppercase and sort.\n",
    "sort(\n",
    "  str_to_upper(\n",
    "    sample(letters,\n",
    "           5,\n",
    "           replace = TRUE)))\n",
    "\n",
    "## pipeline that does the same thing:\n",
    "letters %>%\n",
    "  sample(5, replace = TRUE) %>%\n",
    "  str_to_upper() %>%\n",
    "  sort()"
   ]
  },
  {
   "cell_type": "markdown",
   "metadata": {},
   "source": [
    "\n",
    "The examples in this workshop use the pipe when it makes examples easier to\n",
    "follow.\n",
    "\n",
    "Reading text over http\n",
    "----------------------\n",
    "\n",
    "Our first task is to read the web page into R. Most of the file IO functions in\n",
    "R can read either from a local path or from internet URLS. We can read text into\n",
    "R line-by-line using the `read_lines` function.\n",
    "\n"
   ]
  },
  {
   "cell_type": "code",
   "execution_count": null,
   "metadata": {
    "autoscroll": false,
    "collapsed": true
   },
   "outputs": [],
   "source": [
    "base.url <- \"http://tutorials.iq.harvard.edu\"\n",
    "baby.names.path <- \"example_data/baby_names/EW\"\n",
    "baby.names.url <- str_c(base.url, baby.names.path, sep = \"/\")\n",
    "\n",
    "baby.names.page <- read_lines(baby.names.url)"
   ]
  },
  {
   "cell_type": "markdown",
   "metadata": {},
   "source": [
    "\n",
    "Now that we have some values to play with lets look closer. R has nice tools for\n",
    "inspecting the object attributes such as the storage `type`, `length`, and\n",
    "`class`.\n",
    "\n"
   ]
  },
  {
   "cell_type": "code",
   "execution_count": null,
   "metadata": {
    "autoscroll": false,
    "collapsed": true
   },
   "outputs": [],
   "source": [
    "## whate is base.url?\n",
    "c(type = typeof(base.url),\n",
    "  length = length(base.url),\n",
    "  class = class(base.url))"
   ]
  },
  {
   "cell_type": "markdown",
   "metadata": {},
   "source": [
    "\n",
    "```{r\n",
    "c(type = typeof(baby.names.page),\n",
    "  length = length(baby.names.page),\n",
    "  class = class(baby.names.page))\n",
    "```\n",
    "\n",
    " The `str` (structure) and `glimpse` function\n",
    "gives a nice overview.\n",
    "\n"
   ]
  },
  {
   "cell_type": "code",
   "execution_count": null,
   "metadata": {
    "autoscroll": false,
    "collapsed": true
   },
   "outputs": [],
   "source": [
    "str(baby.names.page)"
   ]
  },
  {
   "cell_type": "markdown",
   "metadata": {},
   "source": [
    "\n",
    "The *S3* class system in R allows functions to define methods for specific\n",
    "classes. If we know the class of an object we can see what functions have\n",
    "methods specific to that class.\n",
    "\n"
   ]
  },
  {
   "cell_type": "code",
   "execution_count": null,
   "metadata": {
    "autoscroll": false,
    "collapsed": true
   },
   "outputs": [],
   "source": [
    "methods(class = class(base.url))"
   ]
  },
  {
   "cell_type": "markdown",
   "metadata": {},
   "source": [
    "\n",
    "Note that these methods are not exhaustive -- we can do other things with these\n",
    "objects as well. `methods(class = )` just tells you which functions have\n",
    "specific methods for working with objects of that class.\n",
    "\n",
    "The `typeof` function tells us how the object is stored in memory. \"Character\"\n",
    "is one of the six *atomic* modes in R. The others are \"logical\", \"integer\",\n",
    "\"numeric (double)\", \"complex\", and \"raw\". Objects reporting their `mode` as one\n",
    "of these are *atomic vectors*; they are the building blocks of most data\n",
    "structures in R.\n",
    "\n",
    "Now that we know what we're working with we can proceed to find and extract all\n",
    "the links in the page. Lets start by printing the last few lines of\n",
    "`baby.names.page`.\n",
    "\n"
   ]
  },
  {
   "cell_type": "code",
   "execution_count": null,
   "metadata": {
    "autoscroll": false,
    "collapsed": true
   },
   "outputs": [],
   "source": [
    "cat(tail(baby.names.page), sep = \"\\n\")"
   ]
  },
  {
   "cell_type": "markdown",
   "metadata": {},
   "source": [
    "\n",
    "We want to extract the \"href\" attributes, i.e., \"`girls_2014.csv`\" and\n",
    "\"`girls_2015.csv`\" in the above snippet. We can do that using the `str_extract`\n",
    "function, but in order to use it effectively we need to know something about\n",
    "regular expressions.\n",
    "\n",
    "String manipulation with the stringr package\n",
    "--------------------------------------------\n",
    "\n",
    "Regular expressions are useful in general (not just in R!) and it is a good idea\n",
    "to be familiar with at least the basics.\n",
    "\n",
    "In regulars expression `^`, `.`, `*`, `+`, `$` and `\\` are special characters\n",
    "with the following meanings:\n",
    "\n",
    "\\^\n",
    ":   matches the beginning of the string\n",
    "\n",
    ".\n",
    ":   matches any character\n",
    "\n",
    "\\*\n",
    ":   repeats the previous match zero or more times\n",
    "\n",
    "+\n",
    ":   repeats the previous match one or more times\n",
    "\n",
    "\\$\n",
    ":   matches the end of the string\n",
    "\n",
    "\\[\\]\n",
    ":   specifies ranges of characters: \\[a-z\\] matches lower case letters\n",
    "\n",
    "\\\n",
    ":   escapes special meaning: '.' means \"anything\", '.' means \".\"\n",
    "\n",
    "Here's how it works in R using the stringr package. Note that to create\n",
    "a backslash you must escape it with anouth backslash.\n",
    "\n"
   ]
  },
  {
   "cell_type": "code",
   "execution_count": null,
   "metadata": {
    "autoscroll": false,
    "collapsed": true
   },
   "outputs": [],
   "source": [
    "## make up some example data\n",
    "user.info <- c(\"Dexter Bacon dbacon@gmail.com 32\",\n",
    "               \"Angelica Sampson not available 28\",\n",
    "               \"Roberta Modela roberta.modela@harvard.edu 26\"\n",
    "               )\n",
    "## regex that matches emails (simplified, not realistic)\n",
    "##\n",
    "email.regex <- \"([a-z0-9]+@[a-z0-9]+\\\\.[a-z]+)\""
   ]
  },
  {
   "cell_type": "markdown",
   "metadata": {},
   "source": [
    "\n",
    "Which users have an email address?\n"
   ]
  },
  {
   "cell_type": "code",
   "execution_count": null,
   "metadata": {
    "autoscroll": false,
    "collapsed": true
   },
   "outputs": [],
   "source": [
    "str_detect(user.info, email.regex)"
   ]
  },
  {
   "cell_type": "markdown",
   "metadata": {},
   "source": [
    "\n",
    "Keep only users with an email address\n"
   ]
  },
  {
   "cell_type": "code",
   "execution_count": null,
   "metadata": {
    "autoscroll": false,
    "collapsed": true
   },
   "outputs": [],
   "source": [
    "str_subset(user.info, email.regex)"
   ]
  },
  {
   "cell_type": "markdown",
   "metadata": {},
   "source": [
    "\n",
    "Extract the email addresses\n"
   ]
  },
  {
   "cell_type": "code",
   "execution_count": null,
   "metadata": {
    "autoscroll": false,
    "collapsed": true
   },
   "outputs": [],
   "source": [
    "str_extract(user.info, email.regex)"
   ]
  },
  {
   "cell_type": "markdown",
   "metadata": {},
   "source": [
    "\n",
    "Replace email addresses with an `mailto` link\n"
   ]
  },
  {
   "cell_type": "code",
   "execution_count": null,
   "metadata": {
    "autoscroll": false,
    "collapsed": true
   },
   "outputs": [],
   "source": [
    "str_replace(user.info, email.regex, \"<a href='mailto:\\\\1'>\\\\1</a>\")"
   ]
  },
  {
   "cell_type": "markdown",
   "metadata": {},
   "source": [
    "\n",
    "If you have not been introduced to regular expressions yet a nice interactive\n",
    "regex tester is available at <http://www.regexr.com/> and an interactive\n",
    "tutorial is available at <http://www.regexone.com/>.\n",
    "\n",
    "Exercise 1: string manipulation and regular expressions\n",
    "-------------------------------------------------------\n",
    "\n",
    "Our job now is to match the file names using regular expressions. To get\n",
    "started lets copy an example string into the interactive regex tester at\n",
    "<http://www.regexr.com/> and work with it until we find a regular\n",
    "expression that works.\n",
    "\n",
    "1.  Open <http://www.regexr.com/> in your web browser and paste in this\n",
    "    string into the \"Text\" box (in the lower right-hand section of the\n",
    "    page):\n",
    "\n",
    "```{.example}\n",
    "<tr><td valign=\"top\"><img src=\"/icons/unknown.gif\" alt=\"[   ]\"></td><td><a href=\"girls_2014.csv\">girls_2014.csv</a></td><td align=\"right\">06-Oct-2016 13:12  </td><td align=\"right\">144K</td></tr>\n",
    "```\n",
    "\n",
    "2.  Find a regular expression that matches '`girls_2014.csv`' and\n",
    "    nothing else.\n",
    "3.  Assign the regular expression you found to the name\n",
    "    'girl.file.regex' in R. *Replace any backslashes with a double\n",
    "    backslash*.\n"
   ]
  },
  {
   "cell_type": "code",
   "execution_count": null,
   "metadata": {
    "autoscroll": false,
    "collapsed": true
   },
   "outputs": [],
   "source": [
    "## write your answer here\n",
    ""
   ]
  },
  {
   "cell_type": "markdown",
   "metadata": {},
   "source": [
    "4.  Extract the girl file names from `baby.names.page` and assign\n",
    "    the values to the name '`girl.file.names`'\n"
   ]
  },
  {
   "cell_type": "code",
   "execution_count": null,
   "metadata": {
    "autoscroll": false,
    "collapsed": true
   },
   "outputs": [],
   "source": [
    "## write your answer here\n",
    ""
   ]
  },
  {
   "cell_type": "markdown",
   "metadata": {},
   "source": [
    "5.  Repeat steps 1:4 for boys.\n"
   ]
  },
  {
   "cell_type": "code",
   "execution_count": null,
   "metadata": {
    "autoscroll": false,
    "collapsed": true
   },
   "outputs": [],
   "source": [
    "## write your answer here\n",
    ""
   ]
  },
  {
   "cell_type": "markdown",
   "metadata": {},
   "source": [
    "6.  Use the `str_c` function to prepend `baby.names.url` to\n",
    "    `girl.file.names` and `boy.file.names`. Make sure to separate with a\n",
    "    forward slash (\"/\").\n"
   ]
  },
  {
   "cell_type": "code",
   "execution_count": null,
   "metadata": {
    "autoscroll": false,
    "collapsed": true
   },
   "outputs": [],
   "source": [
    "## write your answer here\n",
    ""
   ]
  },
  {
   "cell_type": "markdown",
   "metadata": {},
   "source": [
    "\n",
    "\\\n",
    "\n",
    "\\\n",
    "\n",
    "\\\n",
    "\n",
    "\\\n",
    "\n",
    "\\\n",
    "\n",
    "\n",
    "Exercise 1 prototype\n",
    "--------------------\n",
    "\n"
   ]
  },
  {
   "cell_type": "code",
   "execution_count": null,
   "metadata": {
    "Rmd_chunk_options": "results = 'hide', purl = FALSE",
    "autoscroll": false,
    "collapsed": true
   },
   "outputs": [],
   "source": [
    "## 1. Make sure you replace whatever example text was presented in the regexr.com site.\n",
    "\n",
    "## 2. regular expression for girl csv files\n",
    "girl.file.regex <- \"girls_[0-9]*\\\\.csv\"\n",
    "\n",
    "## 3. extract girl file names\n",
    "girl.file.names <- baby.names.page %>%\n",
    "  str_subset(pattern = girl.file.regex) %>%\n",
    "  str_extract(pattern = girl.file.regex)\n",
    "\n",
    "## 4. same thing for boys\n",
    "boy.file.regex <- \"boys_[0-9]*\\\\.csv\"\n",
    "boy.file.names <- baby.names.page %>%\n",
    "  str_subset(pattern = boy.file.regex) %>%\n",
    "  str_extract(pattern = boy.file.regex)\n",
    "\n",
    "## 5. construct URLs\n",
    "(girl.file.names <- str_c(baby.names.url, girl.file.names, sep = \"/\"))\n",
    "(boy.file.names <- str_c(baby.names.url, boy.file.names, sep = \"/\"))"
   ]
  },
  {
   "cell_type": "markdown",
   "metadata": {},
   "source": [
    "\n",
    "Reading all the files (iteration, functions)\n",
    "============================================\n",
    "\n",
    "Reading .csv files\n",
    "------------------\n",
    "\n",
    "As mentioned earlier, we can read files directly from the internet. For example,\n",
    "we can read the first girls names file like this:\n",
    "\n"
   ]
  },
  {
   "cell_type": "code",
   "execution_count": null,
   "metadata": {
    "autoscroll": false,
    "collapsed": true
   },
   "outputs": [],
   "source": [
    "girl.names.1 <- read_csv(girl.file.names[1], na = \"\")\n",
    "head(girl.names.1)"
   ]
  },
  {
   "cell_type": "markdown",
   "metadata": {},
   "source": [
    "\n",
    "Notice that we selected the first element of `girl.file.names` using `[`. This\n",
    "is called *bracket extraction* and it is a very useful feature of the R\n",
    "language.\n",
    "\n",
    "Extracting and replacing vector elements\n",
    "----------------------------------------\n",
    "\n",
    "Elements of R objects can be extracted and replaced using bracket\n",
    "notation. Bracket extraction comes in a few different flavors. We can\n",
    "index atomic vectors in several different ways. Let's start by making\n",
    "some example data to work with.\n",
    "\n"
   ]
  },
  {
   "cell_type": "code",
   "execution_count": null,
   "metadata": {
    "autoscroll": false,
    "collapsed": true
   },
   "outputs": [],
   "source": [
    "example.int.1 <- c(10, 11, 12, 13, 14, 15)\n",
    "str(example.int.1)"
   ]
  },
  {
   "cell_type": "markdown",
   "metadata": {},
   "source": [
    "\n",
    "The *names* attribute can be used for indexing if it exists. The names\n",
    "attribute and be extracted and set using the `names` function, like\n",
    "this:\n",
    "\n"
   ]
  },
  {
   "cell_type": "code",
   "execution_count": null,
   "metadata": {
    "autoscroll": false,
    "collapsed": true
   },
   "outputs": [],
   "source": [
    "names(example.int.1) # no names yet, lets add some"
   ]
  },
  {
   "cell_type": "code",
   "execution_count": null,
   "metadata": {
    "autoscroll": false,
    "collapsed": true
   },
   "outputs": [],
   "source": [
    "names(example.int.1) <- c(\"a1\", \"a2\", \"b1\", \"b2\", \"c1\", \"c2\")\n",
    "names(example.int.1)"
   ]
  },
  {
   "cell_type": "markdown",
   "metadata": {},
   "source": [
    "\n",
    "Indexing can be done by position.\n",
    "\n"
   ]
  },
  {
   "cell_type": "code",
   "execution_count": null,
   "metadata": {
    "autoscroll": false,
    "collapsed": true
   },
   "outputs": [],
   "source": [
    "## extract by position\n",
    "example.int.1[1]\n",
    "example.int.1[c(1, 3, 5)]"
   ]
  },
  {
   "cell_type": "markdown",
   "metadata": {},
   "source": [
    "\n",
    "If an object has names you can index by name.\n",
    "\n"
   ]
  },
  {
   "cell_type": "code",
   "execution_count": null,
   "metadata": {
    "autoscroll": false,
    "collapsed": true
   },
   "outputs": [],
   "source": [
    "## extract by name\n",
    "example.int.1[c(\"c2\", \"a1\")]"
   ]
  },
  {
   "cell_type": "markdown",
   "metadata": {},
   "source": [
    "\n",
    "Finally, objects can be indexed with a logical vector, extracting only the TRUE\n",
    "elements.\n",
    "\n"
   ]
  },
  {
   "cell_type": "code",
   "execution_count": null,
   "metadata": {
    "autoscroll": false,
    "collapsed": true
   },
   "outputs": [],
   "source": [
    "## logical extraction\n",
    "(one.names <- str_detect(names(example.int.1), \"1\"))\n",
    ""
   ]
  },
  {
   "cell_type": "code",
   "execution_count": null,
   "metadata": {
    "autoscroll": false,
    "collapsed": true
   },
   "outputs": [],
   "source": [
    "example.int.1[one.names]"
   ]
  },
  {
   "cell_type": "code",
   "execution_count": null,
   "metadata": {
    "autoscroll": false,
    "collapsed": true
   },
   "outputs": [],
   "source": [
    "example.int.1[example.int.1 > 12]"
   ]
  },
  {
   "cell_type": "markdown",
   "metadata": {},
   "source": [
    "\n",
    "Replacement works by assigning a value to an extraction.\n",
    "\n"
   ]
  },
  {
   "cell_type": "code",
   "execution_count": null,
   "metadata": {
    "autoscroll": false,
    "collapsed": true
   },
   "outputs": [],
   "source": [
    "example.int.2 <- example.int.1\n",
    "\n",
    "## replace by position\n",
    "example.int.2[1] <- 100\n",
    "\n",
    "## replace by name\n",
    "example.int.2[\"a2\"] <- 200\n",
    "example.int.2"
   ]
  },
  {
   "cell_type": "code",
   "execution_count": null,
   "metadata": {
    "autoscroll": false,
    "collapsed": true
   },
   "outputs": [],
   "source": [
    "## logical replacement\n",
    "(lt14 <- example.int.2 < 14)"
   ]
  },
  {
   "cell_type": "code",
   "execution_count": null,
   "metadata": {
    "autoscroll": false,
    "collapsed": true
   },
   "outputs": [],
   "source": [
    "example.int.2[lt14] <- 0\n",
    "example.int.2"
   ]
  },
  {
   "cell_type": "code",
   "execution_count": null,
   "metadata": {
    "autoscroll": false,
    "collapsed": true
   },
   "outputs": [],
   "source": [
    "## \"replace\" non-existing element\n",
    "example.int.2[c(\"z1\", \"2\")] <- -10\n",
    "\n",
    "## compare lists to see the changes we made\n",
    "example.int.1\n",
    "example.int.2"
   ]
  },
  {
   "cell_type": "markdown",
   "metadata": {},
   "source": [
    "\n",
    "Extracting and replacing list elements\n",
    "--------------------------------------\n",
    "\n",
    "List elements can be extracted and replaced in the same way as elements of\n",
    "atomic vectors. In addition, `[[` can be used to extract or replace the contents\n",
    "of a list element. Here is how it works:\n",
    "\n"
   ]
  },
  {
   "cell_type": "code",
   "execution_count": null,
   "metadata": {
    "autoscroll": false,
    "collapsed": true
   },
   "outputs": [],
   "source": [
    "## make up an example list\n",
    "example.list.1 <- list(a1 = c(a = 1, b = 2, c = 3),\n",
    "                     a2 = c(4, 5, 6),\n",
    "                     b1 = c(\"a\", \"b\", \"c\", \"d\"),\n",
    "                     b2 = c(\"e\", \"f\", \"g\", \"h\"))\n",
    "str(example.list.1)"
   ]
  },
  {
   "cell_type": "markdown",
   "metadata": {},
   "source": [
    "\n",
    "Extract by position.\n"
   ]
  },
  {
   "cell_type": "code",
   "execution_count": null,
   "metadata": {
    "autoscroll": false,
    "collapsed": true
   },
   "outputs": [],
   "source": [
    "str(example.list.1[c(1, 3)])"
   ]
  },
  {
   "cell_type": "code",
   "execution_count": null,
   "metadata": {
    "autoscroll": false,
    "collapsed": true
   },
   "outputs": [],
   "source": [
    "str(example.list.1[1])"
   ]
  },
  {
   "cell_type": "markdown",
   "metadata": {},
   "source": [
    "\n",
    "```{r\n",
    "str(example.list.1[[1]]) # note the difference between [ and [[\n",
    "```\n",
    "\n",
    "Extract by name.\n",
    "\n",
    "```{r\n",
    "str(example.list.1[c(\"a1\", \"a2\")])\n",
    "```\n",
    "\n"
   ]
  },
  {
   "cell_type": "code",
   "execution_count": null,
   "metadata": {
    "autoscroll": false,
    "collapsed": true
   },
   "outputs": [],
   "source": [
    "(a.names <- str_detect(names(example.list.1), \"a\"))"
   ]
  },
  {
   "cell_type": "code",
   "execution_count": null,
   "metadata": {
    "autoscroll": false,
    "collapsed": true
   },
   "outputs": [],
   "source": [
    "str(example.list.1[a.names])"
   ]
  },
  {
   "cell_type": "markdown",
   "metadata": {},
   "source": [
    "\n",
    "Bracket extraction can be chained to extract a nested element.\n",
    "\n"
   ]
  },
  {
   "cell_type": "code",
   "execution_count": null,
   "metadata": {
    "autoscroll": false,
    "collapsed": true
   },
   "outputs": [],
   "source": [
    "str(example.list.1[[\"a1\"]][c(\"a\", \"c\")])"
   ]
  },
  {
   "cell_type": "markdown",
   "metadata": {},
   "source": [
    "\n",
    "Logical extraction.\n",
    "\n"
   ]
  },
  {
   "cell_type": "code",
   "execution_count": null,
   "metadata": {
    "autoscroll": false,
    "collapsed": true
   },
   "outputs": [],
   "source": [
    "(el.length <- map_int(example.list.1, length))"
   ]
  },
  {
   "cell_type": "code",
   "execution_count": null,
   "metadata": {
    "autoscroll": false,
    "collapsed": true
   },
   "outputs": [],
   "source": [
    "(el.length4 <- el.length == 4)"
   ]
  },
  {
   "cell_type": "code",
   "execution_count": null,
   "metadata": {
    "autoscroll": false,
    "collapsed": true
   },
   "outputs": [],
   "source": [
    "str(example.list.1[el.length4])"
   ]
  },
  {
   "cell_type": "markdown",
   "metadata": {},
   "source": [
    "\n",
    "As with vectors, replacement works by assigning a value to an\n",
    "extraction.\n",
    "\n"
   ]
  },
  {
   "cell_type": "code",
   "execution_count": null,
   "metadata": {
    "autoscroll": false,
    "collapsed": true
   },
   "outputs": [],
   "source": [
    "example.list.2 <- example.list.1\n",
    "\n",
    "## replace by position\n",
    "example.list.2[[1]] <- c(a = 11, b = 12, c = 13)\n",
    "\n",
    "## replace by name\n",
    "example.list.2[[\"a2\"]] <- c(10, 20, 30)\n",
    "\n",
    "## iterate and replace by name\n",
    "example.list.2[c(\"a1\", \"a2\")] <- map(example.list.2[c(\"a1\", \"a2\")],\n",
    "                                        function(x) x * 100)\n",
    "\n",
    "## logical replacement with iteration\n",
    "(el.length <- map(example.list.2, length))\n",
    "(el.length4 <- el.length == 4)\n",
    "example.list.2[el.length4] <- map(example.list.2[el.length4],\n",
    "                                     function(x) str_c(\"letter\", x, sep = \"_\"))\n",
    "\n",
    "## \"replace\" non-existing element\n",
    "example.list.2[[\"c\"]] <- list(x = letters[1:5], y = 1:5)"
   ]
  },
  {
   "cell_type": "code",
   "execution_count": null,
   "metadata": {
    "autoscroll": false,
    "collapsed": true
   },
   "outputs": [],
   "source": [
    "## compare lists to see the changes we made\n",
    "str(example.list.1)\n",
    "str(example.list.2)"
   ]
  },
  {
   "cell_type": "markdown",
   "metadata": {},
   "source": [
    "\n",
    "Back to the problem at hand: reading data into a list\n",
    "-----------------------------------------------------\n",
    "\n",
    "Using our knowledge of bracket extraction we could start reading in the data\n",
    "files like this:\n",
    "\n"
   ]
  },
  {
   "cell_type": "code",
   "execution_count": null,
   "metadata": {
    "autoscroll": false,
    "collapsed": true
   },
   "outputs": [],
   "source": [
    "boys <- list()\n",
    "girls <- list()\n",
    "\n",
    "boys[[1]] <- read_csv(boy.file.names[1], na = \"\")\n",
    "boys[[2]] <- read_csv(boy.file.names[2], na = \"\")\n",
    "## ...\n",
    "girls[[1]] <- read_csv(girl.file.names[1], na = \"\")\n",
    "girls[[2]] <- read_csv(girl.file.names[2], na = \"\")\n",
    "## ..."
   ]
  },
  {
   "cell_type": "markdown",
   "metadata": {},
   "source": [
    "\n",
    "Exercise 2: String manipulation, extraction and replacement\n",
    "-----------------------------------------------------------\n",
    "\n",
    "We saw in the previous example one way to start reading the baby name\n",
    "data, using positional bracket extraction and replacement. In this\n",
    "exercise we will improve on this method by doing the same thing using\n",
    "named extraction and replacement. The first step is to extract the years\n",
    "from `boy.file.names` and `girl.file.names` and assign then to the\n",
    "`names` attribute of our `boys` and `girls` lists.\n",
    "\n",
    "1.  Use the `list` function to create empty lists named `boys` and `girls`.\n"
   ]
  },
  {
   "cell_type": "code",
   "execution_count": null,
   "metadata": {
    "autoscroll": false,
    "collapsed": true
   },
   "outputs": [],
   "source": [
    "## write your answer here\n",
    ""
   ]
  },
  {
   "cell_type": "markdown",
   "metadata": {},
   "source": [
    "2.  Write a regular expression that matches digits 0-9 repeated one or\n",
    "    more times and use it to extract the years from `boy.file.names` and\n",
    "    `girl.file.names` (use `str_extract`).\n"
   ]
  },
  {
   "cell_type": "code",
   "execution_count": null,
   "metadata": {
    "autoscroll": false,
    "collapsed": true
   },
   "outputs": [],
   "source": [
    "## write your answer here\n",
    ""
   ]
  },
  {
   "cell_type": "markdown",
   "metadata": {},
   "source": [
    "3.  Use the assignment from of the `names` function to assign the years\n",
    "    vectors from step one to the names of `boy.file.names` and\n",
    "    `girl.file.names` respectively.\n"
   ]
  },
  {
   "cell_type": "code",
   "execution_count": null,
   "metadata": {
    "autoscroll": false,
    "collapsed": true
   },
   "outputs": [],
   "source": [
    "## write your answer here\n",
    ""
   ]
  },
  {
   "cell_type": "markdown",
   "metadata": {},
   "source": [
    "4.  Extract the element named \"2015\" from `girl.file.names` and pass it\n",
    "    as the argument to `read_csv`, assigning the result to a new element\n",
    "    of the `girls` list named \"2015\". Repeat for elements \"2014\"\n",
    "    and \"2013\".\n"
   ]
  },
  {
   "cell_type": "code",
   "execution_count": null,
   "metadata": {
    "autoscroll": false,
    "collapsed": true
   },
   "outputs": [],
   "source": [
    "## write your answer here\n",
    ""
   ]
  },
  {
   "cell_type": "markdown",
   "metadata": {},
   "source": [
    "5.  Repeat step three using `boy.file.names` and the `boys` list.\n",
    "\n",
    "\\\n",
    "\n",
    "\\\n",
    "\n",
    "\\\n",
    "\n",
    "\\\n",
    "\n",
    "\\\n",
    "\n",
    "\\\n",
    "\n",
    "\n",
    "Exercise 2 prototype\n",
    "-------------------------\n",
    "\n",
    "\n"
   ]
  },
  {
   "cell_type": "code",
   "execution_count": null,
   "metadata": {
    "Rmd_chunk_options": "results = 'hide', purl = FALSE",
    "autoscroll": false,
    "collapsed": true
   },
   "outputs": [],
   "source": [
    "  ## 1. create lists to store the data\n",
    "  boys <- list()\n",
    "  girls <- list()\n",
    "\n",
    "  ## 2. extract years and assign to names\n",
    "  boy.years <- str_extract(boy.file.names, \"[0-9]+\")\n",
    "  girl.years <- str_extract(girl.file.names, \"[0-9]+\")\n",
    "  names(girl.file.names) <- girl.years\n",
    "  names(boy.file.names) <- boy.years\n",
    "\n",
    "  ## 3. read first three years of girls names\n",
    "  girls[[\"2015\"]] <- read_csv(girl.file.names[\"2015\"], na = \"\")\n",
    "  girls[[\"2014\"]] <- read_csv(girl.file.names[\"2014\"], na = \"\")\n",
    "  girls[[\"2013\"]] <- read_csv(girl.file.names[\"2013\"], na = \"\")\n",
    "\n",
    "  ## 4. read first three years of boys names\n",
    "  boys[[\"2015\"]] <- read_csv(boy.file.names[\"2015\"], na = \"\")\n",
    "  boys[[\"2014\"]] <- read_csv(boy.file.names[\"2014\"], na = \"\")\n",
    "  boys[[\"2013\"]] <- read_csv(boy.file.names[\"2013\"], na = \"\")\n",
    "\n",
    "  ## 5. examine the result\n",
    "  str(boys, max.level = 2)\n",
    "  str(girls, max.level = 2)"
   ]
  },
  {
   "cell_type": "markdown",
   "metadata": {},
   "source": [
    "\n",
    "Iterating using the map function\n",
    "--------------------------------\n",
    "\n",
    "With a small number of files reading each one separately isn't too bad, but it\n",
    "obviously doesn't scale well. To read all the files conveniently we instead want\n",
    "to instruct R to iterate over the vector of URLs for us and download each one.\n",
    "We can carry out this iteration in several ways, including using one of the\n",
    "`map*` functions in the purrr package. Here is how it works.\n",
    "\n"
   ]
  },
  {
   "cell_type": "code",
   "execution_count": null,
   "metadata": {
    "autoscroll": false,
    "collapsed": true
   },
   "outputs": [],
   "source": [
    "## make up some example data\n",
    "list.1 <- list(a = sample(1:5, 20, replace = TRUE),\n",
    "               b = c(NA, sample(1:10, 20, replace = TRUE)),\n",
    "               c = sample(10:15, 20, replace = TRUE))"
   ]
  },
  {
   "cell_type": "markdown",
   "metadata": {},
   "source": [
    "\n",
    "Calculate the mean of every entry\n"
   ]
  },
  {
   "cell_type": "code",
   "execution_count": null,
   "metadata": {
    "autoscroll": false,
    "collapsed": true
   },
   "outputs": [],
   "source": [
    "map.1 <- map(list.1, mean)\n",
    "str(map.1)"
   ]
  },
  {
   "cell_type": "markdown",
   "metadata": {},
   "source": [
    "\n",
    "Calculate the mean of every entry, passing `na.rm` argument.\n"
   ]
  },
  {
   "cell_type": "code",
   "execution_count": null,
   "metadata": {
    "autoscroll": false,
    "collapsed": true
   },
   "outputs": [],
   "source": [
    "map.1 <- map(list.1, mean, na.rm = TRUE)\n",
    "str(map.1)"
   ]
  },
  {
   "cell_type": "markdown",
   "metadata": {},
   "source": [
    "\n",
    "Calculate the mean of every entry, returning a numberic vector instead of a\n",
    "list.\n"
   ]
  },
  {
   "cell_type": "code",
   "execution_count": null,
   "metadata": {
    "autoscroll": false,
    "collapsed": true
   },
   "outputs": [],
   "source": [
    "map.2 <- map_dbl(list.1, mean)\n",
    "str(map.2)"
   ]
  },
  {
   "cell_type": "markdown",
   "metadata": {},
   "source": [
    "\n",
    "Calculate the mean of every entry, returning a character vector.\n"
   ]
  },
  {
   "cell_type": "code",
   "execution_count": null,
   "metadata": {
    "autoscroll": false,
    "collapsed": true
   },
   "outputs": [],
   "source": [
    "map.3 <- map_chr(list.1, mean)"
   ]
  },
  {
   "cell_type": "markdown",
   "metadata": {},
   "source": [
    "\n",
    "Calculate summaries (map returns a list).\n"
   ]
  },
  {
   "cell_type": "code",
   "execution_count": null,
   "metadata": {
    "autoscroll": false,
    "collapsed": true
   },
   "outputs": [],
   "source": [
    "map.4 <- map(list.1, summary)\n",
    "str(map.4)"
   ]
  },
  {
   "cell_type": "markdown",
   "metadata": {},
   "source": [
    "\n",
    "Writing your own functions\n",
    "--------------------------\n",
    "\n",
    "The `map*` functions are useful when you want to apply a function to a list or\n",
    "vector of inputs and obtain the return values. This is very convenient when a\n",
    "function already exists that does exactly what you want. In the examples above\n",
    "we mapped `mean` and `summary` to the elements of a list. But what if there is\n",
    "no existing function that does exactly what we want? Suppose that rather than\n",
    "the set of statistics reported by the `summary` function we want to summarize\n",
    "each element in the list by calculating the *length*, *mean*, and *standard\n",
    "deviation*? In that case we will need to write a function that does what we\n",
    "want. Fortunately, writing functions in R is easy.\n",
    "\n"
   ]
  },
  {
   "cell_type": "code",
   "execution_count": null,
   "metadata": {
    "autoscroll": false,
    "collapsed": true
   },
   "outputs": [],
   "source": [
    "## define new function that returns the lenght, mean, and standard deviation\n",
    "my.summary <- function(x) {\n",
    "  n <- length(x)\n",
    "  avg <- mean(x)\n",
    "  std.dev <- sd(x)\n",
    "  return(c(N = n, Mean = avg, Standard.Deviation = std.dev))\n",
    "}\n",
    "\n",
    "## test it out\n",
    "my.summary(list.1[[1]])"
   ]
  },
  {
   "cell_type": "markdown",
   "metadata": {},
   "source": [
    "\n",
    "Our new function can be used just like any other function in R. For example, we\n",
    "can iterate over `list.1` and apply our new function to each element.\n",
    "\n"
   ]
  },
  {
   "cell_type": "code",
   "execution_count": null,
   "metadata": {
    "autoscroll": false,
    "collapsed": true
   },
   "outputs": [],
   "source": [
    "map(list.1, my.summary)"
   ]
  },
  {
   "cell_type": "markdown",
   "metadata": {},
   "source": [
    "\n",
    "Note that you can use the special `...` notation to pass named arguments\n",
    "without needing to define them all. For example:\n",
    "\n"
   ]
  },
  {
   "cell_type": "code",
   "execution_count": null,
   "metadata": {
    "autoscroll": false,
    "collapsed": true
   },
   "outputs": [],
   "source": [
    "## improve our function by allowing arbitrary arguments to be passed into the body\n",
    "my.summary <- function(x, ...) {\n",
    "  n <- length(x)\n",
    "  avg <- mean(x, ...)\n",
    "  std.dev <- sd(x, ...)\n",
    "  return(c(N = n, Mean = avg, Standard.Deviation = std.dev))\n",
    "}"
   ]
  },
  {
   "cell_type": "markdown",
   "metadata": {},
   "source": [
    "\n",
    "Now we can try out the new version of our summary function. Calling it without\n",
    "any additional arguments works fine for the first element of the list:\n"
   ]
  },
  {
   "cell_type": "code",
   "execution_count": null,
   "metadata": {
    "autoscroll": false,
    "collapsed": true
   },
   "outputs": [],
   "source": [
    "my.summary(list.1[[1]])"
   ]
  },
  {
   "cell_type": "markdown",
   "metadata": {},
   "source": [
    "\n",
    "However, it doesn't work so well on elements containing missing values:\n"
   ]
  },
  {
   "cell_type": "code",
   "execution_count": null,
   "metadata": {
    "autoscroll": false,
    "collapsed": true
   },
   "outputs": [],
   "source": [
    "my.summary(list.1[[2]])"
   ]
  },
  {
   "cell_type": "markdown",
   "metadata": {},
   "source": [
    "\n",
    "Even though our function does not have an na.rm argument we, can pass it to mean and sd via `...`\n",
    "\n"
   ]
  },
  {
   "cell_type": "code",
   "execution_count": null,
   "metadata": {
    "autoscroll": false,
    "collapsed": true
   },
   "outputs": [],
   "source": [
    "my.summary(list.1[[2]], na.rm = TRUE)"
   ]
  },
  {
   "cell_type": "markdown",
   "metadata": {},
   "source": [
    "\n",
    "Often when writing functions you want to skip some part of the function body\n",
    "under some conditions. For example, we might want omit missing values only if\n",
    "they exist:\n",
    "\n"
   ]
  },
  {
   "cell_type": "code",
   "execution_count": null,
   "metadata": {
    "autoscroll": false,
    "collapsed": true
   },
   "outputs": [],
   "source": [
    "## improve our function by removing missing values if they exist.\n",
    "my.summary <- function(x, ...) {\n",
    "  if(any(is.na(x))) {\n",
    "    x <- na.omit(x)\n",
    "  }\n",
    "  n <- length(x)\n",
    "  avg <- mean(x, ...)\n",
    "  std.dev <- sd(x, ...)\n",
    "  return(c(N = n, Mean = avg, Standard.Deviation = std.dev))\n",
    "}"
   ]
  },
  {
   "cell_type": "markdown",
   "metadata": {},
   "source": [
    "\n",
    "This is often useful for argument checking among other things.\n",
    "\n"
   ]
  },
  {
   "cell_type": "code",
   "execution_count": null,
   "metadata": {
    "autoscroll": false,
    "collapsed": true
   },
   "outputs": [],
   "source": [
    "my.summary <- function(x, mean.only = FALSE, ...) {\n",
    "  if(!is.numeric(x)) {\n",
    "    stop(\"x is not numeric.\")\n",
    "  }\n",
    "  if(any(is.na(x))) {\n",
    "    x <- na.omit(x)\n",
    "  }\n",
    "  if(mean.only) {\n",
    "    stats <- c(N = length(x), Mean = mean(x))\n",
    "  } else {\n",
    "    stats <- c(N = length(x), Mean = mean(x), Standard.Deviation = sd(x))\n",
    "  }\n",
    "  return(stats)\n",
    "}"
   ]
  },
  {
   "cell_type": "code",
   "execution_count": null,
   "metadata": {
    "autoscroll": false,
    "collapsed": true
   },
   "outputs": [],
   "source": [
    "map(list.1, my.summary)"
   ]
  },
  {
   "cell_type": "code",
   "execution_count": null,
   "metadata": {
    "autoscroll": false,
    "collapsed": true
   },
   "outputs": [],
   "source": [
    "map(list.1, my.summary, mean.only = TRUE)"
   ]
  },
  {
   "cell_type": "markdown",
   "metadata": {},
   "source": [
    "\n",
    "OK, now that we know how to write functions lets get back to the problem\n",
    "at hand. We want to read each file in the `girl.file.names` and\n",
    "`boy.file.names` vectors.\n",
    "\n",
    "Exercise 3: Iteration, file IO, functions\n",
    "-----------------------------------------\n",
    "\n",
    "We know how to read csv files using `read_csv`. We know how to iterate\n",
    "using `map`. All we need to do now is put the two things together.\n",
    "\n",
    "1.  Use the `map` and `read_csv` functions to read all the girls data\n",
    "    into an object named `girls.data`.\n"
   ]
  },
  {
   "cell_type": "code",
   "execution_count": null,
   "metadata": {
    "autoscroll": false,
    "collapsed": true
   },
   "outputs": [],
   "source": [
    "## write your answer here\n",
    ""
   ]
  },
  {
   "cell_type": "markdown",
   "metadata": {},
   "source": [
    "2.  Do the same thing for the boys data (name the object `boys.data`).\n"
   ]
  },
  {
   "cell_type": "code",
   "execution_count": null,
   "metadata": {
    "autoscroll": false,
    "collapsed": true
   },
   "outputs": [],
   "source": [
    "## write your answer here\n",
    ""
   ]
  },
  {
   "cell_type": "markdown",
   "metadata": {},
   "source": [
    "3.  Inspect the boys and girls data lists. How many elements do they\n",
    "    have? What class are they?\n"
   ]
  },
  {
   "cell_type": "code",
   "execution_count": null,
   "metadata": {
    "autoscroll": false,
    "collapsed": true
   },
   "outputs": [],
   "source": [
    "## write your answer here\n",
    ""
   ]
  },
  {
   "cell_type": "markdown",
   "metadata": {},
   "source": [
    "4.  Write a function that returns the `class`, `typeof`, and `length` of\n",
    "    its argument. `map` this function to `girls.data` and `boys.data`.\n"
   ]
  },
  {
   "cell_type": "code",
   "execution_count": null,
   "metadata": {
    "autoscroll": false,
    "collapsed": true
   },
   "outputs": [],
   "source": [
    "## write your answer here\n",
    ""
   ]
  },
  {
   "cell_type": "markdown",
   "metadata": {},
   "source": [
    "\n",
    "\\\n",
    "\n",
    "\\\n",
    "\n",
    "\\\n",
    "\n",
    "\\\n",
    "\n",
    "\\\n",
    "\n",
    "\\\n",
    "\n",
    "Exercise 3 prototype\n",
    "-------------------------\n",
    "\n"
   ]
  },
  {
   "cell_type": "code",
   "execution_count": null,
   "metadata": {
    "Rmd_chunk_options": "results = 'hide', purl = FALSE",
    "autoscroll": false,
    "collapsed": true
   },
   "outputs": [],
   "source": [
    "## 1. read in the girls names data\n",
    "girls.data <- map(girl.file.names, read_csv, na = \"\")\n",
    "\n",
    "## 2. read in the boys names data\n",
    "boys.data <- map(boy.file.names, read_csv, na = \"\")\n",
    "\n",
    "## 3. inspect boys and girls names data\n",
    "length(boys.data)\n",
    "length(girls.data)\n",
    "class(girls.data)\n",
    "class(boys.data)\n",
    "\n",
    "## 4. Inspect meta data for each set of names data\n",
    "list.info <- function(x) return(c(class = class(x), mode = mode(x), n = length(x)))\n",
    "unique(map(girls.data, list.info))\n",
    "unique(map(boys.data, list.info))"
   ]
  },
  {
   "cell_type": "markdown",
   "metadata": {},
   "source": [
    "\n",
    "\n",
    "Adding a Year column (data structures, indexing)\n",
    "================================================\n",
    "\n",
    "OK, at this point we have read in all the data. That is a good start! Lets take\n",
    "a closer look at what we are working with.\n",
    "\n"
   ]
  },
  {
   "cell_type": "code",
   "execution_count": null,
   "metadata": {
    "autoscroll": false,
    "collapsed": true
   },
   "outputs": [],
   "source": [
    "str(girls.data, max.level = 1)"
   ]
  },
  {
   "cell_type": "markdown",
   "metadata": {},
   "source": [
    "\n",
    "OK, so we have a *list* with 20 elements. A list in R is a very flexible data\n",
    "structure that can hold just about anything (including other lists). Our\n",
    "`girls.data` is a list that happens to contain *data.frames*.\n",
    "\n",
    "A data.frame in R is a special type of list in which each element is the same\n",
    "length. Elements of data.frames are often *atomic vectors* (\"logical\",\n",
    "\"integer\", \"numeric (double)\" etc. as discussed above), though elements of a\n",
    "data.frame can be anything you can store in other lists, provided only that each\n",
    "element is the same length.\n",
    "\n",
    "There are many useful things we can do with data.frames: (But remember that this\n",
    "list of methods is not all you can do with data.frames.)\n",
    "\n"
   ]
  },
  {
   "cell_type": "code",
   "execution_count": null,
   "metadata": {
    "autoscroll": false,
    "collapsed": true
   },
   "outputs": [],
   "source": [
    "girls.data.1 <- girls.data[[1]]\n",
    "class(girls.data.1)"
   ]
  },
  {
   "cell_type": "code",
   "execution_count": null,
   "metadata": {
    "autoscroll": false,
    "collapsed": true
   },
   "outputs": [],
   "source": [
    "methods(class = \"data.frame\")"
   ]
  },
  {
   "cell_type": "code",
   "execution_count": null,
   "metadata": {
    "autoscroll": false,
    "collapsed": true
   },
   "outputs": [],
   "source": [
    "list(dim = dim(girls.data.1),\n",
    "     rows = nrow(girls.data.1),\n",
    "     cols = ncol(girls.data.1),\n",
    "     names = names(girls.data.1),\n",
    "     summary = summary(girls.data.1))"
   ]
  },
  {
   "cell_type": "markdown",
   "metadata": {},
   "source": [
    "\n",
    "Adding a year column using bracket extraction/replacement\n",
    "---------------------------------------------------------\n",
    "\n",
    "The data.frames in `girls.data` all have three elements (columns): Rank (a\n",
    "number), Name (a character), and Count (a number). That is a problem, because we\n",
    "need to have a column that records the year! Year was stored in the file names\n",
    "rather than in the contents of the files, and so it appears as the names of the\n",
    "list elements rather than as a column in each data.frame.\n",
    "\n",
    "How can we insert the year information into each corresponding data.frame?\n",
    "Recall that a data.frame **is** a list, so we can use bracket extraction just as\n",
    "we would for other kinds of lists. That is, we can add a year column to the\n",
    "data.frame in position 1 of `girls.data` like this:\n",
    "\n"
   ]
  },
  {
   "cell_type": "code",
   "execution_count": null,
   "metadata": {
    "autoscroll": false,
    "collapsed": true
   },
   "outputs": [],
   "source": [
    "str(girls.data[[1]])"
   ]
  },
  {
   "cell_type": "code",
   "execution_count": null,
   "metadata": {
    "autoscroll": false,
    "collapsed": true
   },
   "outputs": [],
   "source": [
    "girls.data[[1]][[\"Year\"]] <- names(girls.data[1])\n",
    "##        ^                                  ^\n",
    "## double brackets to extract data.frame   single brackets to extract a list containing a data.frame\n",
    "str(girls.data[[1]])"
   ]
  },
  {
   "cell_type": "code",
   "execution_count": null,
   "metadata": {
    "autoscroll": false,
    "collapsed": true
   },
   "outputs": [],
   "source": [
    "girls.data[[1]][[\"Year\"]] <- as.integer(names(girls.data[1]))\n",
    "str(girls.data[[1]])"
   ]
  },
  {
   "cell_type": "markdown",
   "metadata": {},
   "source": [
    "\n",
    "Now we want to repeat that for each element in the list. We previously learned\n",
    "how to iterate using the `map` function, but that won't work here because we\n",
    "need a function with two arguments: the list element to modify, and the year\n",
    "value to insert. For that we can use the `map2` function, which works just like\n",
    "`map` except that we iterate over two things with a function that takes two\n",
    "arguments. It works like this:\n",
    "\n"
   ]
  },
  {
   "cell_type": "code",
   "execution_count": null,
   "metadata": {
    "autoscroll": false,
    "collapsed": true
   },
   "outputs": [],
   "source": [
    "example.list.3 <- list(a = 1:3,\n",
    "                       b = 4:6,\n",
    "                       c = 7:9)\n",
    "upper.name <- function(x, y) {\n",
    "  y.upper <- str_to_upper(y)\n",
    "  return(str_c(y.upper, x, sep = \": \"))\n",
    "}\n",
    "\n",
    "example.list.4 <- map2(example.list.3, names(example.list.3), upper.name)\n",
    "str(example.list.3)\n",
    "str(example.list.4)"
   ]
  },
  {
   "cell_type": "markdown",
   "metadata": {},
   "source": [
    "\n",
    "Exercise 4: Iteration, data.frame manipulation\n",
    "----------------------------------------------\n",
    "\n",
    "We know how to add a Year column. We know how to iterate using `map2`. All we\n",
    "need to do now is put the two things together.\n",
    "\n",
    "1.  Write a function named `add.year` that takes a data.frame and a vector as\n",
    "    arguments and returns a data.frame with the vector included as a column.\n"
   ]
  },
  {
   "cell_type": "code",
   "execution_count": null,
   "metadata": {
    "autoscroll": false,
    "collapsed": true
   },
   "outputs": [],
   "source": [
    "## write your answer here\n",
    ""
   ]
  },
  {
   "cell_type": "markdown",
   "metadata": {},
   "source": [
    "2.  Test your function on the first elements of `girls.data` and\n",
    "    `names(girls.data)` from step 1.\n"
   ]
  },
  {
   "cell_type": "code",
   "execution_count": null,
   "metadata": {
    "autoscroll": false,
    "collapsed": true
   },
   "outputs": [],
   "source": [
    "## write your answer here\n",
    ""
   ]
  },
  {
   "cell_type": "markdown",
   "metadata": {},
   "source": [
    "3.  Use the `map2` function to iterate over `girls.data` and insert the\n",
    "    corresponding year from `names(girls.data)` using the function you\n",
    "    wrote in step 1. Do the same for `boys.data`.\n"
   ]
  },
  {
   "cell_type": "code",
   "execution_count": null,
   "metadata": {
    "autoscroll": false,
    "collapsed": true
   },
   "outputs": [],
   "source": [
    "## write your answer here\n",
    ""
   ]
  },
  {
   "cell_type": "markdown",
   "metadata": {},
   "source": [
    "\n",
    "\\\n",
    "\n",
    "\\\n",
    "\n",
    "\\\n",
    "\n",
    "\\\n",
    "\n",
    "\\\n",
    "\n",
    "\n",
    "Exercise 4 prototype\n",
    "-------------------------\n",
    "\n"
   ]
  },
  {
   "cell_type": "code",
   "execution_count": null,
   "metadata": {
    "Rmd_chunk_options": "results = 'hide', purl = FALSE",
    "autoscroll": false,
    "collapsed": true
   },
   "outputs": [],
   "source": [
    "## 1. write function to add year column\n",
    "add.column <- function(data, value, col.name = \"xxxxx\") {\n",
    "  data[[col.name]] <- value\n",
    "  return(data)\n",
    "}\n",
    "\n",
    "## 2. test out the function\n",
    "str(add.column(girls.data[[1]], value = names(girls.data[1]), col.name = \"Year\"), max.level = 1)\n",
    "\n",
    "## 3. map the function to each element of our lists of data.frames\n",
    "girls.data <- map2(girls.data, names(girls.data), add.column, col.name = \"Year\")\n",
    "boys.data <- map2(boys.data, names(boys.data), add.column, col.name = \"Year\")"
   ]
  },
  {
   "cell_type": "markdown",
   "metadata": {},
   "source": [
    "\n",
    "Final England and Wales data cleanup\n",
    "====================================\n",
    "\n",
    "Our next step to is to collapse each list of data.frames into a single\n",
    "list. We can do that using the `bind_rows` function.\n",
    "\n",
    "```{.R}\n",
    "boys.data <- bind_rows(boys.data)\n",
    "girls.data <- bind_rows(girls.data)\n",
    "```\n",
    "\n",
    "Finally, we want to insert columns indicating location and sex, combine\n",
    "the boys and girls baby names, and convert the \"Year\" column to integer.\n",
    "\n"
   ]
  },
  {
   "cell_type": "code",
   "execution_count": null,
   "metadata": {
    "autoscroll": false,
    "collapsed": true
   },
   "outputs": [],
   "source": [
    "girls.data[[\"Sex\"]] <- \"F\"\n",
    "boys.data[[\"Sex\"]] <- \"M\"\n",
    "baby.names <- bind_rows(girls.data, boys.data)\n",
    "baby.names$Year <- as.integer(baby.names$Year)\n",
    "baby.names$Location <- \"England and Wales\""
   ]
  },
  {
   "cell_type": "markdown",
   "metadata": {},
   "source": [
    "\n",
    "Now that our data is cleaned up and formatted, lets take a final look to make\n",
    "sure everything looks correct.\n",
    "\n"
   ]
  },
  {
   "cell_type": "code",
   "execution_count": null,
   "metadata": {
    "autoscroll": false,
    "collapsed": true
   },
   "outputs": [],
   "source": [
    "str(baby.names)"
   ]
  },
  {
   "cell_type": "markdown",
   "metadata": {},
   "source": [
    "\n",
    "Get US data (strings, iteration, function recap)\n",
    "================================================\n",
    "\n",
    "So far we've read in and cleaned up baby name data from England and Wales. The\n",
    "next task is to do the same for US baby name data. The US baby name data is\n",
    "stored in a slightly different way: there are separate files for each Stata, and\n",
    "each file contains columns indicating the state, sex, year, name, and count.\n",
    "Note that these files do **not** have names in the first row.\n",
    "\n",
    "Your mission, should you choose to accept it, is to read in all the US baby name\n",
    "data and combine them with the England and Wales data we read in earlier. To\n",
    "succeed you will need to use all your wits and avail yourself of any resources\n",
    "at your disposal (such as the R help system, <http://stackoverflow.com/>,\n",
    "discussing with your colleagues, or asking the instructor).\n",
    "\n",
    "Here is the index page to get you started.\n",
    "\n"
   ]
  },
  {
   "cell_type": "code",
   "execution_count": null,
   "metadata": {
    "autoscroll": false,
    "collapsed": true
   },
   "outputs": [],
   "source": [
    "base.url <- \"http://tutorials.iq.harvard.edu\"\n",
    "baby.names.path <- \"example_data/baby_names/US\"\n",
    "baby.names.url <- str_c(base.url, baby.names.path, sep = \"/\")\n",
    "baby.names.page <- read_lines(baby.names.url)"
   ]
  },
  {
   "cell_type": "markdown",
   "metadata": {},
   "source": [
    "\n",
    "Exercise 5: strings, iteration, functions recap\n",
    "-----------------------------------------------\n",
    "\n",
    "You are now a trained R programmer. Put your skills to use as follows\n",
    "\n",
    "1.  Extract the file names from baby.names.page and combine them with\n",
    "    `baby.names.url` to create a vector of file locations.\n"
   ]
  },
  {
   "cell_type": "code",
   "execution_count": null,
   "metadata": {
    "autoscroll": false,
    "collapsed": true
   },
   "outputs": [],
   "source": [
    "## write your answer here\n",
    ""
   ]
  },
  {
   "cell_type": "markdown",
   "metadata": {},
   "source": [
    "2.  Iterate over the vector of file names from step one and read each\n",
    "    file, assigning the result to a list named `us.baby.names`. Note\n",
    "    that column names are not present in these data files.\n"
   ]
  },
  {
   "cell_type": "code",
   "execution_count": null,
   "metadata": {
    "autoscroll": false,
    "collapsed": true
   },
   "outputs": [],
   "source": [
    "## write your answer here\n",
    ""
   ]
  },
  {
   "cell_type": "markdown",
   "metadata": {},
   "source": [
    "3.  Use `bind_rows` to combine your list of 51 data.frames into a\n",
    "    single data.frame.\n"
   ]
  },
  {
   "cell_type": "code",
   "execution_count": null,
   "metadata": {
    "autoscroll": false,
    "collapsed": true
   },
   "outputs": [],
   "source": [
    "## write your answer here\n",
    ""
   ]
  },
  {
   "cell_type": "markdown",
   "metadata": {},
   "source": [
    "4.  Use the assignment form of the `names` function to name the columns\n",
    "    in your US baby names data set \"Location\", \"Sex\", \"Year\",\n",
    "    and \"Count\".\n"
   ]
  },
  {
   "cell_type": "code",
   "execution_count": null,
   "metadata": {
    "autoscroll": false,
    "collapsed": true
   },
   "outputs": [],
   "source": [
    "## write your answer here\n",
    ""
   ]
  },
  {
   "cell_type": "markdown",
   "metadata": {},
   "source": [
    "5.  Write a function named `read.linked.files` that wraps steps 1-3.\n",
    "    Your function should take 3 arguments:\n",
    "\n",
    "    url\n",
    "    :   the location of the web page containing data links\n",
    "\n",
    "    pattern\n",
    "    :   a regular expression used to extract data links from the page\n",
    "\n",
    "    reader.fun\n",
    "    :   a function used to read the files\n",
    "\n",
    "\\\n",
    "\n",
    "\\\n",
    "\n",
    "\\\n",
    "\n",
    "\\\n",
    "\n",
    "\\\n",
    "\n",
    "\n"
   ]
  },
  {
   "cell_type": "code",
   "execution_count": null,
   "metadata": {
    "autoscroll": false,
    "collapsed": true
   },
   "outputs": [],
   "source": [
    "## 1. extract file names\n",
    "file.names <- na.omit(str_extract(baby.names.page, \"[A-Z]+\\\\.csv\"))\n",
    "file.locations <- str_c(baby.names.url, file.names, sep = \"/\")\n",
    "\n",
    "## 2. read in the data\n",
    "us.baby.names <- map(file.locations,\n",
    "                     read_csv,\n",
    "                     col_names = FALSE,\n",
    "                     na = \"\",\n",
    "                     col_types = \"ccici\")\n",
    "\n",
    "## 3. collapse list of data.frames into a single data.frame\n",
    "us.baby.names <- bind_rows(us.baby.names)\n",
    "\n",
    "## 4. add column names\n",
    "names(us.baby.names) <- c(\"Location\", \"Sex\", \"Year\", \"Name\", \"Count\")\n",
    "\n",
    "## 5. wrap it in a function\n",
    "read.linked.files <- function(url,\n",
    "                              pattern = \"[A-z0-9]+\\\\.csv\",\n",
    "                              reader.fun = read_csv) {\n",
    "  ## extract file names\n",
    "  file.names <- na.omit(str_extract(read_lines(url), pattern))\n",
    "  file.locations <- str_c(url, file.names, sep = \"/\")\n",
    "\n",
    "  ## read in the data\n",
    "  the.data <- map(file.locations,\n",
    "                  reader.fun)\n",
    "\n",
    "  ## collapse list of data.frames into a single data.frame\n",
    "  return(bind_rows(the.data))\n",
    "}\n",
    "\n",
    "## test it out.\n",
    "test <- read.linked.files(\"http://tutorials.iq.harvard.edu/example_data/baby_names/US\",\n",
    "                          pattern = \"[A-Z]+\\\\.csv\",\n",
    "                          reader.fun = function(x) {\n",
    "                            read_csv(x, col_names = FALSE, na = \"\", col_types = \"ccici\")\n",
    "                          })\n",
    ""
   ]
  },
  {
   "cell_type": "markdown",
   "metadata": {},
   "source": [
    "\n",
    "Final Data cleanup\n",
    "------------------\n",
    "\n",
    "Now that we've downloaded the baby name data from England and Wales and from the\n",
    "US are ready to do some final data cleanup. First I'm going to drop the \"Rank\"\n",
    "variable since it only exists in the England and Wales data, and I don't really\n",
    "care about it anyway. We can drop elements by assigning `NULL` to them.\n",
    "\n"
   ]
  },
  {
   "cell_type": "code",
   "execution_count": null,
   "metadata": {
    "autoscroll": false,
    "collapsed": true
   },
   "outputs": [],
   "source": [
    "baby.names[[\"Rank\"]] <- NULL"
   ]
  },
  {
   "cell_type": "markdown",
   "metadata": {},
   "source": [
    "\n",
    "Next we want to combine the two sets of baby names into a single data.frame.\n",
    "I'll also remove `us.baby.names` since it is quite large and we don't need it\n",
    "anymore.\n",
    "\n"
   ]
  },
  {
   "cell_type": "code",
   "execution_count": null,
   "metadata": {
    "autoscroll": false,
    "collapsed": true
   },
   "outputs": [],
   "source": [
    "baby.names <- bind_rows(baby.names, us.baby.names)\n",
    "rm(us.baby.names)"
   ]
  },
  {
   "cell_type": "markdown",
   "metadata": {},
   "source": [
    "\n",
    "Finally, since the England names are all uppercase and the US names are title\n",
    "case we need to make them the same.\n",
    "\n"
   ]
  },
  {
   "cell_type": "code",
   "execution_count": null,
   "metadata": {
    "autoscroll": false,
    "collapsed": true
   },
   "outputs": [],
   "source": [
    "baby.names[[\"Name\"]] <- str_to_lower(baby.names[[\"Name\"]])"
   ]
  },
  {
   "cell_type": "markdown",
   "metadata": {},
   "source": [
    "\n",
    "What can we learn about baby names? (data frame manipulation, graphing)\n",
    "=======================================================================\n",
    "\n",
    "Now that we have the data loaded and cleaned up we can use it to answer\n",
    "interesting questions. For example:\n",
    "\n",
    "-   How many children were born each year?\n",
    "-   What are the most popular names overall?\n",
    "-   How has the popularity of the most popular names changed over time?\n",
    "-   Has the number of names changed over time?\n",
    "-   How has the distribution of names changed over time?\n",
    "-   Has the average length of names changed over time?\n",
    "-   What are the most popular first letters in baby names? Has this\n",
    "    changed over time?\n",
    "-   What were the most popular names in 2015 (the last year for which we\n",
    "    have data)?\n",
    "-   How has the popularity of the most popular names in 2015 changed\n",
    "    over time?\n",
    "\n",
    "Earlier I mentioned that data.frames are a special kind of list in which each\n",
    "element must be of the same length. What I perhaps did not emphasize enough is\n",
    "how important the data.frame concept is in R programming. Because of the\n",
    "centrality of the data.frame in many R workflows there are many functions\n",
    "available specifically for manipulating data.frames. In particular, the\n",
    "*data.table*, *dplyr* and *tidyr* packages provides many useful functions for\n",
    "working with data.frames. In this section we will use the *dplyr* package answer\n",
    "some of our questions about baby names.\n",
    "\n",
    "Number of children born each year\n",
    "---------------------------------\n",
    "\n",
    "Now that we have the data read in and we know what is in each column, I want to\n",
    "know how many children were born each year. To one way to do that is to use the\n",
    "`group_by` and `summarize` functions from the *dplyr* package.\n",
    "\n"
   ]
  },
  {
   "cell_type": "code",
   "execution_count": null,
   "metadata": {
    "autoscroll": false,
    "collapsed": true
   },
   "outputs": [],
   "source": [
    "## make up some example data\n",
    "(example.df <- data.frame(id  = rep(letters[1:4], each = 4),\n",
    "                          t   = rep(1:4, times = 4),\n",
    "                          var1 = runif(16),\n",
    "                          var2 = sample(letters[1:3], 16, replace = TRUE)))"
   ]
  },
  {
   "cell_type": "markdown",
   "metadata": {},
   "source": [
    "\n",
    "Calculate the total sum of the `var1` column.\n"
   ]
  },
  {
   "cell_type": "code",
   "execution_count": null,
   "metadata": {
    "autoscroll": false,
    "collapsed": true
   },
   "outputs": [],
   "source": [
    "## summarize\n",
    "summarize(example.df,\n",
    "          var1 = sum(var1))"
   ]
  },
  {
   "cell_type": "markdown",
   "metadata": {},
   "source": [
    "\n",
    "Calculate the sum of `var1` by `id`.\n"
   ]
  },
  {
   "cell_type": "code",
   "execution_count": null,
   "metadata": {
    "autoscroll": false,
    "collapsed": true
   },
   "outputs": [],
   "source": [
    "## summarize by id\n",
    "example.df %>%\n",
    "  group_by(id) %>%\n",
    "  summarize(var1 = sum(var1))"
   ]
  },
  {
   "cell_type": "markdown",
   "metadata": {},
   "source": [
    "\n",
    "Calculate the sum of `var1` by `id` and `var2`.\n"
   ]
  },
  {
   "cell_type": "code",
   "execution_count": null,
   "metadata": {
    "autoscroll": false,
    "collapsed": true
   },
   "outputs": [],
   "source": [
    "## summarize by id and var2\n",
    "example.df %>%\n",
    "  group_by(id, var2) %>%\n",
    "  summarize(var1 = sum(var1))"
   ]
  },
  {
   "cell_type": "markdown",
   "metadata": {},
   "source": [
    "\n",
    "Now that we know how to group by and summarize we can calculate the\n",
    "number of babies born each year\n",
    "\n"
   ]
  },
  {
   "cell_type": "code",
   "execution_count": null,
   "metadata": {
    "autoscroll": false,
    "collapsed": true
   },
   "outputs": [],
   "source": [
    "group_by(baby.names, Year) %>%\n",
    "  summarize(Total = sum(Count))"
   ]
  },
  {
   "cell_type": "markdown",
   "metadata": {},
   "source": [
    "\n",
    "We can also easily generalize this to other groupings, e.g., to\n",
    "calculate the number of boys and girls born each year:\n",
    "\n"
   ]
  },
  {
   "cell_type": "code",
   "execution_count": null,
   "metadata": {
    "autoscroll": false,
    "collapsed": true
   },
   "outputs": [],
   "source": [
    "group_by(baby.names, Year, Sex) %>%\n",
    "  summarize(Total = sum(Count))"
   ]
  },
  {
   "cell_type": "markdown",
   "metadata": {},
   "source": [
    "\n",
    "Most popular names overall\n",
    "--------------------------\n",
    "\n",
    "Next I want to find the five most popular girl and boy names overall.\n",
    "\n",
    "Specifically I want to:\n",
    "\n",
    "1.  Compute \"Percent\" column by \"Location\", \"Sex\" and \"Year\".\n",
    "2.  Average the \"Percent\" column for each name by \"Sex\".\n",
    "3.  Sort names by the averaged Percent.\n",
    "4.  Select the top 5 in each group.\n",
    "\n",
    "In order to identify the most popular names it will be useful to learn a\n",
    "few new tools. You already know how `group_by` and `summarize` work. The\n",
    "following example shows how `mutate`, `arrange` and `slice` work.\n",
    "\n"
   ]
  },
  {
   "cell_type": "code",
   "execution_count": null,
   "metadata": {
    "autoscroll": false,
    "collapsed": true
   },
   "outputs": [],
   "source": [
    "## add new columns using mutate\n",
    "(example.df <- example.df %>%\n",
    "   mutate(n1 = n(),\n",
    "          n2 = length(var1),\n",
    "          var3 = var1/n1))"
   ]
  },
  {
   "cell_type": "code",
   "execution_count": null,
   "metadata": {
    "autoscroll": false,
    "collapsed": true
   },
   "outputs": [],
   "source": [
    "## combine with group_by\n",
    "(example.df <- example.df %>%\n",
    "   group_by(id) %>%\n",
    "   mutate(n3 = n(),\n",
    "          var4 = var1/n3))"
   ]
  },
  {
   "cell_type": "code",
   "execution_count": null,
   "metadata": {
    "autoscroll": false,
    "collapsed": true
   },
   "outputs": [],
   "source": [
    "## summarize by id and var2\n",
    "(example.df.2 <- example.df %>%\n",
    "   group_by(id, var2) %>%\n",
    "   summarize(var1 = sum(var1)))"
   ]
  },
  {
   "cell_type": "code",
   "execution_count": null,
   "metadata": {
    "autoscroll": false,
    "collapsed": true
   },
   "outputs": [],
   "source": [
    "## sort by var1\n",
    "example.df.2 %>%\n",
    "  arrange(var1)"
   ]
  },
  {
   "cell_type": "code",
   "execution_count": null,
   "metadata": {
    "autoscroll": false,
    "collapsed": true
   },
   "outputs": [],
   "source": [
    "example.df.2 %>%\n",
    "  arrange(desc(var1))"
   ]
  },
  {
   "cell_type": "code",
   "execution_count": null,
   "metadata": {
    "autoscroll": false,
    "collapsed": true
   },
   "outputs": [],
   "source": [
    "## sort by var1 within id\n",
    "(example.df.2 <- example.df.2 %>%\n",
    "   arrange(id, desc(var1)))"
   ]
  },
  {
   "cell_type": "code",
   "execution_count": null,
   "metadata": {
    "autoscroll": false,
    "collapsed": true
   },
   "outputs": [],
   "source": [
    "## select the top 2 var1's within each id group\n",
    "example.df.2 %>%\n",
    "  group_by(id) %>%\n",
    "  slice(1:2)"
   ]
  },
  {
   "cell_type": "markdown",
   "metadata": {},
   "source": [
    "\n",
    "Now that we know how to group, mutate, summarize, arrange, and slice we\n",
    "can use these tools to identify the most popular boy and girl names.\n",
    "\n"
   ]
  },
  {
   "cell_type": "code",
   "execution_count": null,
   "metadata": {
    "autoscroll": false,
    "collapsed": true
   },
   "outputs": [],
   "source": [
    "## create a percent column\n",
    "baby.names <- baby.names %>%\n",
    "  group_by(Location, Year, Sex) %>%\n",
    "  mutate(Percent = (Count/sum(Count)) * 100)\n",
    "\n",
    "## collapse across year and location to get the average percent for each each name by sex\n",
    "baby.names.percent.overall <- baby.names %>%\n",
    "  group_by(Sex, Name) %>%\n",
    "  summarize(Percent = mean(Percent))\n",
    "\n",
    "## arrange the data with the highest average percent first, and select the top 5\n",
    "(top.names.overall <- baby.names.percent.overall %>%\n",
    "   arrange(Sex, desc(Percent)) %>%\n",
    "   group_by(Sex) %>%\n",
    "   slice(1:5))"
   ]
  },
  {
   "cell_type": "markdown",
   "metadata": {},
   "source": [
    "\n",
    "How has the distribution of names changed over time?\n",
    "----------------------------------------------------\n",
    "\n",
    "Finally, I want to examine how the distribution of names has changed\n",
    "over time. This doesn't require learning any new tools, we just need to\n",
    "combine the tools we already know to produce the desired result.\n",
    "\n"
   ]
  },
  {
   "cell_type": "code",
   "execution_count": null,
   "metadata": {
    "autoscroll": false,
    "collapsed": true
   },
   "outputs": [],
   "source": [
    "baby.names.sex.decade <- baby.names %>%\n",
    "  ## aggregate Year to Decade\n",
    "  mutate(Decade = str_c(floor(Year/10)*10, \"'s\")) %>%\n",
    "  ## calculate Percent by Location, Sex, and Year\n",
    "  group_by(Location, Sex, Year) %>%\n",
    "  mutate(Percent = (Count/sum(Count)) * 100) %>%\n",
    "  ## summarize to the Sex/Decade/Name level\n",
    "  group_by(Sex, Decade, Name) %>%\n",
    "  summarize(Count = sum(Count),\n",
    "            Percent = mean(Percent)) %>%\n",
    "  ## order the names by overall popularity.\n",
    "  group_by(Sex) %>%\n",
    "  mutate(Name = reorder(Name, -1*Percent))\n",
    "\n",
    "## plot\n",
    "ggplot(baby.names.sex.decade, aes(x = Name, y = Percent, fill = Sex, color = Sex)) +\n",
    "  geom_bar(stat = \"identity\") +\n",
    "  facet_grid(Decade ~ Sex, scales = \"free_x\") +\n",
    "  theme(axis.text.x = element_blank())"
   ]
  },
  {
   "cell_type": "markdown",
   "metadata": {},
   "source": [
    "\n",
    "Exercise 5: Final project\n",
    "-------------------------\n",
    "\n",
    "Choose one of these questions\n",
    "\n",
    "-   ~~How many children were born each year?~~\n",
    "-   ~~What are the most popular names overall?~~\n",
    "-   How has the popularity of the most popular names changed over time?\n",
    "-   Has the number of names changed over time?\n",
    "-   ~~How has the distribution of names changed over time?~~\n",
    "-   Has the average length of names changed over time?\n",
    "-   What are the most popular first letters in baby names? Has this\n",
    "    changed over time?\n",
    "-   What were the most popular names in 2015 (the last year for which we\n",
    "    have data)?\n",
    "-   How has the popularity of the most popular names in 2015 changed\n",
    "    over time?\n",
    "\n",
    "and use the `baby.names` data together with your mastery of R to answer\n",
    "it.\n",
    "\n"
   ]
  },
  {
   "cell_type": "code",
   "execution_count": null,
   "metadata": {
    "autoscroll": false,
    "collapsed": true
   },
   "outputs": [],
   "source": [
    "## write your answer here\n",
    ""
   ]
  },
  {
   "cell_type": "markdown",
   "metadata": {},
   "source": [
    "\n",
    "Other stuff\n",
    "===========\n",
    "\n",
    "Combining similar names\n",
    "-----------------------\n",
    "\n",
    "Similar names with different spellings have been intentionally left\n",
    "alone in these data. If our goals is to examine changes in name\n",
    "popularity (rather than changing spelling preferences) it might be\n",
    "useful to combine them. There are several different algorithms for\n",
    "detecting words that sound alike; many of them (including the *nysiis*\n",
    "and *metaphone* algorithms) are provided in R by the *phonics* package.\n",
    "Here is how it works:\n",
    "\n"
   ]
  },
  {
   "cell_type": "code",
   "execution_count": null,
   "metadata": {
    "autoscroll": false,
    "collapsed": true
   },
   "outputs": [],
   "source": [
    "##install.packages(\"phonics\")\n",
    "library(phonics)\n",
    "spelling <- c(\n",
    "\"colour\",   \"color\",\n",
    "\"flavour\",   \"flavor\",\n",
    "\"behaviour\", \"behavior\",\n",
    "\"harbour\",   \"harbor\",\n",
    "\"honour\",    \"honor\",\n",
    "\"humour\",    \"humor\",\n",
    "\"labour\",    \"labor\",\n",
    "\"neighbour\", \"neighbor\",\n",
    "\"rumour\",    \"rumor\")\n",
    "\n",
    "(spelling.data <- data.frame(original = spelling, Sounds.like = nysiis(spelling, maxCodeLen = 15)))"
   ]
  },
  {
   "cell_type": "markdown",
   "metadata": {},
   "source": [
    "\n",
    "Once we have identified which words are the same (but spelled\n",
    "differently) we can combine those words.\n",
    "\n"
   ]
  },
  {
   "cell_type": "code",
   "execution_count": null,
   "metadata": {
    "autoscroll": false,
    "collapsed": true
   },
   "outputs": [],
   "source": [
    "(spelling.data <- spelling.data %>%\n",
    "   group_by(Sounds.like) %>%\n",
    "   mutate(Alternative.spellings = str_c(sort(original), collapse = \"/\")))"
   ]
  },
  {
   "cell_type": "markdown",
   "metadata": {},
   "source": [
    "\n",
    "We can use this technique to identify and group names with alternative\n",
    "spellings. Since any one algorithm tends to group two aggressively we'll\n",
    "require multiple algorithms to agree.\n",
    "\n"
   ]
  },
  {
   "cell_type": "code",
   "execution_count": null,
   "metadata": {
    "autoscroll": false,
    "collapsed": true
   },
   "outputs": [],
   "source": [
    "library(phonics)\n",
    "baby.names <- baby.names %>%\n",
    "  group_by(Sex) %>%\n",
    "  mutate(Sounds.like = str_c(nysiis(Name, maxCodeLen = 10),\n",
    "                             metaphone(Name, maxCodeLen = 10),\n",
    "                             sep = \"/\")) %>%\n",
    "  group_by(Sex, Sounds.like) %>%\n",
    "  mutate(Alternative.spellings = str_c(sort(unique(Name)), collapse = \"/\")) %>%\n",
    "  ungroup()\n",
    "str(baby.names)"
   ]
  },
  {
   "cell_type": "markdown",
   "metadata": {},
   "source": [
    "\n",
    "\"starts with\" and \"ends with\"\n",
    "-----------------------------\n",
    "\n",
    "Not only do the most popular names change over time, but the most\n",
    "popular first and last letters also display temporal trends. We can\n",
    "extract the first/last n letters using `str_sub`, like this:\n",
    "\n"
   ]
  },
  {
   "cell_type": "code",
   "execution_count": null,
   "metadata": {
    "autoscroll": false,
    "collapsed": true
   },
   "outputs": [],
   "source": [
    "month.name\n",
    "str_sub(month.name, 1, 1)\n",
    "str_sub(month.name, 1, 3)\n",
    "str_sub(month.name, -1, -1)\n",
    "str_sub(month.name, -3, -1)"
   ]
  },
  {
   "cell_type": "markdown",
   "metadata": {},
   "source": [
    "\n",
    "We can use this to create new columns with just the first/last **n**\n",
    "letters of each name\n",
    "\n"
   ]
  },
  {
   "cell_type": "code",
   "execution_count": null,
   "metadata": {
    "autoscroll": false,
    "collapsed": true
   },
   "outputs": [],
   "source": [
    "\n",
    "baby.names[[\"First.1\"]] <- str_sub(baby.names[[\"Name\"]], 1, 1)\n",
    "baby.names[[\"First.2\"]] <- str_sub(baby.names[[\"Name\"]], 1, 2)\n",
    "baby.names[[\"First.3\"]] <- str_sub(baby.names[[\"Name\"]], 1, 3)\n",
    "baby.names[[\"Last.1\"]] <- str_sub(baby.names[[\"Name\"]], -1, -1)\n",
    "baby.names[[\"Last.2\"]] <- str_sub(baby.names[[\"Name\"]], -2, -1)\n",
    "baby.names[[\"Last.3\"]] <- str_sub(baby.names[[\"Name\"]], -3, -1)"
   ]
  },
  {
   "cell_type": "markdown",
   "metadata": {},
   "source": [
    "\n",
    "Length of names\n",
    "---------------\n",
    "\n",
    "The `str_length` function can be used to count the number of letters in\n",
    "each name\n",
    "\n"
   ]
  },
  {
   "cell_type": "code",
   "execution_count": null,
   "metadata": {
    "autoscroll": false,
    "collapsed": true
   },
   "outputs": [],
   "source": [
    "baby.names$Name.length <- str_length(baby.names$Name)"
   ]
  },
  {
   "cell_type": "markdown",
   "metadata": {},
   "source": [
    "\n",
    "What else?\n",
    "==========\n",
    "\n",
    "If there is anything else you want to learn how to do, now is the time\n",
    "to ask!\n",
    "\n",
    "Go forth and code!\n",
    "==================\n",
    "\n",
    "You now know everything you could possibly want to know about R. OK\n",
    "maybe not! But you do know how to manipulate character strings with\n",
    "regular expressions, write your own functions, iterate, inspect and\n",
    "modify attributes, and extract and replace object elements. There's a\n",
    "lot more to learn, but that's a pretty good start. As you go forth and\n",
    "write your own R code here are some resources that may be helpful.\n",
    "\n",
    "Additional reading and resources\n",
    "================================\n",
    "\n",
    "-   Learn from the best: <http://adv-r.had.co.nz/>;\n",
    "    <http://r4ds.had.co.nz/>\n",
    "-   R documentation: <http://cran.r-project.org/manuals.html>\n",
    "-   Collection of R tutorials:\n",
    "    <http://cran.r-project.org/other-docs.html>\n",
    "\n",
    "-   R for Programmers (by Norman Matloff, UC--Davis)\n",
    "\n",
    "<http://heather.cs.ucdavis.edu/~matloff/R/RProg.pdf>\n",
    "\n",
    "-   Calling C and Fortran from R (by Charles Geyer, UMinn)\n",
    "\n",
    "<http://www.stat.umn.edu/~charlie/rc/>\n",
    "\n",
    "-   State of the Art in Parallel Computing with R (Schmidberger et al.)\n",
    "\n",
    "<http://www.jstatso>|.org/v31/i01/paper\n",
    "\n",
    "-   Institute for Quantitative Social Science: <http://iq.harvard.edu>\n",
    "-   Research technology consulting: <http://projects.iq.harvard.edu/rtc>\n",
    "\n",
    "Epilogue: Things that may surprise you\n",
    "======================================\n",
    "\n",
    "There are an unfortunately large number of surprises in R programming.\n",
    "Some of these \"gotcha's\" are common problems in other languages, many\n",
    "are unique to R. We will only cover a few -- for a more comprehensive\n",
    "discussion please see\n",
    "<http://www.burns-stat.com/pages/Tutor/R_inferno.pdf>\n",
    "\n",
    "### Floating point comparison\n",
    "\n",
    "Floating point arithmetic is not exact:\n",
    "\n"
   ]
  },
  {
   "cell_type": "code",
   "execution_count": null,
   "metadata": {
    "autoscroll": false,
    "collapsed": true
   },
   "outputs": [],
   "source": [
    ".1 == .3/3"
   ]
  },
  {
   "cell_type": "markdown",
   "metadata": {},
   "source": [
    "\n",
    "Solution: `use all.equal()`:\n",
    "\n"
   ]
  },
  {
   "cell_type": "code",
   "execution_count": null,
   "metadata": {
    "autoscroll": false,
    "collapsed": true
   },
   "outputs": [],
   "source": [
    "all.equal(.1, .3/3)"
   ]
  },
  {
   "cell_type": "markdown",
   "metadata": {},
   "source": [
    "\n",
    "### Missing values\n",
    "\n",
    "R does not exclude missing values by default -- a single missing value\n",
    "in a vector means that many thing are unknown:\n",
    "\n"
   ]
  },
  {
   "cell_type": "code",
   "execution_count": null,
   "metadata": {
    "autoscroll": false,
    "collapsed": true
   },
   "outputs": [],
   "source": [
    "x <- c(1:10, NA, 12:20)\n",
    "c(mean(x), sd(x), median(x), min(x), sd(x))"
   ]
  },
  {
   "cell_type": "markdown",
   "metadata": {},
   "source": [
    "\n",
    "NA is not equal to anything, not even NA\n",
    "\n",
    "```{#NAcomp .r}\n",
    "NA == NA\n",
    "```\n",
    "\n",
    "Solutions: use `na.rm = TRUE` option when calculating, and is.na to test\n",
    "for missing\n",
    "\n",
    "### Automatic type conversion\n",
    "\n",
    "Automatic type conversion happens a lot which is often useful, but makes\n",
    "it easy to miss mistakes\n",
    "\n"
   ]
  },
  {
   "cell_type": "code",
   "execution_count": null,
   "metadata": {
    "autoscroll": false,
    "collapsed": true
   },
   "outputs": [],
   "source": [
    "# combining values coereces them to the most general type\n",
    "(x <- c(TRUE, FALSE, 1, 2, \"a\", \"b\"))\n",
    "str(x)\n",
    "\n",
    "# comparisons convert arguments to most general type\n",
    "1 > \"a\""
   ]
  },
  {
   "cell_type": "markdown",
   "metadata": {},
   "source": [
    "\n",
    "Maybe this is what you expect... I would like to at least get a warning!\n",
    "\n",
    "### Optional argument inconsistencies\n",
    "\n",
    "Functions you might expect to work similarly don't always:\n",
    "\n"
   ]
  },
  {
   "cell_type": "code",
   "execution_count": null,
   "metadata": {
    "autoscroll": false,
    "collapsed": true
   },
   "outputs": [],
   "source": [
    "mean(1, 2, 3, 4, 5)*5\n",
    "sum(1, 2, 3, 4, 5)"
   ]
  },
  {
   "cell_type": "markdown",
   "metadata": {},
   "source": [
    "\n",
    "Why are these different?!?\n",
    "\n"
   ]
  },
  {
   "cell_type": "code",
   "execution_count": null,
   "metadata": {
    "autoscroll": false,
    "collapsed": true
   },
   "outputs": [],
   "source": [
    "args(mean)\n",
    "args(sum)"
   ]
  },
  {
   "cell_type": "markdown",
   "metadata": {},
   "source": [
    "\n",
    "Ouch. That is not nice at all!\n",
    "\n",
    "### Trouble with Factors\n",
    "\n",
    "Factors sometimes behave as numbers, and sometimes as characters, which\n",
    "can be confusing!\n",
    "\n"
   ]
  },
  {
   "cell_type": "code",
   "execution_count": null,
   "metadata": {
    "autoscroll": false,
    "collapsed": true
   },
   "outputs": [],
   "source": [
    "(x <- factor(c(5, 5, 6, 6), levels = c(6, 5)))\n",
    "\n",
    "str(x)\n",
    "\n",
    "as.character(x)\n",
    "# here is where people sometimes get lost...\n",
    "as.numeric(x)\n",
    "# you probably want\n",
    "as.numeric(as.character(x))"
   ]
  },
  {
   "cell_type": "markdown",
   "metadata": {},
   "source": [
    "\n",
    "Feedback\n",
    "--------\n",
    "\n",
    "-   Help Us Make This Workshop Better!\n",
    "-   Please take a moment to fill out a very short feedback form\n",
    "-   These workshops exist for you -- tell us what you need!\n",
    "-   <http://tinyurl.com/RprogrammingFeedback>\n",
    "\n",
    "[^1]: In general you [should not use string manipulation tools to parse\n",
    "    html](http://stackoverflow.com/questions/1732348/regex-match-open-tags-except-xhtml-self-contained-tags/1732454#1732454),\n",
    "    but in this case the html is simple enough that a regular expression\n",
    "    based approach is fine.\n"
   ]
  }
 ],
 "metadata": {
  "Rmd_header": {
   "output": {
    "html_document": {
     "highlight": "tango",
     "toc": true,
     "toc_float": {
      "collapsed": true
     }
    }
   },
   "title": "Introduction To Programming In R"
  },
  "kernelspec": {
   "display_name": "R",
   "language": "R",
   "name": "ir"
  },
  "language_info": {
   "codemirror_mode": "r",
   "file_extension": ".r",
   "mimetype": "text/x-r-source",
   "name": "R",
   "pygments_lexer": "r"
  }
 },
 "nbformat": 4,
 "nbformat_minor": 0
}
