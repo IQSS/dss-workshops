{
 "cells": [
  {
   "cell_type": "markdown",
   "metadata": {},
   "source": [
    "Introduction\n",
    "============\n",
    "\n",
    "Download workshop materials<span class=\"tag\" data-tag-name=\"setup\"></span>\n",
    "--------------------------------------------------------------------------\n",
    "\n",
    "-   Lab computer log in:\n",
    "    -   USERNAME: dataclass\n",
    "    -   PASSWORD: on the board to your left\n",
    "-   Download materials from <http://tutorials.iq.harvard.edu/Stata/StataStatGraph.zip>\n",
    "-   Extract materials from the `StataStatGraph.zip` file\n",
    "-   Launch Stata and open the `StataStatGraph.do` file\n",
    "\n",
    "Materials and setup<span class=\"tag\" data-tag-name=\"mitsetup\"></span>\n",
    "---------------------------------------------------------------------\n",
    "\n",
    "Laptop users: you will need a copy of Stata installed on your machine\n",
    "\n",
    "Lab computer users: log in using your Athena user name and password\n",
    "\n",
    "Everyone:\n",
    "\n",
    "-   Open a web browser and download class materials from <http://tutorials.iq.harvard.edu/Stata/StataStatGraph.zip>.\n",
    "-   Extract the downloaded zip file and move the `StataStatistics` folder to your Desktop.\n",
    "-   Start the Stata program and open the `StataStatistics.do` file.\n",
    "\n",
    "Organization\n",
    "------------\n",
    "\n",
    "-   Please feel free to ask questions at any point if they are relevant to the current topic (or if you are lost!)\n",
    "-   There will be a Q&A after class for more specific, personalized questions\n",
    "-   Collaboration with your neighbors is encouraged\n",
    "-   If you are using a laptop, you will need to adjust paths accordingly\n",
    "-   Make comments in your Do-file rather than on hand-outs\n",
    "-   Save on flash drive or email to yourself\n",
    "\n",
    "Fitting models in Stata\n",
    "=======================\n",
    "\n",
    "Today's Dataset\n",
    "---------------\n",
    "\n",
    "-   We have data on a variety of variables for all 50 states\n",
    "-   Population, density, energy use, voting tendencies, graduation rates, income, etc.\n",
    "-   We're going to be predicting SAT scores\n",
    "-   Univariate Regression: SAT scores and Education Expenditures\n",
    "-   Does the amount of money spent on education affect the mean SAT score in a state?\n",
    "-   Dependent variable: csat\n",
    "-   Independent variable: expense\n",
    "\n",
    "Opening Files in Stata\n",
    "----------------------\n",
    "\n",
    "-   Look at bottom left hand corner of Stata screen\n",
    "    -   This is the directory Stata is currently reading from\n",
    "-   Files are located in the StataStatistics folder on the Desktop\n",
    "-   Start by telling Stata where to look for these"
   ]
  },
  {
   "cell_type": "code",
   "execution_count": null,
   "metadata": {
    "attributes": {
     "classes": [
      "stata"
     ],
     "id": ""
    }
   },
   "outputs": [],
   "source": [
    "  // change directory\n",
    "  cd \"~/tutorials/Stata/StataStatGraph\""
   ]
  },
  {
   "cell_type": "markdown",
   "metadata": {},
   "source": [
    "``` example\n",
    "set more off\n",
    "\n",
    "cd \"~/tutorials/Stata/StataStatGraph\"\n",
    "/nfs/www/edu-harvard-iq-tutorials/Stata/StataStatGraph\n",
    "```\n"
   ]
  },
  {
   "cell_type": "markdown",
   "metadata": {},
   "source": [
    "-   Use dir to see what is in the directory:"
   ]
  },
  {
   "cell_type": "code",
   "execution_count": null,
   "metadata": {
    "attributes": {
     "classes": [
      "stata"
     ],
     "id": ""
    }
   },
   "outputs": [],
   "source": [
    "  dir\n",
    "  cd dataSets\n",
    "  dir\n",
    "  cd .."
   ]
  },
  {
   "cell_type": "markdown",
   "metadata": {},
   "source": [
    "``` example\n",
    "dir\n",
    "\n",
    "total 8\n",
    "drwxr-sr-x. 2 izahn tutorwww 4096 Oct 22 21:59 dataSets/\n",
    "drwxr-sr-x. 3 izahn tutorwww 4096 Oct 22 21:59 images/\n",
    "cd dataSets\n",
    "/nfs/www/edu-harvard-iq-tutorials/Stata/StataStatGraph/dataSets\n",
    "dir\n",
    "\n",
    "total 21008\n",
    "-rwxr-xr-x. 1 izahn tutorwww 21103444 Oct 22 21:59 NatNeighCrimeStudy.dta*\n",
    "-rwxr-xr-x. 1 izahn tutorwww     8977 Oct 22 21:59 states.dta*\n",
    "-rwxr-xr-x. 1 izahn tutorwww   298191 Oct 22 21:59 TimePollPubSchools.dta*\n",
    "cd ..\n",
    "/nfs/www/edu-harvard-iq-tutorials/Stata/StataStatGraph\n",
    "```\n"
   ]
  },
  {
   "cell_type": "markdown",
   "metadata": {},
   "source": [
    "-   Load the data"
   ]
  },
  {
   "cell_type": "code",
   "execution_count": null,
   "metadata": {
    "attributes": {
     "classes": [
      "stata"
     ],
     "id": ""
    }
   },
   "outputs": [],
   "source": [
    "  // use the states data set\n",
    "  use dataSets/states.dta"
   ]
  },
  {
   "cell_type": "markdown",
   "metadata": {},
   "source": [
    "``` example\n",
    "\n",
    "use dataSets/states.dta\n",
    "(U.S. states data 1990-91)\n",
    "```\n"
   ]
  },
  {
   "cell_type": "markdown",
   "metadata": {},
   "source": [
    "Steps for Running Regression\n",
    "----------------------------\n",
    "\n",
    "1.  Examine descriptive statistics\n",
    "2.  Look at relationship graphically and test correlation(s)\n",
    "3.  Run and interpret regression\n",
    "4.  Test regression assumptions\n",
    "\n",
    "Univariate regression\n",
    "---------------------\n",
    "\n",
    "### Univariate Regression: Preliminaries\n",
    "\n",
    "-   We want to predict csat scores from expense\n",
    "-   First, let's look at some descriptives"
   ]
  },
  {
   "cell_type": "code",
   "execution_count": null,
   "metadata": {
    "attributes": {
     "classes": [
      "stata"
     ],
     "id": ""
    }
   },
   "outputs": [],
   "source": [
    "  // generate summary statistics for csat and expense\n",
    "  sum csat expense"
   ]
  },
  {
   "cell_type": "markdown",
   "metadata": {},
   "source": [
    "``` example\n",
    "\n",
    "sum csat expense\n",
    "\n",
    "    Variable |        Obs        Mean    Std. Dev.       Min        Max\n",
    "-------------+---------------------------------------------------------\n",
    "        csat |         51     944.098    66.93497        832       1093\n",
    "     expense |         51    5235.961    1401.155       2960       9259\n",
    "```\n"
   ]
  },
  {
   "cell_type": "markdown",
   "metadata": {},
   "source": [
    "### Univariate Regression Preliminaries\n",
    "\n",
    "-   We want to predict csat scores from expense\n",
    "-   First, let's look at some descriptives"
   ]
  },
  {
   "cell_type": "code",
   "execution_count": null,
   "metadata": {
    "attributes": {
     "classes": [
      "stata"
     ],
     "id": ""
    }
   },
   "outputs": [],
   "source": [
    "  // look at codebok\n",
    "  codebook csat expense"
   ]
  },
  {
   "cell_type": "markdown",
   "metadata": {},
   "source": [
    "``` example\n",
    "\n",
    "codebook csat expense\n",
    "\n",
    "-------------------------------------------------------------------------------\n",
    "csat                                                   Mean composite SAT score\n",
    "-------------------------------------------------------------------------------\n",
    "\n",
    "                  type:  numeric (int)\n",
    "\n",
    "                 range:  [832,1093]                   units:  1\n",
    "         unique values:  45                       missing .:  0/51\n",
    "\n",
    "                  mean:   944.098\n",
    "              std. dev:    66.935\n",
    "\n",
    "           percentiles:        10%       25%       50%       75%       90%\n",
    "                               874       886       926       997      1024\n",
    "\n",
    "-------------------------------------------------------------------------------\n",
    "expense                                         Per pupil expenditures prim&sec\n",
    "-------------------------------------------------------------------------------\n",
    "\n",
    "                  type:  numeric (int)\n",
    "\n",
    "                 range:  [2960,9259]                  units:  1\n",
    "         unique values:  51                       missing .:  0/51\n",
    "\n",
    "                  mean:   5235.96\n",
    "              std. dev:   1401.16\n",
    "\n",
    "           percentiles:        10%       25%       50%       75%       90%\n",
    "                              3782      4351      5000      5865      6738\n",
    "```\n"
   ]
  },
  {
   "cell_type": "markdown",
   "metadata": {},
   "source": [
    "### Univariate Regression Preliminaries\n",
    "\n",
    "-   Next, view relationship graphically\n",
    "-   Scatterplots work well for univariate relationships"
   ]
  },
  {
   "cell_type": "code",
   "execution_count": null,
   "metadata": {
    "attributes": {
     "classes": [
      "stata"
     ],
     "id": ""
    }
   },
   "outputs": [],
   "source": [
    "  // graph expense by csat\n",
    "  twoway scatter expense csat"
   ]
  },
  {
   "cell_type": "markdown",
   "metadata": {},
   "source": [
    "### Univariate Regression Preliminaries\n",
    "\n",
    "-   Next look at the correlation matrix"
   ]
  },
  {
   "cell_type": "code",
   "execution_count": null,
   "metadata": {
    "attributes": {
     "classes": [
      "stata"
     ],
     "id": ""
    }
   },
   "outputs": [],
   "source": [
    "  // correlate csat and expense\n",
    "  pwcorr csat expense, star(.05)"
   ]
  },
  {
   "cell_type": "markdown",
   "metadata": {},
   "source": [
    "``` example\n",
    "\n",
    "pwcorr csat expense, star(.05)\n",
    "\n",
    "             |     csat  expense\n",
    "-------------+------------------\n",
    "        csat |   1.0000 \n",
    "     expense |  -0.4663*  1.0000\n",
    "```\n"
   ]
  },
  {
   "cell_type": "markdown",
   "metadata": {},
   "source": [
    "-   Not very interesting with only one predictor\n",
    "\n",
    "### Univariate Regression: SAT scores and Education Expenditures"
   ]
  },
  {
   "cell_type": "code",
   "execution_count": null,
   "metadata": {
    "attributes": {
     "classes": [
      "stata"
     ],
     "id": ""
    }
   },
   "outputs": [],
   "source": [
    "  regress csat expense"
   ]
  },
  {
   "cell_type": "markdown",
   "metadata": {},
   "source": [
    "``` example\n",
    "regress csat expense\n",
    "\n",
    "      Source |       SS           df       MS      Number of obs   =        51\n",
    "-------------+----------------------------------   F(1, 49)        =     13.61\n",
    "       Model |  48708.3001         1  48708.3001   Prob > F        =    0.0006\n",
    "    Residual |   175306.21        49  3577.67775   R-squared       =    0.2174\n",
    "-------------+----------------------------------   Adj R-squared   =    0.2015\n",
    "       Total |   224014.51        50   4480.2902   Root MSE        =    59.814\n",
    "\n",
    "------------------------------------------------------------------------------\n",
    "        csat |      Coef.   Std. Err.      t    P>|t|     [95% Conf. Interval]\n",
    "-------------+----------------------------------------------------------------\n",
    "     expense |  -.0222756   .0060371    -3.69   0.001    -.0344077   -.0101436\n",
    "       _cons |   1060.732    32.7009    32.44   0.000     995.0175    1126.447\n",
    "------------------------------------------------------------------------------\n",
    "```\n"
   ]
  },
  {
   "cell_type": "markdown",
   "metadata": {},
   "source": [
    "### Linear Regression Assumptions\n",
    "\n",
    "-   Assumption 1: Normal Distribution\n",
    "-   The errors of regression equation are normally distributed\n",
    "-   Assumption 2: Homoscedasticity (The variance around the regression line is the same for all values of the predictor variable)\n",
    "-   Assumption 3: Errors are independent\n",
    "-   Assumption 4: Relationships are linear\n",
    "\n",
    "### Homoscedasticity\n",
    "\n",
    "### Testing Assumptions: Normality\n",
    "\n",
    "-   A simple histogram of the residuals can be informative"
   ]
  },
  {
   "cell_type": "code",
   "execution_count": null,
   "metadata": {
    "attributes": {
     "classes": [
      "stata"
     ],
     "id": ""
    }
   },
   "outputs": [],
   "source": [
    "  // graph the residual values of csat\n",
    "  predict resid, residual\n",
    "  histogram resid, normal "
   ]
  },
  {
   "cell_type": "markdown",
   "metadata": {},
   "source": [
    "``` example\n",
    "\n",
    "predict resid, residual\n",
    "histogram resid, normal\n",
    "(bin=7, start=-131.81111, width=38.329487)\n",
    "```\n"
   ]
  },
  {
   "cell_type": "markdown",
   "metadata": {},
   "source": [
    "### Testing Assumptions: Homoscedasticity"
   ]
  },
  {
   "cell_type": "code",
   "execution_count": null,
   "metadata": {
    "attributes": {
     "classes": [
      "stata"
     ],
     "id": ""
    }
   },
   "outputs": [],
   "source": [
    "  rvfplot"
   ]
  },
  {
   "cell_type": "markdown",
   "metadata": {},
   "source": [
    "``` example\n",
    "rvfplot\n",
    "```\n"
   ]
  },
  {
   "cell_type": "markdown",
   "metadata": {},
   "source": [
    "Multiple regression\n",
    "-------------------\n",
    "\n",
    "### Multiple Regression\n",
    "\n",
    "-   Just keep adding predictors\n",
    "-   Let's try adding some predictors to the model of SAT scores\n",
    "-   income :: % students taking SATs\n",
    "-   percent :: % adults with HS diploma (high)\n",
    "\n",
    "### Multiple Regression Preliminaries\n",
    "\n",
    "-   As before, start with descriptive statistics and correlations"
   ]
  },
  {
   "cell_type": "code",
   "execution_count": null,
   "metadata": {
    "attributes": {
     "classes": [
      "stata"
     ],
     "id": ""
    }
   },
   "outputs": [],
   "source": [
    "  // descriptive statistics and correlations\n",
    "  sum income percent high\n",
    "  pwcorr csat expense income percent high"
   ]
  },
  {
   "cell_type": "markdown",
   "metadata": {},
   "source": [
    "``` example\n",
    "\n",
    "sum income percent high\n",
    "\n",
    "    Variable |        Obs        Mean    Std. Dev.       Min        Max\n",
    "-------------+---------------------------------------------------------\n",
    "      income |         51    33.95657    6.423134     23.465     48.618\n",
    "     percent |         51    35.76471    26.19281          4         81\n",
    "        high |         51    76.26078    5.588741       64.3       86.6\n",
    "pwcorr csat expense income percent high\n",
    "\n",
    "             |     csat  expense   income  percent     high\n",
    "-------------+---------------------------------------------\n",
    "        csat |   1.0000 \n",
    "     expense |  -0.4663   1.0000 \n",
    "      income |  -0.4713   0.6784   1.0000 \n",
    "     percent |  -0.8758   0.6509   0.6733   1.0000 \n",
    "        high |   0.0858   0.3133   0.5099   0.1413   1.0000\n",
    "```\n"
   ]
  },
  {
   "cell_type": "markdown",
   "metadata": {},
   "source": [
    "### Multiple Regression\n",
    "\n",
    "-   regress csat on exense, income, percent, and high"
   ]
  },
  {
   "cell_type": "code",
   "execution_count": null,
   "metadata": {
    "attributes": {
     "classes": [
      "stata"
     ],
     "id": ""
    }
   },
   "outputs": [],
   "source": [
    "  regress csat expense income percent high"
   ]
  },
  {
   "cell_type": "markdown",
   "metadata": {},
   "source": [
    "``` example\n",
    "regress csat expense income percent high\n",
    "\n",
    "      Source |       SS           df       MS      Number of obs   =        51\n",
    "-------------+----------------------------------   F(4, 46)        =     51.86\n",
    "       Model |  183354.603         4  45838.6508   Prob > F        =    0.0000\n",
    "    Residual |  40659.9067        46  883.911016   R-squared       =    0.8185\n",
    "-------------+----------------------------------   Adj R-squared   =    0.8027\n",
    "       Total |   224014.51        50   4480.2902   Root MSE        =    29.731\n",
    "\n",
    "------------------------------------------------------------------------------\n",
    "        csat |      Coef.   Std. Err.      t    P>|t|     [95% Conf. Interval]\n",
    "-------------+----------------------------------------------------------------\n",
    "     expense |   .0045604    .004384     1.04   0.304    -.0042641     .013385\n",
    "      income |   .4437858   1.138947     0.39   0.699    -1.848795    2.736367\n",
    "     percent |  -2.533084   .2454477   -10.32   0.000    -3.027145   -2.039024\n",
    "        high |   2.086599   .9246023     2.26   0.029     .2254712    3.947727\n",
    "       _cons |   836.6197   58.33238    14.34   0.000     719.2027    954.0366\n",
    "------------------------------------------------------------------------------\n",
    "```\n"
   ]
  },
  {
   "cell_type": "markdown",
   "metadata": {},
   "source": [
    "### Exercise 1: Multiple Regression\n",
    "\n",
    "Open the datafile, states.dta.\n",
    "\n",
    "1.  Select a few variables to use in a multiple regression of your own. Before running the regression, examine descriptive of the variables and generate a few scatterplots.\n",
    "2.  Run your regression\n",
    "3.  Examine the plausibility of the assumptions of normality and homogeneity\n",
    "\n",
    "Interactions\n",
    "------------\n",
    "\n",
    "### Interactions\n",
    "\n",
    "-   What if we wanted to test an interaction between percent & high?\n",
    "-   Option 1: generate product terms by hand"
   ]
  },
  {
   "cell_type": "code",
   "execution_count": null,
   "metadata": {
    "attributes": {
     "classes": [
      "stata"
     ],
     "id": ""
    }
   },
   "outputs": [],
   "source": [
    "  // generate product of percent and high\n",
    "  gen percenthigh = percent*high \n",
    "  regress csat expense income percent high percenthigh"
   ]
  },
  {
   "cell_type": "markdown",
   "metadata": {},
   "source": [
    "``` example\n",
    "\n",
    "gen percenthigh = percent*high\n",
    "regress csat expense income percent high percenthigh\n",
    "\n",
    "      Source |       SS           df       MS      Number of obs   =        51\n",
    "-------------+----------------------------------   F(5, 45)        =     46.11\n",
    "       Model |  187430.401         5  37486.0801   Prob > F        =    0.0000\n",
    "    Residual |  36584.1091        45  812.980201   R-squared       =    0.8367\n",
    "-------------+----------------------------------   Adj R-squared   =    0.8185\n",
    "       Total |   224014.51        50   4480.2902   Root MSE        =    28.513\n",
    "\n",
    "------------------------------------------------------------------------------\n",
    "        csat |      Coef.   Std. Err.      t    P>|t|     [95% Conf. Interval]\n",
    "-------------+----------------------------------------------------------------\n",
    "     expense |   .0045575   .0042044     1.08   0.284    -.0039107    .0130256\n",
    "      income |   .0887856    1.10374     0.08   0.936    -2.134261    2.311832\n",
    "     percent |  -8.143002   2.516509    -3.24   0.002    -13.21151   -3.074493\n",
    "        high |   .4240906   1.156545     0.37   0.716    -1.905311    2.753492\n",
    " percenthigh |   .0740926   .0330909     2.24   0.030     .0074441    .1407411\n",
    "       _cons |    972.525    82.5457    11.78   0.000     806.2695    1138.781\n",
    "------------------------------------------------------------------------------\n",
    "```\n"
   ]
  },
  {
   "cell_type": "markdown",
   "metadata": {},
   "source": [
    "### Interactions\n",
    "\n",
    "-   What if we wanted to test an interaction between percent & high?\n",
    "-   Option 2: Let Stata do your dirty work"
   ]
  },
  {
   "cell_type": "code",
   "execution_count": null,
   "metadata": {
    "attributes": {
     "classes": [
      "stata"
     ],
     "id": ""
    }
   },
   "outputs": [],
   "source": [
    "  // use the # sign to represent interactions \n",
    "  regress csat percent high c.percent#c.high\n",
    "  // same as . regress csat c.percent##high"
   ]
  },
  {
   "cell_type": "markdown",
   "metadata": {},
   "source": [
    "``` example\n",
    "\n",
    "regress csat percent high c.percent#c.high\n",
    "\n",
    "      Source |       SS           df       MS      Number of obs   =        51\n",
    "-------------+----------------------------------   F(3, 47)        =     77.39\n",
    "       Model |  186302.091         3  62100.6971   Prob > F        =    0.0000\n",
    "    Residual |  37712.4186        47  802.391885   R-squared       =    0.8317\n",
    "-------------+----------------------------------   Adj R-squared   =    0.8209\n",
    "       Total |   224014.51        50   4480.2902   Root MSE        =    28.327\n",
    "\n",
    "------------------------------------------------------------------------------\n",
    "        csat |      Coef.   Std. Err.      t    P>|t|     [95% Conf. Interval]\n",
    "-------------+----------------------------------------------------------------\n",
    "     percent |   -8.15717   2.488388    -3.28   0.002    -13.16316   -3.151179\n",
    "        high |   .6674578   1.082615     0.62   0.541    -1.510482    2.845398\n",
    "             |\n",
    "   c.percent#|\n",
    "      c.high |   .0764271   .0324919     2.35   0.023     .0110619    .1417924\n",
    "             |\n",
    "       _cons |   974.9354   81.98078    11.89   0.000     810.0113    1139.859\n",
    "------------------------------------------------------------------------------\n",
    "```\n"
   ]
  },
  {
   "cell_type": "markdown",
   "metadata": {},
   "source": [
    "### Categorical Predictors\n",
    "\n",
    "-   For categorical variables, we first need to dummy code\n",
    "-   Use region as example\n",
    "    -   Option 1: create dummy codes before fitting regression model"
   ]
  },
  {
   "cell_type": "code",
   "execution_count": null,
   "metadata": {
    "attributes": {
     "classes": [
      "stata"
     ],
     "id": ""
    }
   },
   "outputs": [],
   "source": [
    "  // create region dummy codes using tab \n",
    "  tab region, gen(region)\n",
    "\n",
    "  //regress csat on region\n",
    "  regress csat region1 region2 region3"
   ]
  },
  {
   "cell_type": "markdown",
   "metadata": {},
   "source": [
    "``` example\n",
    "\n",
    "tab region, gen(region)\n",
    "\n",
    "Geographica |\n",
    "   l region |      Freq.     Percent        Cum.\n",
    "------------+-----------------------------------\n",
    "       West |         13       26.00       26.00\n",
    "    N. East |          9       18.00       44.00\n",
    "      South |         16       32.00       76.00\n",
    "    Midwest |         12       24.00      100.00\n",
    "------------+-----------------------------------\n",
    "      Total |         50      100.00\n",
    "\n",
    "\n",
    "regress csat region1 region2 region3\n",
    "\n",
    "      Source |       SS           df       MS      Number of obs   =        50\n",
    "-------------+----------------------------------   F(3, 46)        =      9.61\n",
    "       Model |  82049.4719         3   27349.824   Prob > F        =    0.0000\n",
    "    Residual |  130911.908        46  2845.91105   R-squared       =    0.3853\n",
    "-------------+----------------------------------   Adj R-squared   =    0.3452\n",
    "       Total |   212961.38        49  4346.15061   Root MSE        =    53.347\n",
    "\n",
    "------------------------------------------------------------------------------\n",
    "        csat |      Coef.   Std. Err.      t    P>|t|     [95% Conf. Interval]\n",
    "-------------+----------------------------------------------------------------\n",
    "     region1 |  -63.77564   21.35592    -2.99   0.005    -106.7629    -20.7884\n",
    "     region2 |  -120.5278   23.52385    -5.12   0.000    -167.8788   -73.17672\n",
    "     region3 |  -80.08333   20.37225    -3.93   0.000    -121.0906   -39.07611\n",
    "       _cons |   1010.083   15.39998    65.59   0.000     979.0848    1041.082\n",
    "------------------------------------------------------------------------------\n",
    "```\n"
   ]
  },
  {
   "cell_type": "markdown",
   "metadata": {},
   "source": [
    "### Categorical Predictors\n",
    "\n",
    "-   For categorical variables, we first need to dummy code\n",
    "-   Use region as example\n",
    "    -   Option 2: Let Stata do it for you"
   ]
  },
  {
   "cell_type": "code",
   "execution_count": null,
   "metadata": {
    "attributes": {
     "classes": [
      "stata"
     ],
     "id": ""
    }
   },
   "outputs": [],
   "source": [
    "  // regress csat on region using fvvarlist syntax\n",
    "  // see help fvvarlist for details\n",
    "  regress csat i.region"
   ]
  },
  {
   "cell_type": "markdown",
   "metadata": {},
   "source": [
    "``` example\n",
    "\n",
    "\n",
    "regress csat i.region\n",
    "\n",
    "      Source |       SS           df       MS      Number of obs   =        50\n",
    "-------------+----------------------------------   F(3, 46)        =      9.61\n",
    "       Model |  82049.4719         3   27349.824   Prob > F        =    0.0000\n",
    "    Residual |  130911.908        46  2845.91105   R-squared       =    0.3853\n",
    "-------------+----------------------------------   Adj R-squared   =    0.3452\n",
    "       Total |   212961.38        49  4346.15061   Root MSE        =    53.347\n",
    "\n",
    "------------------------------------------------------------------------------\n",
    "        csat |      Coef.   Std. Err.      t    P>|t|     [95% Conf. Interval]\n",
    "-------------+----------------------------------------------------------------\n",
    "      region |\n",
    "    N. East  |  -56.75214   23.13285    -2.45   0.018    -103.3161   -10.18813\n",
    "      South  |  -16.30769   19.91948    -0.82   0.417    -56.40353    23.78814\n",
    "    Midwest  |   63.77564   21.35592     2.99   0.005      20.7884    106.7629\n",
    "             |\n",
    "       _cons |   946.3077   14.79582    63.96   0.000     916.5253    976.0901\n",
    "------------------------------------------------------------------------------\n",
    "```\n"
   ]
  },
  {
   "cell_type": "markdown",
   "metadata": {},
   "source": [
    "### Exercise 2: Regression, Categorical Predictors, & Interactions\n",
    "\n",
    "Open the datafile, states.dta.\n",
    "\n",
    "1.  Add on to the regression equation that you created in exercise 1 by generating an interaction term and testing the interaction.\n",
    "2.  Try adding a categorical variable to your regression (remember, it will need to be dummy coded). You could use region or generate a new categorical variable from one of the continuous variables in the dataset.\n",
    "\n",
    "Exporting and saving results\n",
    "----------------------------\n",
    "\n",
    "### Saving and exporting regression tables\n",
    "\n",
    "-   Usually when we're running regression, we'll be testing multiple models at a time\n",
    "-   Can be difficult to compare results\n",
    "-   Stata offers several user-friendly options for storing and viewing regression output from multiple models\n",
    "-   First, download the necessary packages:"
   ]
  },
  {
   "cell_type": "code",
   "execution_count": null,
   "metadata": {
    "attributes": {
     "classes": [
      "stata"
     ],
     "id": ""
    }
   },
   "outputs": [],
   "source": [
    "  // install outreg2 package\n",
    "  findit outreg2"
   ]
  },
  {
   "cell_type": "markdown",
   "metadata": {},
   "source": [
    "### Saving and replaying\n",
    "\n",
    "-   You can store regression model results in Stata"
   ]
  },
  {
   "cell_type": "code",
   "execution_count": null,
   "metadata": {
    "attributes": {
     "classes": [
      "stata"
     ],
     "id": ""
    }
   },
   "outputs": [],
   "source": [
    "  // fit two regression models and store the results\n",
    "  regress csat expense income percent high\n",
    "  estimates store Model1\n",
    "  regress csat expense income percent high i.region\n",
    "  estimates store Model2"
   ]
  },
  {
   "cell_type": "markdown",
   "metadata": {},
   "source": [
    "``` example\n",
    "\n",
    "regress csat expense income percent high\n",
    "\n",
    "      Source |       SS           df       MS      Number of obs   =        51\n",
    "-------------+----------------------------------   F(4, 46)        =     51.86\n",
    "       Model |  183354.603         4  45838.6508   Prob > F        =    0.0000\n",
    "    Residual |  40659.9067        46  883.911016   R-squared       =    0.8185\n",
    "-------------+----------------------------------   Adj R-squared   =    0.8027\n",
    "       Total |   224014.51        50   4480.2902   Root MSE        =    29.731\n",
    "\n",
    "------------------------------------------------------------------------------\n",
    "        csat |      Coef.   Std. Err.      t    P>|t|     [95% Conf. Interval]\n",
    "-------------+----------------------------------------------------------------\n",
    "     expense |   .0045604    .004384     1.04   0.304    -.0042641     .013385\n",
    "      income |   .4437858   1.138947     0.39   0.699    -1.848795    2.736367\n",
    "     percent |  -2.533084   .2454477   -10.32   0.000    -3.027145   -2.039024\n",
    "        high |   2.086599   .9246023     2.26   0.029     .2254712    3.947727\n",
    "       _cons |   836.6197   58.33238    14.34   0.000     719.2027    954.0366\n",
    "------------------------------------------------------------------------------\n",
    "estimates store Model1\n",
    "regress csat expense income percent high i.region\n",
    "\n",
    "      Source |       SS           df       MS      Number of obs   =        50\n",
    "-------------+----------------------------------   F(7, 42)        =     51.07\n",
    "       Model |  190570.293         7  27224.3275   Prob > F        =    0.0000\n",
    "    Residual |  22391.0874        42  533.121128   R-squared       =    0.8949\n",
    "-------------+----------------------------------   Adj R-squared   =    0.8773\n",
    "       Total |   212961.38        49  4346.15061   Root MSE        =    23.089\n",
    "\n",
    "------------------------------------------------------------------------------\n",
    "        csat |      Coef.   Std. Err.      t    P>|t|     [95% Conf. Interval]\n",
    "-------------+----------------------------------------------------------------\n",
    "     expense |   -.004375   .0044603    -0.98   0.332    -.0133763    .0046263\n",
    "      income |   1.306164    .950279     1.37   0.177    -.6115765    3.223905\n",
    "     percent |  -2.965514   .2496481   -11.88   0.000    -3.469325   -2.461704\n",
    "        high |   3.544804   1.075863     3.29   0.002     1.373625    5.715983\n",
    "             |\n",
    "      region |\n",
    "    N. East  |   80.81334    15.4341     5.24   0.000     49.66607    111.9606\n",
    "      South  |   33.61225   13.94521     2.41   0.020     5.469676    61.75483\n",
    "    Midwest  |   32.15421   10.20145     3.15   0.003     11.56686    52.74157\n",
    "             |\n",
    "       _cons |   724.8289   79.25065     9.15   0.000     564.8946    884.7631\n",
    "------------------------------------------------------------------------------\n",
    "estimates store Model2\n",
    "```\n"
   ]
  },
  {
   "cell_type": "markdown",
   "metadata": {},
   "source": [
    "### Saving and replaying\n",
    "\n",
    "-   Stored models can be recalled"
   ]
  },
  {
   "cell_type": "code",
   "execution_count": null,
   "metadata": {
    "attributes": {
     "classes": [
      "stata"
     ],
     "id": ""
    }
   },
   "outputs": [],
   "source": [
    "  // Display Model1\n",
    "  estimates replay Model1"
   ]
  },
  {
   "cell_type": "markdown",
   "metadata": {},
   "source": [
    "``` example\n",
    "\n",
    "estimates replay Model1\n",
    "\n",
    "-------------------------------------------------------------------------------\n",
    "Model Model1\n",
    "-------------------------------------------------------------------------------\n",
    "\n",
    "      Source |       SS           df       MS      Number of obs   =        51\n",
    "-------------+----------------------------------   F(4, 46)        =     51.86\n",
    "       Model |  183354.603         4  45838.6508   Prob > F        =    0.0000\n",
    "    Residual |  40659.9067        46  883.911016   R-squared       =    0.8185\n",
    "-------------+----------------------------------   Adj R-squared   =    0.8027\n",
    "       Total |   224014.51        50   4480.2902   Root MSE        =    29.731\n",
    "\n",
    "------------------------------------------------------------------------------\n",
    "        csat |      Coef.   Std. Err.      t    P>|t|     [95% Conf. Interval]\n",
    "-------------+----------------------------------------------------------------\n",
    "     expense |   .0045604    .004384     1.04   0.304    -.0042641     .013385\n",
    "      income |   .4437858   1.138947     0.39   0.699    -1.848795    2.736367\n",
    "     percent |  -2.533084   .2454477   -10.32   0.000    -3.027145   -2.039024\n",
    "        high |   2.086599   .9246023     2.26   0.029     .2254712    3.947727\n",
    "       _cons |   836.6197   58.33238    14.34   0.000     719.2027    954.0366\n",
    "------------------------------------------------------------------------------\n",
    "```\n"
   ]
  },
  {
   "cell_type": "markdown",
   "metadata": {},
   "source": [
    "### Saving and replaying\n",
    "\n",
    "-   Stored models can be compared"
   ]
  },
  {
   "cell_type": "code",
   "execution_count": null,
   "metadata": {
    "attributes": {
     "classes": [
      "stata"
     ],
     "id": ""
    }
   },
   "outputs": [],
   "source": [
    "  // Compare Model1 and Model2 coefficients\n",
    "  estimates table Model1 Model2"
   ]
  },
  {
   "cell_type": "markdown",
   "metadata": {},
   "source": [
    "``` example\n",
    "\n",
    "estimates table Model1 Model2\n",
    "\n",
    "----------------------------------------\n",
    "    Variable |   Model1       Model2    \n",
    "-------------+--------------------------\n",
    "     expense |  .00456044   -.00437502  \n",
    "      income |  .44378583    1.3061642  \n",
    "     percent | -2.5330843   -2.9655142  \n",
    "        high |  2.0865991    3.5448038  \n",
    "             |\n",
    "      region |\n",
    "    N. East  |               80.813342  \n",
    "      South  |               33.612251  \n",
    "    Midwest  |               32.154215  \n",
    "             |\n",
    "       _cons |  836.61966    724.82886  \n",
    "----------------------------------------\n",
    "```\n"
   ]
  },
  {
   "cell_type": "markdown",
   "metadata": {},
   "source": [
    "### Exporting into Excel\n",
    "\n",
    "-   Avoid human error when transferring coefficients into tables\n",
    "-   Excel can be used to format publication-ready tables"
   ]
  },
  {
   "cell_type": "code",
   "execution_count": null,
   "metadata": {
    "attributes": {
     "classes": [
      "stata"
     ],
     "id": ""
    }
   },
   "outputs": [],
   "source": [
    "  outreg2 [Model1 Model2] using csatprediction.xls, replace"
   ]
  },
  {
   "cell_type": "markdown",
   "metadata": {},
   "source": [
    "``` example\n",
    "outreg2 [Model1 Model2] using csatprediction.xls, replace\n",
    "~/ado/plus/o/outreg2.ado\n",
    "csatprediction.xls\n",
    "dir : seeout\n",
    "```\n"
   ]
  },
  {
   "cell_type": "markdown",
   "metadata": {},
   "source": [
    "Graphing in Stata\n",
    "=================\n",
    "\n",
    "Graphing Strategies\n",
    "-------------------\n",
    "\n",
    "-   Keep it simple\n",
    "-   Labels, labels, labels!!\n",
    "-   Avoid cluttered graphs\n",
    "-   Every part of the graph should be meaningful\n",
    "-   Avoid:\n",
    "    -   Shading\n",
    "    -   Distracting colors\n",
    "    -   Decoration\n",
    "-   Always know what you’re working with before you get started\n",
    "    -   Recognize scale of data\n",
    "    -   If you’re using multiple variables – how do their scales align?\n",
    "-   Before any graphing procedure review variables with `codebook`, `sum`, `tab`, etc.\n",
    "-   HELPFUL STATA HINT: If you want your command to go on multiple lines use `///` at end of each line\n",
    "\n",
    "### Terrible Graph\n",
    "\n",
    "![](./images/Terrible.png)\n",
    "\n",
    "##### Much Better Graph\n",
    "\n",
    "![](./images/Good.png)\n",
    "\n",
    "Univariate Graphics\n",
    "-------------------\n",
    "\n",
    "### Our First Dataset\n",
    "\n",
    "-   Time Magazine Public School Poll\n",
    "    -   Based on survey of 1,000 adults in U.S.\n",
    "    -   Conducted in August 2010\n",
    "    -   Questions regarding feelings about parental involvement, teachers union, current potential for reform\n",
    "-   Open Stata and call up the datafile for today"
   ]
  },
  {
   "cell_type": "code",
   "execution_count": null,
   "metadata": {
    "attributes": {
     "classes": [
      "stata"
     ],
     "id": ""
    }
   },
   "outputs": [],
   "source": [
    "  // Step 1: tell Stata where to find data:\n",
    "  cd \"~/StataGraphics/dataSets\"\n",
    "  // Step 2: call up our dataset:\n",
    "  use TimePollPubSchools.dta"
   ]
  },
  {
   "cell_type": "markdown",
   "metadata": {},
   "source": [
    "### Single Continuous Variables\n",
    "\n",
    "Example: Histograms\n",
    "\n",
    "-   Stata assumes you’re working with continuous data\n",
    "-   Very simple syntax:\n",
    "    -   `hist varname`\n",
    "-   Put a comma after your varname and start adding options\n",
    "    -   `bin(#)` : change the number of bars that the graph displays\n",
    "    -   `normal` : overlay normal curve\n",
    "    -   `addlabels` : add actual values to bars\n",
    "\n",
    "### Histogram Options\n",
    "\n",
    "-   To change the numeric depiction of your data add these options after the comma\n",
    "    -   Choose one: density fraction frequency percent\n",
    "-   Be sure to properly describe your histogram:\n",
    "    -   `title(insert name of graph)`\n",
    "    -   `subtitle(insert subtitle of graph)`\n",
    "    -   `note(insert note to appear at bottom of graph)`\n",
    "    -   `caption(insert caption to appear below notes)`\n",
    "\n",
    "### Histogram Example"
   ]
  },
  {
   "cell_type": "code",
   "execution_count": null,
   "metadata": {
    "attributes": {
     "classes": [
      "stata"
     ],
     "id": ""
    }
   },
   "outputs": [],
   "source": [
    "  hist F1, bin(10) percent title(TITLE) ///\n",
    "    subtitle(SUBTITLE) caption(CAPTION) note(NOTES)"
   ]
  },
  {
   "cell_type": "markdown",
   "metadata": {},
   "source": [
    "![](./images/hist1.png)\n",
    "\n",
    "### Axis Titles and Labels\n",
    "\n",
    "Example: Histograms\n",
    "\n",
    "-   Axis title options (default is variable label):\n",
    "    -   `xtitle(insert x axis name)`\n",
    "    -   `ytitle(insert y axis name)`\n",
    "-   Don’t want axis titles?\n",
    "    -   `xtitle(\"\")`\n",
    "    -   `ytitle(\"\")`\n",
    "-   Add labels to X or Y axis:\n",
    "    -   xlabel(insert x axis label)\n",
    "    -   ylabel(insert y axis label)\n",
    "-   Tell Stata how to scale each axis\n",
    "    -   xlabel(start\\#(increment)end\\#)\n",
    "    -   xlabel(0(5)100)\n",
    "-   This would label x-axis from 0-100 in increments of 5\n",
    "\n",
    "### Axis Labels Example"
   ]
  },
  {
   "cell_type": "code",
   "execution_count": null,
   "metadata": {
    "attributes": {
     "classes": [
      "stata"
     ],
     "id": ""
    }
   },
   "outputs": [],
   "source": [
    "  hist F1, bin(10) percent title(TITLE) subtitle(SUBTITLE) ///\n",
    "      caption(CAPTION) note(NOTES) ///\n",
    "      xtitle(Here's your x-axis title) ///\n",
    "  ytitle(here's your y-axis title)"
   ]
  },
  {
   "cell_type": "markdown",
   "metadata": {},
   "source": [
    "![](./images/hist2.png)\n",
    "\n",
    "### Basic Graphing: Single Categorical Variables\n",
    "\n",
    "-   We can also use the `hist` command for bar graphs\n",
    "    -   Simply specify \"discrete\" with options\n",
    "-   Stata will produce one bar for each level (i.e. category) of variable\n",
    "-   Use `xlabel` command to insert names of individual categories"
   ]
  },
  {
   "cell_type": "code",
   "execution_count": null,
   "metadata": {
    "attributes": {
     "classes": [
      "stata"
     ],
     "id": ""
    }
   },
   "outputs": [],
   "source": [
    "  hist F4, title(Racial breakdown of Time Poll Sample) xtitle(Race) ///\n",
    "  ytitle(Percent) xlabel(1 \"White\" 2 \"Black\" 3 \"Asian\" 4 \"Hispanic\" ///\n",
    "   5 \"Other\") discrete percent addlabels"
   ]
  },
  {
   "cell_type": "markdown",
   "metadata": {},
   "source": [
    "![](./images/bargraph.png)\n",
    "\n",
    "### Exercise 1: Histograms Bar Graphs\n",
    "\n",
    "1.  Open the datafile, NatNeighCrimeStudy.dta.\n",
    "2.  Create a histogram of the tract-level poverty rate (variable name: `T_POVRTY`).\n",
    "3.  Insert the normal curve over the histogram\n",
    "4.  Change the numeric representation on the Y-axis to \"percent\"\n",
    "5.  Add appropriate titles to the overall graph and the x axis and y axis. Also, add a note that states the source of this data.\n",
    "6.  Open the datafile, TimePollPubSchools.dta\n",
    "7.  Create a histogram of the question, \"What grade would you give your child’s school\" (variable name: Q11). Be sure to tell Stata that this is a categorical variable.\n",
    "8.  Format this graph so that the axes have proper titles and labels. Also, add an appropriate title to the overall graph that goes onto two lines. Add a note stating the source of the data.\n",
    "\n",
    "### Next Dataset:\n",
    "\n",
    "-   National Neighborhood Crime Study (NNCS)\n",
    "    -   N=9,593 census tracts in 2000\n",
    "    -   Explore sources of variation in crime for communities in the United States\n",
    "    -   Tract-level data: crime, social disorganization, disadvantage, socioeconomic inequality\n",
    "    -   City-level data: labor market, socioeconomic inequality, population change\n",
    "\n",
    "Bivariate Graphics\n",
    "------------------\n",
    "\n",
    "### The Twoway Family\n",
    "\n",
    "-   `twoway` is basic Stata command for all twoway graphs\n",
    "-   Use `twoway` anytime you want to make comparisons among variables\n",
    "-   Can be used to combine graphs (i.e., overlay one graph with another\n",
    "    -   e.g., insert line of best fit over a scatter plot\n",
    "-   Some basic examples:"
   ]
  },
  {
   "cell_type": "code",
   "execution_count": null,
   "metadata": {
    "attributes": {
     "classes": [
      "stata"
     ],
     "id": ""
    }
   },
   "outputs": [],
   "source": [
    "  use NatNeighCrimeStudy.dta\n",
    "  twoway scatter T_PERCAP T_VIOLNT\n",
    "  twoway dropline T_PERCAP T_VIOLNT\n",
    "  twoway  lfitci T_PERCAP T_VIOLNT"
   ]
  },
  {
   "cell_type": "markdown",
   "metadata": {},
   "source": [
    "### Twoway and the \"by\" Statement"
   ]
  },
  {
   "cell_type": "code",
   "execution_count": null,
   "metadata": {
    "attributes": {
     "classes": [
      "stata"
     ],
     "id": ""
    }
   },
   "outputs": [],
   "source": [
    "  twoway scatter T_PERCAP T_VIOLNT, by(DIVISION)"
   ]
  },
  {
   "cell_type": "markdown",
   "metadata": {},
   "source": [
    "![](./images/twowayby.png)\n",
    "\n",
    "### Twoway Title Options\n",
    "\n",
    "-   Same title options as with histogram\n",
    "    -   `title(insert name of graph)`\n",
    "    -   `subtitle(insert subtitle of graph)`\n",
    "    -   `note(insert note to appear at bottom of graph)`\n",
    "    -   `caption(insert caption to appear below notes)`\n",
    "\n",
    "### Twoway Title Options Example"
   ]
  },
  {
   "cell_type": "code",
   "execution_count": null,
   "metadata": {
    "attributes": {
     "classes": [
      "stata"
     ],
     "id": ""
    }
   },
   "outputs": [],
   "source": [
    "  twoway scatter T_PERCAP T_VIOLNT, ///\n",
    "      title(Comparison of Per Capita Income ///\n",
    "            and Violent Crime Rate at Tract level) ///\n",
    "  xtitle(Violent Crime Rate) ytitle(Per Capita Income) ///\n",
    "      note(Source: National Neighborhood Crime Study 2000) \n"
   ]
  },
  {
   "cell_type": "markdown",
   "metadata": {},
   "source": [
    "-   The title is a bit cramped--let's fix that:"
   ]
  },
  {
   "cell_type": "code",
   "execution_count": null,
   "metadata": {
    "attributes": {
     "classes": [
      "stata"
     ],
     "id": ""
    }
   },
   "outputs": [],
   "source": [
    "  twoway scatter T_PERCAP T_VIOLNT, ///\n",
    "      title(\"Comparison of Per Capita Income\" ///\n",
    "  \"and Violent Crime Rate at Tract level\") ///\n",
    "  xtitle(Violent Crime Rate) ytitle(Per Capita Income) ///\n",
    "  note(Source: National Neighborhood Crime Study 2000) \n"
   ]
  },
  {
   "cell_type": "markdown",
   "metadata": {},
   "source": [
    "### Twoway Symbol Options\n",
    "\n",
    "-   A variety of symbol shapes are available: use `palette symbolpalette` to seem them and `msymbol()` to set them\n",
    "\n",
    "![](./images/Symbol.png)\n",
    "\n",
    "### Twoway Symbol Options"
   ]
  },
  {
   "cell_type": "code",
   "execution_count": null,
   "metadata": {
    "attributes": {
     "classes": [
      "stata"
     ],
     "id": ""
    }
   },
   "outputs": [],
   "source": [
    "  twoway scatter T_PERCAP T_VIOLNT, ///\n",
    "      title(\"Comparison of Per Capita Income\" ///\n",
    "  \"and Violent Crime Rate at Tract level\") ///\n",
    "  xtitle(Violent Crime Rate) ytitle(Per Capita Income) ///\n",
    "  note(Source: National Neighborhood Crime Study 2000) ///\n",
    "  msymbol(Sh) mcolor(\"red\")"
   ]
  },
  {
   "cell_type": "markdown",
   "metadata": {},
   "source": [
    "![](./images/msymbol_mcolor.png)\n",
    "\n",
    "### Overlaying Twoway Graphs\n",
    "\n",
    "-   Very simple to combine multiple graphs…just put each graph command in parentheses\n",
    "    -   `twoway (scatter var1 var2) (lfit var1 var2)`\n",
    "-   Add individual options to each graph within the parentheses\n",
    "-   Add overall graph options as usual following the comma\n",
    "    -   `twoway (scatter var1 var2) (lfit var1 var2), options`\n",
    "\n",
    "### Overlaying Points and Lines"
   ]
  },
  {
   "cell_type": "code",
   "execution_count": null,
   "metadata": {
    "attributes": {
     "classes": [
      "stata"
     ],
     "id": ""
    }
   },
   "outputs": [],
   "source": [
    "  twoway (scatter T_PERCAP T_VIOLNT) ///\n",
    "      (lfit T_PERCAP T_VIOLNT), ///\n",
    "      title(\"Comparison of Per Capita Income\" ///\n",
    "            \"and Violent Crime Rate at Tract level\") ///\n",
    "      xtitle(Violent Crime Rate) ytitle(Per Capita Income) ///\n",
    "      note(Source: National  Neighborhood Crime Study 2000)"
   ]
  },
  {
   "cell_type": "markdown",
   "metadata": {},
   "source": [
    "### Overlaying Points and Labels"
   ]
  },
  {
   "cell_type": "code",
   "execution_count": null,
   "metadata": {
    "attributes": {
     "classes": [
      "stata"
     ],
     "id": ""
    }
   },
   "outputs": [],
   "source": [
    "  twoway (scatter T_PERCAP T_VIOLNT if T_VIOLNT==1976, ///\n",
    "          mlabel(CITY)) (scatter T_PERCAP T_VIOLNT), ///\n",
    "      title(\"Comparison of Per Capita Income\" ///\n",
    "            \"and Violent Crime Rate at Tract level\") ///\n",
    "      xlabel(0(200)2400) note(Source: National Neighborhood ///\n",
    "                              Crime Study 2000) legend(off)"
   ]
  },
  {
   "cell_type": "markdown",
   "metadata": {},
   "source": [
    "### Exercise 2: The TwoWay Family\n",
    "\n",
    "Open the datafile, NatNeighCrimeStudy.dta.\n",
    "\n",
    "1.  Create a basic twoway scatterplot that compares the city unemployment rate (`C_UNEMP`) to the percent secondary sector low-wage jobs (`C_SSLOW`)\n",
    "2.  Generate the same scatterplot, but this time, divide the plot by the dummy variable indicating whether the city is located in the south or not (`C_SOUTH`)\n",
    "3.  Change the color of the symbol that you use in this scatter plot\n",
    "4.  Change the type of symbol you use to a marker of your choice\n",
    "5.  Notice in your scatterplot that is broken down by `C_SOUTH` that there is an outlier in the upper right hand corner of the \"Not South\" graph. Add the city name label to this marker.\n",
    "6.  Review the options available under \"help twoway<sub>options</sub>\" and change one aspect of your graph using an option that we haven’t already reviewed\n",
    "\n",
    "More Fun with Twoway Line Graphs\n",
    "--------------------------------\n",
    "\n",
    "### Line Graphs\n",
    "\n",
    "-   Line graphs helpful for a variety of data\n",
    "    -   Especially any type of time series data\n",
    "-   We’ll use data on US life expectancy from 1900-1999\n",
    "    -   `webuse uslifeexp, clear`\n",
    "\n",
    "### Line Graphs"
   ]
  },
  {
   "cell_type": "code",
   "execution_count": null,
   "metadata": {
    "attributes": {
     "classes": [
      "stata"
     ],
     "id": ""
    }
   },
   "outputs": [],
   "source": [
    "  webuse uslifeexp, clear\n",
    "  twoway (line le_wm year, mcolor(\"red\")) ///\n",
    "      (line le_bm year, mcolor(\"green\"))"
   ]
  },
  {
   "cell_type": "markdown",
   "metadata": {},
   "source": [
    "![](./images/lineGraph1.png)"
   ]
  },
  {
   "cell_type": "code",
   "execution_count": null,
   "metadata": {
    "attributes": {
     "classes": [
      "stata"
     ],
     "id": ""
    }
   },
   "outputs": [],
   "source": [
    "  twoway (line (le_wfemale le_wmale le_bf le_bm) year, ///\n",
    "      lpattern(dot solid dot solid))"
   ]
  },
  {
   "cell_type": "markdown",
   "metadata": {},
   "source": [
    "![](./images/linegraph2.png)\n",
    "\n",
    "### Stata Graphing Lines"
   ]
  },
  {
   "cell_type": "code",
   "execution_count": null,
   "metadata": {
    "attributes": {
     "classes": [
      "stata"
     ],
     "id": ""
    }
   },
   "outputs": [],
   "source": [
    "  palette linepalette"
   ]
  },
  {
   "cell_type": "markdown",
   "metadata": {},
   "source": [
    "![](./images/linepalette.png)\n",
    "\n",
    "### Exporting Graphs\n",
    "\n",
    "-   From Stata, right click on image and select \"save as\" or try syntax:\n",
    "    -   `graph export myfig.esp, replace`\n",
    "-   In Microsoft Word: insert &gt; picture &gt; from file\n",
    "    -   Or, right click on graph in Stata and copy and paste into Word\n",
    "\n",
    "Wrap-up\n",
    "=======\n",
    "\n",
    "Help Us Make This Workshop Better\n",
    "---------------------------------\n",
    "\n",
    "-   Please take a moment to fill out a very short feedback form\n",
    "-   These workshops exist for you--tell us what you need!\n",
    "-   <http://tinyurl.com/StataRegressionFeedback>\n",
    "\n",
    "Additional resources\n",
    "--------------------\n",
    "\n",
    "-   training and consulting\n",
    "    -   IQSS workshops: <http://projects.iq.harvard.edu/rtc/filter_by/workshops>\n",
    "    -   IQSS statistical consulting: <http://dss.iq.harvard.edu>\n",
    "-   Stata resources\n",
    "    -   UCLA website: <http://www.ats.ucla.edu/stat/Stata/>\n",
    "    -   Great for self-study\n",
    "    -   Links to resources\n",
    "-   Stata website: <http://www.stata.com/help.cgi?contents>\n",
    "-   Email list: <http://www.stata.com/statalist/>"
   ]
  }
 ],
  "metadata": {
  "kernelspec": {
   "display_name": "Stata",
   "language": "stata",
   "name": "stata"
  },
  "language_info": {
   "file_extension": "do",
   "mimetype": "text/x-stata",
   "name": "stata"
  }
 },
 "nbformat": 4,
 "nbformat_minor": 0
}
