{
 "cells": [
  {
   "cell_type": "markdown",
   "metadata": {
    "lines_to_next_cell": 0
   },
   "source": []
  },
  {
   "cell_type": "code",
   "execution_count": null,
   "metadata": {
    "eval": true,
    "hide_input": true,
    "results": false
   },
   "outputs": [],
   "source": [
    "options(max.print = 100)\n",
    "# knitr::opts_chunk$set(message=FALSE)\n",
    "knitr::opts_chunk$set(eval=FALSE, results=FALSE, message=FALSE, warning=FALSE, error=FALSE)"
   ]
  },
  {
   "cell_type": "markdown",
   "metadata": {},
   "source": [
    "# R Graphics\n",
    "\n",
    "**Topics**\n",
    "\n",
    "* R `ggplot2` package\n",
    "* Setup basic plots\n",
    "* Add and modify scales and legends\n",
    "* Manipulate plot labels\n",
    "* Change and create plot themes"
   ]
  },
  {
   "cell_type": "markdown",
   "metadata": {},
   "source": [
    "## Setup\n",
    "\n",
    "### Software & materials\n",
    "\n",
    "You should have R and RStudio installed --- if not:\n",
    "\n",
    "* Download and install R: <http://cran.r-project.org>\n",
    "* Download and install RStudio: <https://www.rstudio.com/products/rstudio/download/#download>\n",
    "\n",
    "Download materials:\n",
    "\n",
    "* Download class materials at <https://github.com/IQSS/dss-workshops-redux/raw/master/R/Rgraphics.zip>\n",
    "* Extract materials from the zipped directory `Rgraphics.zip` (Right-click => Extract All on Windows, double-click on Mac) and move them to your desktop!\n",
    "\n",
    "Start RStudio and create a new project:\n",
    "\n",
    "* On Windows click the start button and search for RStudio. On Mac\n",
    "    RStudio will be in your applications folder.\n",
    "* In Rstudio go to `File -> New Project`.\n",
    "* Choose `Existing Directory` and browse to the `Rgraphics` directory.\n",
    "* Choose `File -> Open File` and select the blank version of the `.Rmd` file.\n",
    "\n",
    "While R's built-in packages are powerful, in recent years there has\n",
    "been a big surge in well-designed *contributed packages* for R. \n",
    "In particular, a collection of R packages called \n",
    "[tidyverse](https://www.tidyverse.org/) have been \n",
    "designed specifically for data science. All packages included in \n",
    "`tidyverse` share an underlying design philosophy, grammar, and \n",
    "data structures. We will use `tidyverse` packages throughout the \n",
    "workshop, so let's install them now:"
   ]
  },
  {
   "cell_type": "code",
   "execution_count": null,
   "metadata": {},
   "outputs": [],
   "source": [
    "# install.packages(\"tidyverse\")\n",
    "library(tidyverse)"
   ]
  },
  {
   "cell_type": "markdown",
   "metadata": {},
   "source": [
    "### Goals\n",
    "\n",
    "Class Structure and Organization:\n",
    "\n",
    "* Ask questions at any time. Really!\n",
    "* Collaboration is encouraged - please spend a minute introducing yourself to your neighbors!\n",
    "\n",
    "This is an intermediate R course:\n",
    "\n",
    "* Assumes working knowledge of R\n",
    "* Relatively fast-paced\n",
    "* Focus is on `ggplot2` graphics; other packages will not be covered"
   ]
  },
  {
   "cell_type": "markdown",
   "metadata": {},
   "source": [
    "### Starting at the end\n",
    "\n",
    "By the end of the workshop you will be able to reproduce this graphic from the Economist:\n",
    "\n",
    "![img](R/Rgraphics/images/Economist1.png)"
   ]
  },
  {
   "cell_type": "markdown",
   "metadata": {},
   "source": [
    "## Why `ggplot2`?\n",
    "\n",
    "`ggplot2` is a package within in the `tidyverse` suite of packages. Advantages of `ggplot2` include:\n",
    "\n",
    "* consistent underlying `grammar of graphics` (Wilkinson, 2005)\n",
    "* plot specification at a high level of abstraction\n",
    "* very flexible\n",
    "* theme system for polishing plot appearance\n",
    "* mature and complete graphics system\n",
    "* many users, active mailing list\n",
    "\n",
    "That said, there are some things you cannot (or should not) do with `ggplot2`:\n",
    "\n",
    "* 3-dimensional graphics (see the `rgl` package)\n",
    "* Graph-theory type graphs (nodes/edges layout; see the `igraph` package)\n",
    "* Interactive graphics (see the `ggvis` package)\n",
    "\n",
    "### What is the Grammar Of Graphics?\n",
    "\n",
    "The basic idea: independently specify plot building blocks and combine them to create just \n",
    "about any kind of graphical display you want. Building blocks of a graph include the\n",
    "following (**bold denotes essential elements**):\n",
    "\n",
    "* **data**\n",
    "* **aesthetic mapping**\n",
    "* **geometric object**\n",
    "* statistical transformations\n",
    "* scales\n",
    "* coordinate system\n",
    "* position adjustments\n",
    "* faceting\n",
    "* themes"
   ]
  },
  {
   "cell_type": "markdown",
   "metadata": {},
   "source": [
    "### Example data: housing prices\n",
    "\n",
    "Let's look at housing prices."
   ]
  },
  {
   "cell_type": "code",
   "execution_count": null,
   "metadata": {},
   "outputs": [],
   "source": [
    "housing <- read_csv(\"dataSets/landdata-states.csv\")\n",
    "head(housing[1:5])"
   ]
  },
  {
   "cell_type": "markdown",
   "metadata": {},
   "source": [
    "### `ggplot2` VS base graphics\n",
    "\n",
    "Compared to base graphics, `ggplot2`\n",
    "\n",
    "* is more verbose for simple / canned graphics\n",
    "* is less verbose for complex / custom graphics\n",
    "* does not have methods (data should always be in a `data.frame`)\n",
    "* uses a different system for adding plot elements\n",
    "\n",
    "### For simple graphs\n",
    "\n",
    "Base graphics histogram example:"
   ]
  },
  {
   "cell_type": "code",
   "execution_count": null,
   "metadata": {},
   "outputs": [],
   "source": [
    "hist(housing$Home_Value)"
   ]
  },
  {
   "cell_type": "markdown",
   "metadata": {},
   "source": [
    "`ggplot2` histogram example:"
   ]
  },
  {
   "cell_type": "code",
   "execution_count": null,
   "metadata": {},
   "outputs": [],
   "source": [
    "library(ggplot2)\n",
    "ggplot(housing, aes(x = Home_Value)) +\n",
    "  geom_histogram()"
   ]
  },
  {
   "cell_type": "markdown",
   "metadata": {},
   "source": [
    "### For more complex graphs\n",
    "\n",
    "Base graphics colored scatter plot example:"
   ]
  },
  {
   "cell_type": "code",
   "execution_count": null,
   "metadata": {},
   "outputs": [],
   "source": [
    "plot(Home_Value ~ Date,\n",
    "     col = factor(State),\n",
    "     data = filter(housing, State %in% c(\"MA\", \"TX\")))\n",
    "\n",
    "legend(\"topleft\",\n",
    "       legend = c(\"MA\", \"TX\"),\n",
    "       col = c(\"black\", \"red\"),\n",
    "       pch = 1)"
   ]
  },
  {
   "cell_type": "markdown",
   "metadata": {},
   "source": [
    "`ggplot2` colored scatter plot example:"
   ]
  },
  {
   "cell_type": "code",
   "execution_count": null,
   "metadata": {},
   "outputs": [],
   "source": [
    "ggplot(filter(housing, State %in% c(\"MA\", \"TX\")),\n",
    "       aes(x=Date,\n",
    "           y=Home_Value,\n",
    "           color=State))+\n",
    "  geom_point()"
   ]
  },
  {
   "cell_type": "markdown",
   "metadata": {},
   "source": [
    "`ggplot2` wins!"
   ]
  },
  {
   "cell_type": "markdown",
   "metadata": {},
   "source": [
    "## Geometric objects and aesthetics\n",
    "\n",
    "### Aesthetic mapping\n",
    "\n",
    "In ggplot land *aesthetic* means \"something you can see\". Examples include:\n",
    "\n",
    "* position (i.e., on the x and y axes)\n",
    "* color (\"outside\" color)\n",
    "* fill (\"inside\" color)\n",
    "* shape (of points)\n",
    "* linetype\n",
    "* size\n",
    "\n",
    "Each type of geom accepts only a subset of all aesthetics; refer to the geom help pages to see what mappings each geom accepts.\n",
    "Aesthetic mappings are set with the `aes()` function.\n",
    "\n",
    "### Geometric objects (`geom`)\n",
    "\n",
    "Geometric objects are the actual marks we put on a plot. Examples include:\n",
    "\n",
    "* points (`geom_point()`, for scatter plots, dot plots, etc.)\n",
    "* lines (`geom_line()`, for time series, trend lines, etc.)\n",
    "* boxplot (`geom_boxplot()`, for boxplots!)\n",
    "\n",
    "A plot **must have at least one geom**; there is no upper limit. You can add a geom to a plot using the `+` operator.\n",
    "\n",
    "Each `geom_` has a particular set of aesthetic mappings associated with it. Some examples are provided below, \n",
    "with required aesthetics in **bold** and optional aesthetics in plain text:\n",
    "\n",
    "| `geom_`          | Usage             | Aesthetics                                                                      |\n",
    "|:-----------------|:------------------|:-----------------------------------------------------------------------------------------|\n",
    "| `geom_point()`   | Scatter plot      |**`x`**,**`y`**,`alpha`,`color`,`fill`,`group`,`shape`,`size`,`stroke`                    |\n",
    "| `geom_line()`    | Line plot         |**`x`**,**`y`**,`alpha`,`color`,`linetype`,`size`                                         |\n",
    "| `geom_bar()`     | Bar chart         |**`x`**,**`y`**,`alpha`,`color`,`fill`,`group`,`linetype`,`size`                          |\n",
    "| `geom_boxplot()` | Boxplot           |**`x`**,**`lower`**,**`upper`**,**`middle`**,**`ymin`**,**`ymax`**,`alpha`,`color`,`fill` |\n",
    "| `geom_density()` | Density plot      |**`x`**,**`y`**,`alpha`,`color`,`fill`,`group`,`linetype`,`size`,`weight`                 |\n",
    "| `geom_smooth()`  | Conditional means |**`x`**,**`y`**,`alpha`,`color`,`fill`,`group`,`linetype`,`size`,`weight`                 |\n",
    "| `geom_label()`   | Text              |**`x`**,**`y`**,**`label`**,`alpha`,`angle`,`color`,`family`,`fontface`,`size`            |\n",
    "\n",
    "You can get a list of all available geometric objects and their associated aesthetics at <https://ggplot2.tidyverse.org/reference/>\n",
    "\n",
    "or simply type `geom_<tab>` in any good R IDE (such as Rstudio or ESS) to see a list of functions starting with `geom_`."
   ]
  },
  {
   "cell_type": "markdown",
   "metadata": {},
   "source": [
    "#### Points (scatterplot)\n",
    "\n",
    "Now that we know about geometric objects and aesthetic mapping, we can make a `ggplot()`. `geom_point()` requires mappings for x and y, all others are optional."
   ]
  },
  {
   "cell_type": "code",
   "execution_count": null,
   "metadata": {
    "lines_to_next_cell": 2
   },
   "outputs": [],
   "source": [
    "hp2001Q1 <- filter(housing, Date == 2001.25) \n",
    "ggplot(hp2001Q1,\n",
    "       aes(y = Structure.Cost, x = Land_Value)) +\n",
    "  geom_point()"
   ]
  },
  {
   "cell_type": "code",
   "execution_count": null,
   "metadata": {
    "lines_to_next_cell": 2
   },
   "outputs": [],
   "source": [
    "ggplot(hp2001Q1,\n",
    "       aes(y = Structure.Cost, x = log(Land_Value))) +\n",
    "  geom_point()"
   ]
  },
  {
   "cell_type": "markdown",
   "metadata": {},
   "source": [
    "#### Lines (prediction line)\n",
    "\n",
    "A plot constructed with `ggplot()` can have more than one geom. In that case the mappings established in the `ggplot()` call are plot defaults that can be added to or overridden. Our plot could use a regression line:"
   ]
  },
  {
   "cell_type": "code",
   "execution_count": null,
   "metadata": {
    "lines_to_next_cell": 2
   },
   "outputs": [],
   "source": [
    "hp2001Q1$pred_SC <- lm(Structure_Cost ~ log(Land_Value), data = hp2001Q1) %>%\n",
    "  predict()\n",
    "\n",
    "p1 <- ggplot(hp2001Q1, aes(x = log(Land_Value), y = Structure_Cost))\n",
    "\n",
    "p1 + geom_point(aes(color = Home_Value)) +\n",
    "  geom_line(aes(y = pred_SC))"
   ]
  },
  {
   "cell_type": "markdown",
   "metadata": {},
   "source": [
    "#### Smoothers\n",
    "\n",
    "Not all geometric objects are simple shapes; the smooth geom includes a line and a ribbon."
   ]
  },
  {
   "cell_type": "code",
   "execution_count": null,
   "metadata": {
    "lines_to_next_cell": 2
   },
   "outputs": [],
   "source": [
    "p1 +\n",
    "  geom_point(aes(color = Home_Value)) +\n",
    "  geom_smooth()"
   ]
  },
  {
   "cell_type": "markdown",
   "metadata": {},
   "source": [
    "#### Text (label points)\n",
    "\n",
    "Each geom accepts a particular set of mappings; for example `geom_text()` accepts a `labels` mapping."
   ]
  },
  {
   "cell_type": "code",
   "execution_count": null,
   "metadata": {
    "lines_to_next_cell": 2
   },
   "outputs": [],
   "source": [
    "p1 + \n",
    "  geom_text(aes(label=State), size = 3)"
   ]
  },
  {
   "cell_type": "code",
   "execution_count": null,
   "metadata": {
    "lines_to_next_cell": 2
   },
   "outputs": [],
   "source": [
    "## install.packages(\"ggrepel\") \n",
    "library(ggrepel)\n",
    "\n",
    "p1 + \n",
    "  geom_point() + \n",
    "  geom_text_repel(aes(label=State), size = 3)"
   ]
  },
  {
   "cell_type": "markdown",
   "metadata": {},
   "source": [
    "### Aesthetic mapping VS assignment\n",
    "\n",
    "Note that variables are mapped to aesthetics with the `aes()` function, while fixed aesthetics are set outside the `aes()` call. \n",
    "This sometimes leads to confusion, as in this example:"
   ]
  },
  {
   "cell_type": "code",
   "execution_count": null,
   "metadata": {
    "lines_to_next_cell": 2
   },
   "outputs": [],
   "source": [
    "p1 +\n",
    "  geom_point(aes(size = 2),# incorrect! 2 is not a variable\n",
    "             color=\"red\") # this is fine -- all points red"
   ]
  },
  {
   "cell_type": "markdown",
   "metadata": {},
   "source": [
    "### Mapping variables to other aesthetics\n",
    "\n",
    "Other aesthetics are mapped in the same way as x and y in the previous example."
   ]
  },
  {
   "cell_type": "code",
   "execution_count": null,
   "metadata": {
    "lines_to_next_cell": 2
   },
   "outputs": [],
   "source": [
    "p1 +\n",
    "  geom_point(aes(color = Home_Value, shape = region))"
   ]
  },
  {
   "cell_type": "markdown",
   "metadata": {},
   "source": [
    "## Exercise 0\n",
    "\n",
    "The data for the exercises is available in the `dataSets/EconomistData.csv` file. Read it in with"
   ]
  },
  {
   "cell_type": "code",
   "execution_count": null,
   "metadata": {},
   "outputs": [],
   "source": [
    "dat <- read_csv(\"dataSets/EconomistData.csv\")"
   ]
  },
  {
   "cell_type": "markdown",
   "metadata": {},
   "source": [
    "Original sources for these data are <http://www.transparency.org/content/download/64476/1031428> <http://hdrstats.undp.org/en/indicators/display_cf_xls_indicator.cfm?indicator_id=103106&lang=en>\n",
    "\n",
    "These data consist of *Human Development Index* and *Corruption Perception Index* scores for several countries.\n",
    "\n",
    "1.  Create a scatter plot with CPI on the x axis and HDI on the y axis.\n",
    "2.  Color the points blue.\n",
    "3.  Map the color of the the points to Region.\n",
    "4.  Make the points bigger by setting size to 2\n",
    "5.  Map the size of the points to HDI_Rank"
   ]
  },
  {
   "cell_type": "markdown",
   "metadata": {},
   "source": [
    "## Statistical transformations\n",
    "\n",
    "### Why transform data?\n",
    "\n",
    "Some plot types (such as scatterplots) do not require transformations; each point is plotted at x and y coordinates equal to the original value. Other plots, such as boxplots, histograms, prediction lines etc. require statistical transformations:\n",
    "\n",
    "* for a boxplot the y values must be transformed to the median and 1.5(IQR)\n",
    "* for a smoother the y values must be transformed into predicted values\n",
    "\n",
    "Each geom has a default statistic, but these can be changed. For example, the default statistic for `geom_histogram()` is `stat_bin()`:"
   ]
  },
  {
   "cell_type": "code",
   "execution_count": null,
   "metadata": {},
   "outputs": [],
   "source": [
    "args(geom_histogram)\n",
    "args(stat_bin)"
   ]
  },
  {
   "cell_type": "markdown",
   "metadata": {},
   "source": [
    "Here is a list of geoms and their default statistics <https://ggplot2.tidyverse.org/reference/>"
   ]
  },
  {
   "cell_type": "markdown",
   "metadata": {},
   "source": [
    "### Setting arguments\n",
    "\n",
    "Arguments to `stat_` functions can be passed through `geom_` functions. This can be slightly annoying because in order to change it you have to first determine which stat the geom uses, then determine the arguments to that stat.\n",
    "\n",
    "For example, here is the default histogram of Home.Value:"
   ]
  },
  {
   "cell_type": "code",
   "execution_count": null,
   "metadata": {},
   "outputs": [],
   "source": [
    "p2 <- ggplot(housing, aes(x = Home_Value))\n",
    "p2 + geom_histogram()"
   ]
  },
  {
   "cell_type": "markdown",
   "metadata": {},
   "source": [
    "can change it by passing the `binwidth` argument to the `stat_bin()` function:"
   ]
  },
  {
   "cell_type": "code",
   "execution_count": null,
   "metadata": {
    "lines_to_next_cell": 2
   },
   "outputs": [],
   "source": [
    "p2 + geom_histogram(stat = \"bin\", binwidth=4000)"
   ]
  },
  {
   "cell_type": "markdown",
   "metadata": {},
   "source": [
    "### Changing the transformation\n",
    "\n",
    "Sometimes the default statistical transformation is not what you need. This is often the case with pre-summarized data:"
   ]
  },
  {
   "cell_type": "code",
   "execution_count": null,
   "metadata": {},
   "outputs": [],
   "source": [
    "housing_sum <- \n",
    "  housing %>%\n",
    "  group_by(State) %>%\n",
    "  summarize(Home_Value_Mean = mean(Home_Value)) %>%\n",
    "  ungroup()\n",
    "\n",
    "rbind(head(housing_sum), tail(housing_sum))"
   ]
  },
  {
   "cell_type": "code",
   "execution_count": null,
   "metadata": {
    "error": true
   },
   "outputs": [],
   "source": [
    "ggplot(housing_sum, aes(x=State, y=Home_Value_Mean)) + \n",
    "  geom_bar()"
   ]
  },
  {
   "cell_type": "markdown",
   "metadata": {},
   "source": [
    "What is the problem with the previous plot? Basically we take binned and summarized data and ask ggplot to bin and summarize it again (remember, `geom_bar()` defaults to `stat = stat_count`; obviously this will not work. We can fix it by telling `geom_bar()` to use a different statistical transformation function:"
   ]
  },
  {
   "cell_type": "code",
   "execution_count": null,
   "metadata": {
    "lines_to_next_cell": 2
   },
   "outputs": [],
   "source": [
    "ggplot(housing_sum, aes(x=State, y=Home_Value_Mean)) + \n",
    "  geom_bar(stat=\"identity\")"
   ]
  },
  {
   "cell_type": "markdown",
   "metadata": {},
   "source": [
    "## Exercise 1\n",
    "\n",
    "1.  Re-create a scatter plot with CPI on the x axis and HDI on the y axis (as you did in the previous exercise).\n",
    "2.  Overlay a smoothing line on top of the scatter plot using `geom_smooth()`.\n",
    "3.  Overlay a smoothing line on top of the scatter plot using `geom_smooth()`, but use a linear model for the predictions. Hint: see `?stat_smooth`.\n",
    "4.  Overlay a smoothing line on top of the scatter plot using the default *loess* method for `geom_smooth()`, but make it less smooth. Hint: see `?loess`.\n",
    "5.  BONUS: Overlay a smoothing line on top of the scatter plot using `geom_line()`. Hint: change the statistical transformation.\n"
   ]
  },
  {
   "cell_type": "markdown",
   "metadata": {},
   "source": [
    "## Scales\n",
    "\n",
    "### Controlling aesthetic mapping\n",
    "\n",
    "Aesthetic mapping (i.e., with `aes()`) only says that a variable should be mapped to an aesthetic. It doesn't say *how* that should happen. For example, when mapping a variable to *shape* with `aes(shape = x)` you don't say *what* shapes should be used. Similarly, `aes(color = z)` doesn't say *what* colors should be used. Describing what colors/shapes/sizes etc. to use is done by modifying the corresponding *scale*. In `ggplot2` scales include\n",
    "\n",
    "* position\n",
    "* color and fill\n",
    "* size\n",
    "* shape\n",
    "* line type\n",
    "\n",
    "Scales are modified with a series of functions using a `scale_<aesthetic>_<type>` naming scheme. Try typing `scale_<tab>` to see a list of scale modification functions.\n",
    "\n",
    "### Common scale arguments\n",
    "\n",
    "The following arguments are common to most scales in `ggplot2`:\n",
    "\n",
    "* **name:** the first argument gives the axis or legend title\n",
    "* **limits:** the minimum and maximum of the scale\n",
    "* **breaks:** the points along the scale where labels should appear\n",
    "* **labels:** the labels that appear at each break\n",
    "\n",
    "Specific scale functions may have additional arguments; for example, the `scale_color_continuous()` function has arguments `low` and `high` for setting the colors at the low and high end of the scale.\n",
    "\n",
    "### Scale modification examples\n",
    "\n",
    "Start by constructing a dotplot showing the distribution of home values by Date and State."
   ]
  },
  {
   "cell_type": "code",
   "execution_count": null,
   "metadata": {
    "lines_to_next_cell": 2
   },
   "outputs": [],
   "source": [
    "p4 <- ggplot(housing, aes(x = State, y = Home_Price_Index)) + \n",
    "    geom_point(aes(color = Date), alpha = 0.5, size = 1.5,\n",
    "               position = position_jitter(width = 0.25, height = 0)))"
   ]
  },
  {
   "cell_type": "markdown",
   "metadata": {},
   "source": [
    "Now modify the breaks for the color scales"
   ]
  },
  {
   "cell_type": "code",
   "execution_count": null,
   "metadata": {},
   "outputs": [],
   "source": [
    "p4 + \n",
    "  scale_color_continuous(name=\"\",\n",
    "                         breaks = c(1976, 1994, 2013),\n",
    "                         labels = c(\"'76\", \"'94\", \"'13\"))"
   ]
  },
  {
   "cell_type": "markdown",
   "metadata": {},
   "source": [
    "Next change the low and high values to blue and red:"
   ]
  },
  {
   "cell_type": "code",
   "execution_count": null,
   "metadata": {
    "lines_to_next_cell": 0
   },
   "outputs": [],
   "source": [
    "p4 +\n",
    "  scale_color_continuous(name=\"\",\n",
    "                         breaks = c(1976, 1994, 2013),\n",
    "                         labels = c(\"'76\", \"'94\", \"'13\"),\n",
    "                         low = \"blue\", high = \"red\")\n"
   ]
  },
  {
   "cell_type": "markdown",
   "metadata": {},
   "source": [
    "Now mute the colors:"
   ]
  },
  {
   "cell_type": "code",
   "execution_count": null,
   "metadata": {
    "lines_to_next_cell": 2
   },
   "outputs": [],
   "source": [
    "library(scales)\n",
    "\n",
    "p4 +\n",
    "  scale_color_continuous(name=\"\",\n",
    "                         breaks = c(1976, 1994, 2013),\n",
    "                         labels = c(\"'76\", \"'94\", \"'13\"),\n",
    "                         low = muted(\"blue\"), high = muted(\"red\"))\n"
   ]
  },
  {
   "cell_type": "markdown",
   "metadata": {},
   "source": [
    "### Using different color scales\n",
    "\n",
    "`ggplot2` has a wide variety of color scales; here is an example using `scale_color_gradient2()` to interpolate between three different colors."
   ]
  },
  {
   "cell_type": "code",
   "execution_count": null,
   "metadata": {
    "lines_to_next_cell": 2
   },
   "outputs": [],
   "source": [
    "p4 +\n",
    "  scale_color_gradient2(name=\"\",\n",
    "                        breaks = c(1976, 1994, 2013),\n",
    "                        labels = c(\"'76\", \"'94\", \"'13\"),\n",
    "                        low = muted(\"blue\"),\n",
    "                        high = muted(\"red\"),\n",
    "                        mid = \"gray60\",\n",
    "                        midpoint = 1994)"
   ]
  },
  {
   "cell_type": "markdown",
   "metadata": {},
   "source": [
    "### Available scales\n",
    "\n",
    "* Partial combination matrix of available scales\n",
    "\n",
    "| `scale_`          | Types        |  Examples                   |\n",
    "|:------------------|:-------------|:----------------------------|\n",
    "| `scale_color_`    | `identity`   | `scale_fill_continuous()`   |\n",
    "| `scale_fill_`     | `manual`     | `scale_color_discrete()`    |\n",
    "| `scale_size_`     | `continuous` | `scale_size_manual()`       |\n",
    "|                   | `discrete`   | `scale_size_discrete()`     |\n",
    "|                   |              |                             |\n",
    "| `scale_shape_`    | `discrete`   | `scale_shape_discrete()`    |\n",
    "| `scale_linetype_` | `identity`   | `scale_shape_manual()`      |\n",
    "|                   | `manual`     | `scale_linetype_discrete()` |\n",
    "|                   |              |                             |\n",
    "| `scale_x_`        | `continuous` | `scale_x_continuous()`      |\n",
    "| `scale_y_`        | `discrete`   | `scale_y_discrete()`        |\n",
    "|                   | `reverse`    | `scale_x_log()`             |\n",
    "|                   | `log`        | `scale_y_reverse()`         |\n",
    "|                   | `date`       | `scale_x_date()`            |\n",
    "|                   | `datetime`   | `scale_y_datetime()`        |\n",
    "\n",
    "Note that in RStudio you can type `scale_` followed by `tab` to get the whole list of available scales. \n",
    "For a complete list of available scales see <https://ggplot2.tidyverse.org/reference/>"
   ]
  },
  {
   "cell_type": "markdown",
   "metadata": {},
   "source": [
    "## Exercise 2\n",
    "\n",
    "1.  Create a scatter plot with CPI on the x axis and HDI on the y axis. Color the points to indicate region.\n",
    "2.  Modify the x, y, and color scales so that they have more easily-understood names (e.g., spell out \"Human development Index\" instead of \"HDI\"). Hint: see `?scale_x_discrete`.\n",
    "3.  Modify the color scale to use specific values of your choosing. Hint: see `?scale_color_manual`."
   ]
  },
  {
   "cell_type": "markdown",
   "metadata": {},
   "source": [
    "## Faceting\n",
    "\n",
    "### What is faceting?\n",
    "\n",
    "* Faceting is `ggplot2` parlance for **small multiples**\n",
    "* The idea is to create separate graphs for subsets of data\n",
    "* `ggplot2` offers two functions for creating small multiples:\n",
    "    1.  `facet_wrap()`: define subsets as the levels of a single grouping variable\n",
    "    2.  `facet_grid()`: define subsets as the crossing of two grouping variables\n",
    "* Facilitates comparison among plots, not just of geoms within a plot\n",
    "\n",
    "### What is the trend in housing prices in each state?\n",
    "\n",
    "* Start by using a technique we already know; map State to color:"
   ]
  },
  {
   "cell_type": "code",
   "execution_count": null,
   "metadata": {},
   "outputs": [],
   "source": [
    "p5 <- ggplot(housing, aes(x = Date, y = Home_Value))\n",
    "p5 + geom_line(aes(color = State))  "
   ]
  },
  {
   "cell_type": "markdown",
   "metadata": {},
   "source": [
    "There are two problems here; there are too many states to distinguish each one by color, and the lines obscure one another.\n",
    "\n",
    "### Faceting to the rescue\n",
    "\n",
    "We can remedy the deficiencies of the previous plot by faceting by state rather than mapping state to color."
   ]
  },
  {
   "cell_type": "code",
   "execution_count": null,
   "metadata": {
    "lines_to_next_cell": 2
   },
   "outputs": [],
   "source": [
    "(p5 <- p5 + geom_line() +\n",
    "   facet_wrap(~ State, ncol = 10))"
   ]
  },
  {
   "cell_type": "markdown",
   "metadata": {},
   "source": [
    "There is also a `facet_grid()` function for faceting in two dimensions.\n",
    "\n",
    "## Themes\n",
    "\n",
    "### What are themes?\n",
    "\n",
    "The `ggplot2` theme system handles non-data plot elements such as\n",
    "\n",
    "* Axis labels\n",
    "* Plot background\n",
    "* Facet label background\n",
    "* Legend appearance\n",
    "\n",
    "Built-in themes include:\n",
    "\n",
    "* `theme_gray()` (default)\n",
    "* `theme_bw()`\n",
    "* `theme_classic()`"
   ]
  },
  {
   "cell_type": "code",
   "execution_count": null,
   "metadata": {},
   "outputs": [],
   "source": [
    "p5 + theme_linedraw()"
   ]
  },
  {
   "cell_type": "code",
   "execution_count": null,
   "metadata": {
    "lines_to_next_cell": 0
   },
   "outputs": [],
   "source": [
    "p5 + theme_light()"
   ]
  },
  {
   "cell_type": "markdown",
   "metadata": {},
   "source": [
    "You can see a list of available built-in themes here <https://ggplot2.tidyverse.org/reference/>"
   ]
  },
  {
   "cell_type": "markdown",
   "metadata": {},
   "source": [
    "### Overriding theme defaults\n",
    "\n",
    "Specific theme elements can be overridden using `theme()`. For example:"
   ]
  },
  {
   "cell_type": "code",
   "execution_count": null,
   "metadata": {},
   "outputs": [],
   "source": [
    "p5 + theme_minimal() +\n",
    "  theme(text = element_text(color = \"turquoise\"))"
   ]
  },
  {
   "cell_type": "markdown",
   "metadata": {},
   "source": [
    "All theme options are documented in `?theme`. "
   ]
  },
  {
   "cell_type": "markdown",
   "metadata": {},
   "source": [
    "### Creating and saving new themes\n",
    "\n",
    "You can create new themes, as in the following example:"
   ]
  },
  {
   "cell_type": "code",
   "execution_count": null,
   "metadata": {},
   "outputs": [],
   "source": [
    "theme_new <- theme_bw() +\n",
    "  theme(plot.background = element_rect(size = 1, color = \"blue\", fill = \"black\"),\n",
    "        text=element_text(size = 12, family = \"Serif\", color = \"ivory\"),\n",
    "        axis.text.y = element_text(colour = \"purple\"),\n",
    "        axis.text.x = element_text(colour = \"red\"),\n",
    "        panel.background = element_rect(fill = \"pink\"),\n",
    "        strip.background = element_rect(fill = muted(\"orange\")))\n",
    "\n",
    "p5 + theme_new"
   ]
  },
  {
   "cell_type": "markdown",
   "metadata": {},
   "source": [
    "You can see all the plot elements that can be changed by `theme()` using:"
   ]
  },
  {
   "cell_type": "code",
   "execution_count": null,
   "metadata": {
    "lines_to_next_cell": 2
   },
   "outputs": [],
   "source": [
    "names(theme_get())\n",
    "\n",
    "# see all arguments for each plot element\n",
    "theme_get()"
   ]
  },
  {
   "cell_type": "markdown",
   "metadata": {},
   "source": [
    "## The #1 FAQ\n",
    "\n",
    "### Map aesthetic to different columns\n",
    "\n",
    "The most frequently asked question goes something like this: *I have two variables in my data.frame, and I'd like to plot them as separate points, with different color depending on which variable it is. How do I do that?*\n",
    "\n",
    "**Wrong**"
   ]
  },
  {
   "cell_type": "code",
   "execution_count": null,
   "metadata": {},
   "outputs": [],
   "source": [
    "housing_byyear <- \n",
    "  housing %>%\n",
    "  group_by(Date) %>%\n",
    "  summarize(Home_Value_Mean = mean(Home_Value),\n",
    "            Land_Value_Mean = mean(Land_Value)) %>%\n",
    "  ungroup()\n",
    "\n",
    "ggplot(housing_byyear, aes(x=Date)) +\n",
    "  geom_line(aes(y=Home_Value_Mean), color=\"red\") +\n",
    "  geom_line(aes(y=Land_Value_Mean), color=\"blue\")"
   ]
  },
  {
   "cell_type": "markdown",
   "metadata": {},
   "source": [
    "**Right**"
   ]
  },
  {
   "cell_type": "code",
   "execution_count": null,
   "metadata": {
    "lines_to_next_cell": 2
   },
   "outputs": [],
   "source": [
    "home_land_byyear <- gather(housing_byyear,\n",
    "                           value = \"value\",\n",
    "                           key = \"type\",\n",
    "                           Home_Value, Land_Value)\n",
    "\n",
    "ggplot(home_land_byyear, aes(x=Date, y=value, color=type)) +\n",
    "  geom_line()"
   ]
  },
  {
   "cell_type": "markdown",
   "metadata": {},
   "source": [
    "## Putting it all together\n",
    "\n",
    "### Challenge: recreate this `Economist` graph\n",
    "\n",
    "<R/Rgraphics/images/Economist1.pdf>\n",
    "\n",
    "Graph source: <http://www.economist.com/node/21541178>\n",
    "\n",
    "Building off of the graphics you created in the previous exercises, put the finishing touches to make it as close as possible to the original economist graph.\n",
    "\n",
    "### Challenge solution:\n",
    "\n",
    "Lets start by creating the basic scatter plot, then we can make a list of things that need to be added or changed. The basic plot looks like this:"
   ]
  },
  {
   "cell_type": "code",
   "execution_count": null,
   "metadata": {},
   "outputs": [],
   "source": [
    "dat <- read_csv(\"dataSets/EconomistData.csv\")\n",
    "\n",
    "pc1 <- ggplot(dat, aes(x = CPI, y = HDI, color = Region))\n",
    "pc1 + geom_point()"
   ]
  },
  {
   "cell_type": "markdown",
   "metadata": {},
   "source": [
    "To complete this graph we need to:\n",
    "\n",
    "* [ ] add a trend line\n",
    "* [ ] change the point shape to open circle\n",
    "* [ ] change the order and labels of Region\n",
    "* [ ] label select points\n",
    "* [ ] fix up the tick marks and labels\n",
    "* [ ] move color legend to the top\n",
    "* [ ] title, label axes, remove legend title\n",
    "* [ ] theme the graph with no vertical guides\n",
    "* [ ] add model R<sup>2</sup> (hard)\n",
    "* [ ] add sources note (hard)\n",
    "* [ ] final touches to make it perfect (use image editor for this)\n",
    "\n",
    "#### Adding the trend line\n",
    "\n",
    "Adding the trend line is not too difficult, though we need to guess at the model being displyed on the graph. A little bit of trial and error leads to"
   ]
  },
  {
   "cell_type": "code",
   "execution_count": null,
   "metadata": {
    "lines_to_next_cell": 2
   },
   "outputs": [],
   "source": [
    "pc2 <- pc1 +\n",
    "  geom_smooth(mapping = aes(linetype = \"r2\"),   # \"r2\" is a placeholder for where we'll later put R^2 values\n",
    "              method = \"lm\",\n",
    "              formula = y ~ x + log(x), se = FALSE,\n",
    "              color = \"red\")\n",
    "pc2 + geom_point()"
   ]
  },
  {
   "cell_type": "markdown",
   "metadata": {},
   "source": [
    "Notice that we put the `geom_line` layer first so that it will be plotted underneath the points, as was done on the original graph.\n",
    "\n",
    "#### Use open points\n",
    "\n",
    "This one is a little tricky. We know that we can change the shape with the `shape` argument, what value do we set shape to? The example shown in `?shape` can help us:"
   ]
  },
  {
   "cell_type": "code",
   "execution_count": null,
   "metadata": {},
   "outputs": [],
   "source": [
    "## A look at all 25 symbols\n",
    "df2 <- data.frame(x = 1:5 , y = 1:25, z = 1:25)\n",
    "\n",
    "s <- ggplot(df2, aes(x = x, y = y))\n",
    "s + geom_point(aes(shape = z), size = 4) + scale_shape_identity()"
   ]
  },
  {
   "cell_type": "markdown",
   "metadata": {},
   "source": [
    "This shows us that *shape 1* is an open circle, so"
   ]
  },
  {
   "cell_type": "code",
   "execution_count": null,
   "metadata": {},
   "outputs": [],
   "source": [
    "pc2 +\n",
    "  geom_point(shape = 1, size = 4)"
   ]
  },
  {
   "cell_type": "markdown",
   "metadata": {},
   "source": [
    "That is better, but unfortunately the size of the line around the points is much narrower than on the original."
   ]
  },
  {
   "cell_type": "code",
   "execution_count": null,
   "metadata": {
    "lines_to_next_cell": 2
   },
   "outputs": [],
   "source": [
    "(pc3 <- pc2 + geom_point(shape = 1, size = 2.5, stroke = 1.25))"
   ]
  },
  {
   "cell_type": "markdown",
   "metadata": {},
   "source": [
    "#### Labelling points\n",
    "\n",
    "This one is tricky in a couple of ways. First, there is no attribute in the data that separates points that should be labelled from points that should not be. So the first step is to identify those points."
   ]
  },
  {
   "cell_type": "code",
   "execution_count": null,
   "metadata": {},
   "outputs": [],
   "source": [
    "pointsToLabel <- c(\"Russia\", \"Venezuela\", \"Iraq\", \"Myanmar\", \"Sudan\",\n",
    "                   \"Afghanistan\", \"Congo\", \"Greece\", \"Argentina\", \"Brazil\",\n",
    "                   \"India\", \"Italy\", \"China\", \"South Africa\", \"Spane\",\n",
    "                   \"Botswana\", \"Cape Verde\", \"Bhutan\", \"Rwanda\", \"France\",\n",
    "                   \"United States\", \"Germany\", \"Britain\", \"Barbados\", \"Norway\", \"Japan\",\n",
    "                   \"New Zealand\", \"Singapore\")"
   ]
  },
  {
   "cell_type": "markdown",
   "metadata": {},
   "source": [
    "Now we can label these points using `geom_text`, like this:"
   ]
  },
  {
   "cell_type": "code",
   "execution_count": null,
   "metadata": {
    "lines_to_next_cell": 2
   },
   "outputs": [],
   "source": [
    "(pc4 <- pc3 +\n",
    "  geom_text(aes(label = Country),\n",
    "            color = \"gray20\",\n",
    "            data = filter(dat, Country %in% pointsToLabel)))"
   ]
  },
  {
   "cell_type": "markdown",
   "metadata": {},
   "source": [
    "This more or less gets the information across, but the labels overlap in a most unpleasing fashion. We can use the `ggrepel` package to make things better, but if you want perfection you will probably have to do some hand-adjustment."
   ]
  },
  {
   "cell_type": "code",
   "execution_count": null,
   "metadata": {
    "lines_to_next_cell": 2
   },
   "outputs": [],
   "source": [
    "library(ggrepel)\n",
    "\n",
    "(pc4 <- pc3 +\n",
    "   geom_text_repel(aes(label = Country),\n",
    "                   color = \"gray20\",\n",
    "                   data = filter(dat, Country %in% pointsToLabel),\n",
    "                   force = 10))"
   ]
  },
  {
   "cell_type": "markdown",
   "metadata": {},
   "source": [
    "#### Change the region labels and order\n",
    "\n",
    "Things are starting to come together. There are just a couple more things we need to add, and then all that will be left are theme changes.\n",
    "\n",
    "Comparing our graph to the original we notice that the labels and order of the Regions in the color legend differ. To correct this we need to change both the labels and order of the Region variable. We can do this with the `factor` function."
   ]
  },
  {
   "cell_type": "code",
   "execution_count": null,
   "metadata": {},
   "outputs": [],
   "source": [
    "dat$Region <- factor(dat$Region,\n",
    "                     levels = c(\"EU W. Europe\",\n",
    "                                \"Americas\",\n",
    "                                \"Asia Pacific\",\n",
    "                                \"East EU Cemt Asia\",\n",
    "                                \"MENA\",\n",
    "                                \"SSA\"),\n",
    "                     labels = c(\"OECD\",\n",
    "                                \"Americas\",\n",
    "                                \"Asia &\\nOceania\",\n",
    "                                \"Central &\\nEastern Europe\",\n",
    "                                \"Middle East &\\nnorth Africa\",\n",
    "                                \"Sub-Saharan\\nAfrica\"))\n"
   ]
  },
  {
   "cell_type": "markdown",
   "metadata": {},
   "source": [
    "Now when we construct the plot using these data the order should appear as it does in the original."
   ]
  },
  {
   "cell_type": "code",
   "execution_count": null,
   "metadata": {
    "lines_to_next_cell": 2
   },
   "outputs": [],
   "source": [
    "pc4$data <- dat\n",
    "pc4"
   ]
  },
  {
   "cell_type": "markdown",
   "metadata": {},
   "source": [
    "#### Add title and format axes\n",
    "\n",
    "The next step is to add the title and format the axes. We do that using the `scales` system in `ggplot2`."
   ]
  },
  {
   "cell_type": "code",
   "execution_count": null,
   "metadata": {
    "lines_to_next_cell": 2
   },
   "outputs": [],
   "source": [
    "library(grid)\n",
    "\n",
    "(pc5 <- pc4 +\n",
    "  scale_x_continuous(name = \"Corruption Perceptions Index, 2011 (10=least corrupt)\",\n",
    "                     limits = c(.9, 10.5),\n",
    "                     breaks = 1:10) +\n",
    "  scale_y_continuous(name = \"Human Development Index, 2011 (1=Best)\",\n",
    "                     limits = c(0.2, 1.0),\n",
    "                     breaks = seq(0.2, 1.0, by = 0.1)) +\n",
    "  scale_color_manual(name = \"\",\n",
    "                     values = c(\"#24576D\",\n",
    "                                \"#099DD7\",\n",
    "                                \"#28AADC\",\n",
    "                                \"#248E84\",\n",
    "                                \"#F2583F\",\n",
    "                                \"#96503F\")) +\n",
    "  ggtitle(\"Corruption and Human development\"))"
   ]
  },
  {
   "cell_type": "markdown",
   "metadata": {},
   "source": [
    "#### Theme tweaks\n",
    "\n",
    "Our graph is almost there. To finish up, we need to adjust some of the theme elements, and label the axes and legends. This part usually involves some trial and error as you figure out where things need to be positioned. To see what these various theme settings do you can change them and observe the results."
   ]
  },
  {
   "cell_type": "code",
   "execution_count": null,
   "metadata": {
    "lines_to_next_cell": 2
   },
   "outputs": [],
   "source": [
    "library(grid) # for the `unit()` function\n",
    "\n",
    "(pc6 <- pc5 +\n",
    "  theme_minimal() + # start with a minimal theme and add what we need\n",
    "  theme(text = element_text(color = \"gray20\"),\n",
    "        legend.position = c(\"top\"), # position the legend in the upper left \n",
    "        legend.direction = \"horizontal\",\n",
    "        legend.justification = 0.1, # anchor point for legend.position.\n",
    "        legend.text = element_text(size = 11, color = \"gray10\"),\n",
    "        axis.text = element_text(face = \"italic\"),\n",
    "        axis.title.x = element_text(vjust = -1), # move title away from axis\n",
    "        axis.title.y = element_text(vjust = 2), # move away for axis\n",
    "        axis.ticks.y = element_blank(), # element_blank() is how we remove elements\n",
    "        axis.line = element_line(color = \"gray40\", size = 0.5),\n",
    "        axis.line.y = element_blank(),\n",
    "        panel.grid.major = element_line(color = \"gray50\", size = 0.5),\n",
    "        panel.grid.major.x = element_blank()\n",
    "        ))"
   ]
  },
  {
   "cell_type": "markdown",
   "metadata": {},
   "source": [
    "#### Add model R<sup>2</sup> and source note\n",
    "\n",
    "The last bit of information that we want to have on the graph is the variance explained by the model represented by the trend line. Lets fit that model and pull out the R<sup>2</sup> first, then think about how to get it onto the graph."
   ]
  },
  {
   "cell_type": "code",
   "execution_count": null,
   "metadata": {},
   "outputs": [],
   "source": [
    "mR2 <- summary(lm(HDI ~ CPI + log(CPI), data = dat))$r.squared\n",
    "mR2 <- paste0(format(mR2, digits = 2), \"%\")"
   ]
  },
  {
   "cell_type": "markdown",
   "metadata": {},
   "source": [
    "OK, now that we've calculated the values, let's think about how to get them on the graph. ggplot2 has an `annotate()` function, but this is not convenient for adding elements outside the plot area. The `grid` package has nice functions for doing this, so we'll use those.\n",
    "\n",
    "And here it is, our final version!"
   ]
  },
  {
   "cell_type": "code",
   "execution_count": null,
   "metadata": {
    "lines_to_next_cell": 2
   },
   "outputs": [],
   "source": [
    "png(file = \"R/Rgraphics/images/econScatter10.png\", width = 700, height = 500)\n",
    "p <- ggplot(dat,\n",
    "            mapping = aes(x = CPI, y = HDI)) +\n",
    "  geom_smooth(mapping = aes(linetype = \"r2\"),\n",
    "              method = \"lm\",\n",
    "              formula = y ~ x + log(x), se = FALSE,\n",
    "              color = \"red\") +\n",
    "  geom_point(mapping = aes(color = Region),\n",
    "             shape = 1,\n",
    "             size = 4,\n",
    "             stroke = 1.5) +\n",
    "  geom_text_repel(mapping = aes(label = Country, alpha = labels),\n",
    "                  color = \"gray20\",\n",
    "                  data = transform(dat,\n",
    "                                   labels = Country %in% c(\"Russia\",\n",
    "                                                           \"Venezuela\",\n",
    "                                                           \"Iraq\",\n",
    "                                                           \"Mayanmar\",\n",
    "                                                           \"Sudan\",\n",
    "                                                           \"Afghanistan\",\n",
    "                                                           \"Congo\",\n",
    "                                                           \"Greece\",\n",
    "                                                           \"Argentinia\",\n",
    "                                                           \"Italy\",\n",
    "                                                           \"Brazil\",\n",
    "                                                           \"India\",\n",
    "                                                           \"China\",\n",
    "                                                           \"South Africa\",\n",
    "                                                           \"Spain\",\n",
    "                                                           \"Cape Verde\",\n",
    "                                                           \"Bhutan\",\n",
    "                                                           \"Rwanda\",\n",
    "                                                           \"France\",\n",
    "                                                           \"Botswana\",\n",
    "                                                           \"France\",\n",
    "                                                           \"US\",\n",
    "                                                           \"Germany\",\n",
    "                                                           \"Britain\",\n",
    "                                                           \"Barbados\",\n",
    "                                                           \"Japan\",\n",
    "                                                           \"Norway\",\n",
    "                                                           \"New Zealand\",\n",
    "                                                           \"Sigapore\"))) +\n",
    "  scale_x_continuous(name = \"Corruption Perception Index, 2011 (10=least corrupt)\",\n",
    "                     limits = c(1.0, 10.0),\n",
    "                     breaks = 1:10) +\n",
    "  scale_y_continuous(name = \"Human Development Index, 2011 (1=best)\",\n",
    "                     limits = c(0.2, 1.0),\n",
    "                     breaks = seq(0.2, 1.0, by = 0.1)) +\n",
    "  scale_color_manual(name = \"\",\n",
    "                     values = c(\"#24576D\",\n",
    "                                \"#099DD7\",\n",
    "                                \"#28AADC\",\n",
    "                                \"#248E84\",\n",
    "                                \"#F2583F\",\n",
    "                                \"#96503F\"),\n",
    "                     guide = guide_legend(nrow = 1, order=1)) +\n",
    "  scale_alpha_discrete(range = c(0, 1),\n",
    "                       guide = FALSE) +\n",
    "  scale_linetype(name = \"\",\n",
    "                 breaks = \"r2\",\n",
    "                 labels = list(bquote(R^2==.(mR2))),\n",
    "                 guide = guide_legend(override.aes = list(linetype = 1, size = 2, color = \"red\"), order=2)) +\n",
    "  ggtitle(\"Corruption and human development\") +\n",
    "  labs(caption=\"Sources: Transparency International; UN Human Development Report\") +\n",
    "  theme_bw() +\n",
    "  theme(panel.border = element_blank(),\n",
    "        panel.grid = element_blank(),\n",
    "        panel.grid.major.y = element_line(color = \"gray\"),\n",
    "        text = element_text(color = \"gray20\"),\n",
    "        axis.title.x = element_text(face=\"italic\"),\n",
    "        axis.title.y = element_text(face=\"italic\"),\n",
    "        legend.position = \"top\",\n",
    "        legend.direction = \"horizontal\",\n",
    "        legend.box = \"horizontal\",\n",
    "        legend.text = element_text(size = 12),\n",
    "        plot.caption = element_text(hjust=0),\n",
    "        plot.title = element_text(size = 16, face = \"bold\"))\n",
    "p\n",
    "\n",
    "dev.off()"
   ]
  },
  {
   "cell_type": "markdown",
   "metadata": {},
   "source": [
    "Comparing it to the original suggests that we've got most of the important elements. "
   ]
  },
  {
   "cell_type": "markdown",
   "metadata": {},
   "source": [
    "## Exercise solutions\n",
    "\n",
    "### Ex 0: prototype\n",
    "\n",
    "1.  Create a scatter plot with CPI on the x axis and HDI on the y axis."
   ]
  },
  {
   "cell_type": "code",
   "execution_count": null,
   "metadata": {},
   "outputs": [],
   "source": [
    "ggplot(dat, aes(x = CPI, y = HDI)) +\n",
    "  geom_point()"
   ]
  },
  {
   "cell_type": "markdown",
   "metadata": {},
   "source": [
    "2.  Color the points in the previous plot blue."
   ]
  },
  {
   "cell_type": "code",
   "execution_count": null,
   "metadata": {},
   "outputs": [],
   "source": [
    "ggplot(dat, aes(x = CPI, y = HDI)) +\n",
    "  geom_point(color = \"blue\")"
   ]
  },
  {
   "cell_type": "markdown",
   "metadata": {},
   "source": [
    "3.  Color the points in the previous plot according to *Region*."
   ]
  },
  {
   "cell_type": "code",
   "execution_count": null,
   "metadata": {},
   "outputs": [],
   "source": [
    "ggplot(dat, aes(x = CPI, y = HDI)) +\n",
    "  geom_point(aes(color = Region))"
   ]
  },
  {
   "cell_type": "markdown",
   "metadata": {},
   "source": [
    "4.  Make the points bigger by setting size to 2"
   ]
  },
  {
   "cell_type": "code",
   "execution_count": null,
   "metadata": {},
   "outputs": [],
   "source": [
    "ggplot(dat, aes(x = CPI, y = HDI)) +\n",
    "  geom_point(aes(color = Region), size = 2)"
   ]
  },
  {
   "cell_type": "markdown",
   "metadata": {},
   "source": [
    "5.  Map the size of the points to HDI.Rank"
   ]
  },
  {
   "cell_type": "code",
   "execution_count": null,
   "metadata": {},
   "outputs": [],
   "source": [
    "ggplot(dat, aes(x = CPI, y = HDI)) +\n",
    "geom_point(aes(color = Region, size =  HDI_Rank))"
   ]
  },
  {
   "cell_type": "markdown",
   "metadata": {},
   "source": [
    "### Ex 1: prototype\n",
    "\n",
    "1.  Re-create a scatter plot with CPI on the x axis and HDI on the y axis (as you did in the previous exercise)."
   ]
  },
  {
   "cell_type": "code",
   "execution_count": null,
   "metadata": {},
   "outputs": [],
   "source": [
    "ggplot(dat, aes(x = CPI, y = HDI)) +\n",
    "  geom_point()"
   ]
  },
  {
   "cell_type": "markdown",
   "metadata": {},
   "source": [
    "2.  Overlay a smoothing line on top of the scatter plot using `geom_smooth`"
   ]
  },
  {
   "cell_type": "code",
   "execution_count": null,
   "metadata": {},
   "outputs": [],
   "source": [
    "ggplot(dat, aes(x = CPI, y = HDI)) +\n",
    "  geom_point() +\n",
    "  geom_smooth()"
   ]
  },
  {
   "cell_type": "markdown",
   "metadata": {},
   "source": [
    "3.  Overlay a smoothing line on top of the scatter plot using `geom_smooth`, but use a linear model for the predictions. Hint: see `?stat_smooth`."
   ]
  },
  {
   "cell_type": "code",
   "execution_count": null,
   "metadata": {},
   "outputs": [],
   "source": [
    "ggplot(dat, aes(x = CPI, y = HDI)) +\n",
    "  geom_point() +\n",
    "  geom_smooth(method = \"lm\")"
   ]
  },
  {
   "cell_type": "markdown",
   "metadata": {},
   "source": [
    "4.  Overlay a loess (method = \"loess\") smoothling line on top of the scatter plot using `geom_line`. Hint: change the statistical transformation."
   ]
  },
  {
   "cell_type": "code",
   "execution_count": null,
   "metadata": {},
   "outputs": [],
   "source": [
    "ggplot(dat, aes(x = CPI, y = HDI)) +\n",
    "  geom_point() +\n",
    "  geom_line(stat = \"smooth\", method = \"loess\")"
   ]
  },
  {
   "cell_type": "markdown",
   "metadata": {},
   "source": [
    "4.  BONUS: Overlay a smoothing line on top of the scatter plot using the *loess* method, but make it less smooth. Hint: see `?loess`."
   ]
  },
  {
   "cell_type": "code",
   "execution_count": null,
   "metadata": {},
   "outputs": [],
   "source": [
    "ggplot(dat, aes(x = CPI, y = HDI)) +\n",
    "  geom_point() +\n",
    "  geom_smooth(span = .4)"
   ]
  },
  {
   "cell_type": "markdown",
   "metadata": {},
   "source": [
    "### Ex 2: prototype\n",
    "\n",
    "1.  Create a scatter plot with CPI on the x axis and HDI on the y axis. Color the points to indicate region."
   ]
  },
  {
   "cell_type": "code",
   "execution_count": null,
   "metadata": {},
   "outputs": [],
   "source": [
    "ggplot(dat, aes(x = CPI, y = HDI, color = Region)) +\n",
    "  geom_point()"
   ]
  },
  {
   "cell_type": "markdown",
   "metadata": {},
   "source": [
    "2.  Modify the x, y, and color scales so that they have more easily-understood names (e.g., spell out \"Human development Index\" instead of \"HDI\")."
   ]
  },
  {
   "cell_type": "code",
   "execution_count": null,
   "metadata": {},
   "outputs": [],
   "source": [
    "ggplot(dat, aes(x = CPI, y = HDI, color = Region)) +\n",
    "geom_point() +\n",
    "scale_x_continuous(name = \"Corruption Perception Index\") +\n",
    "scale_y_continuous(name = \"Human Development Index\") +\n",
    "scale_color_discrete(name = \"Region of the world\")"
   ]
  },
  {
   "cell_type": "markdown",
   "metadata": {},
   "source": [
    "3.  Modify the color scale to use specific values of your choosing. Hint: see `?scale_color_manual`."
   ]
  },
  {
   "cell_type": "code",
   "execution_count": null,
   "metadata": {
    "lines_to_next_cell": 2
   },
   "outputs": [],
   "source": [
    "ggplot(dat, aes(x = CPI, y = HDI, color = Region)) +\n",
    "geom_point() +\n",
    "scale_x_continuous(name = \"Corruption Perception Index\") +\n",
    "scale_y_continuous(name = \"Human Development Index\") +\n",
    "  scale_color_manual(name = \"Region of the world\",\n",
    "                     values = c(\"#24576D\",\n",
    "                                \"#099DD7\",\n",
    "                                \"#28AADC\",\n",
    "                                \"#248E84\",\n",
    "                                \"#F2583F\",\n",
    "                                \"#96503F\"))"
   ]
  },
  {
   "cell_type": "markdown",
   "metadata": {},
   "source": [
    "## Wrap-up\n",
    "\n",
    "### Feedback\n",
    "\n",
    "These workshops are a work in progress, please provide any feedback to: help@iq.harvard.edu\n",
    "\n",
    "### Resources\n",
    "\n",
    "* IQSS \n",
    "    + Workshops: <https://dss.iq.harvard.edu/workshop-materials>\n",
    "    + Data Science Services: <https://dss.iq.harvard.edu/>\n",
    "    + Research Computing Environment: <https://iqss.github.io/dss-rce/>\n",
    "\n",
    "* HBS\n",
    "    + Research Computing Services workshops: <https://training.rcs.hbs.org/workshops>\n",
    "    + Other HBS RCS resources: <https://training.rcs.hbs.org/workshop-materials>\n",
    "    + RCS consulting email: <mailto:research@hbs.edu>\n",
    "    \n",
    "* ggplot2\n",
    "    + Reference: <https://ggplot2.tidyverse.org/reference/>\n",
    "    + Cheatsheets: <https://rstudio.com/wp-content/uploads/2019/01/Cheatsheets_2019.pdf>\n",
    "    + Mailing list: <http://groups.google.com/group/ggplot2>\n",
    "    + Wiki: <https://github.com/hadley/ggplot2/wiki>\n",
    "    + Website: <http://had.co.nz/ggplot2/>\n",
    "    + StackOverflow: <http://stackoverflow.com/questions/tagged/ggplot>\n"
   ]
  }
 ],
 "metadata": {
  "jupytext": {
   "cell_metadata_filter": "hide_input,error,eval,results,-all",
   "main_language": "R",
   "notebook_metadata_filter": "-all"
  }
 },
 "nbformat": 4,
 "nbformat_minor": 2
}
