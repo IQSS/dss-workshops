{
 "cells": [
  {
   "cell_type": "markdown",
   "metadata": {
    "lines_to_next_cell": 0
   },
   "source": []
  },
  {
   "cell_type": "code",
   "execution_count": null,
   "metadata": {
    "tags": [
     "remove_cell",
     "remove_input"
    ]
   },
   "outputs": [],
   "source": [
    "options(max.print = 100)\n",
    "require(knitr)\n",
    "knitr::opts_chunk$set(eval=TRUE, results=TRUE, message=FALSE, warning=FALSE, error=FALSE, \n",
    "                      fig.path=\"R/Rgraphics/figures/\")  \n",
    "knitr::opts_knit$set(root.dir=\"R/Rgraphics\") # base.dir=\"R/Rgraphics\""
   ]
  },
  {
   "cell_type": "markdown",
   "metadata": {},
   "source": [
    "# R Graphics\n",
    "\n",
    "**Topics**\n",
    "\n",
    "* R `ggplot2` package basics\n",
    "* Geometric objects and aesthetics\n",
    "* Aesthetic inheritance\n",
    "* Aesthetic mapping versus assignment\n",
    "* Statistical transformations\n",
    "* Add and modify scales and legends\n",
    "* Statify plots using facets\n",
    "* Manipulate plot labels\n",
    "* Change and create plot themes"
   ]
  },
  {
   "cell_type": "markdown",
   "metadata": {},
   "source": [
    "## Setup\n",
    "\n",
    "### Software and Materials\n",
    "\n",
    "Follow the [R Installation](./Rinstall.html) instructions and ensure that you can successfully start RStudio.\n",
    "\n",
    "### Class Structure\n",
    "\n",
    "Informal - Ask questions at any time. Really!\n",
    "\n",
    "Collaboration is encouraged - please spend a minute introducing yourself to your neighbors!\n",
    "\n",
    "### Prerequisites\n",
    "\n",
    "This is an intermediate R course:\n",
    "\n",
    "* Assumes working knowledge of R\n",
    "* Relatively fast-paced\n",
    "\n",
    "### Launch an R session\n",
    "\n",
    "Start RStudio and create a new project:\n",
    "\n",
    "* On Windows click the start button and search for RStudio. On Mac RStudio will be in your applications folder.\n",
    "* In Rstudio go to `File -> New Project`.\n",
    "* Choose `Existing Directory` and browse to the workshop materials directory on your desktop.\n",
    "* Choose `File -> Open File` and select the file with the word \"BLANK\" in the name.\n",
    "\n",
    "### Packages\n",
    "\n",
    "You should have already installed the `tidyverse` and `rmarkdown` packages onto your computer before the workshop --- see [R Installation](./Rinstall.html). Now let's load these packages into the search path of our R session."
   ]
  },
  {
   "cell_type": "code",
   "execution_count": null,
   "metadata": {},
   "outputs": [],
   "source": [
    "library(tidyverse)\n",
    "library(rmarkdown)"
   ]
  },
  {
   "cell_type": "markdown",
   "metadata": {},
   "source": [
    "The `ggplot2` package is contained within `tidyverse`, but we also want to install two additional packages, `scales` and `ggrepel`, which provide additional functionality."
   ]
  },
  {
   "cell_type": "code",
   "execution_count": null,
   "metadata": {},
   "outputs": [],
   "source": [
    "# install.packages(\"scales\")\n",
    "library(scales)\n",
    "\n",
    "# install.packages(\"ggrepel\") \n",
    "library(ggrepel)"
   ]
  },
  {
   "cell_type": "markdown",
   "metadata": {},
   "source": [
    "### Goals\n",
    "\n",
    "<div class=\"alert alert-success\">\n",
    "We will learn about the `grammar of graphics` --- a system for understanding the building blocks of a graph --- using the `ggplot2` package. In particular, we'll learn about:  \n",
    "\n",
    "1.  Basic plots, **aesthetic mapping and inheritance**\n",
    "2.  Tailoring **statistical transformations** to particular plots\n",
    "3.  **Modifying scales** to change axes and add labels\n",
    "4.  **Faceting** to create many small plots\n",
    "5.  Changing plot **themes**\n",
    "</div>\n",
    "\n",
    "## Why `ggplot2`?\n",
    "\n",
    "`ggplot2` is a package within in the `tidyverse` suite of packages. Advantages of `ggplot2` include:\n",
    "\n",
    "* consistent underlying `grammar of graphics` (Wilkinson, 2005)\n",
    "* very flexible --- plot specification at a high level of abstraction\n",
    "* theme system for polishing plot appearance\n",
    "* many users, active mailing list\n",
    "\n",
    "That said, there are some things you cannot do with `ggplot2`:\n",
    "\n",
    "* 3-dimensional graphics (see `rayshader` or the `rgl` package)\n",
    "* Graph-theory type graphs (see `ggraph` or the `igraph` package)\n",
    "* Interactive graphics (see the `ggvis` package)\n",
    "\n",
    "### `ggplot2` ecosystem\n",
    "\n",
    "The `ggplot2` package has spawned a whole ecosystem of packages that extend the functionality of the base package. There are currently 80+ packages that offer many different options, including animated graphs (`gganimate`), interactive graphs (`ggvis`), network graphs (`ggraph`), 3D graphs (`rayshader`), adding results from statistical tests (`ggstatsplot`), and additional themes (`ggthemes`). A gallery of some of the available extensions can be found here: <https://exts.ggplot2.tidyverse.org/gallery/>.\n",
    "\n",
    "### What is the Grammar Of Graphics?\n",
    "\n",
    "The basic idea: independently specify plot building blocks and combine them to create just about any kind of graphical display you want. Building blocks of a graph include the following (**bold denotes essential elements**):\n",
    "\n",
    "* **data**\n",
    "* **aesthetic mapping**\n",
    "* **geometric object**\n",
    "* statistical transformations\n",
    "* scales\n",
    "* coordinate system\n",
    "* position adjustments\n",
    "* faceting\n",
    "* themes\n",
    "\n",
    "By the end of this workshop, you should understand what these building blocks do and how to use them to create the following plot:\n",
    "\n",
    "![](R/Rgraphics/images/final_plot.png)"
   ]
  },
  {
   "cell_type": "markdown",
   "metadata": {},
   "source": [
    "### `ggplot2` VS base graphics\n",
    "\n",
    "Compared to base graphics, `ggplot2`\n",
    "\n",
    "* is more verbose for simple / canned graphics\n",
    "* is less verbose for complex / custom graphics\n",
    "* does not have methods (data should always be in a `data.frame`)\n",
    "* has sensible defaults for generating legends"
   ]
  },
  {
   "cell_type": "markdown",
   "metadata": {},
   "source": [
    "## Geometric objects & aesthetics\n",
    "\n",
    "### Aesthetic mapping\n",
    "\n",
    "In ggplot land *aesthetic* means \"something you can see\". Examples include:\n",
    "\n",
    "* position (i.e., on the x and y axes)\n",
    "* color (\"outside\" color)\n",
    "* fill (\"inside\" color)\n",
    "* shape (of points)\n",
    "* linetype\n",
    "* size\n",
    "\n",
    "Each type of geom accepts only a subset of all aesthetics; refer to the geom help pages to see what mappings each geom accepts. Aesthetic mappings are set with the `aes()` function.\n",
    "\n",
    "### Geometric objects (`geom`)\n",
    "\n",
    "Geometric objects are the actual marks we put on a plot. Examples include:\n",
    "\n",
    "* points (`geom_point()`, for scatter plots, dot plots, etc.)\n",
    "* lines (`geom_line()`, for time series, trend lines, etc.)\n",
    "* boxplot (`geom_boxplot()`, for boxplots!)\n",
    "\n",
    "A plot **must have at least one geom**; there is no upper limit. You can add a geom to a plot using the `+` operator.\n",
    "\n",
    "Each `geom_` has a particular set of aesthetic mappings associated with it. Some examples are provided below, with required aesthetics in **bold** and optional aesthetics in plain text:\n",
    "\n",
    "| `geom_`          | Usage             | Aesthetics                                                                      |\n",
    "|:-----------------|:------------------|:-----------------------------------------------------------------------------------------|\n",
    "| `geom_point()`   | Scatter plot      |**`x`**,**`y`**,`alpha`,`color`,`fill`,`group`,`shape`,`size`,`stroke`                    |\n",
    "| `geom_line()`    | Line plot         |**`x`**,**`y`**,`alpha`,`color`,`linetype`,`size`                                         |\n",
    "| `geom_bar()`     | Bar chart         |**`x`**,**`y`**,`alpha`,`color`,`fill`,`group`,`linetype`,`size`                          |\n",
    "| `geom_boxplot()` | Boxplot           |**`x`**,**`lower`**,**`upper`**,**`middle`**,**`ymin`**,**`ymax`**,`alpha`,`color`,`fill` |\n",
    "| `geom_density()` | Density plot      |**`x`**,**`y`**,`alpha`,`color`,`fill`,`group`,`linetype`,`size`,`weight`                 |\n",
    "| `geom_smooth()`  | Conditional means |**`x`**,**`y`**,`alpha`,`color`,`fill`,`group`,`linetype`,`size`,`weight`                 |\n",
    "| `geom_label()`   | Text              |**`x`**,**`y`**,**`label`**,`alpha`,`angle`,`color`,`family`,`fontface`,`size`            |\n",
    "\n",
    "You can get a list of all available geometric objects and their associated aesthetics at <https://ggplot2.tidyverse.org/reference/>. Or, simply type `geom_<tab>` in any good R IDE (such as Rstudio) to see a list of functions starting with `geom_`."
   ]
  },
  {
   "cell_type": "markdown",
   "metadata": {},
   "source": [
    "#### Points (scatterplot)\n",
    "\n",
    "Now that we know about geometric objects and aesthetic mapping, we can make a ggplot. To add points to a plot, `geom_point()` requires mappings for x and y, all others are optional.\n",
    "\n",
    "**Example data: housing prices**\n",
    "\n",
    "Let's look at data on housing prices."
   ]
  },
  {
   "cell_type": "code",
   "execution_count": null,
   "metadata": {},
   "outputs": [],
   "source": [
    "housing <- read_csv(\"dataSets/landdata-states.csv\")\n",
    "head(housing[1:5]) # view first 5 columns\n",
    "\n",
    "# create a subset for 1st quarter 2001\n",
    "hp2001Q1 <- housing %>% filter(Date == 2001.25)"
   ]
  },
  {
   "cell_type": "markdown",
   "metadata": {},
   "source": [
    "**Step 1:** create a blank canvas by specifying data:"
   ]
  },
  {
   "cell_type": "code",
   "execution_count": null,
   "metadata": {},
   "outputs": [],
   "source": [
    "ggplot(data = hp2001Q1)"
   ]
  },
  {
   "cell_type": "markdown",
   "metadata": {},
   "source": [
    "**Step 2:** specify aesthetic mappings (how you want to map variables to visual aspects):"
   ]
  },
  {
   "cell_type": "code",
   "execution_count": null,
   "metadata": {},
   "outputs": [],
   "source": [
    "# here we map \"Land_Value\" and \"Structure_Cost\" to the x- and y-axes.\n",
    "ggplot(data = hp2001Q1, mapping = aes(x = Land_Value, y = Structure_Cost))"
   ]
  },
  {
   "cell_type": "markdown",
   "metadata": {},
   "source": [
    "**Step 3:** add new layers of geometric objects that will show up on the plot: "
   ]
  },
  {
   "cell_type": "code",
   "execution_count": null,
   "metadata": {
    "lines_to_next_cell": 2
   },
   "outputs": [],
   "source": [
    "# here we use geom_point() to add a layer with point (dot) elements \n",
    "# as the geometric shapes to represent the data.\n",
    "ggplot(data = hp2001Q1, mapping = aes(x = Land_Value, y = Structure_Cost)) +\n",
    "  geom_point()"
   ]
  },
  {
   "cell_type": "markdown",
   "metadata": {},
   "source": [
    "#### Lines (prediction line)\n",
    "\n",
    "A plot constructed with `ggplot()` can have more than one geom. In that case the mappings established in the `ggplot()` call are plot defaults that can be added to or overridden --- this is referred to as **aesthetic inheritance**. Our plot could use a regression line:"
   ]
  },
  {
   "cell_type": "code",
   "execution_count": null,
   "metadata": {
    "lines_to_next_cell": 2
   },
   "outputs": [],
   "source": [
    "# get predicted values from a linear regression\n",
    "hp2001Q1$pred_SC <- lm(Structure_Cost ~ log(Land_Value), data = hp2001Q1) %>%\n",
    "  predict()\n",
    "\n",
    "# here we store the 'base plot' - without geometric objects - in the object 'p1'\n",
    "p1 <- ggplot(hp2001Q1, aes(x = log(Land_Value), y = Structure_Cost))\n",
    "\n",
    "# we can then add geometric objects to our base plot 'p1'\n",
    "p1 + geom_point(aes(color = Home_Value)) + # values for x and y are inherited from the ggplot() call above\n",
    "     geom_line(aes(y = pred_SC)) # add predicted values to the plot overriding the y values from the ggplot() call above"
   ]
  },
  {
   "cell_type": "markdown",
   "metadata": {},
   "source": [
    "#### Smoothers\n",
    "\n",
    "Not all geometric objects are simple shapes; the smooth geom includes a line and a ribbon."
   ]
  },
  {
   "cell_type": "code",
   "execution_count": null,
   "metadata": {
    "lines_to_next_cell": 2
   },
   "outputs": [],
   "source": [
    "# add smooth geom to base plot\n",
    "p1 +\n",
    "  geom_point(aes(color = Home_Value)) +\n",
    "  geom_smooth()"
   ]
  },
  {
   "cell_type": "markdown",
   "metadata": {},
   "source": [
    "#### Text (label points)\n",
    "\n",
    "Each geom accepts a particular set of mappings; for example `geom_text()` accepts a `label` mapping."
   ]
  },
  {
   "cell_type": "code",
   "execution_count": null,
   "metadata": {},
   "outputs": [],
   "source": [
    "# add text geom to base plot\n",
    "p1 + \n",
    "  geom_text(aes(label = State), size = 3)"
   ]
  },
  {
   "cell_type": "markdown",
   "metadata": {},
   "source": [
    "But what if we want to include points and labels? We can use `geom_text_repel()` to keep labels from overlapping the points and each other."
   ]
  },
  {
   "cell_type": "code",
   "execution_count": null,
   "metadata": {
    "lines_to_next_cell": 2
   },
   "outputs": [],
   "source": [
    "# add points and text geoms to base plot\n",
    "p1 + \n",
    "  geom_point() + \n",
    "  geom_text_repel(aes(label = State), size = 3)"
   ]
  },
  {
   "cell_type": "markdown",
   "metadata": {},
   "source": [
    "### Aesthetic mapping VS assignment\n",
    "\n",
    "1.  Variables are **mapped** to aesthetics inside the `aes()` function:"
   ]
  },
  {
   "cell_type": "code",
   "execution_count": null,
   "metadata": {},
   "outputs": [],
   "source": [
    "# map `Home_Value` to point size\n",
    "p1 +\n",
    "  geom_point(aes(size = Home_Value))"
   ]
  },
  {
   "cell_type": "markdown",
   "metadata": {},
   "source": [
    "2.  Constants are **assigned** to aesthetics outside the `aes()` call:"
   ]
  },
  {
   "cell_type": "code",
   "execution_count": null,
   "metadata": {},
   "outputs": [],
   "source": [
    "# assign all points a size of 2\n",
    "p1 +\n",
    "  geom_point(size = 2)"
   ]
  },
  {
   "cell_type": "markdown",
   "metadata": {},
   "source": [
    "This sometimes leads to confusion, as in this example:"
   ]
  },
  {
   "cell_type": "code",
   "execution_count": null,
   "metadata": {
    "lines_to_next_cell": 2
   },
   "outputs": [],
   "source": [
    "p1 +\n",
    "  geom_point(aes(size = 2),# incorrect! 2 is not a variable\n",
    "             color = \"red\") # this is fine -- all points red"
   ]
  },
  {
   "cell_type": "markdown",
   "metadata": {},
   "source": [
    "### Mapping variables to other aesthetics\n",
    "\n",
    "Other aesthetics are mapped in the same way as x and y in the previous example."
   ]
  },
  {
   "cell_type": "code",
   "execution_count": null,
   "metadata": {
    "lines_to_next_cell": 2
   },
   "outputs": [],
   "source": [
    "# map `Home_Value` to color and `Region` to shape \n",
    "p1 +\n",
    "  geom_point(aes(color = Home_Value, shape = Region))"
   ]
  },
  {
   "cell_type": "markdown",
   "metadata": {},
   "source": [
    "### Exercise 0\n",
    "\n",
    "The data for the next few exercises is available in the `dataSets/EconomistData.csv` file. Read it in with:"
   ]
  },
  {
   "cell_type": "code",
   "execution_count": null,
   "metadata": {},
   "outputs": [],
   "source": [
    "dat <- read_csv(\"dataSets/EconomistData.csv\")"
   ]
  },
  {
   "cell_type": "markdown",
   "metadata": {
    "lines_to_next_cell": 0
   },
   "source": [
    "Original sources for these data are <http://www.transparency.org/content/download/64476/1031428> and <http://hdrstats.undp.org/en/indicators/display_cf_xls_indicator.cfm?indicator_id=103106&lang=en>\n",
    "\n",
    "These data consist of *Human Development Index* and *Corruption Perception Index* scores for several countries.\n",
    "\n",
    "1.  Create a scatter plot with `CPI` on the x axis and `HDI` on the y axis."
   ]
  },
  {
   "cell_type": "code",
   "execution_count": null,
   "metadata": {},
   "outputs": [],
   "source": [
    "## "
   ]
  },
  {
   "cell_type": "markdown",
   "metadata": {
    "lines_to_next_cell": 0
   },
   "source": [
    "2.  Color the points in the previous plot blue."
   ]
  },
  {
   "cell_type": "code",
   "execution_count": null,
   "metadata": {},
   "outputs": [],
   "source": [
    "## "
   ]
  },
  {
   "cell_type": "markdown",
   "metadata": {
    "lines_to_next_cell": 0
   },
   "source": [
    "3.  Map the color of the the points to `Region`."
   ]
  },
  {
   "cell_type": "code",
   "execution_count": null,
   "metadata": {},
   "outputs": [],
   "source": [
    "## "
   ]
  },
  {
   "cell_type": "markdown",
   "metadata": {
    "lines_to_next_cell": 0
   },
   "source": [
    "4.  Keeping color mapped to `Region`, make the points bigger by setting size to 2"
   ]
  },
  {
   "cell_type": "code",
   "execution_count": null,
   "metadata": {},
   "outputs": [],
   "source": [
    "## "
   ]
  },
  {
   "cell_type": "markdown",
   "metadata": {
    "lines_to_next_cell": 0
   },
   "source": [
    "5.  Keeping color mapped to `Region`, map the size of the points to `HDI_Rank`"
   ]
  },
  {
   "cell_type": "code",
   "execution_count": null,
   "metadata": {},
   "outputs": [],
   "source": [
    "## "
   ]
  },
  {
   "cell_type": "markdown",
   "metadata": {},
   "source": [
    "<details>\n",
    "  <summary><span style=\"color:red\"><b>Click for Exercise 0 Solution</b></span></summary>\n",
    "  <div class=\"alert alert-danger\">\n",
    "\n",
    "1.  Create a scatter plot with `CPI` on the x axis and `HDI` on the y axis."
   ]
  },
  {
   "cell_type": "code",
   "execution_count": null,
   "metadata": {},
   "outputs": [],
   "source": [
    "ggplot(dat, aes(x = CPI, y = HDI)) +\n",
    "  geom_point()"
   ]
  },
  {
   "cell_type": "markdown",
   "metadata": {},
   "source": [
    "2.  Color the points in the previous plot blue."
   ]
  },
  {
   "cell_type": "code",
   "execution_count": null,
   "metadata": {},
   "outputs": [],
   "source": [
    "ggplot(dat, aes(x = CPI, y = HDI)) +\n",
    "  geom_point(color = \"blue\")"
   ]
  },
  {
   "cell_type": "markdown",
   "metadata": {},
   "source": [
    "3.  Map the color of the the points to `Region`."
   ]
  },
  {
   "cell_type": "code",
   "execution_count": null,
   "metadata": {},
   "outputs": [],
   "source": [
    "ggplot(dat, aes(x = CPI, y = HDI)) +\n",
    "  geom_point(aes(color = Region))"
   ]
  },
  {
   "cell_type": "markdown",
   "metadata": {},
   "source": [
    "4.  Keeping color mapped to `Region`, make the points bigger by setting size to 2."
   ]
  },
  {
   "cell_type": "code",
   "execution_count": null,
   "metadata": {},
   "outputs": [],
   "source": [
    "ggplot(dat, aes(x = CPI, y = HDI)) +\n",
    "  geom_point(aes(color = Region), size = 2)"
   ]
  },
  {
   "cell_type": "markdown",
   "metadata": {},
   "source": [
    "5.  Keeping color mapped to `Region`, map the size of the points to `HDI_Rank`."
   ]
  },
  {
   "cell_type": "code",
   "execution_count": null,
   "metadata": {
    "lines_to_next_cell": 0
   },
   "outputs": [],
   "source": [
    "ggplot(dat, aes(x = CPI, y = HDI)) +\n",
    "geom_point(aes(color = Region, size =  HDI_Rank))"
   ]
  },
  {
   "cell_type": "markdown",
   "metadata": {},
   "source": [
    "</div>\n",
    "</details>"
   ]
  },
  {
   "cell_type": "markdown",
   "metadata": {},
   "source": [
    "## Statistical transformations\n",
    "\n",
    "### Why transform data?\n",
    "\n",
    "Some plot types (such as scatterplots) do not require transformations; each point is plotted at x and y coordinates equal to the original value. Other plots, such as boxplots, histograms, prediction lines etc. require statistical transformations:\n",
    "\n",
    "* For a boxplot, the y values must be transformed to the median, quartiles, and 1.5 times the interquartile range.\n",
    "* For a smoother, the y values must be transformed into predicted mean values"
   ]
  },
  {
   "cell_type": "markdown",
   "metadata": {},
   "source": [
    "### Setting arguments\n",
    "\n",
    "Each `geom_` function has a default statistic that it is paired with and, likewise, each `stat_` function has a default geometic object that it is paired with. For example, the default statistic for `geom_histogram()` is \"bin\" (called by the `stat_bin()` function), while the default geometric object for `stat_bin()` is \"bar\" (called by the `geom_bar()` function). These defaults can be changed. \n",
    "\n",
    "Arguments to `stat_` functions can be passed through `geom_` functions and vice versa. This can be slightly annoying, because if you are using a `geom_` function, in order to specify some arguments you may have to first determine which statistic the geometric object uses, then determine the arguments to that `stat_` function.\n",
    "\n",
    "Let's look at the arguments for the histogram geometric object (`geom_histogram()`):"
   ]
  },
  {
   "cell_type": "code",
   "execution_count": null,
   "metadata": {},
   "outputs": [],
   "source": [
    "args(geom_histogram)"
   ]
  },
  {
   "cell_type": "markdown",
   "metadata": {},
   "source": [
    "Notice that the third argument is `stat = \"bin\"`, which calls the `stat_bin()` function. This is how the histogram geom is, by default, paired with the bin statistic. The fifth argument is `...`, which allows us to pass certain arguments to `stat_bin()` through our call to `geom_histogram()`. Now let's look at the arguments available through `stat_bin()`:"
   ]
  },
  {
   "cell_type": "code",
   "execution_count": null,
   "metadata": {},
   "outputs": [],
   "source": [
    "args(stat_bin)"
   ]
  },
  {
   "cell_type": "markdown",
   "metadata": {},
   "source": [
    "The tenth argument is `breaks`, which allows us to supply a numeric vector of bin boundaries. Notice that this argument is *not* available in `geom_histogram()`, but we can still supply the argument and it will be passed to `stat_bin()` through the `...` argument.\n",
    "\n",
    "For example, here is the default histogram of `Home_Value`:"
   ]
  },
  {
   "cell_type": "code",
   "execution_count": null,
   "metadata": {},
   "outputs": [],
   "source": [
    "# histogram of `Home_Value`\n",
    "p2 <- ggplot(housing, aes(x = Home_Value))\n",
    "p2 + geom_histogram()"
   ]
  },
  {
   "cell_type": "markdown",
   "metadata": {},
   "source": [
    "We can change the boundaries for the bins by passing the `breaks` argument through `geom_histogram()` to the `stat_bin()` function:"
   ]
  },
  {
   "cell_type": "code",
   "execution_count": null,
   "metadata": {},
   "outputs": [],
   "source": [
    "# change bin boundaries for histogram\n",
    "p2 + geom_histogram(breaks = seq(0, 875000, by = 250))"
   ]
  },
  {
   "cell_type": "markdown",
   "metadata": {},
   "source": [
    "For reference, here is a list of geometric objects and their default statistics <https://ggplot2.tidyverse.org/reference/>."
   ]
  },
  {
   "cell_type": "markdown",
   "metadata": {},
   "source": [
    "### Changing the transformation\n",
    "\n",
    "Sometimes the default statistical transformation is not what you need. This is often the case with pre-summarized data. Let's create a new variable `Home_Value_Mean` that is the mean of `Home_Value` for each `State`:"
   ]
  },
  {
   "cell_type": "code",
   "execution_count": null,
   "metadata": {},
   "outputs": [],
   "source": [
    "# create new variable that is the mean of 'Home Value' for each 'State'\n",
    "housing_sum <- \n",
    "  housing %>%\n",
    "  group_by(State) %>%\n",
    "  summarize(Home_Value_Mean = mean(Home_Value)) %>%\n",
    "  ungroup()\n",
    "\n",
    "head(housing_sum)"
   ]
  },
  {
   "cell_type": "markdown",
   "metadata": {},
   "source": [
    "Now let's try to create a bar chart using this pre-summarized data:"
   ]
  },
  {
   "cell_type": "code",
   "execution_count": null,
   "metadata": {
    "error": true,
    "eval": false
   },
   "outputs": [],
   "source": [
    "# barchart using pre-summarized data\n",
    "ggplot(housing_sum, aes(x = State, y = Home_Value_Mean)) + \n",
    "  geom_bar()\n",
    "\n",
    "## Error: stat_count() must not be used with a y aesthetic.  "
   ]
  },
  {
   "cell_type": "markdown",
   "metadata": {},
   "source": [
    "What is the problem with the previous plot? Basically, we take binned and summarized data and ask `ggplot()` to bin and summarize it again (`geom_bar()` defaults to `stat = stat_count`). Obviously this will not work. We can fix it by telling `geom_bar()` to use a different statistical transformation function. The `identity` function returns the same output as the input."
   ]
  },
  {
   "cell_type": "code",
   "execution_count": null,
   "metadata": {
    "lines_to_next_cell": 2
   },
   "outputs": [],
   "source": [
    "# change the statistical transformation function\n",
    "ggplot(housing_sum, aes(x = State, y = Home_Value_Mean)) + \n",
    "  geom_bar(stat = \"identity\")"
   ]
  },
  {
   "cell_type": "markdown",
   "metadata": {
    "lines_to_next_cell": 0
   },
   "source": [
    "### Exercise 1\n",
    "\n",
    "1.  Re-create a scatter plot with `CPI` on the x axis and `HDI` on the y axis (as you did in the previous exercise)."
   ]
  },
  {
   "cell_type": "code",
   "execution_count": null,
   "metadata": {},
   "outputs": [],
   "source": [
    "## "
   ]
  },
  {
   "cell_type": "markdown",
   "metadata": {
    "lines_to_next_cell": 0
   },
   "source": [
    "2.  Overlay a smoothing line on top of the scatter plot using `geom_smooth()`."
   ]
  },
  {
   "cell_type": "code",
   "execution_count": null,
   "metadata": {},
   "outputs": [],
   "source": [
    "## "
   ]
  },
  {
   "cell_type": "markdown",
   "metadata": {
    "lines_to_next_cell": 0
   },
   "source": [
    "3.  Make the smoothing line in `geom_smooth()` less smooth. Hint: see `?loess`."
   ]
  },
  {
   "cell_type": "code",
   "execution_count": null,
   "metadata": {},
   "outputs": [],
   "source": [
    "## "
   ]
  },
  {
   "cell_type": "markdown",
   "metadata": {
    "lines_to_next_cell": 0
   },
   "source": [
    "4.  Change the smoothing line in `geom_smooth()` to use a linear model for the predictions. Hint: see `?stat_smooth`."
   ]
  },
  {
   "cell_type": "code",
   "execution_count": null,
   "metadata": {},
   "outputs": [],
   "source": [
    "## "
   ]
  },
  {
   "cell_type": "markdown",
   "metadata": {
    "lines_to_next_cell": 0
   },
   "source": [
    "5.  BONUS 1: Allow the smoothing line created in the last plot to vary across the levels of `Region`. Hint: map `Region` to the color and fill aesthetics."
   ]
  },
  {
   "cell_type": "code",
   "execution_count": null,
   "metadata": {},
   "outputs": [],
   "source": [
    "## "
   ]
  },
  {
   "cell_type": "markdown",
   "metadata": {
    "lines_to_next_cell": 0
   },
   "source": [
    "6.  BONUS 2: Overlay a loess `(method = \"loess\")` smoothing line on top of the scatter plot using `geom_line()`. Hint: change the statistical transformation."
   ]
  },
  {
   "cell_type": "code",
   "execution_count": null,
   "metadata": {},
   "outputs": [],
   "source": [
    "## "
   ]
  },
  {
   "cell_type": "markdown",
   "metadata": {},
   "source": [
    "<details>\n",
    "  <summary><span style=\"color:red\"><b>Click for Exercise 1 Solution</b></span></summary>\n",
    "  <div class=\"alert alert-danger\">\n",
    "\n",
    "1.  Re-create a scatter plot with `CPI` on the x axis and `HDI` on the y axis (as you did in the previous exercise)."
   ]
  },
  {
   "cell_type": "code",
   "execution_count": null,
   "metadata": {},
   "outputs": [],
   "source": [
    "ggplot(dat, aes(x = CPI, y = HDI)) +\n",
    "  geom_point()"
   ]
  },
  {
   "cell_type": "markdown",
   "metadata": {},
   "source": [
    "2.  Overlay a smoothing line on top of the scatter plot using `geom_smooth()`."
   ]
  },
  {
   "cell_type": "code",
   "execution_count": null,
   "metadata": {},
   "outputs": [],
   "source": [
    "ggplot(dat, aes(x = CPI, y = HDI)) +\n",
    "  geom_point() +\n",
    "  geom_smooth()"
   ]
  },
  {
   "cell_type": "markdown",
   "metadata": {},
   "source": [
    "3.  Make the smoothing line in `geom_smooth()` less smooth. Hint: see `?loess`."
   ]
  },
  {
   "cell_type": "code",
   "execution_count": null,
   "metadata": {},
   "outputs": [],
   "source": [
    "ggplot(dat, aes(x = CPI, y = HDI)) +\n",
    "  geom_point() +\n",
    "  geom_smooth(span = .4)"
   ]
  },
  {
   "cell_type": "markdown",
   "metadata": {},
   "source": [
    "4.  Change the smoothing line in `geom_smooth()` to use a linear model for the predictions. Hint: see `?stat_smooth`."
   ]
  },
  {
   "cell_type": "code",
   "execution_count": null,
   "metadata": {},
   "outputs": [],
   "source": [
    "ggplot(dat, aes(x = CPI, y = HDI)) +\n",
    "  geom_point() +\n",
    "  geom_smooth(method = \"lm\")"
   ]
  },
  {
   "cell_type": "markdown",
   "metadata": {},
   "source": [
    "5.  BONUS 1: Allow the smoothing line created in the last plot to vary across the levels of `Region`. Hint: map `Region` to the color and fill aesthetics."
   ]
  },
  {
   "cell_type": "code",
   "execution_count": null,
   "metadata": {},
   "outputs": [],
   "source": [
    "ggplot(dat, aes(x = CPI, y = HDI, color = Region, fill = Region)) +\n",
    "  geom_point() +\n",
    "  geom_smooth(method = \"lm\")"
   ]
  },
  {
   "cell_type": "markdown",
   "metadata": {},
   "source": [
    "6.  BONUS 2: Overlay a loess `(method = \"loess\")` smoothing line on top of the scatter plot using `geom_line()`. Hint: change the statistical transformation."
   ]
  },
  {
   "cell_type": "code",
   "execution_count": null,
   "metadata": {
    "lines_to_next_cell": 0
   },
   "outputs": [],
   "source": [
    "ggplot(dat, aes(x = CPI, y = HDI)) +\n",
    "  geom_point() +\n",
    "  geom_line(stat = \"smooth\", method = \"loess\")"
   ]
  },
  {
   "cell_type": "markdown",
   "metadata": {},
   "source": [
    "</div>\n",
    "</details>"
   ]
  },
  {
   "cell_type": "markdown",
   "metadata": {},
   "source": [
    "## Scales\n",
    "\n",
    "### Controlling aesthetic mapping\n",
    "\n",
    "Aesthetic mapping (i.e., with `aes()`) only says that a variable should be mapped to an aesthetic. It doesn't say *how* that should happen. For example, when mapping a variable to *shape* with `aes(shape = x)` you don't say *what* shapes should be used. Similarly, `aes(color = y)` doesn't say *what* colors should be used. Also, `aes(size = z)` doesn't say *what* sizes should be used. Describing what colors/shapes/sizes etc. to use is done by modifying the corresponding *scale*. In `ggplot2` scales include:\n",
    "\n",
    "* position\n",
    "* color and fill\n",
    "* size\n",
    "* shape\n",
    "* line type\n",
    "\n",
    "Scales are modified with a series of functions using a `scale_<aesthetic>_<type>` naming scheme. Try typing `scale_<tab>` to see a list of scale modification functions.\n",
    "\n",
    "### Common scale arguments\n",
    "\n",
    "The following arguments are common to most scales in `ggplot2`:\n",
    "\n",
    "* **name:** the axis or legend title\n",
    "* **limits:** the minimum and maximum of the scale\n",
    "* **breaks:** the points along the scale where labels should appear\n",
    "* **labels:** the labels that appear at each break\n",
    "\n",
    "Specific scale functions may have additional arguments; for example, the `scale_color_continuous()` function has arguments `low` and `high` for setting the colors at the low and high end of the scale.\n",
    "\n",
    "### Scale modification examples\n",
    "\n",
    "Start by constructing a dotplot showing the distribution of home values by `Date` and `State`."
   ]
  },
  {
   "cell_type": "code",
   "execution_count": null,
   "metadata": {},
   "outputs": [],
   "source": [
    "# base dotplot\n",
    "p3 <- ggplot(housing, aes(x = State, y = Home_Price_Index)) + \n",
    "    geom_point(aes(color = Date), alpha = 0.5, size = 1.5,\n",
    "               position = position_jitter(width = 0.25, height = 0))"
   ]
  },
  {
   "cell_type": "markdown",
   "metadata": {},
   "source": [
    "Now modify the breaks and shorten the labels for the color scales:"
   ]
  },
  {
   "cell_type": "code",
   "execution_count": null,
   "metadata": {},
   "outputs": [],
   "source": [
    "# modify color scale breaks and labels\n",
    "p3 + \n",
    "  scale_color_continuous(name=\"\",\n",
    "                         breaks = c(1976, 1994, 2013),\n",
    "                         labels = c(\"'76\", \"'94\", \"'13\"))"
   ]
  },
  {
   "cell_type": "markdown",
   "metadata": {},
   "source": [
    "Next change the low and high values to blue and red:"
   ]
  },
  {
   "cell_type": "code",
   "execution_count": null,
   "metadata": {
    "lines_to_next_cell": 2
   },
   "outputs": [],
   "source": [
    "# modify color scale low and high values\n",
    "p3 +\n",
    "  scale_color_continuous(name=\"\",\n",
    "                         breaks = c(1976, 1994, 2013),\n",
    "                         labels = c(\"'76\", \"'94\", \"'13\"),\n",
    "                         low = \"blue\", high = \"red\")\n"
   ]
  },
  {
   "cell_type": "markdown",
   "metadata": {},
   "source": [
    "### Using different color scales\n",
    "\n",
    "`ggplot2` has a wide variety of color scales; here is an example using `scale_color_gradient2()` to interpolate between three different colors."
   ]
  },
  {
   "cell_type": "code",
   "execution_count": null,
   "metadata": {
    "lines_to_next_cell": 2
   },
   "outputs": [],
   "source": [
    "# modify color scale to interpolate between three different colors\n",
    "p3 +\n",
    "  scale_color_gradient2(name=\"\",\n",
    "                        breaks = c(1976, 1994, 2013),\n",
    "                        labels = c(\"'76\", \"'94\", \"'13\"),\n",
    "                        low = \"blue\",\n",
    "                        high = \"red\",\n",
    "                        mid = \"gray60\",\n",
    "                        midpoint = 1994)"
   ]
  },
  {
   "cell_type": "markdown",
   "metadata": {},
   "source": [
    "### Available scales\n",
    "\n",
    "Here's a partial combination matrix of available scales:\n",
    "\n",
    "| `scale_`          | Types        |  Examples                   |\n",
    "|:------------------|:-------------|:----------------------------|\n",
    "| `scale_color_`    | `identity`   | `scale_fill_continuous()`   |\n",
    "| `scale_fill_`     | `manual`     | `scale_color_discrete()`    |\n",
    "| `scale_size_`     | `continuous` | `scale_size_manual()`       |\n",
    "|                   | `discrete`   | `scale_size_discrete()`     |\n",
    "|                   |              |                             |\n",
    "| `scale_shape_`    | `discrete`   | `scale_shape_discrete()`    |\n",
    "| `scale_linetype_` | `identity`   | `scale_shape_manual()`      |\n",
    "|                   | `manual`     | `scale_linetype_discrete()` |\n",
    "|                   |              |                             |\n",
    "| `scale_x_`        | `continuous` | `scale_x_continuous()`      |\n",
    "| `scale_y_`        | `discrete`   | `scale_y_discrete()`        |\n",
    "|                   | `reverse`    | `scale_x_log()`             |\n",
    "|                   | `log`        | `scale_y_reverse()`         |\n",
    "|                   | `date`       | `scale_x_date()`            |\n",
    "|                   | `datetime`   | `scale_y_datetime()`        |\n",
    "\n",
    "Note that in RStudio you can type `scale_` followed by `tab` to get the whole list of available scales. For a complete list of available scales see <https://ggplot2.tidyverse.org/reference/>."
   ]
  },
  {
   "cell_type": "markdown",
   "metadata": {
    "lines_to_next_cell": 0
   },
   "source": [
    "### Exercise 2\n",
    "\n",
    "1.  Create a scatter plot with `CPI` on the x axis and `HDI` on the y axis. Color the points to indicate `Region`."
   ]
  },
  {
   "cell_type": "code",
   "execution_count": null,
   "metadata": {},
   "outputs": [],
   "source": [
    "## "
   ]
  },
  {
   "cell_type": "markdown",
   "metadata": {
    "lines_to_next_cell": 0
   },
   "source": [
    "2.  Modify the x, y, and color scales so that they have more easily-understood names (e.g., spell out \"Human development Index\" instead of `HDI`). Hint: see `?scale_x_continous`, `?scale_y_continuous`, and `?scale_color_discrete`."
   ]
  },
  {
   "cell_type": "code",
   "execution_count": null,
   "metadata": {},
   "outputs": [],
   "source": [
    "## "
   ]
  },
  {
   "cell_type": "markdown",
   "metadata": {
    "lines_to_next_cell": 0
   },
   "source": [
    "3.  Modify the color scale to use specific values of your choosing. Hint: see `?scale_color_manual`. NOTE: you can specify color by name (e.g., \"blue\") or by \"Hex value\" --- see <https://www.color-hex.com/>."
   ]
  },
  {
   "cell_type": "code",
   "execution_count": null,
   "metadata": {},
   "outputs": [],
   "source": [
    "## "
   ]
  },
  {
   "cell_type": "markdown",
   "metadata": {},
   "source": [
    "<details>\n",
    "  <summary><span style=\"color:red\"><b>Click for Exercise 2 Solution</b></span></summary>\n",
    "  <div class=\"alert alert-danger\">\n",
    "\n",
    "1.  Create a scatter plot with `CPI` on the x axis and `HDI` on the y axis. Color the points to indicate `Region`."
   ]
  },
  {
   "cell_type": "code",
   "execution_count": null,
   "metadata": {},
   "outputs": [],
   "source": [
    "ggplot(dat, aes(x = CPI, y = HDI, color = Region)) +\n",
    "  geom_point()"
   ]
  },
  {
   "cell_type": "markdown",
   "metadata": {},
   "source": [
    "2.  Modify the x, y, and color scales so that they have more easily-understood names (e.g., spell out \"Human development Index\" instead of `HDI`). Hint: see `?scale_x_continous`, `?scale_y_continuous`, and `?scale_color_discrete`."
   ]
  },
  {
   "cell_type": "code",
   "execution_count": null,
   "metadata": {},
   "outputs": [],
   "source": [
    "ggplot(dat, aes(x = CPI, y = HDI, color = Region)) +\n",
    "  geom_point() +\n",
    "  scale_x_continuous(name = \"Corruption Perception Index\") +\n",
    "  scale_y_continuous(name = \"Human Development Index\") +\n",
    "  scale_color_discrete(name = \"Region of the world\")"
   ]
  },
  {
   "cell_type": "markdown",
   "metadata": {},
   "source": [
    "3.  Modify the color scale to use specific values of your choosing. Hint: see `?scale_color_manual`. NOTE: you can specify color by name (e.g., \"blue\") or by \"Hex value\" --- see <https://www.color-hex.com/>."
   ]
  },
  {
   "cell_type": "code",
   "execution_count": null,
   "metadata": {
    "lines_to_next_cell": 0
   },
   "outputs": [],
   "source": [
    "ggplot(dat, aes(x = CPI, y = HDI, color = Region)) +\n",
    "  geom_point() +\n",
    "  scale_x_continuous(name = \"Corruption Perception Index\") +\n",
    "  scale_y_continuous(name = \"Human Development Index\") +\n",
    "  scale_color_manual(name = \"Region of the world\",\n",
    "                     values = c(\"red\", \"green\", \"blue\", \"orange\", \"grey\", \"brown\"))"
   ]
  },
  {
   "cell_type": "markdown",
   "metadata": {},
   "source": [
    "</div>\n",
    "</details>"
   ]
  },
  {
   "cell_type": "markdown",
   "metadata": {},
   "source": [
    "## Faceting\n",
    "\n",
    "### What is faceting?\n",
    "\n",
    "* Faceting is `ggplot2` parlance for **creating individual graphs for subsets of data**\n",
    "* `ggplot2` offers two functions for creating facets:\n",
    "    1.  `facet_wrap()`: define subsets as the levels of a single grouping variable\n",
    "    2.  `facet_grid()`: define subsets as the crossing of two grouping variables\n",
    "* Facets facilitate comparison among plots, not just of geoms within a plot\n",
    "\n",
    "### What is the trend in housing prices in each state?\n",
    "\n",
    "Start by using a technique we already know; map `State` to color:"
   ]
  },
  {
   "cell_type": "code",
   "execution_count": null,
   "metadata": {},
   "outputs": [],
   "source": [
    "# map `State` to color\n",
    "p4 <- ggplot(housing, aes(x = Date, y = Home_Value))\n",
    "p4 + geom_line(aes(color = State))  "
   ]
  },
  {
   "cell_type": "markdown",
   "metadata": {},
   "source": [
    "There are two problems here; there are too many states to distinguish each one by color, and the lines obscure one another.\n",
    "\n",
    "### Faceting to the rescue\n",
    "\n",
    "We can remedy the deficiencies of the previous plot by faceting by `State` rather than mapping `State` to color."
   ]
  },
  {
   "cell_type": "code",
   "execution_count": null,
   "metadata": {
    "lines_to_next_cell": 2
   },
   "outputs": [],
   "source": [
    "# facet by `State`\n",
    "p4 <- p4 + geom_line() +\n",
    "   facet_wrap(~ State, ncol = 10)\n",
    "p4"
   ]
  },
  {
   "cell_type": "markdown",
   "metadata": {},
   "source": [
    "## Themes\n",
    "\n",
    "### What are themes?\n",
    "\n",
    "The `ggplot2` theme system handles non-data plot elements such as:\n",
    "\n",
    "* Axis label properties (e.g., font, size, color, etc.)\n",
    "* Plot background\n",
    "* Facet label background\n",
    "* Legend appearance\n",
    "\n",
    "Built-in themes include:\n",
    "\n",
    "* `theme_gray()` (default)\n",
    "* `theme_bw()`\n",
    "* `theme_classic()`\n",
    "\n",
    "Here are a couple of examples:"
   ]
  },
  {
   "cell_type": "code",
   "execution_count": null,
   "metadata": {},
   "outputs": [],
   "source": [
    "# theme linedraw\n",
    "p4 + theme_linedraw()"
   ]
  },
  {
   "cell_type": "code",
   "execution_count": null,
   "metadata": {},
   "outputs": [],
   "source": [
    "# theme light\n",
    "p4 + theme_light()"
   ]
  },
  {
   "cell_type": "markdown",
   "metadata": {},
   "source": [
    "You can see a list of available built-in themes here: <https://ggplot2.tidyverse.org/reference/>."
   ]
  },
  {
   "cell_type": "markdown",
   "metadata": {},
   "source": [
    "### Overriding theme defaults\n",
    "\n",
    "Specific theme elements can be overridden using `theme()`. For example:"
   ]
  },
  {
   "cell_type": "code",
   "execution_count": null,
   "metadata": {},
   "outputs": [],
   "source": [
    "# theme(thing_to_modify = modifying_function(arg1, arg2))\n",
    "\n",
    "p4 + theme_minimal() +\n",
    "  theme(text = element_text(color = \"red\"))  "
   ]
  },
  {
   "cell_type": "markdown",
   "metadata": {},
   "source": [
    "All theme options are documented in `?theme`. We can also see the existing default values using:"
   ]
  },
  {
   "cell_type": "code",
   "execution_count": null,
   "metadata": {
    "eval": false
   },
   "outputs": [],
   "source": [
    "theme_get()"
   ]
  },
  {
   "cell_type": "markdown",
   "metadata": {},
   "source": [
    "### Creating & saving new themes\n",
    "\n",
    "You can create new themes, as in the following example:"
   ]
  },
  {
   "cell_type": "code",
   "execution_count": null,
   "metadata": {},
   "outputs": [],
   "source": [
    "theme_new <- theme_bw() +\n",
    "  theme(plot.background = element_rect(size = 1, color = \"blue\", fill = \"black\"),\n",
    "        text = element_text(size = 12, color = \"ivory\"),\n",
    "        axis.text.y = element_text(colour = \"purple\"),\n",
    "        axis.text.x = element_text(colour = \"red\"),\n",
    "        panel.background = element_rect(fill = \"pink\"),\n",
    "        strip.background = element_rect(fill = muted(\"orange\")))\n",
    "\n",
    "p4 + theme_new"
   ]
  },
  {
   "cell_type": "markdown",
   "metadata": {},
   "source": [
    "## Saving plots\n",
    "\n",
    "We can save a plot to either a vector (e.g., pdf, eps, ps, svg) or raster (e.g., jpg, png, tiff, bmp, wmf) graphics file using the `ggsave()` function:"
   ]
  },
  {
   "cell_type": "code",
   "execution_count": null,
   "metadata": {
    "eval": false,
    "lines_to_next_cell": 2
   },
   "outputs": [],
   "source": [
    "# save plot output to a file\n",
    "ggsave(filename = \"myplot.pdf\", plot = p5, device = \"pdf\", \n",
    "       height = 6, width = 6, units = \"in\")"
   ]
  },
  {
   "cell_type": "markdown",
   "metadata": {},
   "source": [
    "## The #1 FAQ\n",
    "\n",
    "### Map aesthetic to different columns\n",
    "\n",
    "The most frequently asked question goes something like this: *\"I have two variables in my data.frame, and I'd like to plot them as separate points, with different color depending on which variable it is. How do I do that?\"*\n",
    "\n",
    "**Wrong way**\n",
    "\n",
    "Assigning, rather than mapping, the color aesthetic:\n",
    "\n",
    "1.  Produces verbose code when using many colors\n",
    "2.  Results in no legend being produced\n",
    "3.  Means you cannot change color scales\n",
    "\n",
    "To see this, let's first calculate summary home and land value data:"
   ]
  },
  {
   "cell_type": "code",
   "execution_count": null,
   "metadata": {},
   "outputs": [],
   "source": [
    "# get summary home and land value data\n",
    "housing_byyear <- \n",
    "  housing %>%\n",
    "  group_by(Date) %>%\n",
    "  summarize(Home_Value_Mean = mean(Home_Value),\n",
    "            Land_Value_Mean = mean(Land_Value)) %>%\n",
    "  ungroup()"
   ]
  },
  {
   "cell_type": "markdown",
   "metadata": {},
   "source": [
    "Now let's assign the color aesthetic to the line geom for each variable:"
   ]
  },
  {
   "cell_type": "code",
   "execution_count": null,
   "metadata": {},
   "outputs": [],
   "source": [
    "# assigning the color aesthetic to constants\n",
    "ggplot(housing_byyear, aes(x=Date)) +\n",
    "  geom_line(aes(y=Home_Value_Mean), color=\"red\") +\n",
    "  geom_line(aes(y=Land_Value_Mean), color=\"blue\")"
   ]
  },
  {
   "cell_type": "markdown",
   "metadata": {},
   "source": [
    "**Right way**\n",
    "\n",
    "To avoid these pitfalls, we need to **map** our data to the color aesthetic. We can do this by **reshaping** our data from **wide format** to **long format**. Here is the logic behind this process:\n",
    "\n",
    "<center>\n",
    "![](R/Rgraphics/images/wide_vs_long.png)\n",
    "</center>\n",
    "\n",
    "Here's the code that implements this transformation using `pivot_longer()`:"
   ]
  },
  {
   "cell_type": "code",
   "execution_count": null,
   "metadata": {},
   "outputs": [],
   "source": [
    "# reshape data from wide to long\n",
    "home_land_byyear <- \n",
    "    housing_byyear %>%\n",
    "    pivot_longer(cols = c(Home_Value_Mean, Land_Value_Mean),\n",
    "                 names_to = \"type\",\n",
    "                 values_to = \"value\")"
   ]
  },
  {
   "cell_type": "markdown",
   "metadata": {},
   "source": [
    "Now we can map all our variables to the color aesthetic simultaneously, and `ggplot()` will automatically create a legend for us:"
   ]
  },
  {
   "cell_type": "code",
   "execution_count": null,
   "metadata": {
    "lines_to_next_cell": 2
   },
   "outputs": [],
   "source": [
    "# map data to the color aesthetic                  \n",
    "ggplot(home_land_byyear, aes(x = Date, y = value, color = type)) +\n",
    "  geom_line()"
   ]
  },
  {
   "cell_type": "markdown",
   "metadata": {},
   "source": [
    "### Exercise 3\n",
    "\n",
    "For this exercise, we're going to use the built-in `midwest` dataset:"
   ]
  },
  {
   "cell_type": "code",
   "execution_count": null,
   "metadata": {},
   "outputs": [],
   "source": [
    "data(\"midwest\", package = \"ggplot2\")\n",
    "head(midwest)"
   ]
  },
  {
   "cell_type": "markdown",
   "metadata": {
    "lines_to_next_cell": 0
   },
   "source": [
    "1.  Create a scatter plot with `area` on the x axis and the log of `poptotal` on the y axis. "
   ]
  },
  {
   "cell_type": "code",
   "execution_count": null,
   "metadata": {},
   "outputs": [],
   "source": [
    "## "
   ]
  },
  {
   "cell_type": "markdown",
   "metadata": {
    "lines_to_next_cell": 0
   },
   "source": [
    "2.  Within the `geom_point()` call, map color to `state`, map size to the log of `popdensity`, and fix transparency (`alpha`) to 0.3."
   ]
  },
  {
   "cell_type": "code",
   "execution_count": null,
   "metadata": {},
   "outputs": [],
   "source": [
    "## "
   ]
  },
  {
   "cell_type": "markdown",
   "metadata": {
    "lines_to_next_cell": 0
   },
   "source": [
    "3.  Add a smoother and turn off plotting the confidence interval. Hint: see the `se` argument to `geom_smooth()`."
   ]
  },
  {
   "cell_type": "code",
   "execution_count": null,
   "metadata": {},
   "outputs": [],
   "source": [
    "## "
   ]
  },
  {
   "cell_type": "markdown",
   "metadata": {
    "lines_to_next_cell": 0
   },
   "source": [
    "4.  Facet the plot by `state`. Set the `scales` argument to `facet_wrap()` to allow separate ranges for the x-axis."
   ]
  },
  {
   "cell_type": "code",
   "execution_count": null,
   "metadata": {},
   "outputs": [],
   "source": [
    "## "
   ]
  },
  {
   "cell_type": "markdown",
   "metadata": {
    "lines_to_next_cell": 0
   },
   "source": [
    "5.  Change the default color scale to use the discrete `RColorBrewer` palette called `Set1`. Hint: see `?scale_color_brewer`."
   ]
  },
  {
   "cell_type": "code",
   "execution_count": null,
   "metadata": {},
   "outputs": [],
   "source": [
    "## "
   ]
  },
  {
   "cell_type": "markdown",
   "metadata": {
    "lines_to_next_cell": 0
   },
   "source": [
    "6.  BONUS: Change the default theme to `theme_bw()` and modify it so that the axis title is colored blue in bold font face and the facet label background is filled in yellow. Hint: see `?theme` and especially `axis.title` and `strip.background`."
   ]
  },
  {
   "cell_type": "code",
   "execution_count": null,
   "metadata": {},
   "outputs": [],
   "source": [
    "## "
   ]
  },
  {
   "cell_type": "markdown",
   "metadata": {},
   "source": [
    "<details>\n",
    "  <summary><span style=\"color:red\"><b>Click for Exercise 3 Solution</b></span></summary>\n",
    "  <div class=\"alert alert-danger\">\n",
    "\n",
    "For this exercise, we're going to use the built-in `midwest` dataset:"
   ]
  },
  {
   "cell_type": "code",
   "execution_count": null,
   "metadata": {},
   "outputs": [],
   "source": [
    "data(\"midwest\", package = \"ggplot2\")\n",
    "head(midwest)"
   ]
  },
  {
   "cell_type": "markdown",
   "metadata": {},
   "source": [
    "1.  Create a scatter plot with `area` on the x axis and the log of `poptotal` on the y axis. "
   ]
  },
  {
   "cell_type": "code",
   "execution_count": null,
   "metadata": {},
   "outputs": [],
   "source": [
    "p5 <- ggplot(midwest, aes(x = area, y = log(poptotal))) \n",
    "p5 + geom_point() "
   ]
  },
  {
   "cell_type": "markdown",
   "metadata": {},
   "source": [
    "2.  Within the `geom_point()` call, map color to `state`, map size to the log of `popdensity`, and fix transparency (`alpha`) to 0.3."
   ]
  },
  {
   "cell_type": "code",
   "execution_count": null,
   "metadata": {},
   "outputs": [],
   "source": [
    "p5 <- p5 + geom_point(aes(color = state, size = log(popdensity)), alpha = 0.3) \n",
    "p5"
   ]
  },
  {
   "cell_type": "markdown",
   "metadata": {},
   "source": [
    "3.  Add a smoother and turn off plotting the confidence interval. Hint: see the `se` argument to `geom_smooth()`."
   ]
  },
  {
   "cell_type": "code",
   "execution_count": null,
   "metadata": {},
   "outputs": [],
   "source": [
    "p5 <- p5 + geom_smooth(method = \"loess\", se = FALSE) \n",
    "p5"
   ]
  },
  {
   "cell_type": "markdown",
   "metadata": {},
   "source": [
    "4.  Facet the plot by `state`. Set the `scales` argument to `facet_wrap()` to allow separate ranges for the x-axis."
   ]
  },
  {
   "cell_type": "code",
   "execution_count": null,
   "metadata": {},
   "outputs": [],
   "source": [
    "p5 <- p5 + facet_wrap(~ state, scales = \"free_x\")\n",
    "p5"
   ]
  },
  {
   "cell_type": "markdown",
   "metadata": {},
   "source": [
    "5.  Change the default color scale to use the discrete `RColorBrewer` palette called `Set1`. Hint: see `?scale_color_brewer`."
   ]
  },
  {
   "cell_type": "code",
   "execution_count": null,
   "metadata": {},
   "outputs": [],
   "source": [
    "p5 <- p5 + scale_color_brewer(palette = \"Set1\")\n",
    "p5"
   ]
  },
  {
   "cell_type": "markdown",
   "metadata": {},
   "source": [
    "6.  BONUS: Change the default theme to `theme_bw()` and modify it so that the axis title is colored blue in bold font face and the facet label background is filled in yellow. Hint: see `?theme` and especially `axis.title` and `strip.background`."
   ]
  },
  {
   "cell_type": "code",
   "execution_count": null,
   "metadata": {},
   "outputs": [],
   "source": [
    "p5 <- p5 + theme_bw() +\n",
    "    theme(axis.title = element_text(color = \"blue\", face = \"bold\"),\n",
    "          strip.background = element_rect(fill = \"yellow\"))\n",
    "p5"
   ]
  },
  {
   "cell_type": "markdown",
   "metadata": {},
   "source": [
    "Here's the complete code for the Exercise 3 plot:"
   ]
  },
  {
   "cell_type": "code",
   "execution_count": null,
   "metadata": {
    "lines_to_next_cell": 0
   },
   "outputs": [],
   "source": [
    "ggplot(midwest, aes(x = area, y = log(poptotal))) +\n",
    "    geom_point(aes(color = state, size = log(popdensity)), alpha = 0.3) +\n",
    "    geom_smooth(method = \"loess\", se = FALSE) +\n",
    "    facet_wrap(~ state, scales = \"free_x\") +\n",
    "    scale_color_brewer(palette = \"Set1\") +\n",
    "    theme_bw() +\n",
    "    theme(axis.title = element_text(color = \"blue\", face = \"bold\"),\n",
    "          strip.background = element_rect(fill = \"yellow\"))       "
   ]
  },
  {
   "cell_type": "markdown",
   "metadata": {},
   "source": [
    "</div>\n",
    "</details>\n"
   ]
  },
  {
   "cell_type": "markdown",
   "metadata": {},
   "source": [
    "## Wrap-up\n",
    "\n",
    "### Feedback\n",
    "\n",
    "These workshops are a work in progress, please provide any feedback to: help@iq.harvard.edu\n",
    "\n",
    "### Resources\n",
    "\n",
    "* IQSS \n",
    "    + Workshops: <https://www.iq.harvard.edu/data-science-services/workshop-materials>\n",
    "    + Data Science Services: <https://www.iq.harvard.edu/data-science-services>\n",
    "    + Research Computing Environment: <https://iqss.github.io/dss-rce/>\n",
    "\n",
    "* HBS\n",
    "    + Research Computing Services workshops: <https://training.rcs.hbs.org/workshops>\n",
    "    + Other HBS RCS resources: <https://training.rcs.hbs.org/workshop-materials>\n",
    "    + RCS consulting email: <mailto:research@hbs.edu>\n",
    "    \n",
    "* ggplot2\n",
    "    + Reference: <https://ggplot2.tidyverse.org/reference/>\n",
    "    + Cheatsheets: <https://rstudio.com/wp-content/uploads/2019/01/Cheatsheets_2019.pdf>\n",
    "    + Examples: <http://r-statistics.co/Top50-Ggplot2-Visualizations-MasterList-R-Code.html>\n",
    "    + Tutorial: <https://uc-r.github.io/ggplot_intro>\n",
    "    + Mailing list: <http://groups.google.com/group/ggplot2>\n",
    "    + Wiki: <https://github.com/hadley/ggplot2/wiki>\n",
    "    + Website: <http://had.co.nz/ggplot2/>\n",
    "    + StackOverflow: <http://stackoverflow.com/questions/tagged/ggplot>\n"
   ]
  }
 ],
 "metadata": {
  "jupytext": {
   "cell_metadata_filter": "error,tags,eval,-all",
   "main_language": "R",
   "notebook_metadata_filter": "-all"
  }
 },
 "nbformat": 4,
 "nbformat_minor": 4
}
