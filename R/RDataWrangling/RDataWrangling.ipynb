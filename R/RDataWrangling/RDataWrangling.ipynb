{
 "cells": [
  {
   "cell_type": "markdown",
   "metadata": {
    "lines_to_next_cell": 0
   },
   "source": []
  },
  {
   "cell_type": "code",
   "execution_count": null,
   "metadata": {
    "eval": true,
    "hide_input": true,
    "results": false
   },
   "outputs": [],
   "source": [
    "knitr::opts_chunk$set(eval=FALSE, results=FALSE, message=FALSE, warning=FALSE, error=FALSE) # fig.path=\"R/RDataWrangling/figures/\"\n",
    "##knitr::opts_knit$set(root.dir=\"R/RDataWrangling\", base.dir=\"R/RDataWrangling\")"
   ]
  },
  {
   "cell_type": "markdown",
   "metadata": {},
   "source": [
    "# R Data Wrangling\n",
    "\n",
    "**Topics**\n",
    "\n",
    "* Loading Excel worksheets\n",
    "* Iterating over files\n",
    "* Writing your own functions\n",
    "* Filtering with regular expressions (regex)\n",
    "* Reshaping data"
   ]
  },
  {
   "cell_type": "markdown",
   "metadata": {},
   "source": [
    "## Setup \n",
    "\n",
    "### Class Structure\n",
    "\n",
    "* Informal --- Ask questions at any time. Really!\n",
    "* Collaboration is encouraged - please spend a minute introducing yourself to your neighbors!"
   ]
  },
  {
   "cell_type": "markdown",
   "metadata": {},
   "source": [
    "### Software & materials\n",
    "\n",
    "You should have R and RStudio installed --- if not:\n",
    "\n",
    "* Download and install R: <http://cran.r-project.org>\n",
    "* Download and install RStudio: <https://www.rstudio.com/products/rstudio/download/#download>\n",
    "\n",
    "Download materials:\n",
    "\n",
    "* Download class materials at <https://github.com/IQSS/dss-workshops/raw/master/R/RDataWrangling.zip>\n",
    "* Extract materials from the zipped directory `RDataWrangling.zip` (Right-click => Extract All on Windows, double-click on Mac) and move them to your desktop!\n",
    "\n",
    "Start RStudio and create a new project:\n",
    "\n",
    "* On Windows click the start button and search for RStudio. On Mac\n",
    "    RStudio will be in your applications folder.\n",
    "* In Rstudio go to `File -> New Project`.\n",
    "* Choose `Existing Directory` and browse to the `RDataWrangling` directory.\n",
    "* Choose `File -> Open File` and select the blank version of the `.Rmd` file.\n",
    "\n",
    "### Installing & using R packages\n",
    "\n",
    "R is a modular environment that is extended by the use of **packages**.\n",
    "Packages are collections of functions or commands that are designed to\n",
    "perform specific tasks (e.g., fit a type of regression model). A large \n",
    "number of contributed packages are available (> 15,000). \n",
    "\n",
    "Using an R package is a **two step process**:\n",
    "\n",
    "1.  Install the package onto your computer using the\n",
    " `install.packages()` function. This only needs to\n",
    " be done the **first time** you use the package.\n",
    "\n",
    "2.  Load the package into your R session's search path \n",
    " using the `library()` function. This needs to be done\n",
    " **each time** you use the package.\n",
    "\n",
    "While R's built-in packages are powerful, in recent years there has\n",
    "been a big surge in well-designed *contributed packages* for R. \n",
    "In particular, a collection of R packages called \n",
    "[tidyverse](https://www.tidyverse.org/) have been \n",
    "designed specifically for data science. All packages included in \n",
    "`tidyverse` share an underlying design philosophy, grammar, and \n",
    "data structures. This philosopy is rooted in the idea of \"tidy data\":\n",
    "\n",
    "![](R/Rintro/images/tidy_data.png)\n",
    "\n",
    "We will use `tidyverse` packages throughout the \n",
    "workshop, so let's install them now:"
   ]
  },
  {
   "cell_type": "code",
   "execution_count": null,
   "metadata": {},
   "outputs": [],
   "source": [
    "# install.packages(\"tidyverse\")\n",
    "\n",
    "# when you install tidyverse for the first time you will be asked\n",
    "# a question in the Console - please answer by typing \"no\" in the Console.\n",
    "\n",
    "library(tidyverse)\n",
    "\n",
    "library(readxl) # installed with tidyverse, but not loaded into R session"
   ]
  },
  {
   "cell_type": "markdown",
   "metadata": {},
   "source": [
    "A typical workflow for using `tidyverse` packages looks like this:\n",
    "\n",
    "![](R/Rintro/images/tidy_workflow.png)"
   ]
  },
  {
   "cell_type": "markdown",
   "metadata": {},
   "source": [
    "We can also install the `rmarkdown` package, which will allow us to\n",
    "combine our text and code into a formatted document at the end of \n",
    "the workshop:"
   ]
  },
  {
   "cell_type": "code",
   "execution_count": null,
   "metadata": {},
   "outputs": [],
   "source": [
    "# install.packages(\"rmarkdown\")\n",
    "library(rmarkdown)"
   ]
  },
  {
   "cell_type": "markdown",
   "metadata": {},
   "source": [
    "The following RStudio, `tidyverse`, and `rmarkdown` cheatsheets will provide a\n",
    "useful reference: <https://rstudio.com/wp-content/uploads/2019/01/Cheatsheets_2019.pdf>"
   ]
  },
  {
   "cell_type": "markdown",
   "metadata": {},
   "source": [
    "### Prerequisites\n",
    "\n",
    "This is an intermediate / advanced R course:\n",
    "\n",
    "* Assumes intermediate knowledge of R\n",
    "* Relatively fast-paced"
   ]
  },
  {
   "cell_type": "markdown",
   "metadata": {},
   "source": [
    "### Learning Outcomes\n",
    "\n",
    "* Understanding R data structures\n",
    "* Iteration over data structures\n",
    "* Writing functions\n",
    "* Regular expressions (regex)\n",
    "* Reshaping data"
   ]
  },
  {
   "cell_type": "markdown",
   "metadata": {},
   "source": [
    "### Workshop Outline\n",
    "\n",
    "**Example data**\n",
    "\n",
    "The UK [Office for National Statistics](https://www.ons.gov.uk) provides yearly\n",
    "    data on the most popular boys names going back to 1996. The data is provided\n",
    "    separately for boys and girls and is stored in Excel spreadsheets.\n",
    "\n",
    "**Overall Goal** \n",
    "\n",
    "Our mission is to extract and graph the **top 100** boys names in England and Wales for every year since 1996. \n",
    " \n",
    "![goal](R/RDataWrangling/images/goal.png)\n",
    "\n",
    "**Exercise 0: Problems with the data**\n",
    "\n",
    "There are several things that make our goal challenging. Let's take a look at the data:\n",
    "\n",
    "1.  Locate the files named `1996boys_tcm77-254026.xlsx` and \n",
    "    `2015boysnamesfinal.xlsx` and open them separately in a \n",
    "    spreadsheet program. \n",
    "\n",
    "    (If you don't have a spreadsheet program installed on\n",
    "    your computer you can download one from\n",
    "    https://www.libreoffice.org/download/download/). \n",
    "\n",
    "    What issues can you identify that might make working\n",
    "    with these data difficult?\n",
    "\n",
    "    In what ways is the format different between the two files?\n",
    "\n",
    "\n",
    "**Steps to accomplish this goal:**\n",
    "\n",
    "1.  **Explore example data to highlight problems (see Exercise 0)**\n",
    "\n",
    "2.  **Reading data from multiple Excel worksheets into R data frames**\n",
    "    + list Excel file names in a character vector\n",
    "    + read Excel sheetnames into a list of character vectors\n",
    "    + read Excel data for \"Table 1\" only into a list of data frames\n",
    "\n",
    "3.  **Clean up data within each R data frame**\n",
    "    + sort and merge columns within each data frame inside the list\n",
    "    + drop missing values from each data frame\n",
    "    + reshape format from wide to long\n",
    "\n",
    "4.  **Organize the data into one large data frame and store it**\n",
    "    + create a year column within each data frame in the list\n",
    "    + append all the data frames in the list into one large data frame\n",
    "\n",
    "NOTE: please make sure you close the Excel files before continuing with the\n",
    "workshop, otherwise you may encounter issues with file paths when reading\n",
    "the data into R."
   ]
  },
  {
   "cell_type": "markdown",
   "metadata": {},
   "source": [
    "## Working with Excel worksheets\n",
    "\n",
    "As you can see, the data is in quite a messy state. Note that this is\n",
    "not a contrived example; this is exactly the way the data came to us\n",
    "from the UK government website! Let's start cleaning and organizing\n",
    "it. \n",
    "\n",
    "Each Excel file contains a worksheet with the boy names data we want.\n",
    "Each file also contains additional supplemental worksheets that we are\n",
    "not currently interested in. As noted above, the worksheet of interest\n",
    "differs from year to year, but always has \"Table 1\" in the sheet name.\n",
    "\n",
    "The first step is to get a character vector of file names."
   ]
  },
  {
   "cell_type": "code",
   "execution_count": null,
   "metadata": {},
   "outputs": [],
   "source": [
    "boy_file_names <- list.files(\"dataSets/boys\", full.names = TRUE)"
   ]
  },
  {
   "cell_type": "markdown",
   "metadata": {},
   "source": [
    "Now that we've told R the names of the data files, we can start working\n",
    "with them. For example, the first file is"
   ]
  },
  {
   "cell_type": "code",
   "execution_count": null,
   "metadata": {},
   "outputs": [],
   "source": [
    "boy_file_names[1]"
   ]
  },
  {
   "cell_type": "markdown",
   "metadata": {},
   "source": [
    "and we can use the `excel_sheets()` function from the `readxl` package\n",
    "within `tidyverse` to list the worksheet names from this file."
   ]
  },
  {
   "cell_type": "code",
   "execution_count": null,
   "metadata": {},
   "outputs": [],
   "source": [
    "excel_sheets(boy_file_names[1])"
   ]
  },
  {
   "cell_type": "markdown",
   "metadata": {},
   "source": [
    "### Iterating over file names with `map()`\n",
    "\n",
    "Now that we know how to retrieve the names of the worksheets in an\n",
    "Excel file, we could start writing code to extract the sheet names from\n",
    "each file, e.g.,"
   ]
  },
  {
   "cell_type": "code",
   "execution_count": null,
   "metadata": {},
   "outputs": [],
   "source": [
    "excel_sheets(boy_file_names[1])\n",
    "\n",
    "excel_sheets(boy_file_names[2])\n",
    "\n",
    "## ...\n",
    "excel_sheets(boy_file_names[20])\n"
   ]
  },
  {
   "cell_type": "markdown",
   "metadata": {},
   "source": [
    "This is not a terrible idea for a small number of files, but it is\n",
    "more convenient to let R do the iteration for us. We could use a `for loop`,\n",
    "or `sapply()`, but the `map()` family of functions from the `purrr`\n",
    "package within `tidyverse` gives us a more consistent alternative, \n",
    "so we'll use that."
   ]
  },
  {
   "cell_type": "code",
   "execution_count": null,
   "metadata": {},
   "outputs": [],
   "source": [
    "# map(object to iterate over, function that does task within each iteration)\n",
    "\n",
    "map(boy_file_names, excel_sheets)"
   ]
  },
  {
   "cell_type": "markdown",
   "metadata": {},
   "source": [
    "### Filtering strings using regular expressions\n",
    "\n",
    "To extract the correct worksheet names we need a way to extract\n",
    "strings containing \"Table 1\". \n",
    "\n",
    "Base R provides some string manipulation capabilities \n",
    "(see `?regex`, `?sub` and `?grep`), but we will use the\n",
    "`stringr` package within `tidyverse` because it is more\n",
    "user-friendly. `stringr` provides functions to:\n",
    "\n",
    "1.  detect \n",
    "2.  locate\n",
    "3.  extract\n",
    "4.  match\n",
    "5.  replace\n",
    "6.  combine\n",
    "7.  split   \n",
    "\n",
    "strings. Here we want to detect the pattern \"Table 1\", and only\n",
    "return elements with this pattern. We can do that using the\n",
    "`str_subset()` function: \n",
    "\n",
    "1.  The first argument to `str_subset()` is character vector we want to search in. \n",
    "2.  The second argument is a *regular expression* matching the pattern we want to retain.\n",
    "\n",
    "If you are not familiar with regular expressions (regex), \n",
    "<http://www.regexr.com/> is a good place to start. Regex is essentially\n",
    "just a programmatic way of doing operations like \"find\" or \"find and replace\"\n",
    "in MS Word or Excel.\n",
    "\n",
    "Now that we know how to filter character vectors using `str_subset()` we can\n",
    "identify the correct sheet in a particular Excel file. For example,"
   ]
  },
  {
   "cell_type": "code",
   "execution_count": null,
   "metadata": {},
   "outputs": [],
   "source": [
    "# str_subset(character_vector, regex_pattern)\n",
    "\n",
    "# nesting functions\n",
    "str_subset(excel_sheets(boy_file_names[1]), pattern = \"Table 1\")\n",
    "\n",
    "# piping functions\n",
    "excel_sheets(boy_file_names[1]) %>% str_subset(pattern = \"Table 1\")"
   ]
  },
  {
   "cell_type": "markdown",
   "metadata": {},
   "source": [
    "### Writing your own functions\n",
    "\n",
    "The next step is to retrieve worksheet names and subset them.\n",
    "\n",
    "The `map*` functions are useful when you want to apply a function to a\n",
    "list or vector of inputs and obtain the return values for each input. This \n",
    "is very convenient when a function already exists that does exactly what you\n",
    "want. In the examples above we mapped the `excel_sheets()` function to\n",
    "the elements of a character vector containing file names. \n",
    "\n",
    "However, there is no function that both:\n",
    "\n",
    "1.  Retrieves worksheet names, and \n",
    "2.  Subsets the names\n",
    "\n",
    "So, we will have to write one. Fortunately, writing functions in R is easy. \n",
    "Functions require 3 elements:\n",
    "\n",
    "1.  A **name**\n",
    "2.  One or more **arguments**\n",
    "3.  A **body** containing computations\n"
   ]
  },
  {
   "cell_type": "code",
   "execution_count": null,
   "metadata": {},
   "outputs": [],
   "source": [
    "# Anatomy of a function\n",
    "\n",
    "# function_name <- function(arg1, arg2, ....) {\n",
    "#  \n",
    "#   # body of function - where stuff happens #\n",
    "#\n",
    "#   return( results ) \n",
    "# }\n",
    "\n",
    "myfun <- function(x) {\n",
    "  x^2\n",
    "}\n",
    "\n",
    "myfun(1:10)\n",
    "\n",
    "myfun2 <- function(x, y) {\n",
    "  z <- x^2 + y\n",
    "  return(z)\n",
    "}\n",
    "\n",
    "myfun(x=1:10, y=42)"
   ]
  },
  {
   "cell_type": "code",
   "execution_count": null,
   "metadata": {},
   "outputs": [],
   "source": [
    "get_data_sheet_name <- function(file, term){\n",
    "  excel_sheets(file) %>% str_subset(pattern = term)\n",
    "}\n",
    "\n",
    "# the goal is generalization \n",
    "get_data_sheet_name(boy_file_names[1], term = \"Table 1\")\n",
    "get_data_sheet_name(boy_file_names[1], term = \"Table 2\")"
   ]
  },
  {
   "cell_type": "markdown",
   "metadata": {},
   "source": [
    "Now we can map this new function over our vector of file names."
   ]
  },
  {
   "cell_type": "code",
   "execution_count": null,
   "metadata": {},
   "outputs": [],
   "source": [
    "# map(object to iterate over, \n",
    "#     function that does task within each iteration, \n",
    "#     arguments to previous function)\n",
    " \n",
    "map(boy_file_names,      # list object\n",
    "    get_data_sheet_name, # function\n",
    "    term = \"Table 1\")    # argument to previous function"
   ]
  },
  {
   "cell_type": "markdown",
   "metadata": {},
   "source": [
    "## Reading Excel data files\n",
    "\n",
    "Now that we know the correct worksheet from each file, we can actually\n",
    "read those data into R. We can do that using the `read_excel()` function.\n",
    "\n",
    "We'll start by reading the data from the first file, just to check\n",
    "that it works. Recall that the actual data starts on row 7, so we want\n",
    "to skip the first 6 rows. We can use the `glimpse()` function from\n",
    "the `dplyr` package within `tidyverse` to view the output."
   ]
  },
  {
   "cell_type": "code",
   "execution_count": null,
   "metadata": {},
   "outputs": [],
   "source": [
    "tmp <- read_excel(\n",
    "  path = boy_file_names[1],\n",
    "  sheet = get_data_sheet_name(boy_file_names[1], term = \"Table 1\"),\n",
    "  skip = 6\n",
    ")\n",
    "\n",
    "glimpse(tmp)"
   ]
  },
  {
   "cell_type": "markdown",
   "metadata": {},
   "source": [
    "Note that R has added a suffix to each column name `...1`, `...2`,\n",
    "`...3`, etc. because duplicate names are not allowed, so the suffix serves\n",
    " to disambiguate. The trailing number represents the index of the column.\n"
   ]
  },
  {
   "cell_type": "markdown",
   "metadata": {
    "lines_to_next_cell": 0
   },
   "source": [
    "## Exercise 1\n",
    "\n",
    "  1. Write a function called `read_boys_names` that takes a file name as an argument \n",
    "     and reads the worksheet containing \"Table 1\" from that file. Don't forget\n",
    "     to skip the first 6 rows."
   ]
  },
  {
   "cell_type": "code",
   "execution_count": null,
   "metadata": {},
   "outputs": [],
   "source": [
    "## "
   ]
  },
  {
   "cell_type": "markdown",
   "metadata": {
    "lines_to_next_cell": 0
   },
   "source": [
    "  2. Test your function by using it to read *one* of the boys names\n",
    "     Excel files."
   ]
  },
  {
   "cell_type": "code",
   "execution_count": null,
   "metadata": {},
   "outputs": [],
   "source": [
    "## "
   ]
  },
  {
   "cell_type": "markdown",
   "metadata": {
    "lines_to_next_cell": 0
   },
   "source": [
    "  3. Use the `map()` function to create a list of data frames called `boysNames`          \n",
    "     from all the Excel files, using the function you wrote in step 1."
   ]
  },
  {
   "cell_type": "code",
   "execution_count": null,
   "metadata": {
    "lines_to_next_cell": 2
   },
   "outputs": [],
   "source": [
    "## "
   ]
  },
  {
   "cell_type": "markdown",
   "metadata": {},
   "source": [
    "## Data cleanup\n",
    "\n",
    "Now that we've read in the data, we can see that there are some\n",
    "problems we need to fix. Specifically, we need to:\n",
    "\n",
    "1. fix column names\n",
    "2. get rid of blank row and the top and the notes at the bottom\n",
    "3. get rid of extraneous \"changes in rank\" columns if they exist\n",
    "4. transform the side-by-side tables layout to a single table."
   ]
  },
  {
   "cell_type": "code",
   "execution_count": null,
   "metadata": {},
   "outputs": [],
   "source": [
    "# Rank 1:50 --- Names / Counts are in columns 2 and 3 \n",
    "# Rank 51:100 --- Names / Counts are in columns 6 and 7\n",
    "glimpse(boysNames[[1]]) \n",
    "\n",
    "# Rank 1:50 --- Names / Counts are in columns 2 and 3 \n",
    "# Rank 51:100 --- Names / Counts are in columns 7 and 8\n",
    "glimpse(boysNames[[10]]) \n",
    "\n",
    "# Rank 1:50 --- Names / Counts are in columns 2 and 3 \n",
    "# Rank 51:100 --- Names / Counts are in columns 8 and 9\n",
    "glimpse(boysNames[[20]]) "
   ]
  },
  {
   "cell_type": "markdown",
   "metadata": {},
   "source": [
    "In short, we want to go from this:\n",
    "\n",
    "![messy](R/RDataWrangling/images/messy.png)\n",
    "\n",
    "to this:\n",
    "\n",
    "![tidy](R/RDataWrangling/images/clean.png)\n",
    "\n",
    "There are many ways to do this kind of data manipulation in R. We're\n",
    "going to use the `dplyr` and `tidyr` packages from within `tidyverse`\n",
    "to make our lives easier."
   ]
  },
  {
   "cell_type": "markdown",
   "metadata": {},
   "source": [
    "### Selecting columns\n",
    "\n",
    "Next we want to retain just the `Name...2`, `Name...6`, `Count...3` and `Count...7` columns. \n",
    "We can do that using the `select()` function:"
   ]
  },
  {
   "cell_type": "code",
   "execution_count": null,
   "metadata": {},
   "outputs": [],
   "source": [
    "boysNames[[1]]\n",
    "\n",
    "boysNames[[1]] <- select(boysNames[[1]], Name...2, Name...6, Count...3, Count...7)\n",
    "boysNames[[1]]"
   ]
  },
  {
   "cell_type": "markdown",
   "metadata": {},
   "source": [
    "### R data types and structures\n",
    "\n",
    "We've now encountered several different data types and data structures. Let's take a step back and survey the options available in R.\n",
    "\n",
    "**Data structures:**\n",
    "\n",
    "In R, the most foundational data structure is the **vector**, which comes in two basic forms:\n",
    "\n",
    "1. **atomic**: only hold elements of the same type; they are **homogeneous**\n",
    "2. **lists**: can hold elements of different types; they are **heterogeneous**\n",
    "\n",
    "`NULL` is closely related to vectors and often serves the role of a generic zero length vector. \n",
    "\n",
    "![vector tree](R/RDataWrangling/images/summary_tree.png)\n",
    "\n",
    "From these two forms, the following six structures are derived:\n",
    "\n",
    "| Type           | Elements       | Description                                                                                                       |\n",
    "|:---------------|:---------------|:------------------------------------------------------------------------------------------------------------------|\n",
    "| atomic vector  | homogeneous    | contains elements of the same **type**, one of: character, integer, double, logical, or complex                   |\n",
    "| array          | homogeneous    | an atomic vector with attributes giving dimensions (1, 2, or >2)                                                  |\n",
    "| matrix         | homogeneous    | an array with 2 dimesions                                                                                         |\n",
    "| factor         | homogeneous    | an atomic integer vector containing only predefined values, storing categorical data                              |\n",
    "| list           | heterogeneous  | a container whose elements are not restricted to a single mode and can encompass any mixture of data types        |\n",
    "| data.frame     | heterogeneous  | a rectangular list with elements (columns) containing atomic vectors of equal length                              |\n",
    "\n",
    "Each vector can have **attributes**, which is a named list of arbitrary metadata that can include the vector's **dimensions** and its **class**. The latter is a property assigned to an object that determines how generic functions operate with it, and thus which **methods** are available for it. The class of an object can be queried using the `class()` function.\n",
    "\n",
    "You can learn more details about R data structures here: <https://adv-r.hadley.nz/vectors-chap.html>"
   ]
  },
  {
   "cell_type": "markdown",
   "metadata": {},
   "source": [
    "**Data types:**\n",
    "\n",
    "There are four primary types of atomic vectors. Collectively, integer and double vectors are known as numeric vectors. You can query the **type** of an object using the `typeof()` function.\n",
    "\n",
    "| Type                    | Description                                          |\n",
    "|:------------------------|:-----------------------------------------------------|\n",
    "| character               | \"a\", \"swc\"                                           |\n",
    "| integer                 | 2L (the L tells R to store this as an integer)       |\n",
    "| double (floating point) | 2, 15.5                                              |\n",
    "| logical                 | TRUE, FALSE                                          |\n",
    "\n",
    "![vector tree](R/RDataWrangling/images/summary_tree_atomic.png)"
   ]
  },
  {
   "cell_type": "markdown",
   "metadata": {},
   "source": [
    "**Coercion:**\n",
    "\n",
    "If heterogeneous elements are stored in an atomic vector, R will **coerce** the vector to the simplest type required to store all the information. The order of coercion is roughly: logical -> integer -> numeric -> complex -> character -> list. For example:"
   ]
  },
  {
   "cell_type": "code",
   "execution_count": null,
   "metadata": {
    "lines_to_next_cell": 2
   },
   "outputs": [],
   "source": [
    "x <- c(1, 2, 3)\n",
    "typeof(x)\n",
    "\n",
    "x <- c(1, 2, 3, \"a\")\n",
    "typeof(x)"
   ]
  },
  {
   "cell_type": "markdown",
   "metadata": {},
   "source": [
    "### List indexing\n",
    "\n",
    "Now that we know about data structures more generally, let's focus on the list structure we created for `boysNames`. \n",
    "Why are we using **double brackets** `[[` to index this list object, instead of the single brackets `[` we used to index atomic vectors?\n",
    "\n",
    "![list indexing](R/RDataWrangling/images/indexing_lists.png)"
   ]
  },
  {
   "cell_type": "code",
   "execution_count": null,
   "metadata": {
    "lines_to_next_cell": 2
   },
   "outputs": [],
   "source": [
    "# various data structures\n",
    "numbers <- 1:10\n",
    "letters <- LETTERS[1:4]\n",
    "dat <- head(mtcars)\n",
    "x <- 237\n",
    "\n",
    "# combine in a list\n",
    "mylist <- list(numbers, letters, dat, x)\n",
    "\n",
    "# indexing the list\n",
    "mylist[2]\n",
    "class(mylist[2]) # a list\n",
    "\n",
    "mylist[[2]]\n",
    "class(mylist[[2]]) # a character vector"
   ]
  },
  {
   "cell_type": "markdown",
   "metadata": {},
   "source": [
    "### Dropping missing values\n",
    "\n",
    "Next we want to remove blank rows and rows used for notes. An easy way\n",
    "to do that is to use `drop_na()` from the `tidyr` package within `tidyverse`\n",
    "to remove rows with missing values."
   ]
  },
  {
   "cell_type": "code",
   "execution_count": null,
   "metadata": {
    "lines_to_next_cell": 2
   },
   "outputs": [],
   "source": [
    "boysNames[[1]]\n",
    "\n",
    "boysNames[[1]] <- boysNames[[1]] %>% drop_na()\n",
    "\n",
    "boysNames[[1]]"
   ]
  },
  {
   "cell_type": "markdown",
   "metadata": {
    "lines_to_next_cell": 0
   },
   "source": [
    "## Exercise 2\n",
    "\n",
    "  1. Write a function called `namecount` that takes a data frame as an \n",
    "     argument and returns a modified version, which keeps only columns that\n",
    "     include the strings `Name` and `Count` in the column names.\n",
    "     HINT: see the `?matches` function. "
   ]
  },
  {
   "cell_type": "code",
   "execution_count": null,
   "metadata": {},
   "outputs": [],
   "source": [
    "## "
   ]
  },
  {
   "cell_type": "markdown",
   "metadata": {
    "lines_to_next_cell": 0
   },
   "source": [
    "  2. Test your function on the first `data.frame` in the list of boys\n",
    "     names data."
   ]
  },
  {
   "cell_type": "code",
   "execution_count": null,
   "metadata": {},
   "outputs": [],
   "source": [
    "## "
   ]
  },
  {
   "cell_type": "markdown",
   "metadata": {
    "lines_to_next_cell": 0
   },
   "source": [
    "  3. Use the `map()` function to each `data.frame` in the list of boys\n",
    "     names data and save it to the list called `boysNames`."
   ]
  },
  {
   "cell_type": "code",
   "execution_count": null,
   "metadata": {
    "lines_to_next_cell": 2
   },
   "outputs": [],
   "source": [
    "## "
   ]
  },
  {
   "cell_type": "markdown",
   "metadata": {},
   "source": [
    "### Re-arranging into a single table\n",
    "\n",
    "Our final task is to re-arrange the data so that it is all in a single\n",
    "table instead of in two side-by-side tables. For many similar tasks\n",
    "the `gather()` function in the `tidyr` package is useful, but in this\n",
    "case we will be better off using a combination of `select()` and\n",
    "`bind_rows()`.\n",
    "\n",
    "![](R/RDataWrangling/images/wide_vs_long.png)"
   ]
  },
  {
   "cell_type": "code",
   "execution_count": null,
   "metadata": {
    "lines_to_next_cell": 2
   },
   "outputs": [],
   "source": [
    "boysNames[[1]]\n",
    "\n",
    "first_columns <- select(boysNames[[1]], Name = Name...2, Count = Count...3)\n",
    "second_columns <- select(boysNames[[1]], Name = Name...6, Count = Count...7)\n",
    "\n",
    "bind_rows(first_columns, second_columns)"
   ]
  },
  {
   "cell_type": "markdown",
   "metadata": {
    "lines_to_next_cell": 0
   },
   "source": [
    "## Exercise 3\n",
    "\n",
    "**Cleanup all the data**\n",
    "\n",
    "In the previous examples we learned how to drop empty rows with\n",
    "`drop_na()`, select only relevant columns with `select()`, and re-arrange\n",
    "our data with `select()` and `bind_rows()`. In each case we applied the\n",
    "changes only to the first element of our `boysNames` list.\n",
    "\n",
    "1.  Create a new function called `cleanupNamesData` that:"
   ]
  },
  {
   "cell_type": "code",
   "execution_count": null,
   "metadata": {},
   "outputs": [],
   "source": [
    "# 1) subsets data to include only those columns that include the term `Name` and `Count` and apply listwise deletion\n",
    "\n",
    "# 2) subset two separate data frames, with first and second set of `Name` and `Count` columns\n",
    "\n",
    "# 3) append the two datasets\n"
   ]
  },
  {
   "cell_type": "markdown",
   "metadata": {
    "lines_to_next_cell": 0
   },
   "source": [
    "2.  Your task now is to use the `map()` function to apply each of these\n",
    "transformations to all the elements in `boysNames`. \n",
    "\n",
    "NOTE: some Excel files include extra blank columns between the first and second \n",
    "set of `Name` and `Count` columns, resulting in different numeric suffixes\n",
    "for the second set of columns. You will need to use a regular expression\n",
    "to match each of these different column names. HINT: see the `?matches`\n",
    "function."
   ]
  },
  {
   "cell_type": "code",
   "execution_count": null,
   "metadata": {
    "lines_to_next_cell": 2
   },
   "outputs": [],
   "source": [
    "## "
   ]
  },
  {
   "cell_type": "markdown",
   "metadata": {},
   "source": [
    "## Data organization & storage\n",
    "\n",
    "Now that we have the data cleaned up and augmented, we can turn our attention to organizing and storing the data."
   ]
  },
  {
   "cell_type": "markdown",
   "metadata": {},
   "source": [
    "### One `data.frame` for each year\n",
    "\n",
    "Right now we have a list of data frames, one for each year. This is not a bad way to go. It has the advantage of making it easy to work with individual years; it has the disadvantage of making it more difficult to examine questions that require data from multiple years. To make the arrangement of the data clearer it helps to name each element of the list with the year it corresponds to."
   ]
  },
  {
   "cell_type": "code",
   "execution_count": null,
   "metadata": {
    "lines_to_next_cell": 2
   },
   "outputs": [],
   "source": [
    "head(boysNames) %>% glimpse()\n",
    "\n",
    "head(boy_file_names)\n",
    "\n",
    "# use regex to extract years from filenames\n",
    "Years <- str_extract(boy_file_names, pattern = \"[0-9]{4}\")\n",
    "Years\n",
    "\n",
    "names(boysNames) # returns NULL - no names in the list\n",
    "\n",
    "# assign years to list names\n",
    "names(boysNames) <- Years \n",
    "\n",
    "names(boysNames) # returns the years as list names\n",
    "\n",
    "head(boysNames) %>% glimpse() "
   ]
  },
  {
   "cell_type": "markdown",
   "metadata": {},
   "source": [
    "### One big `data.frame`\n",
    "\n",
    "While storing the data in separate data.frames by year makes some sense,\n",
    "many operations will be easier if the data is simply stored in one big\n",
    "data.frame. We've already seen how to turn a list of data.frames into a\n",
    "single data.frame using `bind_rows()`, but there is a problem; The year\n",
    "information is stored in the names of the list elements, and so\n",
    "flattening the data.frames into one will result in losing the year\n",
    "information! Fortunately it is not too much trouble to add the year\n",
    "information to each data.frame before flattening."
   ]
  },
  {
   "cell_type": "code",
   "execution_count": null,
   "metadata": {},
   "outputs": [],
   "source": [
    "# apply name of the list element (.y) as a new column in the data.frame (.x)\n",
    "boysNames <- imap(boysNames, ~ mutate(.x, Year = as.integer(.y)))\n",
    "\n",
    "boysNames[1]"
   ]
  },
  {
   "cell_type": "markdown",
   "metadata": {
    "lines_to_next_cell": 0
   },
   "source": [
    "## Exercise 4\n",
    "\n",
    "**Make one big data.frame**\n",
    "\n",
    "1.  Turn the list of boys names `data.frames` into a single `data.frame`. HINT: see `?bind_rows`."
   ]
  },
  {
   "cell_type": "code",
   "execution_count": null,
   "metadata": {},
   "outputs": [],
   "source": [
    "## "
   ]
  },
  {
   "cell_type": "markdown",
   "metadata": {
    "lines_to_next_cell": 0
   },
   "source": [
    "2.  Create a new directory called `all` within `dataSets` and write the data to a `.csv` file.\n",
    "    HINT: see the `?dir.create` and `?write_csv` functions."
   ]
  },
  {
   "cell_type": "code",
   "execution_count": null,
   "metadata": {},
   "outputs": [],
   "source": [
    "## "
   ]
  },
  {
   "cell_type": "markdown",
   "metadata": {
    "lines_to_next_cell": 0
   },
   "source": [
    "3.  What were the five most popular names in 2013?"
   ]
  },
  {
   "cell_type": "code",
   "execution_count": null,
   "metadata": {},
   "outputs": [],
   "source": [
    "## "
   ]
  },
  {
   "cell_type": "markdown",
   "metadata": {
    "lines_to_next_cell": 0
   },
   "source": [
    "4.  How has the popularity of the name \"ANDREW\" changed over time?"
   ]
  },
  {
   "cell_type": "code",
   "execution_count": null,
   "metadata": {
    "lines_to_next_cell": 2
   },
   "outputs": [],
   "source": [
    "## "
   ]
  },
  {
   "cell_type": "markdown",
   "metadata": {},
   "source": [
    "## Exercise solutions\n",
    "\n",
    "### Ex 0: prototype\n",
    "\n",
    ">     Locate the files named `1996boys_tcm77-254026.xlsx` and \n",
    ">     `2015boysnamesfinal.xlsx` and open them separately in a \n",
    ">      spreadsheet program. \n",
    ">\n",
    ">     (If you don't have a spreadsheet program installed on\n",
    ">     your computer you can download one from\n",
    ">     https://www.libreoffice.org/download/download/). \n",
    ">\n",
    ">     What issues can you identify that might make working\n",
    ">     with these data difficult?\n",
    ">\n",
    ">     In what ways is the format different between the two files?\n",
    "\n",
    "1.  Multiple Excel sheets in each file, each with a different name, but each file contains a `Table 1`.\n",
    "2.  The data does not start on row one. Headers are on row 7, followed by a blank line, followed by the actual data.\n",
    "3.  The data is stored in an inconvenient way, with ranks 1-50 in the first set of columns and ranks 51-100 in a second set of columns.\n",
    "4. The second worksheet `2015boysnamesfinal.xlsx` contains extra columns between the data of interest, resulting in the second set of columns (ranks 51-100) being placed in a different position.\n",
    "5.  The year from which the data comes is only reported in the Excel file name, not within the data itself.\n",
    "6.  There are notes below the data.\n",
    "\n",
    "These differences will make it more difficult to automate\n",
    "re-arranging the data since we have to write code that can handle\n",
    "different input formats."
   ]
  },
  {
   "cell_type": "markdown",
   "metadata": {},
   "source": [
    "### Ex 1: prototype"
   ]
  },
  {
   "cell_type": "code",
   "execution_count": null,
   "metadata": {},
   "outputs": [],
   "source": [
    "  ## 1. Write a function that takes a file name as an argument and reads\n",
    "  ##    the worksheet containing \"Table 1\" from that file.\n",
    " \n",
    "read_boys_names <- function(file, sheet_name) {\n",
    "  read_excel(\n",
    "    path = file,\n",
    "    sheet = get_data_sheet_name(file, term = sheet_name),\n",
    "    skip = 6\n",
    "  )\n",
    "}\n",
    "  \n",
    "  ## 2. Test your function by using it to read *one* of the boys names\n",
    "  ##    Excel files.\n",
    "\n",
    "read_boys_names(boy_file_names[1], sheet_name = \"Table 1\") %>% glimpse()\n",
    "\n",
    "\n",
    "  ## 3. Use the `map` function to read data from all the Excel files,\n",
    "  ##    using the function you wrote in step 1.\n",
    "\n",
    "boysNames <- map(boy_file_names, read_boys_names, sheet_name = \"Table 1\")"
   ]
  },
  {
   "cell_type": "markdown",
   "metadata": {},
   "source": [
    "### Ex 2: prototype"
   ]
  },
  {
   "cell_type": "code",
   "execution_count": null,
   "metadata": {},
   "outputs": [],
   "source": [
    "  ## 1. Write a function that takes a `data.frame` as an argument and\n",
    "  ##   returns a modified version, which keeps only columns that\n",
    "  ##   include the strings `Name` and `Count` in the column names.\n",
    "  ##   HINT: see the `?matches` function.\n",
    "\n",
    "  namecount <- function(data) {\n",
    "      select(data, matches(\"Name|Count\"))\n",
    "  }\n",
    "     \n",
    "  ## 2. Test your function on the first `data.frame` in the list of boys\n",
    "  ##    names data.\n",
    "\n",
    "  namecount(boysNames[[1]])\n",
    "  \n",
    "  ## 3. Use the `map` function to each `data.frame` in the list of boys\n",
    "  ##    names data.\n",
    "\n",
    "  boysNames <- map(boysNames, namecount)"
   ]
  },
  {
   "cell_type": "markdown",
   "metadata": {},
   "source": [
    "### Ex 3: prototype\n",
    "\n",
    "There are different ways you can go about it. Here is one:\n"
   ]
  },
  {
   "cell_type": "code",
   "execution_count": null,
   "metadata": {},
   "outputs": [],
   "source": [
    "## 1.  Your task now is to use the `map()` function to apply each of these\n",
    "##     transformations to all the elements in `boysNames`. \n",
    "\n",
    "## NOTE: some Excel files include extra blank columns between the first and second \n",
    "## set of `Name` and `Count` columns, resulting in different numeric suffixes\n",
    "## for the second set of columns. You will need to use a regular expression\n",
    "## to match each of these different column names. HINT: see the `?matches` function.\n",
    "\n",
    "cleanupNamesData <- function(file){\n",
    "\n",
    "  # subset data to include only those columns that include the term `Name` and `Count`\n",
    "  subsetted_file <- file %>%\n",
    "    select(matches(\"Name|Count\")) %>%\n",
    "    drop_na()\n",
    "\n",
    "  # subset two separate data frames, with first and second set of `Name` and `Count` columns \n",
    "  first_columns <- select(subsetted_file, Name = Name...2, Count = Count...3) \n",
    "\n",
    "  second_columns <- select(subsetted_file, Name = matches(\"Name...6|Name...7|Name...8\"),\n",
    "                                           Count = matches(\"Count...7|Count...8|Count...9\"))\n",
    "\n",
    "  # append the two datasets\n",
    "  bind_rows(first_columns, second_columns)\n",
    "}\n",
    "\n",
    "\n",
    "## test it out on the second data.frame in the list\n",
    "boysNames[[2]] %>% glimpse() # before cleanup\n",
    "boysNames[[2]] %>% cleanupNamesData() %>% glimpse() # after cleanup\n",
    "\n",
    "## apply the cleanup function to all the data.frames in the list\n",
    "boysNames <- map(boysNames, cleanupNamesData)"
   ]
  },
  {
   "cell_type": "markdown",
   "metadata": {},
   "source": [
    "### Ex 4: prototype\n",
    "\n",
    "Working with the data in one big data.frame is often easier."
   ]
  },
  {
   "cell_type": "code",
   "execution_count": null,
   "metadata": {
    "lines_to_next_cell": 2
   },
   "outputs": [],
   "source": [
    "## 1.  Turn the list of boys names `data.frames` into a single `data.frame`.\n",
    "\n",
    "boysNames <- bind_rows(boysNames)\n",
    "glimpse(boysNames)\n",
    "\n",
    "\n",
    "## 2.  Create a new directory called `all` within `dataSets` and write the data to a `.csv` file. \n",
    "##     HINT: see the `?dir.create` and `?write_csv` functions.\n",
    "\n",
    "dir.create(\"dataSets/all\")\n",
    "\n",
    "write_csv(boysNames, \"dataSets/all/boys_names.csv\")\n",
    "\n",
    "\n",
    "## 3.  What were the five most popular names in 2013?   \n",
    "\n",
    "boysNames %>% \n",
    "  filter(Year == 2013) %>%\n",
    "  arrange(desc(Count)) %>%\n",
    "  head()\n",
    "\n",
    "\n",
    "## How has the popularity of the name \"ANDREW\" changed over time?\n",
    "\n",
    "andrew <- filter(boysNames, Name == \"ANDREW\")\n",
    "\n",
    "ggplot(andrew, aes(x = Year, y = Count)) +\n",
    "    geom_line() +\n",
    "    ggtitle(\"Popularity of Andrew, over time\")"
   ]
  },
  {
   "cell_type": "markdown",
   "metadata": {},
   "source": [
    "## Wrap-up\n",
    "\n",
    "### Feedback\n",
    "\n",
    "These workshops are a work in progress, please provide any feedback to: help@iq.harvard.edu\n",
    "\n",
    "### Resources\n",
    "\n",
    "* IQSS \n",
    "    + Workshops: <https://dss.iq.harvard.edu/workshop-materials>\n",
    "    + Data Science Services: <https://dss.iq.harvard.edu/>\n",
    "    + Research Computing Environment: <https://iqss.github.io/dss-rce/>\n",
    "\n",
    "* HBS\n",
    "    + Research Computing Services workshops: <https://training.rcs.hbs.org/workshops>\n",
    "    + Other HBS RCS resources: <https://training.rcs.hbs.org/workshop-materials>\n",
    "    + RCS consulting email: <mailto:research@hbs.edu>\n",
    "    \n",
    "* R\n",
    "    + Learn from the best: <http://adv-r.had.co.nz/>; <http://r4ds.had.co.nz/>\n",
    "    + R documentation: <http://cran.r-project.org/manuals.html>\n",
    "    + Collection of R tutorials: <http://cran.r-project.org/other-docs.html>\n",
    "    + R for Programmers (by Norman Matloff, UC--Davis) <http://heather.cs.ucdavis.edu/~matloff/R/RProg.pdf>\n",
    "    + Calling C and Fortran from R (by Charles Geyer, UMinn) <http://www.stat.umn.edu/~charlie/rc/>\n",
    "    + State of the Art in Parallel Computing with R (Schmidberger et al.) <http://www.jstatso>|.org/v31/i01/paper\n",
    "\n"
   ]
  }
 ],
 "metadata": {
  "jupytext": {
   "cell_metadata_filter": "hide_input,results,eval,-all",
   "main_language": "R",
   "notebook_metadata_filter": "-all"
  }
 },
 "nbformat": 4,
 "nbformat_minor": 2
}
