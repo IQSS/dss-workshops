{
 "cells": [
  {
   "cell_type": "markdown",
   "metadata": {
    "lines_to_next_cell": 0
   },
   "source": []
  },
  {
   "cell_type": "code",
   "execution_count": null,
   "metadata": {
    "tags": [
     "remove_cell",
     "remove_input"
    ]
   },
   "outputs": [],
   "source": [
    "options(max.print = 100)\n",
    "require(knitr)\n",
    "knitr::opts_chunk$set(eval=TRUE, results=TRUE, message=FALSE, warning=FALSE, error=FALSE,\n",
    "                      fig.path=\"R/Rintro/figures/\")\n",
    "knitr::opts_knit$set(root.dir=\"R/Rintro\") # base.url = \"/\" # base.dir=\"R/Rintro\""
   ]
  },
  {
   "cell_type": "markdown",
   "metadata": {},
   "source": [
    "# R Introduction\n",
    "\n",
    "**Topics**\n",
    "\n",
    "* Objects\n",
    "* Assignment\n",
    "* Functions\n",
    "* Finding help\n",
    "* Importing packages\n",
    "* Basic data manipulation\n",
    "* Operations within groups of data\n",
    "* Saving data"
   ]
  },
  {
   "cell_type": "markdown",
   "metadata": {},
   "source": [
    "## Setup\n",
    "\n",
    "### Software and Materials\n",
    "\n",
    "Follow the [R Installation](./Rinstall.html) instructions and ensure that you can successfully start RStudio.\n",
    "\n",
    "A handy [base R cheat-sheet](R/Rintro/base-r-cheat-sheet.pdf) is available to help you look up and remember basic syntax. In addition, a [data transformation cheat-sheet](R/Rintro/data-transformation-cheat-sheet.pdf) provides a convenient summary of data manipulation syntax."
   ]
  },
  {
   "cell_type": "markdown",
   "metadata": {},
   "source": [
    "### Class Structure\n",
    "\n",
    "Informal - Ask questions at any time. Really!\n",
    "\n",
    "Collaboration is encouraged - please spend a minute introducing yourself to your neighbors!"
   ]
  },
  {
   "cell_type": "markdown",
   "metadata": {},
   "source": [
    "### Prerequisites\n",
    "\n",
    "This is an introductory R course:\n",
    "\n",
    "* Assumes no prior knowledge of **how to use** R\n",
    "* We do assume you know **why** you want to learn R. If you don't, and want a comparison of R to other statistical software, see our [Data Science Tools](./DataScienceTools.html) workshop\n",
    "* Relatively slow-paced\n",
    "\n",
    "### Goals\n",
    "\n",
    "<div class=\"alert alert-success\">\n",
    "We will learn about the R language by analyzing a dataset of baby names. In particular, our goals are to learn about:\n",
    "\n",
    "1. What R is and how it works\n",
    "2. How we can interact with R\n",
    "3. Foundations of the language (objects, assignment, functions)\n",
    "4. The `tidyverse` package ecosystem for data science\n",
    "5. Basic data manipulation useful for cleaning datasets\n",
    "7. Working with grouped data\n",
    "8. Aggregating data to create summaries\n",
    "9. Saving objects, data, and scripts\n",
    "\n",
    "This workshop will not cover how to iterate over collections of data, create your own functions, produce publication quality graphics, or fit models to data. These topics are covered in our [R Data Wrangling](./RDataWrangling.html), [R Graphics](./Rgraphics.html), and [R Regression Models](./Rmodels.html) workshops.\n",
    "</div>"
   ]
  },
  {
   "cell_type": "markdown",
   "metadata": {},
   "source": [
    "## R basics\n",
    "\n",
    "<div class=\"alert alert-info\">\n",
    "**GOAL: To learn about the foundations of the R language.** In particular:\n",
    "\n",
    "1. What R is and how it works\n",
    "2. R interfaces\n",
    "3. Objects\n",
    "4. Assignment\n",
    "5. Functions\n",
    "6. Getting help\n",
    "7. `tidyverse` package ecosystem for data science\n",
    "</div>"
   ]
  },
  {
   "cell_type": "markdown",
   "metadata": {},
   "source": [
    "### What is R?\n",
    "\n",
    "* R is a free language and environment for statistical computing and graphics \n",
    "* R is an interpreted language, not a compiled one, meaning that all commands typed on the keyboard are directly executed without requiring to build a complete program (this is like Python and unlike C, Fortran, Pascal, etc.)\n",
    "* R has existed for over 25 years\n",
    "* R is modular --- most functionality is from add-on packages. So the language can be thought of as a *platform* for creating and running a large number of useful packages."
   ]
  },
  {
   "cell_type": "markdown",
   "metadata": {},
   "source": [
    "### Why use R?\n",
    "\n",
    "* The most popular software for data analysis\n",
    "* Extremely flexible: can be used to manipulate, analyze, and visualize any kind of data\n",
    "* Cutting edge statistical tools\n",
    "* Publication quality graphics\n",
    "* 16,000+ add on packages covering all aspects of statistics and machine learning\n",
    "* Active community of users"
   ]
  },
  {
   "cell_type": "markdown",
   "metadata": {},
   "source": [
    "### How does R work?\n",
    "\n",
    "While graphical-based statistical software (e.g., SPSS, GraphPad) immediately display the results of an analysis, **R stores results in an `object` (a data structure)**, so that an analysis can be done with no result displayed. Such a feature is very useful, since a user can extract only that part of the results that is of interest and can pass results into further analyses.\n",
    "\n",
    "For example, if you run a series of 20 regressions and want to compare the different regression coefficients, R can display only the estimated coefficients: thus the results may take a single line, whereas graphical-based software could open 20 results windows. In addition, these regression coefficients can be passed directly into further analyses --- such as generating predictions.\n",
    "\n",
    "![](R/Rintro/images/R_chain.png)\n",
    "\n",
    "When R is running, variables, data, functions, results, etc., are **stored in memory** on the computer in the form of `objects` that have a name. The user can **perform actions** on these objects with `operators` (arithmetic, logical, comparison, etc.) and `functions` (which are themselves objects). Here's a schematic of how this all fits together:\n",
    "\n",
    "![](R/Rintro/images/R_works.png)"
   ]
  },
  {
   "cell_type": "markdown",
   "metadata": {},
   "source": [
    "### Interfaces\n",
    "\n",
    "#### Text editors, IDEs, & Notebooks\n",
    "\n",
    "There are different ways of interacting with R. The two main ways are through:\n",
    "\n",
    "1. **text editors** or **Integrated Development Environments (IDEs):** Text editors and IDEs are not really separate categories; as you add features to a text editor it becomes more like an IDE. Some editors/IDEs are language-specific while others are general purpose --- typically providing language support via plugins. For these workshops we will use [RStudio](https://rstudio.com/); it is a good R-specific IDE with many useful features. Here are a few popular editors/IDEs that can be used with R:\n",
    "\n",
    "    | Editor / IDE | Features  | Ease of use | Language support |\n",
    "    |:------------ |:--------- |:----------- |:---------------- |\n",
    "    | RStudio      | Excellent | Easy        | R only           |\n",
    "    | Jupyter Lab  | Good      | Easy        | Excellent        |\n",
    "    | VS code      | Excellent | Easy        | Very good        |\n",
    "    | Atom         | Good      | Moderate    | Good             |\n",
    "    | Vim          | Excellent | Hard        | Good             |\n",
    "    | Emacs        | Excellent | Hard        | Excellent        |\n",
    "\n",
    "2. **Notebooks:** Web-based applications that allow you to create and share documents that contain live code, equations, visualizations, and narrative text. A popular notebook is the open source [Jupyter Notebook](https://jupyter.org/) that has support for 40+ languages. \n",
    "\n",
    "#### Source code & literate programming\n",
    "\n",
    "There are also several different **formats** available for writing code in R. These basically boil down to a choice between:\n",
    "\n",
    "1. **Source code:** the practice of writing code, and possibly comments, in a plain text document. In R this is done by writing code in a text file with a `.R` or `.r` extension. Writing source code has the great advantage of being simple. Source code is the format of choice if you intend to run your code as a complete script - for example, from the command line.\n",
    "\n",
    "2.  **Literate programming:** the practice of embedding computer code in a natural language document. In R this is often done using [**Rmarkdown**](https://rmarkdown.rstudio.com/), which involves embedding R code in a document that is authored using *Markdown* and which has a `.Rmd` extension. *Markdown* is easy to write and designed to be human-readable. Markdown is the format of choice if you intend to run your code interactively, by running small pieces of code and looking at each output. Many researchers use Markdown to write their journal papers, dissertations, and statistics/math class notes, since it is easy to convert into other formats later, such as HTML (for a webpage), MS Word, or PDF (via LaTeX). \n",
    "\n",
    "Here are some resources for learning more about RStudio and RMarkdown: \n",
    "\n",
    "* <https://rmarkdown.rstudio.com/authoring_quick_tour.html>\n",
    "* <https://cran.r-project.org/web/packages/rmarkdown/vignettes/rmarkdown.html>\n",
    "* <https://rstudio.com/wp-content/uploads/2019/01/Cheatsheets_2019.pdf>"
   ]
  },
  {
   "cell_type": "markdown",
   "metadata": {},
   "source": [
    "### Launch a session\n",
    "\n",
    "Start RStudio and create a new project:\n",
    "\n",
    "* On Windows click the start button and search for RStudio. On Mac RStudio will be in your applications folder.\n",
    "* In RStudio go to `File -> New Project`.\n",
    "* Choose `Existing Directory` and browse to the workshop materials directory on your desktop.\n",
    "* Choose `File -> Open File` and select the file with the word \"BLANK\" in the name."
   ]
  },
  {
   "cell_type": "markdown",
   "metadata": {},
   "source": [
    "### Exercise 0\n",
    "\n",
    "The purpose of this exercise is to give you an opportunity to explore the interface provided by RStudio. You may not know how to do these things; that's fine! This is an opportunity to figure it out.\n",
    "\n",
    "Also keep in mind that we are living in a golden age of tab completion. If you don't know the name of an R function, try guessing the first two or three letters and pressing TAB. If you guessed correctly the function you are looking for should appear in a pop up!"
   ]
  },
  {
   "cell_type": "markdown",
   "metadata": {},
   "source": [
    " 1. Try to get R to add 2 plus 2.\n",
    "\n",
    "    ```{r}\n",
    "    ##\n",
    "    ```\n",
    "\n",
    " 2. Try to calculate the square root of 10.\n",
    "\n",
    "    ```{r}\n",
    "    ##\n",
    "    ```\n",
    "\n",
    " 3. R includes extensive documentation, including a manual named \"An introduction to R\". Use the RStudio help pane to locate this manual.\n",
    "\n",
    "<details>\n",
    "  <summary><span style=\"color:red\"><b>Click for Exercise 0 Solution</b></span></summary>\n",
    "  <div class=\"alert alert-danger\">\n",
    "\n",
    "1. Try to get R to add 2 plus 2.\n",
    "\n",
    "    ```{r}\n",
    "    2 + 2\n",
    "    # or\n",
    "    sum(2, 2)\n",
    "    ```\n",
    "\n",
    "2. Try to calculate the square root of 10.\n",
    "\n",
    "    ```{r}\n",
    "    sqrt(10)\n",
    "    # or\n",
    "    10^(1/2)\n",
    "    ```\n",
    "\n",
    "3. R includes extensive documentation, including a manual named \"An introduction to R\". Use the RStudio help pane to locate this manual.\n",
    "\n",
    "    ```{r}\n",
    "    # Go to the main help page by running 'help.start() or using the GUI\n",
    "    # menu, find and click on the link to \"An Introduction to R\".\n",
    "    ```\n",
    "</div>\n",
    "</details>\n",
    "\n",
    "### Syntax rules\n",
    "\n",
    "* R is case sensitive\n",
    "* R ignores white space\n",
    "* Variable names should start with a letter (A-Z and a-z) and can include letters, digits (0-9), dots (.), and underscores (_)\n",
    "* Comments can be inserted using a hash `#` symbol\n",
    "* Functions must be written with parentheses, even if there is nothing within them; for example: `ls()`"
   ]
  },
  {
   "cell_type": "markdown",
   "metadata": {},
   "source": [
    "### Function calls\n",
    "\n",
    "**Functions perform actions** --- they take some input, called `arguments` and return some output (i.e., a result). Here's a schematic of how a function works:\n",
    "\n",
    "![](R/Rintro/images/function.png)\n",
    "\n",
    "The general form for calling R functions is"
   ]
  },
  {
   "cell_type": "code",
   "execution_count": null,
   "metadata": {},
   "outputs": [],
   "source": [
    "# FunctionName(arg.1 = value.1, arg.2 = value.2, ..., arg.n = value.n)"
   ]
  },
  {
   "cell_type": "markdown",
   "metadata": {},
   "source": [
    "The arguments in a function can be objects (data, formulae, expressions, etc.), some of which could be defined by default in the function; these default values may be modified by the user by specifying options.\n",
    "\n",
    "Arguments can be **matched by name**; unnamed arguments will be **matched by position**."
   ]
  },
  {
   "cell_type": "code",
   "execution_count": null,
   "metadata": {},
   "outputs": [],
   "source": [
    "round(x = 2.34, digits = 1) # match by name\n",
    "round(2.34, 1) # match by position\n",
    "round(1, 2.34) # be careful when matching by position!\n",
    "round(digits = 1, x = 2.34) # matching by name is safer!"
   ]
  },
  {
   "cell_type": "markdown",
   "metadata": {},
   "source": [
    "### Assignment\n",
    "\n",
    "Objects (data structures) can be assigned names and used in subsequent operations:\n",
    "\n",
    "* The **gets** `<-` operator (less than followed by a dash) is used to save objects\n",
    "* The name on the left **gets** the object on the right "
   ]
  },
  {
   "cell_type": "code",
   "execution_count": null,
   "metadata": {},
   "outputs": [],
   "source": [
    "sqrt(10) # calculate square root of 10; result is not stored anywhere\n",
    "x <- sqrt(10) # assign result to a variable named x"
   ]
  },
  {
   "cell_type": "markdown",
   "metadata": {},
   "source": [
    "As mentioned in **Syntax rules** above, names should start with a letter, and contain only letters, numbers, underscores, and periods."
   ]
  },
  {
   "cell_type": "markdown",
   "metadata": {},
   "source": [
    "### Asking for help\n",
    "\n",
    "1. You can ask R for help using the `help` function, or the `?` shortcut.\n",
    "\n",
    "    ```{r, eval=FALSE}\n",
    "    help(help)\n",
    "    ?help\n",
    "    ?sqrt\n",
    "    ```\n",
    "\n",
    "    The `help` function can be used to look up the documentation for a function, or to look up the documentation to a package. We can learn how to use the `stats` package by reading its documentation like this:\n",
    "\n",
    "    ```{r, eval=FALSE}\n",
    "    help(package = \"stats\")\n",
    "    ```\n",
    "\n",
    "2. If you know the name of the package you want to use, then Googling \"R *package-name*\" will often get you to the documentation. Packages are hosted on several different repositories, including:\n",
    "\n",
    "    * CRAN: <https://cran.r-project.org/web/packages/available_packages_by_name.html> \n",
    "    * Bioconductor: <https://www.bioconductor.org/packages/release/bioc/>\n",
    "    * Github: <http://rpkg.gepuro.net/>\n",
    "    * R-Forge: <https://r-forge.r-project.org/R/?group_id=1326>\n",
    "\n",
    "3. If you know the type of analysis you want to perform, you can Google \"CRAN Task Views\", where there are curated lists of packages <https://cran.r-project.org/web/views/>. If you want to know which packages are popular, you can look at <https://r-pkg.org>."
   ]
  },
  {
   "cell_type": "markdown",
   "metadata": {},
   "source": [
    "### Reading data\n",
    "\n",
    "R has data reading functionality built-in -- see e.g., `help(read.table)`. However, faster and more robust tools are available, and so to make things easier on ourselves we will use a *contributed package* instead. This requires that we learn a little bit about packages in R."
   ]
  },
  {
   "cell_type": "markdown",
   "metadata": {},
   "source": [
    "### Installing & using packages\n",
    "\n",
    "R is a modular environment that is extended by the use of **packages**. Packages are collections of functions or commands that are designed to perform specific tasks (e.g., fit a type of regression model). A large number of contributed packages are available (> 16,000). \n",
    "\n",
    "Using an R package is a **two step process**:\n",
    "\n",
    " 1. Install the package onto your computer using the `install.packages()` function. This only needs to be done the **first time** you use the package.\n",
    "\n",
    " 2. Load the package into your R session's search path using the `library()` function. This needs to be done **each time** you use the package."
   ]
  },
  {
   "cell_type": "markdown",
   "metadata": {},
   "source": [
    "### The `tidyverse`\n",
    "\n",
    "While R's built-in packages are powerful, in recent years there has been a big surge in well-designed *contributed packages* for R. In particular, a collection of R packages called [`tidyverse`](https://www.tidyverse.org/) have been designed specifically for data science. All packages included in `tidyverse` share an underlying design philosophy, grammar, and data structures. This philosophy is rooted in the idea of \"tidy data\":\n",
    "\n",
    "![](R/Rintro/images/tidy_data.png)\n",
    "\n",
    "A typical workflow for using `tidyverse` packages looks like this:\n",
    "\n",
    "![](R/Rintro/images/tidy_workflow.png)\n",
    "\n",
    "You should have already installed the `tidyverse` and `rmarkdown` packages onto your computer before the workshop --- see [R Installation](./Rinstall.html). Now let's load these packages into the search path of our R session."
   ]
  },
  {
   "cell_type": "code",
   "execution_count": null,
   "metadata": {},
   "outputs": [],
   "source": [
    "# Load packages tidyverse and rmarkdown using library() function\n",
    "library(tidyverse)\n",
    "library(rmarkdown)"
   ]
  },
  {
   "cell_type": "markdown",
   "metadata": {},
   "source": [
    "### Readers for common file types\n",
    "\n",
    "To read data from a file, you have to know what kind of file it is. The table below lists functions from the `readr` package, which is part of `tidyverse`, that can import data from common plain-text formats.\n",
    "\n",
    "| Data Type                 | Function        |\n",
    "|:--------------------------|:----------------|\n",
    "| comma separated           | `read_csv()`    |\n",
    "| tab separated             | `read_delim()`  |\n",
    "| other delimited formats   | `read_table()`  |\n",
    "| fixed width               | `read_fwf()`    |\n",
    "\n",
    "**Note** You may notice that there exist similar functions in one of the built-in packages in R called `utils`, e.g., `read.csv` and `read.delim`. These are legacy functions that tend to be slower and less robust than the `readr` functions. One way to tell them apart is that the faster more robust versions use underscores in their names (e.g., `read_csv`) while the older functions use dots (e.g., `read.csv`). Our advice is to use the more robust newer versions, i.e., the ones with underscores.\n",
    "\n",
    "### Baby names data\n",
    "\n",
    "As an example project we will analyze the popularity of baby names in the US from 1960 through 2017. The data were retrieved from <https://catalog.data.gov/dataset/baby-names-from-social-security-card-applications-national-level-data>.\n",
    "\n",
    "Here are the questions we will use R to answer:\n",
    "\n",
    "1. In which year did your name (or another name) occur most frequently by **count**?\n",
    "2. Which names have the highest popularity by **proportion** for each sex and year?\n",
    "3. How does the percentage of babies given one of the top 10 names of the year change over time?"
   ]
  },
  {
   "cell_type": "markdown",
   "metadata": {},
   "source": [
    "### Exercise 1\n",
    "\n",
    "**Reading the baby names data** \n",
    "\n",
    "Make sure you have installed the `tidyverse` suite of packages and attached them with `library(tidyverse)`. \n",
    "\n",
    " 1. Open the `read_csv()` help page to determine how to use it to read in data.\n",
    "    ```{r}\n",
    "    ##\n",
    "    ```\n",
    "\n",
    " 2. Read the baby names data using the `read_csv()` function and assign the result with the name `baby_names`.\n",
    "    ```{r}\n",
    "    ##\n",
    "    ```\n",
    "\n",
    " 3. BONUS (optional): Save the `baby_names` data as a Stata data set `babynames.dta` and as an R data set `babynames.rds`.\n",
    "    ```{r}\n",
    "    ##\n",
    "    ```\n",
    "\n",
    "<details>\n",
    "  <summary><span style=\"color:red\"><b>Click for Exercise 1 Solution</b></span></summary>\n",
    "  <div class=\"alert alert-danger\">\n",
    "\n",
    "1. Open the `read_csv()` help page to determine how to use it to read in data.\n",
    "\n",
    "    ```{r, eval=FALSE}\n",
    "    ?read_csv\n",
    "    ```\n",
    "\n",
    "2. Read the baby names data using the `read_csv()` function and assign the result with the name `baby_names`.\n",
    "\n",
    "    ```{r}\n",
    "    baby_names <- read_csv(\"babyNames.csv\")\n",
    "    ```\n",
    "\n",
    "3. BONUS (optional): Save the `baby_names` data as a Stata data set `babynames.dta` and as an R data set `babynames.rds`.\n",
    " \n",
    "    ```{r, eval=FALSE} \n",
    "    write_dta(baby_names, version = 15, path = “babynames.dta”)\n",
    "     \n",
    "    write_rds(baby_names, file = “babynames.rds”)\n",
    "    ```\n",
    "</div>\n",
    "</details>\n",
    "\n",
    "## Manipulating data \n",
    "\n",
    "<div class=\"alert alert-info\">\n",
    "**GOAL: To learn about basic data manipulation used to clean datasets.** In particular:\n",
    "\n",
    "1. Filtering data by choosing rows --- using the `filter()` function\n",
    "2. Selecting data by choosing columns --- using the `select()` function\n",
    "3. Arranging data by reordering rows --- using the `arrange()` function\n",
    "4. Using the pipe `%>%` operator to simplify sequential operations\n",
    "</div>\n",
    "\n",
    "In this section we will pull out specific names from the baby names data and examine changes in their popularity over time. \n",
    "\n",
    "The `baby_names` object we created in the last exercise is a `data.frame`. There are many other data structures in R, but for now we'll focus on working with `data.frames`. Think of a `data.frame` as a spreadsheet. If you want to know more about R data structures, you can see a summary in our [R Data Wrangling](./RDataWrangling.html#data-types-and-structures) workshop.\n",
    "\n",
    "R has decent data manipulation tools built-in -- see e.g., `help(Extract)`. But, `tidyverse` packages often provide more intuitive syntax for accomplishing the same task. In particular, we will use the `dplyr` package from `tidyverse` to filter, select, and arrange data, as well as create new variables.\n",
    "\n",
    "![](R/Rintro/images/dplyr.png)"
   ]
  },
  {
   "cell_type": "markdown",
   "metadata": {},
   "source": [
    "### Filter, select, & arrange\n",
    "\n",
    "One way to find the year in which your name was the most popular is to filter out just the rows corresponding to your name, and then arrange (sort) by `Count`. \n",
    "\n",
    "To demonstrate these techniques we'll try to determine whether \"Alex\"\" or \"Mark\" was more popular in 1992. We start by filtering the data so that we keep only rows where Year is equal to `1992` and Name is either \"Alex\" or \"Mark\"."
   ]
  },
  {
   "cell_type": "code",
   "execution_count": null,
   "metadata": {},
   "outputs": [],
   "source": [
    "# Read in the baby names data if you haven't already\n",
    "baby_names <- read_csv(\"babyNames.csv\")"
   ]
  },
  {
   "cell_type": "code",
   "execution_count": null,
   "metadata": {},
   "outputs": [],
   "source": [
    "# Filter data, keeping \"Alex\" and \"Mark\" in year 1992, record in baby_names_alexmark\n",
    "# Use logical operators to specify the filtering condition\n",
    "baby_names_alexmark <- filter(baby_names, \n",
    "             Year == 1992 & (Name == \"Alex\" | Name == \"Mark\"))\n",
    "\n",
    "print(baby_names_alexmark) # explicit printing\n",
    "baby_names_alexmark # implicit printing"
   ]
  },
  {
   "cell_type": "markdown",
   "metadata": {},
   "source": [
    "Notice that we can combine conditions using `&` (AND) and `|` (OR). \n",
    "\n",
    "In this case it's pretty easy to see that \"Mark\" is more popular, but to make it even easier we can arrange the data so that the most popular name is listed first."
   ]
  },
  {
   "cell_type": "code",
   "execution_count": null,
   "metadata": {},
   "outputs": [],
   "source": [
    "# Arrange the data by Count to see the most popular name first\n",
    "arrange(baby_names_alexmark, Count)"
   ]
  },
  {
   "cell_type": "code",
   "execution_count": null,
   "metadata": {},
   "outputs": [],
   "source": [
    "# Arrange the data in descending order instead\n",
    "arrange(baby_names_alexmark, desc(Count))"
   ]
  },
  {
   "cell_type": "markdown",
   "metadata": {},
   "source": [
    "We can also use the `select()` function to subset the `data.frame` by columns. We can then assign the output to a new object. If we would just like to glance at the first few lines we can use the `head()` function:"
   ]
  },
  {
   "cell_type": "code",
   "execution_count": null,
   "metadata": {},
   "outputs": [],
   "source": [
    "# Select columns Name and Count and assign to a new object \"baby_names_subset\"\n",
    "baby_names_subset <- select(baby_names, Name, Count)\n",
    "\n",
    "# Use head() to glance at the first few lines\n",
    "head(baby_names_subset)\n",
    "head(baby_names_subset, n = 6) # default is n = 6"
   ]
  },
  {
   "cell_type": "markdown",
   "metadata": {},
   "source": [
    "### Logical & relational operators\n",
    "\n",
    "In a previous example we used `==` to filter rows. Here's a table of other commonly used relational operators:\n",
    "\n",
    " | Operator  | Meaning                   | \n",
    " |:----------|:--------------------------| \n",
    " | `==`      | equal to                  | \n",
    " | `!=`      | not equal to              | \n",
    " | `>`       | greater than              | \n",
    " | `>=`      | greater than or equal to  | \n",
    " | `<`       | less than                 | \n",
    " | `<=`      | less than or equal to     | \n",
    " | `%in%`    | contained in              | \n",
    "\n",
    "These relational operators may be combined with logical operators, such as `&` (and) or `|` (or). For example, we can create a **vector** (a **container for a collection of values**) and demonstrate some ways to combine operators:"
   ]
  },
  {
   "cell_type": "code",
   "execution_count": null,
   "metadata": {},
   "outputs": [],
   "source": [
    "# Create a vector of consecutive values between 1 and 10\n",
    "x <- 1:10 # a vector\n",
    "x\n",
    "\n",
    "# Which elements of x are above 7\n",
    "x > 7 # a simple condition\n",
    "\n",
    "# Which elements of x are above 7 or below 3\n",
    "x > 7 | x < 3 # two conditions combined"
   ]
  },
  {
   "cell_type": "markdown",
   "metadata": {},
   "source": [
    "If we want to match multiple elements from two vectors we can use the `%in%` operator:"
   ]
  },
  {
   "cell_type": "code",
   "execution_count": null,
   "metadata": {},
   "outputs": [],
   "source": [
    "# x %in% vector\n",
    "# elements of x matching numbers 1, 5, or 10 \n",
    "x %in% c(1, 5, 10) "
   ]
  },
  {
   "cell_type": "markdown",
   "metadata": {},
   "source": [
    "Notice that logical and relational operators return **logical vectors** of `TRUE` and `FALSE` values. The logical vectors returned by these operators can themselves be operated on by functions:"
   ]
  },
  {
   "cell_type": "code",
   "execution_count": null,
   "metadata": {},
   "outputs": [],
   "source": [
    "# Count the number of elements of x above 7\n",
    "x > 7\n",
    "sum(x > 7)"
   ]
  },
  {
   "cell_type": "markdown",
   "metadata": {},
   "source": [
    "### Exercise 2.1\n",
    "\n",
    "**Peak popularity of your name**\n",
    "\n",
    "In this exercise you will discover the year your name reached its maximum popularity.\n",
    "\n",
    "Read in the \"babyNames.csv\" file if you have not already done so, assigning the result to `baby_names`. Make sure you have installed the `tidyverse` suite of packages and attached them with `library(tidyverse)`.\n",
    "\n",
    " 1. Use `filter` to extract data for your name (or another name of your choice). \n",
    "    ```{r}\n",
    "    ##\n",
    "    ```\n",
    "\n",
    " 2. Arrange the data you produced in step 1 above by `Count`. In which year was the name most popular?\n",
    "    ```{r}\n",
    "    ##\n",
    "    ```\n",
    "\n",
    " 3. BONUS (optional): Filter the data to extract *only* the row containing the most popular boys name in 1999.\n",
    "    ```{r}\n",
    "    ##\n",
    "    ```\n",
    "\n",
    "<details>\n",
    "  <summary><span style=\"color:red\"><b>Click for Exercise 2.1 Solution</b></span></summary>\n",
    "  <div class=\"alert alert-danger\">\n",
    "\n",
    "1. Use `filter` to extract data for your name (or another name of your choice).\n",
    "\n",
    "    ```{r}\n",
    "    baby_names_george <- filter(baby_names, Name == \"George\")\n",
    "    ```\n",
    "\n",
    "2. Arrange the data you produced in step 1 above by `Count`. In which year was the name most popular?\n",
    "\n",
    "    ```{r}\n",
    "    arrange(baby_names_george, desc(Count))\n",
    "    ```\n",
    "\n",
    "3. BONUS (optional): Filter the data to extract *only* the row containing the most popular boys name in 1999.\n",
    "\n",
    "    ```{r}\n",
    "    baby_names_boys_1999 <- filter(baby_names,\n",
    "                                   Year == 1999 & Sex == \"Boys\")\n",
    "    ```\n",
    "\n",
    "    ```{r}\n",
    "    filter(baby_names_boys_1999, Count == max(Count))\n",
    "    ```\n",
    "</div>\n",
    "</details>"
   ]
  },
  {
   "cell_type": "markdown",
   "metadata": {},
   "source": [
    "### Pipe operator\n",
    "\n",
    "There is one very special operator in R called a **pipe** operator that looks like this: `%>%`. It allows us to \"chain\" several function calls and, as each function returns an object, feed it into the next call in a single statement, without needing extra variables to store the intermediate results. The point of the pipe is to help you write code in a way that is easier to read and understand as we will see below.\n",
    "\n",
    "![](R/Rintro/images/magrittr.png)\n",
    "\n",
    "There is no need to load any additional packages as the operator is made available via the `magrittr` package installed as part of `tidyverse`. Let's rewrite the sequence of commands to output ordered counts for names \"Alex\" or \"Mark\"."
   ]
  },
  {
   "cell_type": "code",
   "execution_count": null,
   "metadata": {},
   "outputs": [],
   "source": [
    "# Filter data keeping rows for \"Alex\" and \"Mark\" during year 1992, record in baby_names_alexmark\n",
    "# Arrange the result in a descending order by Count\n",
    "# unpiped version\n",
    "baby_names_alexmark <- filter(baby_names, Year == 1992 & (Name == \"Alex\" | Name == \"Mark\"))\n",
    "arrange(baby_names_alexmark, desc(Count))"
   ]
  },
  {
   "cell_type": "code",
   "execution_count": null,
   "metadata": {},
   "outputs": [],
   "source": [
    "# piped version\n",
    "baby_names %>% \n",
    "  filter(Year == 1992 & (Name == \"Alex\" | Name == \"Mark\")) %>%\n",
    "  arrange(desc(Count))"
   ]
  },
  {
   "cell_type": "markdown",
   "metadata": {},
   "source": [
    "Hint: try pronouncing \"then\" whenever you see `%>%`. Using pseudocode, we can see what the pipe is doing:"
   ]
  },
  {
   "cell_type": "code",
   "execution_count": null,
   "metadata": {
    "eval": false
   },
   "outputs": [],
   "source": [
    "# unpiped version\n",
    "filter(dataset, condition)\n",
    "\n",
    "# piped version\n",
    "dataset %>% filter(condition)\n",
    "\n",
    "# what the pipe is doing\n",
    "output_of_thing_on_left %>% becomes_input_of_thing_on_right"
   ]
  },
  {
   "cell_type": "markdown",
   "metadata": {},
   "source": [
    "Advantages of using the pipe:\n",
    "\n",
    "1. We can avoid creating intermediate variables, such as `baby_names_alexmark`\n",
    "2. Less to type \n",
    "3. Easier to read and follow the logic (especially avoiding using nested functions)"
   ]
  },
  {
   "cell_type": "markdown",
   "metadata": {},
   "source": [
    "### Exercise 2.2\n",
    "\n",
    "Rewrite the solution to Exercise 2.1 using pipes. Remember that we were looking for the year your name reached its maximum popularity. For that, we filtered the data and then arranged by `Count`."
   ]
  },
  {
   "cell_type": "code",
   "execution_count": null,
   "metadata": {},
   "outputs": [],
   "source": [
    "# Use filter to extract data for your name (or another name of your choice)\n",
    "# Arrange the data by Count\n"
   ]
  },
  {
   "cell_type": "markdown",
   "metadata": {},
   "source": [
    "<details>\n",
    "  <summary><span style=\"color:red\"><b>Click for Exercise 2.2 Solution</b></span></summary>\n",
    "  <div class=\"alert alert-danger\">\n",
    "\n",
    "Rewrite the solution to Exercise 2.1 using pipes."
   ]
  },
  {
   "cell_type": "code",
   "execution_count": null,
   "metadata": {
    "lines_to_next_cell": 0
   },
   "outputs": [],
   "source": [
    "# Use filter to extract data for your name (or another name of your choice)\n",
    "# Arrange the data by Count\n",
    "baby_names %>% \n",
    "    filter(Name == \"George\") %>%\n",
    "    arrange(desc(Count))"
   ]
  },
  {
   "cell_type": "markdown",
   "metadata": {},
   "source": [
    "</div>\n",
    "</details>"
   ]
  },
  {
   "cell_type": "markdown",
   "metadata": {},
   "source": [
    "## Plotting data\n",
    "\n",
    "<div class=\"alert alert-info\">\n",
    "**GOAL: Plot baby name trends over time -- using the `qplot()` function**\n",
    "</div>\n",
    "\n",
    "It can be difficult to spot trends when looking at summary tables. Plotting the data makes it easier to identify interesting patterns.\n",
    "\n",
    "R has decent plotting tools built-in -- see e.g., `help(plot)`. However, again, we will make use of a *contributed package* from `tidyverse` called `ggplot2`.\n",
    "\n",
    "For quick and simple plots we can use the `qplot()` function from `ggplot2`. For example, we can plot the number of babies given the name \"Diana\" over time like this:"
   ]
  },
  {
   "cell_type": "code",
   "execution_count": null,
   "metadata": {},
   "outputs": [],
   "source": [
    "# Filter data keeping rows for name \"Diana\" and assign to a new object called baby_names_diana\n",
    "baby_names_diana <- filter(baby_names, Name == \"Diana\")"
   ]
  },
  {
   "cell_type": "code",
   "execution_count": null,
   "metadata": {},
   "outputs": [],
   "source": [
    "# Use qplot() function to plot Counts (y) by Year (x)\n",
    "qplot(x = Year, y = Count,\n",
    "     data = baby_names_diana)"
   ]
  },
  {
   "cell_type": "markdown",
   "metadata": {},
   "source": [
    "Interestingly, there are usually some gender-atypical names, even for very strongly gendered names like \"Diana\". Splitting these trends out by `Sex` is very easy:"
   ]
  },
  {
   "cell_type": "code",
   "execution_count": null,
   "metadata": {
    "lines_to_next_cell": 2
   },
   "outputs": [],
   "source": [
    "# Use qplot() function to plot Counts (y) by Year (x). Split trends by Sex using color.\n",
    "qplot(x = Year, y = Count, color = Sex,\n",
    "      data = baby_names_diana)"
   ]
  },
  {
   "cell_type": "markdown",
   "metadata": {},
   "source": [
    "### Exercise 3 \n",
    "\n",
    "**Plot peak popularity of your name**\n",
    "\n",
    " 1. Use `filter` to extract data for your name (same as previous exercise)\n",
    "\n",
    "    ```{r}\n",
    "    ##\n",
    "    ```\n",
    "\n",
    " 2. Plot the data you produced in step 1 above, with `Year` on the x-axis and `Count` on the y-axis.\n",
    "\n",
    "    ```{r}\n",
    "    ##\n",
    "    ```\n",
    "\n",
    " 3. Adjust the plot so that is shows boys and girls in different colors.\n",
    "\n",
    "    ```{r}\n",
    "    ##\n",
    "    ```\n",
    "\n",
    " 4. BONUS (Optional): Adjust the plot to use lines instead of points.\n",
    "\n",
    "    ```{r}\n",
    "    ##\n",
    "    ```\n",
    "\n",
    "<details>\n",
    "  <summary><span style=\"color:red\"><b>Click for Exercise 3 Solution</b></span></summary>\n",
    "  <div class=\"alert alert-danger\">\n",
    "\n",
    "1. Use `filter()` to extract data for your name (same as previous exercise).  \n",
    "\n",
    "    ```{r}\n",
    "    baby_names_george <- filter(baby_names, Name == \"George\")\n",
    "    ```\n",
    "\n",
    "2. Plot the data you produced in step 1 above, with `Year` on the x-axis and `Count` on the y-axis.\n",
    "\n",
    "    ```{r}\n",
    "    qplot(x = Year, y = Count, data = baby_names_george)\n",
    "    ```\n",
    "\n",
    "3. Adjust the plot so that is shows boys and girls in different colors.\n",
    "\n",
    "    ```{r}\n",
    "    qplot(x = Year, y = Count, color = Sex, data = baby_names_george)\n",
    "    ```\n",
    "\n",
    "4. BONUS (Optional): Adjust the plot to use lines instead of points.\n",
    "\n",
    "    ```{r}\n",
    "    qplot(x = Year, y = Count, color = Sex, data = baby_names_george, geom = \"line\")\n",
    "    ```\n",
    "</div>\n",
    "</details>"
   ]
  },
  {
   "cell_type": "markdown",
   "metadata": {},
   "source": [
    "## Creating variables\n",
    "\n",
    "<div class=\"alert alert-info\">\n",
    "**GOAL: To learn how to create new variables with and without grouped data.** In particular:\n",
    "\n",
    "1. Creating new variables (columns) --- using the `mutate()` function\n",
    "2. Creating new variables within groups --- by combining the `mutate()` and `group_by()` functions\n",
    "3. Recode existing variables --- by combining the `mutate()` and `case_when()` functions\n",
    "</div>\n",
    "\n",
    "We want to use these skills to find out which names have been the most popular.\n",
    "\n",
    "### Create or modify columns\n",
    "\n",
    "So far we've used `Count` as a measure of popularity. A better approach is to use proportion to avoid confounding popularity with the number of babies born in a given year. \n",
    "\n",
    "The `mutate()` function makes it easy to add or modify the columns of a `data.frame`. For example, we can use it to rescale the count of each name in each year:"
   ]
  },
  {
   "cell_type": "code",
   "execution_count": null,
   "metadata": {},
   "outputs": [],
   "source": [
    "# Use piping to add a new column to the data, called Count_1k, that rescales counts to thousands\n",
    "baby_names <- baby_names %>% mutate(Count_1k = Count/1000)\n",
    "head(baby_names) "
   ]
  },
  {
   "cell_type": "markdown",
   "metadata": {},
   "source": [
    "### Operating by group\n",
    "\n",
    "Because of the nested nature of our data, we want to compute proportion or rank **within** each `Sex` by `Year` group. The `dplyr` package has a `group_by()` function that makes this relatively straightforward. Here's the logic behind this process:\n",
    "\n",
    "![](R/Rintro/images/mutate_group_by.png)\n",
    "\n",
    "Note that the `group_by()` function converts a **data frame** into a **grouped data frame** --- that is, a data frame with metadata identifying the groups. The data remain grouped until you change the groups by running `group_by()` again or remove the grouping metadata using `ungroup()`.\n",
    "\n",
    "Here's the code that implements the calculation:"
   ]
  },
  {
   "cell_type": "code",
   "execution_count": null,
   "metadata": {},
   "outputs": [],
   "source": [
    "# Group baby_names by Year and Sex and rank Count_1k within each group (calling the resulting new column \"Rank\"). \n",
    "# Remember to ungroup at the end!\n",
    "baby_names <-\n",
    "  baby_names %>%\n",
    "  group_by(Year, Sex) %>%\n",
    "  mutate(Rank = rank(Count_1k)) %>%\n",
    "  ungroup()\n",
    "\n",
    "head(baby_names)"
   ]
  },
  {
   "cell_type": "markdown",
   "metadata": {},
   "source": [
    "### Recoding variables\n",
    "\n",
    "It's often necessary to create a new variable that is a recoded version of an existing variable. For example, we might want to take our `Count_1k` variable and create a new variable that divides it into `low`, `medium`, and `high` categories. To do this, we can use the `case_when()` function within the `mutate()` function:"
   ]
  },
  {
   "cell_type": "code",
   "execution_count": null,
   "metadata": {},
   "outputs": [],
   "source": [
    "# Use case_when() to recode the newly created Rank column into low (<=10), high (>40), and medium (all others).\n",
    "# Call the resulting column \"Count_levels\".\n",
    "baby_names <-\n",
    "  baby_names %>%\n",
    "  mutate(Count_levels = case_when(\n",
    "                            Count_1k <= 10                  ~ \"low\",\n",
    "                            Count_1k  > 10 & Count_1k <= 40 ~ \"medium\",\n",
    "                            Count_1k  > 40                  ~ \"high\"\n",
    "                            ))\n",
    "\n",
    "head(baby_names)                            "
   ]
  },
  {
   "cell_type": "markdown",
   "metadata": {},
   "source": [
    "### Exercise 4\n",
    "\n",
    "**Most popular names**\n",
    "\n",
    "In this exercise your goal is to identify the most popular names for each year.\n",
    "\n",
    " 1. Use `mutate()` and `group_by()` to create a column named `Proportion` where `Proportion = Count/sum(Count)` for each `Year X Sex` group. Use pipes wherever it makes sense.\n",
    "\n",
    "    ```{r}\n",
    "    ##\n",
    "    ```\n",
    "\n",
    " 2. Use `mutate()` and `group_by()` to create a column named `Rank` where `Rank = rank(desc(Count))` for each `Year X Sex` group. \n",
    "\n",
    "    ```{r}\n",
    "    ##\n",
    "    ```\n",
    "\n",
    " 3. Filter the baby names data to display only the most popular name for each `Year X Sex` group. Keep only the columns: `Year`, `Name`, `Sex`, and `Proportion`.\n",
    "\n",
    "    ```{r}\n",
    "    ##\n",
    "    ```\n",
    "\n",
    " 4. Plot the data produced in step 3, putting `Year` on the x-axis and `Proportion` on the y-axis. How has the proportion of babies given the most popular name changed over time?\n",
    "\n",
    "    ```{r}\n",
    "    ##\n",
    "    ```\n",
    "\n",
    " 5. BONUS (optional): Which names are the most popular for both boys and girls?\n",
    "\n",
    "    ```{r}\n",
    "    ##\n",
    "    ```\n",
    "\n",
    "<details>\n",
    "  <summary><span style=\"color:red\"><b>Click for Exercise 4 Solution</b></span></summary>\n",
    "  <div class=\"alert alert-danger\">\n",
    "\n",
    "1. Use `mutate()` and `group_by()` to create a column named `Proportion` where `Proportion = Count/sum(Count)` for each `Year X Sex` group.\n",
    "\n",
    "    ```{r}\n",
    "    baby_names <- \n",
    "      baby_names %>%\n",
    "      group_by(Year, Sex) %>%\n",
    "      mutate(Proportion = Count/sum(Count)) %>%\n",
    "      ungroup()\n",
    "\n",
    "    head(baby_names) \n",
    "    ```\n",
    "\n",
    "2. Use `mutate()` and `group_by()` to create a column named `Rank` where `Rank = rank(desc(Count))` for each `Year X Sex` group.\n",
    "\n",
    "    ```{r}\n",
    "    baby_names <- \n",
    "      baby_names %>%\n",
    "      group_by(Year, Sex) %>%\n",
    "      mutate(Rank = rank(desc(Count))) %>%\n",
    "      ungroup()\n",
    "\n",
    "    head(baby_names)\n",
    "    ```\n",
    "\n",
    "3. Filter the baby names data to display only the most popular name for each `Year X Sex` group.\n",
    "\n",
    "    ```{r}\n",
    "    top1 <- \n",
    "      baby_names %>%\n",
    "      filter(Rank == 1) %>%\n",
    "      select(Year, Name, Sex, Proportion)\n",
    "\n",
    "    head(top1)\n",
    "    ```\n",
    "\n",
    "4. Plot the data produced in step 3, putting `Year` on the x-axis and `Proportion` on the y-axis. How has the proportion of babies given the most popular name changed over time?\n",
    "\n",
    "    ```{r}\n",
    "    qplot(x = Year, \n",
    "          y = Proportion, \n",
    "          color = Sex, \n",
    "          data = top1, \n",
    "          geom = \"line\")\n",
    "    ```\n",
    "\n",
    "5. BONUS (optional): Which names are the most popular for both boys and girls?\n",
    "\n",
    "    ```{r}\n",
    "    girls_and_boys <- inner_join(filter(baby_names, Sex == \"Boys\"), \n",
    "                                 filter(baby_names, Sex == \"Girls\"),\n",
    "                                 by = c(\"Year\", \"Name\"))\n",
    "\n",
    "    girls_and_boys <- mutate(girls_and_boys,\n",
    "                             Product = Count.x * Count.y,\n",
    "                             Rank = rank(desc(Product)))\n",
    "\n",
    "    filter(girls_and_boys, Rank == 1)\n",
    "    ```\n",
    "</div>\n",
    "</details>"
   ]
  },
  {
   "cell_type": "markdown",
   "metadata": {},
   "source": [
    "## Aggregating variables\n",
    "\n",
    "<div class=\"alert alert-info\">\n",
    "**GOAL: To learn how to aggregate data to create summaries with and without grouped data.** In particular:\n",
    "\n",
    "1. Collapsing data into summaries --- using the `summarize()` function \n",
    "2. Creating summaries within groups --- by combining the `summarize()` and `group_by()` functions \n",
    "</div>\n",
    "\n",
    "You may have noticed that the percentage of babies given the most popular name of the year appears to have decreased over time. We can compute a more robust measure of the popularity of the most popular names by calculating the number of babies given one of the top 10 girl or boy names of the year.\n",
    "\n",
    "To compute this measure we need to operate within groups, as we did using `mutate()` above, but this time we need to collapse each group into a single summary statistic. We can achieve this using the `summarize()` function. \n",
    "\n",
    "First, let's see how this function works without grouping. The following code outputs the total number of girls and boys in the data:"
   ]
  },
  {
   "cell_type": "code",
   "execution_count": null,
   "metadata": {},
   "outputs": [],
   "source": [
    "# Use summarize() to output the total number of boys and girls in the sample\n",
    "baby_names %>% \n",
    "  summarize(Girls_n = sum(Sex==\"Girls\"),\n",
    "            Boys_n = sum(Sex==\"Boys\"))"
   ]
  },
  {
   "cell_type": "markdown",
   "metadata": {},
   "source": [
    "Next, using `group_by()` and `summarize()` together, we can calculate the number of babies born each year. Here's the logic behind this process:\n",
    "\n",
    "![](R/Rintro/images/summarize_group_by.png)\n",
    "\n",
    "Note that, unlike with the `mutate()` function, the `summarize()` function returns a data frame with fewer rows than the original, because of aggregation.\n",
    "\n",
    "Here's the code that implements the calculation:"
   ]
  },
  {
   "cell_type": "code",
   "execution_count": null,
   "metadata": {
    "lines_to_next_cell": 2
   },
   "outputs": [],
   "source": [
    "# Group baby_names by Year and calculate the sum of Count (record in a column called Total). \n",
    "# Assign the result to bn_by_year and remember to ungroup!\n",
    "bn_by_year <-\n",
    "  baby_names %>%\n",
    "  group_by(Year) %>%\n",
    "  summarize(Total = sum(Count)) %>%\n",
    "  ungroup()\n",
    "\n",
    "head(bn_by_year)"
   ]
  },
  {
   "cell_type": "markdown",
   "metadata": {},
   "source": [
    "### Exercise 5\n",
    "\n",
    "**Popularity of the most popular names**\n",
    "\n",
    "In this exercise we will plot trends in the proportion of boys and girls given one of the 10 most popular names each year.\n",
    "\n",
    " 1. Filter the `baby_names` data, retaining only the 10 most popular girl and boy names for each year.\n",
    "\n",
    "    ```{r}\n",
    "    ##\n",
    "    ```\n",
    "\n",
    " 2. Summarize the data produced in step one to calculate the `Total Proportion` of boys and girls given one of the top 10 names each year.\n",
    "\n",
    "    ```{r}\n",
    "    ##\n",
    "    ```\n",
    "\n",
    " 3. Plot the data produced in step 2, with `Year` on the x-axis and `Total Proportion` on the y axis. Color by `Sex` and notice the trend.\n",
    "\n",
    "    ```{r}\n",
    "    ##\n",
    "    ```\n",
    "\n",
    "<details>\n",
    "  <summary><span style=\"color:red\"><b>Click for Exercise 5 Solution</b></span></summary>\n",
    "  <div class=\"alert alert-danger\">\n",
    "\n",
    "1. Filter the `baby_names` data, retaining only the 10 most popular girl and boy names for each year.\n",
    "\n",
    "    ```{r}\n",
    "    most_popular <- \n",
    "      baby_names %>% \n",
    "      group_by(Year, Sex) %>%\n",
    "      filter(Rank <= 10)\n",
    "\n",
    "    head(most_popular, n = 10)\n",
    "    ```\n",
    "\n",
    "2. Summarize the data produced in step one to calculate the `Total Proportion` of boys and girls given one of the top 10 names each year.\n",
    "\n",
    "    ```{r}\n",
    "    top10 <- \n",
    "      most_popular %>% # it is already grouped by Year and Sex\n",
    "      summarize(TotalProportion = sum(Proportion))\n",
    "    ```\n",
    "\n",
    "3. Plot the data produced in step 2, with `Year` on the x-axis and `Total Proportion` on the y axis. Color by `Sex` and notice the trend.\n",
    "\n",
    "    ```{r}\n",
    "    qplot(x = Year, \n",
    "          y = TotalProportion, \n",
    "          color = Sex,\n",
    "          data = top10,\n",
    "          geom = \"line\")\n",
    "    ```\n",
    "</div>\n",
    "</details>"
   ]
  },
  {
   "cell_type": "markdown",
   "metadata": {},
   "source": [
    "## Saving work\n",
    "\n",
    "<div class=\"alert alert-info\">\n",
    "**GOAL: To learn how to save objects, data, and scripts for later use.**\n",
    "</div>\n",
    "\n",
    "Now that we have made some changes to our data set, we might want to save those changes to a file.\n",
    "\n",
    "### Saving individual datasets\n",
    "\n",
    "You might find functions `write_csv()` and `write_rds()` from package `readr` handy!"
   ]
  },
  {
   "cell_type": "code",
   "execution_count": null,
   "metadata": {
    "eval": false
   },
   "outputs": [],
   "source": [
    "# write baby_names to a .csv file\n",
    "write_csv(baby_names, \"babyNames.csv\")"
   ]
  },
  {
   "cell_type": "code",
   "execution_count": null,
   "metadata": {
    "eval": false
   },
   "outputs": [],
   "source": [
    "# write baby_names to an R file\n",
    "write_rds(baby_names, \"babyNames.rds\")"
   ]
  },
  {
   "cell_type": "markdown",
   "metadata": {},
   "source": [
    "### Saving multiple datasets"
   ]
  },
  {
   "cell_type": "code",
   "execution_count": null,
   "metadata": {
    "eval": false
   },
   "outputs": [],
   "source": [
    "ls() # list objects in our workspace\n",
    "# Use save() function from the base R package to record some objects into a file named \"myDataFiles.RData\"\n",
    "save(baby_names_diana, bn_by_year, baby_names_subset, file=\"myDataFiles.RData\")  "
   ]
  },
  {
   "cell_type": "code",
   "execution_count": null,
   "metadata": {
    "eval": false
   },
   "outputs": [],
   "source": [
    "# Load the \"myDataFiles.RData\"\n",
    "# load(\"myDataFiles.RData\") "
   ]
  },
  {
   "cell_type": "markdown",
   "metadata": {},
   "source": [
    "## Wrap-up\n",
    "\n",
    "### Feedback\n",
    "\n",
    "These workshops are a work-in-progress, please provide any feedback to: help@iq.harvard.edu\n",
    "\n",
    "### Resources\n",
    "\n",
    "* IQSS \n",
    "    + Workshops: <https://www.iq.harvard.edu/data-science-services/workshop-materials>\n",
    "    + Data Science Services: <https://www.iq.harvard.edu/data-science-services>\n",
    "    + Research Computing Environment: <https://iqss.github.io/dss-rce/>\n",
    "\n",
    "* HBS\n",
    "    + Research Computing Services workshops: <https://training.rcs.hbs.org/workshops>\n",
    "    + Other HBS RCS resources: <https://training.rcs.hbs.org/workshop-materials>\n",
    "    + RCS consulting email: <mailto:research@hbs.edu>\n",
    "\n",
    "* Software (all free!):\n",
    "    + R and R package download: <http://cran.r-project.org>\n",
    "    + RStudio download: <http://rstudio.org>\n",
    "    + ESS (Emacs R package): <http://ess.r-project.org/>\n",
    "\n",
    "* Cheatsheets\n",
    "    + <https://rstudio.com/wp-content/uploads/2019/01/Cheatsheets_2019.pdf>\n",
    "\n",
    "* Online tutorials\n",
    "    + <https://swirlstats.com/>\n",
    "    + <https://r4ds.had.co.nz/>\n",
    "    + <https://hbs-rcs.github.io/R_Intro-gapminder/base-r/>\n",
    "    + <https://www.pluralsight.com/search?q=R>\n",
    "    + <https://www.datacamp.com/> \n",
    "    + <https://rmarkdown.rstudio.com/lesson-1.html>\n",
    "\n",
    "* Getting help:\n",
    "    + Documentation and tutorials: <http://cran.r-project.org/other-docs.html>\n",
    "    + Recommended R packages by topic: <http://cran.r-project.org/web/views/>\n",
    "    + Mailing list: <https://stat.ethz.ch/mailman/listinfo/r-help>\n",
    "    + StackOverflow: <http://stackoverflow.com/questions/tagged/r>\n",
    "    + R-Bloggers: <https://www.r-bloggers.com/>\n",
    "\n",
    "* Coming from ...\n",
    "    + Stata: <http://www.princeton.edu/~otorres/RStata.pdf>\n",
    "    + SAS/SPSS: <http://r4stats.com/books/free-version/>\n",
    "    + Matlab: <http://www.math.umaine.edu/~hiebeler/comp/matlabR.pdf>\n",
    "    + Python: <http://mathesaurus.sourceforge.net/matlab-python-xref.pdf>\n"
   ]
  }
 ],
 "metadata": {
  "jupytext": {
   "cell_metadata_filter": "tags,eval,-all",
   "main_language": "R",
   "notebook_metadata_filter": "-all"
  }
 },
 "nbformat": 4,
 "nbformat_minor": 4
}
