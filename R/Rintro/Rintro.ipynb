{
 "cells": [
  {
   "cell_type": "markdown",
   "metadata": {
    "lines_to_next_cell": 0
   },
   "source": []
  },
  {
   "cell_type": "code",
   "execution_count": null,
   "metadata": {
    "hide_input": true,
    "hide_output": true
   },
   "outputs": [],
   "source": [
    "options(max.print = 100)\n",
    "knitr::opts_chunk$set(message=FALSE, fig.path=\"R/Rintro/figures/\")\n",
    "knitr::opts_knit$set(root.dir=\"R/Rintro\") # base.url = \"/\" # base.dir=\"R/Rintro\"\n",
    "# knitr::opts_chunk$set(eval=FALSE, results=FALSE, message=FALSE, warning=FALSE, error=FALSE)\n",
    "\n",
    "# knitr::opts_knit$set(base.dir = \"/Users/nunnlab/Desktop/GitHub/rgriff23.github.io/\")"
   ]
  },
  {
   "cell_type": "markdown",
   "metadata": {},
   "source": [
    "# R Introduction\n",
    "\n",
    "**Topics**\n",
    "\n",
    "* Functions\n",
    "* Assignment\n",
    "* Finding help\n",
    "* Importing packages\n",
    "* Basic data manipulation\n",
    "* Operations within groups of data\n",
    "* Saving data"
   ]
  },
  {
   "cell_type": "markdown",
   "metadata": {},
   "source": [
    "## Setup\n",
    "\n",
    "### Class Structure\n",
    "\n",
    "* Informal --- Ask questions at any time. Really!\n",
    "* Collaboration is encouraged - please spend a minute introducing yourself to your neighbors!\n",
    "\n",
    "### Prerequisites\n",
    "\n",
    "* None --- assumes no prior knowledge of R\n",
    "* Relatively slow-paced\n",
    "\n",
    "### Goals\n",
    "\n",
    "We will learn about the R language by analyzing a dataset of baby names. \n",
    "In particular, our goals are to learn about:\n",
    "\n",
    "1.  How we can interact with R\n",
    "2.  Foundations of the language (functions, assignment)\n",
    "3.  The `tidyverse` package ecosystem for data science\n",
    "4.  Basic data manipulation useful for cleaning datasets\n",
    "5.  Working with grouped data\n",
    "6.  Aggregating data to create summaries\n",
    "7.  Saving objects, data, and scripts\n",
    "\n",
    "This workshop will not cover how to iterate over collections of data, create \n",
    "your own functions, produce publication quality graphics, or fit models to data. \n",
    "These topics are covered in our [R Data Wrangling](./RDataWrangling.html), \n",
    "[R Graphics](./Rgraphics.html), and [R Regression Models](./Rmodels.html) workshops."
   ]
  },
  {
   "cell_type": "markdown",
   "metadata": {},
   "source": [
    "## R basics\n",
    "\n",
    "**GOAL: To learn about the foundations of the R language.** \n",
    "\n",
    "1.  R interfaces\n",
    "2.  Functions\n",
    "3.  Assignment\n",
    "4.  Getting help\n",
    "5.  `tidyverse` package ecosystem for data science"
   ]
  },
  {
   "cell_type": "markdown",
   "metadata": {},
   "source": [
    "### What is R?\n",
    "\n",
    "R is a free language and environment for statistical computing and graphics. \n",
    "R has existed for over 25 years and is now the most popular software for\n",
    "data analysis. It has an extensive ecosystem of about 15,000 add on packages\n",
    "covering all aspects of statistics and machine learning. "
   ]
  },
  {
   "cell_type": "markdown",
   "metadata": {},
   "source": [
    "### Interfaces\n",
    "\n",
    "#### Text editors, IDEs, & Notebooks\n",
    "\n",
    "There are different ways of interacting with R. The two main ways are through:\n",
    "\n",
    "1.  **text editors** or **Integrated Development Environments (IDEs):** Text editors and IDEs are not really separate categories; as you add features to a text editor it becomes more like an IDE. Some editors/IDEs are language-specific while others are general purpose --- typically providing language support via plugins. For these workshops we will use [RStudio](https://rstudio.com/); it is a good R-specific IDE with many useful features. Here are a few popular editors/IDEs that can be used with R:\n",
    "\n",
    "| Editor / IDE | Features  | Ease of use | Language support |\n",
    "|:------------ |:--------- |:----------- |:---------------- |\n",
    "| RStudio      | Excellent | Easy        | R only           |\n",
    "| Jupyter Lab  | Good      | Easy        | Excellent        |\n",
    "| VS code      | Excellent | Easy        | Very good        |\n",
    "| Atom         | Good      | Moderate    | Good             |\n",
    "| Vim          | Excellent | Hard        | Good             |\n",
    "| Emacs        | Excellent | Hard        | Excellent        |\n",
    "\n",
    "2. **Notebooks:** Web-based applications that allow you to create and share documents that contain live code, equations, visualizations, and narrative text. A popular notebook is the open source [Jupyter Notebook](https://jupyter.org/) that has support for 40+ languages. \n",
    "\n",
    "#### Source code & literate programming\n",
    "\n",
    "There are also several different **formats** available for writing code in R. \n",
    "These basically boil down to a choice between:\n",
    "\n",
    "1. **Source code:** the practice of writing code, and possibly comments, in a plain text document. In R this is done by writing code in a text file with a `.R` or `.r` extension. Writing source code has the great advantage of being simple. Souce code is the format of choice if you intend to run your code as a complete script - for example, from the command line.\n",
    "\n",
    "2.  **Literate programming:** the practice of embedding computer code in a natural language document. In R this is often done using [**Rmarkdown**](https://rmarkdown.rstudio.com/), which involves embeddeding R code in a document that is authored using *Markdown* and which has a `.Rmd` extension. *Markdown* is easy to write and designed to be human-readable. Markdown is the format of choice if you intend to run your code interactively, by running small pieces of code and looking at each output. Many researchers use Markdown to write their journal papers, dissertations, and statistics/math class notes, since it is easy to convert into other formats later, such as HTML (for a webpage), MS Word, or PDF (via LaTeX). \n",
    "\n",
    "Here are some resources for learning more about Rmarkdown and RStudio: \n",
    "\n",
    "* <https://rmarkdown.rstudio.com/authoring_quick_tour.html>\n",
    "* <https://cran.r-project.org/web/packages/rmarkdown/vignettes/rmarkdown.html>\n",
    "*  <https://rstudio.com/wp-content/uploads/2019/01/Cheatsheets_2019.pdf>"
   ]
  },
  {
   "cell_type": "markdown",
   "metadata": {},
   "source": [
    "### Launch a session\n",
    "\n",
    "Start RStudio and create a new project:\n",
    "\n",
    "* On Windows click the start button and search for RStudio. On Mac\n",
    "    RStudio will be in your applications folder.\n",
    "* In Rstudio go to `File -> New Project`.\n",
    "* Choose `Existing Directory` and browse to the workshop materials directory on your desktop.\n",
    "* Choose `File -> Open File` and select the file with the word \"BLANK\" in the name."
   ]
  },
  {
   "cell_type": "markdown",
   "metadata": {
    "lines_to_next_cell": 0
   },
   "source": [
    "### Exercise 0\n",
    "\n",
    "The purpose of this exercise is to give you an opportunity to explore\n",
    "the interface provided by RStudio. You may not know how to do these things; \n",
    "that's fine! This is an opportunity to figure it out.\n",
    "\n",
    "Also keep in mind that we are living in a golden age of tab completion.\n",
    "If you don't know the name of an R function, try guessing the first two\n",
    "or three letters and pressing TAB. If you guessed correctly the function\n",
    "you are looking for should appear in a pop up!\n",
    "\n",
    "-------------------------------------------\n",
    "\n",
    "1.  Try to get R to add 2 plus 2."
   ]
  },
  {
   "cell_type": "code",
   "execution_count": null,
   "metadata": {
    "lines_to_next_cell": 0
   },
   "outputs": [],
   "source": [
    "##"
   ]
  },
  {
   "cell_type": "markdown",
   "metadata": {
    "lines_to_next_cell": 0
   },
   "source": [
    "2.  Try to calculate the square root of 10."
   ]
  },
  {
   "cell_type": "code",
   "execution_count": null,
   "metadata": {
    "lines_to_next_cell": 0
   },
   "outputs": [],
   "source": [
    "##"
   ]
  },
  {
   "cell_type": "markdown",
   "metadata": {},
   "source": [
    "3.  R includes extensive documentation, including a manual named \"An\n",
    "    introduction to R\". Use the RStudio help pane. to locate this manual."
   ]
  },
  {
   "cell_type": "markdown",
   "metadata": {},
   "source": [
    "### Syntax rules\n",
    "\n",
    "* R is case sensitive\n",
    "* R ignores white space\n",
    "* Object names should start with a letter"
   ]
  },
  {
   "cell_type": "markdown",
   "metadata": {},
   "source": [
    "### Function calls\n",
    "\n",
    "The general form for calling R functions is"
   ]
  },
  {
   "cell_type": "code",
   "execution_count": null,
   "metadata": {},
   "outputs": [],
   "source": [
    "## FunctionName(arg.1 = value.1, arg.2 = value.2, ..., arg.n - value.n)"
   ]
  },
  {
   "cell_type": "markdown",
   "metadata": {},
   "source": [
    "Arguments can be **matched by name**; unnamed arguments will be **matched by position**."
   ]
  },
  {
   "cell_type": "code",
   "execution_count": null,
   "metadata": {},
   "outputs": [],
   "source": [
    "values <- c(1.45, 2.34, 5.68)\n",
    "round(x = values, digits = 1) # match by name\n",
    "round(values, 1) # match by position\n",
    "round(1, values) # be careful when matching by position!\n",
    "round(digits = 1, x = values) # matching by name is safer!"
   ]
  },
  {
   "cell_type": "markdown",
   "metadata": {},
   "source": [
    "### Assignment\n",
    "\n",
    "Values can be assigned names and used in subsequent operations\n",
    "\n",
    "* The **gets** `<-` operator (less than followed by a dash) is used to save values\n",
    "* The name on the left **gets** the value on the right."
   ]
  },
  {
   "cell_type": "code",
   "execution_count": null,
   "metadata": {},
   "outputs": [],
   "source": [
    "sqrt(10) ## calculate square root of 10; result is not stored anywhere\n",
    "x <- sqrt(10) # assign result to a variable named x"
   ]
  },
  {
   "cell_type": "markdown",
   "metadata": {},
   "source": [
    "Names should start with a letter, and contain only letters, numbers, underscores, and periods."
   ]
  },
  {
   "cell_type": "markdown",
   "metadata": {},
   "source": [
    "### Asking for help\n",
    "\n",
    "1.  You can ask R for help using the `help` function, or the `?` shortcut.\n",
    "\n",
    "    ```{r, eval=FALSE}\n",
    "    help(help)\n",
    "    ?help\n",
    "    ?sqrt\n",
    "    ```\n",
    "\n",
    "    The `help` function can be used to look up the documentation for a function, or\n",
    "    to look up the documentation to a package. We can learn how to use the `stats`\n",
    "    package by reading its documentation like this:\n",
    "\n",
    "    ```{r, eval=FALSE}\n",
    "   help(package = \"stats\")\n",
    "    ```\n",
    "\n",
    "2.  If you know the name of the package you want to use, then Googling \"R *package-name*\" will\n",
    "often get you to the documentation. Packages are hosted on several different repositories, including:\n",
    "\n",
    "* CRAN: <https://cran.r-project.org/web/packages/available_packages_by_name.html> \n",
    "* Bioconductor: <https://www.bioconductor.org/packages/release/bioc/>\n",
    "* Github: <http://rpkg.gepuro.net/>\n",
    "* R-Forge: <https://r-forge.r-project.org/R/?group_id=1326>\n",
    "\n",
    "3.  If you know the type of analysis you want to perform, you can Google \"CRAN Task Views\", \n",
    "where there are curated lists of packages <https://cran.r-project.org/web/views/>. If you want to\n",
    "know which packages are popular, you can look at <https://r-pkg.org>."
   ]
  },
  {
   "cell_type": "markdown",
   "metadata": {},
   "source": [
    "### Reading data\n",
    "\n",
    "R has data reading functionality built-in -- see e.g.,\n",
    "`help(read.table)`. However, faster and more robust tools are\n",
    "available, and so to make things easier on ourselves we will use a\n",
    "*contributed package* instead. This requires that we\n",
    "learn a little bit about packages in R."
   ]
  },
  {
   "cell_type": "markdown",
   "metadata": {},
   "source": [
    "### Installing & using packages\n",
    "\n",
    "R is a modular environment that is extended by the use of **packages**.\n",
    "Packages are collections of functions or commands that are designed to\n",
    "perform specific tasks (e.g., fit a type of regression model). A large \n",
    "number of contributed packages are available (> 15,000). \n",
    "\n",
    "Using an R package is a **two step process**:\n",
    "\n",
    "1.  Install the package onto your computer using the\n",
    " `install.packages()` function. This only needs to\n",
    " be done the **first time** you use the package.\n",
    "\n",
    "2.  Load the package into your R session's search path \n",
    " using the `library()` function. This needs to be done\n",
    " **each time** you use the package."
   ]
  },
  {
   "cell_type": "markdown",
   "metadata": {},
   "source": [
    "### The `tidyverse`\n",
    "\n",
    "While R's built-in packages are powerful, in recent years there has\n",
    "been a big surge in well-designed *contributed packages* for R. In \n",
    "particular, a collection of R packages called \n",
    "[`tidyverse`](https://www.tidyverse.org/) have been \n",
    "designed specifically for data science. All packages included in \n",
    "`tidyverse` share an underlying design philosophy, grammar, and \n",
    "data structures. This philosopy is rooted in the idea of \"tidy data\":\n",
    "\n",
    "![](R/Rintro/images/tidy_data.png)\n",
    "\n",
    "A typical workflow for using `tidyverse` packages looks like this:\n",
    "\n",
    "![](R/Rintro/images/tidy_workflow.png)\n",
    "\n",
    "You should have already installed the `tidyverse` and `rmarkdown`\n",
    "packages onto your computer before the workshop \n",
    "--- see [R Installation](./Rinstall.html). \n",
    "Now let's load these packages into the search path of our R session."
   ]
  },
  {
   "cell_type": "code",
   "execution_count": null,
   "metadata": {},
   "outputs": [],
   "source": [
    "library(tidyverse)\n",
    "library(rmarkdown)"
   ]
  },
  {
   "cell_type": "markdown",
   "metadata": {},
   "source": [
    "### Readers for common file types\n",
    "\n",
    "To read data from a file, you have to know what kind of file\n",
    "it is. The table below lists functions from the `readr` package, which\n",
    "is part of `tidyverse`, that can import data from common plain-text formats.\n",
    "\n",
    "| Data Type                 | Function        |\n",
    "|:--------------------------|:----------------|\n",
    "| comma separated           | `read_csv()`    |\n",
    "| tab separated             | `read_delim()`  |\n",
    "| other delimited formats   | `read_table()`  |\n",
    "| fixed width               | `read_fwf()`    |\n",
    "\n",
    "**Note** You may be confused by the existence of similar functions,\n",
    "e.g., `read.csv` and `read.delim`. These are legacy functions that\n",
    "tend to be slower and less robust than the `readr` functions. One way\n",
    "to tell them apart is that the faster more robust versions use\n",
    "underscores in their names (e.g., `read_csv`) while the older\n",
    "functions use dots (e.g., `read.csv`). My advice is to use the more\n",
    "robust newer versions, i.e., the ones with underscores.\n",
    "\n",
    "### Baby names data\n",
    "\n",
    "As an example project we will analyze the popularity of baby names in the US from 1960 through 2017. The data were retrieved from\n",
    "https://catalog.data.gov/dataset/baby-names-from-social-security-card-applications-national-level-data.\n",
    "\n",
    "Here are the questions we will use R to answer:\n",
    "\n",
    "1. In which year did your name (or another name) occur most frequently by **count**?\n",
    "2. Which names have the highest popularity by **proportion** for each sex and year?\n",
    "3. How does the percentage of babies given one of the top 10 names of the year change over time?"
   ]
  },
  {
   "cell_type": "markdown",
   "metadata": {
    "lines_to_next_cell": 0
   },
   "source": [
    "### Exercise 1\n",
    "\n",
    "**Reading the baby names data** \n",
    "\n",
    "Make sure you have installed the `tidyverse` suite of packages and attached them with `library(tidyverse)`. \n",
    "\n",
    "1. Open the `read_csv()` help page to determine how to use it to read in data."
   ]
  },
  {
   "cell_type": "code",
   "execution_count": null,
   "metadata": {},
   "outputs": [],
   "source": [
    "##"
   ]
  },
  {
   "cell_type": "markdown",
   "metadata": {
    "lines_to_next_cell": 0
   },
   "source": [
    "2. Read the baby names data using the `read_csv()` function and assign the result \n",
    "with the name `baby_names`."
   ]
  },
  {
   "cell_type": "code",
   "execution_count": null,
   "metadata": {},
   "outputs": [],
   "source": [
    "##"
   ]
  },
  {
   "cell_type": "markdown",
   "metadata": {
    "lines_to_next_cell": 0
   },
   "source": [
    "3. BONUS (optional): Save the `baby_names` data as a Stata data set `babynames.dta` \n",
    "and as an R data set `babynames.rds`."
   ]
  },
  {
   "cell_type": "code",
   "execution_count": null,
   "metadata": {
    "lines_to_next_cell": 2
   },
   "outputs": [],
   "source": [
    "##"
   ]
  },
  {
   "cell_type": "markdown",
   "metadata": {},
   "source": [
    "## Manipulating data \n",
    "\n",
    "**GOAL: To learn about basic data manipulation used to clean datasets.** In particular:\n",
    "\n",
    "1.  Filtering data by choosing rows\n",
    "2.  Selecting data by choosing columns\n",
    "3.  Arranging data by reordering rows\n",
    "4.  Using the pipe `%>%` operator to simplify sequential operations"
   ]
  },
  {
   "cell_type": "markdown",
   "metadata": {},
   "source": [
    "In this section we will pull out specific names from the baby names data and examine changes in \n",
    "their popularity over time. \n",
    "\n",
    "The `baby_names` object we created in the last exercise is a `data.frame`.\n",
    "There are many other data structures in R, but for now we'll focus on \n",
    "working with `data.frames`. Think of a `data.frame` as a spreadsheet.\n",
    "\n",
    "R has decent data manipulation tools built-in -- see e.g.,\n",
    "`help(Extract)`. But, `tidyverse` packages often provide\n",
    "more intuitive syntax for accomplishing the same task. In\n",
    "particular, we will use the `dplyr` package from `tidyverse`\n",
    "to filter, select, and arrange data, as well as create new variables.\n",
    "\n",
    "![](R/Rintro/images/dplyr.png)"
   ]
  },
  {
   "cell_type": "markdown",
   "metadata": {},
   "source": [
    "### Filter, select, & arrange\n",
    "\n",
    "One way to find the year in which your name was the most popular\n",
    "is to filter out just the rows corresponding to your name, and \n",
    "then arrange (sort) by Count. \n",
    "\n",
    "To demonstrate these techniques we'll try to determine whether \n",
    "\"Alex\"\" or \"Mark\" was more popular in 1992. We start by filtering the\n",
    "data so that we keep only rows where Year is equal to `1992` and Name is\n",
    "either \"Alex\" or \"Mark\"."
   ]
  },
  {
   "cell_type": "code",
   "execution_count": null,
   "metadata": {},
   "outputs": [],
   "source": [
    "## Read in the baby names data if you haven't already\n",
    "baby_names <- read_csv(\"babyNames.csv\")"
   ]
  },
  {
   "cell_type": "code",
   "execution_count": null,
   "metadata": {},
   "outputs": [],
   "source": [
    "baby_names_alexmark <- filter(baby_names, \n",
    "             Year == 1992 & (Name == \"Alex\" | Name == \"Mark\"))\n",
    "\n",
    "print(baby_names_alexmark) # explicit printing             \n",
    "baby_names_alexmark # implicit printing"
   ]
  },
  {
   "cell_type": "markdown",
   "metadata": {},
   "source": [
    "Notice that we can combine conditions using `&` (AND) \n",
    "and `|` (OR). \n",
    "\n",
    "In this case it's pretty easy to see that \"Mark\" is more popular, \n",
    "but to make it even easier we can arrange the data so that the \n",
    "most popular name is listed first."
   ]
  },
  {
   "cell_type": "code",
   "execution_count": null,
   "metadata": {},
   "outputs": [],
   "source": [
    "arrange(baby_names_alexmark, Count)"
   ]
  },
  {
   "cell_type": "code",
   "execution_count": null,
   "metadata": {},
   "outputs": [],
   "source": [
    "arrange(baby_names_alexmark, desc(Count))"
   ]
  },
  {
   "cell_type": "markdown",
   "metadata": {},
   "source": [
    "We can also use the `select()` function to subset the `data.frame`\n",
    "by columns. We can then assign the output to a new object. If we \n",
    "would just like to glance at the first few lines we can use the\n",
    " `head()` function:"
   ]
  },
  {
   "cell_type": "code",
   "execution_count": null,
   "metadata": {},
   "outputs": [],
   "source": [
    "baby_names_subset <- select(baby_names, Name, Count)\n",
    "\n",
    "head(baby_names_subset)\n",
    "head(baby_names_subset, n = 6) # default is n = 6"
   ]
  },
  {
   "cell_type": "markdown",
   "metadata": {},
   "source": [
    "### Logical operators\n",
    "\n",
    "In the previous example we used `==` to filter rows. Other relational\n",
    "and logical operators are listed below.\n",
    "\n",
    " | Operator  | Meaning                   | \n",
    " |:----------|:--------------------------| \n",
    " | `==`      | equal to                  | \n",
    " | `!=`      | not equal to              | \n",
    " | `>`       | greater than              | \n",
    " | `>=`      | greater than or equal to  | \n",
    " | `<`       | less than                 | \n",
    " | `<=`      | less than or equal to     | \n",
    " | `%in%`    | contained in              | \n",
    "\n",
    "These operators may be combined with `&` (and) or `|` (or). For example:"
   ]
  },
  {
   "cell_type": "code",
   "execution_count": null,
   "metadata": {},
   "outputs": [],
   "source": [
    "x <- 1:10 # a vector\n",
    "x\n",
    "\n",
    "x > 7 # a simple condition\n",
    "x > 7 | x < 3 # two conditions combined\n",
    "\n",
    "# x %in% vector\n",
    "# elements of x matched in vector\n",
    "x %in% c(1, 5, 10) "
   ]
  },
  {
   "cell_type": "markdown",
   "metadata": {
    "lines_to_next_cell": 0
   },
   "source": [
    "### Control flow\n",
    "\n",
    "We won't be covering examples of control flow in this workshop, but we will briefly introduce this important concept here. \n",
    "For more details see: <https://swcarpentry.github.io/r-novice-gapminder/07-control-flow/>. Our [R Data Wrangling](./RDataWrangling.html) workshop also covers some of these topics.\n",
    "\n",
    "There are two major tools for controlling the flow of code in a script: \n",
    "\n",
    "1.   **Choices:** such as `if` and `else` statements, allow you to run different code depending on the input. The basic form is:\n",
    "\n",
    "     ```{r, eval=FALSE}\n",
    "     if (condition) true_action else false_action\n",
    "     ```\n",
    "     \n",
    "      If `condition` is `TRUE`, `true_action` is evaluated; if `condition` is `FALSE`, \n",
    "      the optional `false_action` is evaluated.\n",
    "\n",
    "2.   **Loops:** such as `for` and `while` loops, allow you to repeatedly run code, typically with changing options. The basic form is: \n",
    "\n",
    "     ```{r, eval=FALSE}\n",
    "     for (item in collection) perform_action\n",
    "     ```\n",
    "\n",
    "     For each `item` in `collection`, `perform_action` is called once; updating the value of `item` each time.\n",
    "\n",
    "\n",
    "### Exercise 2.1\n",
    "\n",
    "**Peak popularity of your name**\n",
    "\n",
    "In this exercise you will discover the year your name reached its maximum popularity.\n",
    "\n",
    "Read in the \"babyNames.csv\" file if you have not already done so,\n",
    "assigning the result to `baby_names`. Make sure you have installed \n",
    "the `tidyverse` suite of packages and attached them with `library(tidyverse)`.\n",
    "\n",
    "1.  Use `filter` to extract data for your name (or another name of your choice).  "
   ]
  },
  {
   "cell_type": "code",
   "execution_count": null,
   "metadata": {},
   "outputs": [],
   "source": [
    "##"
   ]
  },
  {
   "cell_type": "markdown",
   "metadata": {
    "lines_to_next_cell": 0
   },
   "source": [
    "2.  Arrange the data you produced in step 1 above by `Count`. \n",
    "    In which year was the name most popular?"
   ]
  },
  {
   "cell_type": "code",
   "execution_count": null,
   "metadata": {},
   "outputs": [],
   "source": [
    "##"
   ]
  },
  {
   "cell_type": "markdown",
   "metadata": {
    "lines_to_next_cell": 0
   },
   "source": [
    "3.  BONUS (optional): Filter the data to extract *only* the \n",
    "     row containing the most popular boys name in 1999."
   ]
  },
  {
   "cell_type": "code",
   "execution_count": null,
   "metadata": {
    "lines_to_next_cell": 2
   },
   "outputs": [],
   "source": [
    "##"
   ]
  },
  {
   "cell_type": "markdown",
   "metadata": {},
   "source": [
    "### Pipe operator\n",
    "\n",
    "There is one very special operator in R called a **pipe** operator that \n",
    "looks like this: `%>%`. It allows us to \"chain\" several function calls and, \n",
    "as each function returns an object, feed it into the next call in a single \n",
    "statement, without needing extra variables to store the intermediate \n",
    "results. The point of the pipe is to help you write code in a way that is\n",
    "easier to read and understand as we will see below.\n",
    "\n",
    "![](R/Rintro/images/magrittr.png)\n",
    "\n",
    "There is no need to load any additional packages as the operator is made \n",
    "available via the `magrittr` package installed as part of `tidyverse`. Let's \n",
    "rewrite the sequence of commands to output ordered counts for names \n",
    "\"Alex\" or \"Mark\"."
   ]
  },
  {
   "cell_type": "code",
   "execution_count": null,
   "metadata": {},
   "outputs": [],
   "source": [
    "# unpiped version\n",
    "baby_names_alexmark <- filter(baby_names, Year == 1992 & (Name == \"Alex\" | Name == \"Mark\"))\n",
    "arrange(baby_names_alexmark, desc(Count))"
   ]
  },
  {
   "cell_type": "code",
   "execution_count": null,
   "metadata": {},
   "outputs": [],
   "source": [
    "# piped version\n",
    "baby_names %>% \n",
    "  filter(Year == 1992 & (Name == \"Alex\" | Name == \"Mark\")) %>%\n",
    "  arrange(desc(Count))"
   ]
  },
  {
   "cell_type": "markdown",
   "metadata": {},
   "source": [
    "Hint: try pronouncing \"then\" whenever you see `%>%`. Using pseudocode,\n",
    "we can see what the pipe is doing:"
   ]
  },
  {
   "cell_type": "code",
   "execution_count": null,
   "metadata": {
    "eval": false
   },
   "outputs": [],
   "source": [
    "# unpiped version\n",
    "filter(dataset, condition)\n",
    "\n",
    "# piped version\n",
    "dataset %>% filter(condition)\n",
    "\n",
    "# what the pipe is doing\n",
    "output_of_thing_on_left %>% becomes_input_of_thing_on_right"
   ]
  },
  {
   "cell_type": "markdown",
   "metadata": {},
   "source": [
    "Advantages of using the pipe:\n",
    "\n",
    "1. We can avoid creating intermediate variables, such as `baby_names_alexmark`\n",
    "2. Less to type \n",
    "3. Easier to read and follow the logic (especially avoiding using nested functions)"
   ]
  },
  {
   "cell_type": "markdown",
   "metadata": {},
   "source": [
    "### Exercise 2.2\n",
    "\n",
    "Rewrite the solution to Exercise 2.1 using pipes. Remember that we were looking\n",
    "for the year your name reached its maximum popularity. For that, we filtered \n",
    "the data and then arranged by `Count`."
   ]
  },
  {
   "cell_type": "code",
   "execution_count": null,
   "metadata": {
    "lines_to_next_cell": 2
   },
   "outputs": [],
   "source": [
    "##"
   ]
  },
  {
   "cell_type": "markdown",
   "metadata": {},
   "source": [
    "## Plotting data\n",
    "\n",
    "**GOAL: Plotting baby name trends over time**\n",
    "\n",
    "It can be difficult to spot trends when looking at summary tables.\n",
    "Plotting the data makes it easier to identify interesting patterns.\n",
    "\n",
    "R has decent plotting tools built-in -- see e.g., `help(plot)`.\n",
    "However, again, we will make use of a *contributed\n",
    "package* from `tidyverse` called `ggplot2`.\n",
    "\n",
    "For quick and simple plots we can use the `qplot()` function from `ggplot2`. For example,\n",
    "we can plot the number of babies given the name \"Diana\" over time like this:"
   ]
  },
  {
   "cell_type": "code",
   "execution_count": null,
   "metadata": {},
   "outputs": [],
   "source": [
    "baby_names_diana <- filter(baby_names, Name == \"Diana\")"
   ]
  },
  {
   "cell_type": "code",
   "execution_count": null,
   "metadata": {},
   "outputs": [],
   "source": [
    "qplot(x = Year, y = Count,\n",
    "     data = baby_names_diana)"
   ]
  },
  {
   "cell_type": "markdown",
   "metadata": {},
   "source": [
    "Interestingly, there are usually some gender-atypical names, even for very strongly \n",
    "gendered names like \"Diana\". Splitting these trends out by `Sex` is very easy:"
   ]
  },
  {
   "cell_type": "code",
   "execution_count": null,
   "metadata": {
    "lines_to_next_cell": 2
   },
   "outputs": [],
   "source": [
    "qplot(x = Year, y = Count, color = Sex,\n",
    "      data = baby_names_diana)"
   ]
  },
  {
   "cell_type": "markdown",
   "metadata": {
    "lines_to_next_cell": 0
   },
   "source": [
    "### Exercise 3 \n",
    "\n",
    "**Plotting peak popularity of your name**\n",
    "\n",
    "Make sure the `tidyverse` suite of packages is installed, and that you \n",
    "have attached them using `library(tidyverse)`.\n",
    "\n",
    "1.  Use `filter` to extract data for your name (same as previous exercise)"
   ]
  },
  {
   "cell_type": "code",
   "execution_count": null,
   "metadata": {},
   "outputs": [],
   "source": [
    "##"
   ]
  },
  {
   "cell_type": "markdown",
   "metadata": {
    "lines_to_next_cell": 0
   },
   "source": [
    "2.  Plot the data you produced in step 1 above, with `Year` on the x-axis\n",
    "    and `Count` on the y-axis."
   ]
  },
  {
   "cell_type": "code",
   "execution_count": null,
   "metadata": {},
   "outputs": [],
   "source": [
    "##"
   ]
  },
  {
   "cell_type": "markdown",
   "metadata": {
    "lines_to_next_cell": 0
   },
   "source": [
    "3. Adjust the plot so that is shows boys and girls in different colors."
   ]
  },
  {
   "cell_type": "code",
   "execution_count": null,
   "metadata": {},
   "outputs": [],
   "source": [
    "##"
   ]
  },
  {
   "cell_type": "markdown",
   "metadata": {
    "lines_to_next_cell": 0
   },
   "source": [
    "4. BONUS (Optional): Adust the plot to use lines instead of points."
   ]
  },
  {
   "cell_type": "code",
   "execution_count": null,
   "metadata": {
    "lines_to_next_cell": 2
   },
   "outputs": [],
   "source": [
    "##"
   ]
  },
  {
   "cell_type": "markdown",
   "metadata": {},
   "source": [
    "## Creating variables\n",
    "\n",
    "**GOAL: To learn how to work create new variables with and without grouped data.** In particular:\n",
    "\n",
    "1.  Creating new variables (columns) using the `mutate()` function\n",
    "2.  Creating new variables within groups by combining the `mutate()` and `group_by()` functions\n",
    "\n",
    "We want to use these skills to find out which names have been the most popular."
   ]
  },
  {
   "cell_type": "markdown",
   "metadata": {},
   "source": [
    "### Create or modify columns\n",
    "\n",
    "So far we've used `Count` as a measure of popularity. A better\n",
    "approach is to use proportion to avoid confounding \n",
    "popularity with the number of babies born in a given year. \n",
    "\n",
    "The `mutate()` function makes it easy to add or modify the columns \n",
    "of a `data.frame`. For example, we can use it to rescale the count\n",
    "of each name in each year:"
   ]
  },
  {
   "cell_type": "code",
   "execution_count": null,
   "metadata": {},
   "outputs": [],
   "source": [
    "baby_names <- mutate(baby_names, Count_1k = Count/1000)\n",
    "head(baby_names) "
   ]
  },
  {
   "cell_type": "markdown",
   "metadata": {},
   "source": [
    "### Operating by group\n",
    "\n",
    "Because of the nested nature of our data, we want to compute proportion \n",
    "or rank **within** each `Sex` by `Year` group. The `dplyr` \n",
    "package has a `group_by()` function that makes this relatively \n",
    "straightforward. Here's the logic behind this process:\n",
    "\n",
    "![](R/Rintro/images/mutate_group_by.png)\n",
    "\n",
    "Note that the `group_by()` function converts a **data frame** into a\n",
    "**grouped data frame** --- that is, a data frame with metadata identifying\n",
    "the groups. The data remain grouped until you change the groups by\n",
    "running `group_by()` again or remove the grouping metadata using\n",
    "`ungroup()`.\n",
    "\n",
    "Here's the code that implements the calculation:"
   ]
  },
  {
   "cell_type": "code",
   "execution_count": null,
   "metadata": {
    "lines_to_next_cell": 2
   },
   "outputs": [],
   "source": [
    "baby_names <- \n",
    "  baby_names %>%\n",
    "  group_by(Year, Sex) %>%\n",
    "  mutate(Rank = rank(Count_1k)) %>%\n",
    "  ungroup()\n",
    "\n",
    "head(baby_names)"
   ]
  },
  {
   "cell_type": "markdown",
   "metadata": {
    "lines_to_next_cell": 0
   },
   "source": [
    "### Exercise 4\n",
    "\n",
    "**Most popular names**\n",
    "\n",
    "In this exercise your goal is to identify the most popular names for each year.\n",
    "\n",
    "1.  Use `mutate()` and `group_by()` to create a column named `Proportion`\n",
    "    where `Proportion = Count/sum(Count)` for each `Year X Sex` group.\n",
    "    Use pipes wherever it makes sense."
   ]
  },
  {
   "cell_type": "code",
   "execution_count": null,
   "metadata": {},
   "outputs": [],
   "source": [
    "## "
   ]
  },
  {
   "cell_type": "markdown",
   "metadata": {
    "lines_to_next_cell": 0
   },
   "source": [
    "2.  Use `mutate()` and `group_by()` to create a column named `Rank` where \n",
    "    `Rank = rank(desc(Count))` for each `Year X Sex` group. "
   ]
  },
  {
   "cell_type": "code",
   "execution_count": null,
   "metadata": {},
   "outputs": [],
   "source": [
    "##"
   ]
  },
  {
   "cell_type": "markdown",
   "metadata": {
    "lines_to_next_cell": 0
   },
   "source": [
    "3.  Filter the baby names data to display only the most popular name \n",
    "    for each `Year X Sex` group. Keep only the columns: `Year`, `Name`, \n",
    "    `Sex`, and `Proportion`."
   ]
  },
  {
   "cell_type": "code",
   "execution_count": null,
   "metadata": {},
   "outputs": [],
   "source": [
    "##"
   ]
  },
  {
   "cell_type": "markdown",
   "metadata": {
    "lines_to_next_cell": 0
   },
   "source": [
    "4.  Plot the data produced in step 3, putting `Year` on the x-axis\n",
    "    and `Proportion` on the y-axis. How has the proportion of babies\n",
    "    given the most popular name changed over time?"
   ]
  },
  {
   "cell_type": "code",
   "execution_count": null,
   "metadata": {},
   "outputs": [],
   "source": [
    "##"
   ]
  },
  {
   "cell_type": "markdown",
   "metadata": {
    "lines_to_next_cell": 0
   },
   "source": [
    "5.  BONUS (optional): Which names are the most popular for both boys and girls?"
   ]
  },
  {
   "cell_type": "code",
   "execution_count": null,
   "metadata": {
    "lines_to_next_cell": 2
   },
   "outputs": [],
   "source": [
    "##"
   ]
  },
  {
   "cell_type": "markdown",
   "metadata": {},
   "source": [
    "## Aggregating variables\n",
    "\n",
    "**GOAL: To learn how to aggregate data to create summaries with and without grouped data.** In particular:\n",
    "\n",
    "1.  Using the `summarize()` function to collapse data into summaries\n",
    "2.  Combining the `summarize()` and `group_by()` functions to create summaries within groups"
   ]
  },
  {
   "cell_type": "markdown",
   "metadata": {},
   "source": [
    "You may have noticed that the percentage of babies given the most \n",
    "popular name of the year appears to have decreased over time. We can\n",
    "compute a more robust measure of the popularity of the most popular\n",
    "names by calculating the number of babies given one of the top 10 girl\n",
    "or boy names of the year.\n",
    "\n",
    "To compute this measure we need to operate within groups, as\n",
    "we did using `mutate()` above, but this time we need to collapse each\n",
    "group into a single summary statistic. We can achieve this using the\n",
    "`summarize()` function. \n",
    "\n",
    "First, let's see how this function works without grouping. The following \n",
    "code outputs the total number of girls and boys in the data:"
   ]
  },
  {
   "cell_type": "code",
   "execution_count": null,
   "metadata": {},
   "outputs": [],
   "source": [
    "baby_names %>% \n",
    "  summarize(Girls_n = sum(Sex==\"Girls\"),\n",
    "            Boys_n = sum(Sex==\"Boys\"))"
   ]
  },
  {
   "cell_type": "markdown",
   "metadata": {},
   "source": [
    "Next, using `group_by()` and `summarize()` together, we can calculate the \n",
    "number of babies born each year. Here's the logic behind this process:\n",
    "\n",
    "![](R/Rintro/images/summarize_group_by.png)\n",
    "\n",
    "Here's the code that implements the calculation:"
   ]
  },
  {
   "cell_type": "code",
   "execution_count": null,
   "metadata": {
    "lines_to_next_cell": 2
   },
   "outputs": [],
   "source": [
    "bn_by_year <-\n",
    "  baby_names %>%\n",
    "  group_by(Year) %>%\n",
    "  summarize(Total = sum(Count)) %>%\n",
    "  ungroup()\n",
    "\n",
    "head(bn_by_year)"
   ]
  },
  {
   "cell_type": "markdown",
   "metadata": {
    "lines_to_next_cell": 0
   },
   "source": [
    "### Exercise 5\n",
    "\n",
    "**Popularity of the most popular names**\n",
    "\n",
    "In this exercise we will plot trends in the proportion of boys and girls \n",
    "given one of the 10 most popular names each year.\n",
    "\n",
    "1.  Filter the `baby_names` data, retaining only the 10 most popular girl\n",
    "    and boy names for each year."
   ]
  },
  {
   "cell_type": "code",
   "execution_count": null,
   "metadata": {},
   "outputs": [],
   "source": [
    "##"
   ]
  },
  {
   "cell_type": "markdown",
   "metadata": {
    "lines_to_next_cell": 0
   },
   "source": [
    "2.  Summarize the data produced in step one to calculate the total\n",
    "    Proportion of boys and girls given one of the top 10 names\n",
    "    each year."
   ]
  },
  {
   "cell_type": "code",
   "execution_count": null,
   "metadata": {},
   "outputs": [],
   "source": [
    "##"
   ]
  },
  {
   "cell_type": "markdown",
   "metadata": {
    "lines_to_next_cell": 0
   },
   "source": [
    "3.  Plot the data produced in step 2, with year on the x-axis\n",
    "    and total proportion on the y axis. Color by `Sex` and notice\n",
    "    the trend."
   ]
  },
  {
   "cell_type": "code",
   "execution_count": null,
   "metadata": {
    "lines_to_next_cell": 2
   },
   "outputs": [],
   "source": [
    "##"
   ]
  },
  {
   "cell_type": "markdown",
   "metadata": {},
   "source": [
    "## Saving work\n",
    "\n",
    "**GOAL: To learn how to save objects, data, and scripts for later use.**\n",
    "\n",
    "Now that we have made some changes to our data set, we might want to\n",
    "save those changes to a file.\n",
    "\n",
    "### Saving individual datasets\n",
    "\n",
    "You might find functions `write_csv()` and `write_rds()` from package \n",
    "`readr` handy!"
   ]
  },
  {
   "cell_type": "code",
   "execution_count": null,
   "metadata": {
    "eval": false
   },
   "outputs": [],
   "source": [
    "# write data to a .csv file\n",
    "write_csv(baby_names, \"babyNames.csv\")"
   ]
  },
  {
   "cell_type": "code",
   "execution_count": null,
   "metadata": {
    "eval": false
   },
   "outputs": [],
   "source": [
    "# write data to an R file\n",
    "write_rds(baby_names, \"babyNames.rds\")"
   ]
  },
  {
   "cell_type": "markdown",
   "metadata": {},
   "source": [
    "### Saving multiple datasets"
   ]
  },
  {
   "cell_type": "code",
   "execution_count": null,
   "metadata": {
    "eval": false
   },
   "outputs": [],
   "source": [
    "ls() # list objects in our workspace\n",
    "save(baby_names_diana, bn_by_year, baby_names_subset, file=\"myDataFiles.RData\")  "
   ]
  },
  {
   "cell_type": "code",
   "execution_count": null,
   "metadata": {
    "eval": false
   },
   "outputs": [],
   "source": [
    "## Load the \"myDataFiles.RData\"\n",
    "## load(\"myDataFiles.RData\") "
   ]
  },
  {
   "cell_type": "markdown",
   "metadata": {},
   "source": [
    "### Saving & loading workspaces\n",
    "\n",
    "In addition to importing individual datasets, R can save and load entire\n",
    "\"workspaces\". The workspace is your current R working environment and includes\n",
    "any user-defined objects. At the end of a session, you can save an \"image\"\n",
    "of the current workspace, which allows you to automatically reload the objects\n",
    "you previously created."
   ]
  },
  {
   "cell_type": "code",
   "execution_count": null,
   "metadata": {
    "eval": false
   },
   "outputs": [],
   "source": [
    "ls() # list objects in our workspace\n",
    "save.image(file=\"myWorkspace.RData\") # save workspace \n",
    "rm(list=ls()) # remove all objects from our workspace \n",
    "ls() # list stored objects to make sure they are deleted"
   ]
  },
  {
   "cell_type": "code",
   "execution_count": null,
   "metadata": {
    "eval": false
   },
   "outputs": [],
   "source": [
    "## Load the \"myWorkspace.RData\" file and check that it is restored\n",
    "load(\"myWorkspace.RData\") # load myWorkspace.RData\n",
    "ls() # list objects"
   ]
  },
  {
   "cell_type": "markdown",
   "metadata": {},
   "source": [
    "## Exercise solutions\n",
    "\n",
    "### Ex 0: prototype\n",
    "\n",
    "1. 2 plus 2"
   ]
  },
  {
   "cell_type": "code",
   "execution_count": null,
   "metadata": {},
   "outputs": [],
   "source": [
    "2 + 2\n",
    "# or\n",
    "sum(2, 2)"
   ]
  },
  {
   "cell_type": "markdown",
   "metadata": {},
   "source": [
    "2. square root of 10"
   ]
  },
  {
   "cell_type": "code",
   "execution_count": null,
   "metadata": {},
   "outputs": [],
   "source": [
    "sqrt(10)\n",
    "# or\n",
    "10^(1/2)"
   ]
  },
  {
   "cell_type": "markdown",
   "metadata": {},
   "source": [
    "3. Find \"An Introduction to R\"."
   ]
  },
  {
   "cell_type": "code",
   "execution_count": null,
   "metadata": {
    "lines_to_next_cell": 2
   },
   "outputs": [],
   "source": [
    "# Go to the main help page by running 'help.start() or using the GUI\n",
    "# menu, find and click on the link to \"An Introduction to R\"."
   ]
  },
  {
   "cell_type": "markdown",
   "metadata": {},
   "source": [
    "### Ex 1: prototype\n",
    "\n",
    "1.  Open the `read_csv()` help page to determine how to use it to read in data."
   ]
  },
  {
   "cell_type": "code",
   "execution_count": null,
   "metadata": {
    "eval": false
   },
   "outputs": [],
   "source": [
    "?read_csv"
   ]
  },
  {
   "cell_type": "markdown",
   "metadata": {},
   "source": [
    "2.  Read the baby names data using the `read_csv()` function and assign the result with the name `baby_names`."
   ]
  },
  {
   "cell_type": "code",
   "execution_count": null,
   "metadata": {},
   "outputs": [],
   "source": [
    "baby_names <- read_csv(\"babyNames.csv\")"
   ]
  },
  {
   "cell_type": "markdown",
   "metadata": {},
   "source": [
    "3. BONUS (optional): Save the `baby_names` data as a Stata data set `babynames.dta` and as an R data set `babynames.rds`."
   ]
  },
  {
   "cell_type": "code",
   "execution_count": null,
   "metadata": {
    "eval": false,
    "lines_to_next_cell": 2
   },
   "outputs": [],
   "source": [
    "write_dta(baby_names, version = 15, path = “babynames.dta”)\n",
    " \n",
    "write_rds(baby_names, file = “babynames.rds”)"
   ]
  },
  {
   "cell_type": "markdown",
   "metadata": {},
   "source": [
    "### Ex 2.1: prototype\n",
    "\n",
    "1.  Use `filter` to extract data for your name (or another name of your choice)."
   ]
  },
  {
   "cell_type": "code",
   "execution_count": null,
   "metadata": {},
   "outputs": [],
   "source": [
    "baby_names_george <- filter(baby_names, Name == \"George\")"
   ]
  },
  {
   "cell_type": "markdown",
   "metadata": {},
   "source": [
    "2.  Arrange the data you produced in step 1 above by `Count`. In which year was the name most popular?"
   ]
  },
  {
   "cell_type": "code",
   "execution_count": null,
   "metadata": {},
   "outputs": [],
   "source": [
    "arrange(baby_names_george, desc(Count))"
   ]
  },
  {
   "cell_type": "markdown",
   "metadata": {},
   "source": [
    "3.  BONUS (optional): Filter the data to extract _only_ the row containing the most popular boys name in 1999."
   ]
  },
  {
   "cell_type": "code",
   "execution_count": null,
   "metadata": {},
   "outputs": [],
   "source": [
    "baby_names_boys_1999 <- filter(baby_names, \n",
    "                    Year == 1999 & Sex == \"Boys\")"
   ]
  },
  {
   "cell_type": "code",
   "execution_count": null,
   "metadata": {},
   "outputs": [],
   "source": [
    "filter(baby_names_boys_1999, Count == max(Count))"
   ]
  },
  {
   "cell_type": "markdown",
   "metadata": {},
   "source": [
    "### Ex 2.2: prototype\n",
    "\n",
    "Rewrite the solution to Exercise 2.1 using pipes."
   ]
  },
  {
   "cell_type": "code",
   "execution_count": null,
   "metadata": {
    "lines_to_next_cell": 2
   },
   "outputs": [],
   "source": [
    "baby_names %>% \n",
    "  filter(Name == \"George\") %>%\n",
    "  arrange(desc(Count))"
   ]
  },
  {
   "cell_type": "markdown",
   "metadata": {},
   "source": [
    "### Ex 3: prototype\n",
    "\n",
    "1. Use `filter()` to extract data for your name (same as previous exercise).  "
   ]
  },
  {
   "cell_type": "code",
   "execution_count": null,
   "metadata": {},
   "outputs": [],
   "source": [
    "baby_names_george <- filter(baby_names, Name == \"George\")"
   ]
  },
  {
   "cell_type": "markdown",
   "metadata": {},
   "source": [
    "2.  Plot the data you produced in step 1 above, with `Year` on the x-axis and `Count` on the y-axis."
   ]
  },
  {
   "cell_type": "code",
   "execution_count": null,
   "metadata": {},
   "outputs": [],
   "source": [
    "qplot(x = Year, y = Count, data = baby_names_george)"
   ]
  },
  {
   "cell_type": "markdown",
   "metadata": {},
   "source": [
    "3. Adjust the plot so that is shows boys and girls in different colors."
   ]
  },
  {
   "cell_type": "code",
   "execution_count": null,
   "metadata": {},
   "outputs": [],
   "source": [
    "qplot(x = Year, y = Count, color = Sex, data = baby_names_george)"
   ]
  },
  {
   "cell_type": "markdown",
   "metadata": {},
   "source": [
    "4.  BONUS (Optional): Adjust the plot to use lines instead of points."
   ]
  },
  {
   "cell_type": "code",
   "execution_count": null,
   "metadata": {
    "lines_to_next_cell": 2
   },
   "outputs": [],
   "source": [
    "qplot(x = Year, y = Count, color = Sex, data = baby_names_george, geom = \"line\")"
   ]
  },
  {
   "cell_type": "markdown",
   "metadata": {},
   "source": [
    "### Ex 4: prototype\n",
    "\n",
    "1.  Use `mutate()` and `group_by()` to create a column named `Proportion` where `Proportion = Count/sum(Count)` for each `Year X Sex` group."
   ]
  },
  {
   "cell_type": "code",
   "execution_count": null,
   "metadata": {},
   "outputs": [],
   "source": [
    "baby_names <- \n",
    "  baby_names %>%\n",
    "  group_by(Year, Sex) %>%\n",
    "  mutate(Proportion = Count/sum(Count)) %>%\n",
    "  ungroup()\n",
    "\n",
    "head(baby_names) "
   ]
  },
  {
   "cell_type": "markdown",
   "metadata": {},
   "source": [
    "2.  Use `mutate()` and `group_by()` to create a column named `Rank` where `Rank = rank(desc(Count))` for each `Year X Sex` group."
   ]
  },
  {
   "cell_type": "code",
   "execution_count": null,
   "metadata": {},
   "outputs": [],
   "source": [
    "baby_names <- \n",
    "  baby_names %>%\n",
    "  group_by(Year, Sex) %>%\n",
    "  mutate(Rank = rank(desc(Count))) %>%\n",
    "  ungroup()\n",
    "\n",
    "head(baby_names)"
   ]
  },
  {
   "cell_type": "markdown",
   "metadata": {},
   "source": [
    "3.  Filter the baby names data to display only the most popular name for each `Year X Sex` group."
   ]
  },
  {
   "cell_type": "code",
   "execution_count": null,
   "metadata": {},
   "outputs": [],
   "source": [
    "top1 <- \n",
    "  baby_names %>%\n",
    "  filter(Rank == 1) %>%\n",
    "  select(Year, Name, Sex, Proportion)\n",
    "\n",
    "head(top1)"
   ]
  },
  {
   "cell_type": "markdown",
   "metadata": {},
   "source": [
    "4.  Plot the data produced in step 3, putting `Year` on the x-axis and `Proportion` on the y-axis. How has the proportion of babies given the most popular name changed over time?"
   ]
  },
  {
   "cell_type": "code",
   "execution_count": null,
   "metadata": {},
   "outputs": [],
   "source": [
    "qplot(x = Year, \n",
    "      y = Proportion, \n",
    "      color = Sex, \n",
    "      data = top1, \n",
    "      geom = \"line\")"
   ]
  },
  {
   "cell_type": "markdown",
   "metadata": {},
   "source": [
    "5.  BONUS (optional): Which names are the most popular for both boys and girls?"
   ]
  },
  {
   "cell_type": "code",
   "execution_count": null,
   "metadata": {
    "lines_to_next_cell": 2
   },
   "outputs": [],
   "source": [
    "girls_and_boys <- inner_join(filter(baby_names, Sex == \"Boys\"), \n",
    "                             filter(baby_names, Sex == \"Girls\"),\n",
    "                             by = c(\"Year\", \"Name\"))\n",
    "\n",
    "girls_and_boys <- mutate(girls_and_boys,\n",
    "                         Product = Count.x * Count.y,\n",
    "                         Rank = rank(desc(Product)))\n",
    "\n",
    "filter(girls_and_boys, Rank == 1)"
   ]
  },
  {
   "cell_type": "markdown",
   "metadata": {},
   "source": [
    "### Ex 5: prototype\n",
    "\n",
    "1.  Filter the baby_names data, retaining only the 10 most popular girl and boy names for each year."
   ]
  },
  {
   "cell_type": "code",
   "execution_count": null,
   "metadata": {},
   "outputs": [],
   "source": [
    "most_popular <- \n",
    "  baby_names %>% \n",
    "  group_by(Year, Sex) %>%\n",
    "  filter(Rank <= 10)\n",
    "\n",
    "head(most_popular, n = 10)"
   ]
  },
  {
   "cell_type": "markdown",
   "metadata": {},
   "source": [
    "2.  Summarize the data produced in step one to calculate the total Proportion of boys and girls given one of the top 10 names each year."
   ]
  },
  {
   "cell_type": "code",
   "execution_count": null,
   "metadata": {},
   "outputs": [],
   "source": [
    "top10 <- \n",
    "  most_popular %>% # it is already grouped by Year and Sex\n",
    "  summarize(TotalProportion = sum(Proportion))"
   ]
  },
  {
   "cell_type": "markdown",
   "metadata": {},
   "source": [
    "3.  Plot the data produced in step 2, with year on the x-axis and total proportion on the y axis. Color by `Sex`."
   ]
  },
  {
   "cell_type": "code",
   "execution_count": null,
   "metadata": {
    "lines_to_next_cell": 2
   },
   "outputs": [],
   "source": [
    "qplot(x = Year, \n",
    "      y = TotalProportion, \n",
    "      color = Sex,\n",
    "      data = top10,\n",
    "      geom = \"line\")"
   ]
  },
  {
   "cell_type": "markdown",
   "metadata": {},
   "source": [
    "## Wrap-up\n",
    "\n",
    "### Feedback\n",
    "\n",
    "These workshops are a work-in-progress, please provide any feedback to: help@iq.harvard.edu\n",
    "\n",
    "### Resources\n",
    "\n",
    "* IQSS \n",
    "    + Workshops: <https://dss.iq.harvard.edu/workshop-materials>\n",
    "    + Data Science Services: <https://dss.iq.harvard.edu/>\n",
    "    + Research Computing Environment: <https://iqss.github.io/dss-rce/>\n",
    "\n",
    "* HBS\n",
    "    + Research Computing Services workshops: <https://training.rcs.hbs.org/workshops>\n",
    "    + Other HBS RCS resources: <https://training.rcs.hbs.org/workshop-materials>\n",
    "    + RCS consulting email: <mailto:research@hbs.edu>\n",
    "\n",
    "* Software (all free!):\n",
    "    + R and R package download: <http://cran.r-project.org>\n",
    "    + Rstudio download: <http://rstudio.org>\n",
    "    + ESS (emacs R package): <http://ess.r-project.org/>\n",
    "\n",
    "* Cheatsheets\n",
    "    + <https://rstudio.com/wp-content/uploads/2019/01/Cheatsheets_2019.pdf>\n",
    "\n",
    "* Online tutorials\n",
    "    + <https://swirlstats.com/>\n",
    "    + <https://r4ds.had.co.nz/>\n",
    "    + <https://hbs-rcs.github.io/R_Intro-gapminder/base-r/>\n",
    "    + <https://www.pluralsight.com/search?q=R>\n",
    "    + <https://www.datacamp.com/> \n",
    "    + <https://rmarkdown.rstudio.com/lesson-1.html>\n",
    "\n",
    "* Getting help:\n",
    "    + Documentation and tutorials: <http://cran.r-project.org/other-docs.html>\n",
    "    + Recommended R packages by topic: <http://cran.r-project.org/web/views/>\n",
    "    + Mailing list: <https://stat.ethz.ch/mailman/listinfo/r-help>\n",
    "    + StackOverflow: <http://stackoverflow.com/questions/tagged/r>\n",
    "    + R-Bloggers: <https://www.r-bloggers.com/>\n",
    "\n",
    "* Coming from ...\n",
    "    + Stata: <http://www.princeton.edu/~otorres/RStata.pdf>\n",
    "    + SAS/SPSS: <http://r4stats.com/books/free-version/>\n",
    "    + Matlab: <http://www.math.umaine.edu/~hiebeler/comp/matlabR.pdf>\n",
    "    + Python: <http://mathesaurus.sourceforge.net/matlab-python-xref.pdf>\n"
   ]
  }
 ],
 "metadata": {
  "jupytext": {
   "cell_metadata_filter": "eval,hide_input,hide_output,-all",
   "main_language": "R",
   "notebook_metadata_filter": "-all"
  }
 },
 "nbformat": 4,
 "nbformat_minor": 2
}
