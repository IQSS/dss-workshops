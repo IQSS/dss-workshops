#!/usr/bin/env python

import sys
import os
import re

mdname = str(sys.argv[1])
ipynbname = mdname.replace(".md", ".ipynb")

os.system("notedown " + "--nomagic --match=stata " + mdname + " > " + ipynbname)

ipynbfile = open(ipynbname, "r")

intext = ipynbfile.read()

ipynbfile.close()

original_text = '''"metadata": {},
 "nbformat":'''
replacement_text = ''' "metadata": {
  "kernelspec": {
   "display_name": "Stata",
   "language": "stata",
   "name": "stata"
  },
  "language_info": {
   "file_extension": "do",
   "mimetype": "text/x-stata",
   "name": "stata"
  }
 },
 "nbformat":'''

newtext = intext.replace(original_text, replacement_text)

outfile = open(ipynbname, "w")

outfile.write(newtext)

outfile.close()

os.system("jupyter-nbconvert --to html " + ipynbname)


