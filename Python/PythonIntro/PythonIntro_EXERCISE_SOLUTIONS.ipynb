{
 "cells": [
  {
   "cell_type": "markdown",
   "metadata": {},
   "source": [
    "## Exercise solutions\n",
    "\n",
    "### Ex 0: prototype"
   ]
  },
  {
   "cell_type": "code",
   "execution_count": null,
   "metadata": {},
   "outputs": [],
   "source": [
    "# 1. Open the Characters.txt file and read its contents.\n",
    "\n",
    "characters_file = open(\"Characters.txt\")\n",
    "characters_txt = characters_file.read()\n",
    "\n",
    "# 2. Split text on newlines to produce a list with one element per line. \n",
    "# Store the result as \"alice_characters\".\n",
    "\n",
    "alice_characters = characters_txt.split(sep=\"\\n\")\n",
    "alice_characters"
   ]
  },
  {
   "cell_type": "markdown",
   "metadata": {},
   "source": [
    "### Ex 1: prototype"
   ]
  },
  {
   "cell_type": "code",
   "execution_count": null,
   "metadata": {},
   "outputs": [],
   "source": [
    "# 1. Count the number of main characters in the story (i.e., get the length of the list you created in previous exercise).\n",
    "\n",
    "len(alice_characters)\n",
    "\n",
    "# 2. Extract and print just the first character from the list you created in the previous exercise.\n",
    "\n",
    "print(alice_characters[0])\n",
    "\n",
    "# 3. Test whether the length of the 3rd and 8th character's names are equal. Test whether the length of\n",
    "# the 3rd character's name is greater than or equal to the length of the 6th character's name. Now test\n",
    "# whether EITHER of the above conditions are true. HINT: use the `len()` function.\n",
    "\n",
    "len(alice_characters[2]) == len(alice_characters[7]) or len(alice_characters[2]) >= len(alice_characters[5])\n",
    "\n",
    "\n",
    "# 4. (BONUS, optional): Sort the list you created in step 2 alphabetically,\n",
    "# and then extract the last element.\n",
    "\n",
    "alice_characters.sort()\n",
    "alice_characters[-1]"
   ]
  },
  {
   "cell_type": "markdown",
   "metadata": {},
   "source": [
    "### Ex 2: prototype"
   ]
  },
  {
   "cell_type": "code",
   "execution_count": null,
   "metadata": {
    "lines_to_next_cell": 2
   },
   "outputs": [],
   "source": [
    "# 1. Make sure you have both the text and the list of characters.\n",
    "# Open and read both \"Alice_in_wonderland.txt\" and \"Characters.txt\" if you have not already done so.\n",
    "\n",
    "characters_txt = open(\"Characters.txt\").read()\n",
    "alice_txt = open(\"Alice_in_wonderland.txt\").read()\n",
    "\n",
    "# 2. Which chapter has the most words?\n",
    "# Split the text into chapters (i.e., split on \"CHAPTER \") and use a for-loop to iterate over the chapters.\n",
    "# For each chapter, split it into words and calculate the length.\n",
    "\n",
    "words_per_chapter = []\n",
    "for chapter in alice_chapters:\n",
    "    words_per_chapter.append(len(chapter.split()))\n",
    "words_per_chapter\n",
    "\n",
    "# 3. How many times is each character mentioned in the text?\n",
    "# Iterate over the list of characters using a for-loop. \n",
    "# For each character, call the count method with that character as the argument.\n",
    "\n",
    "num_per_character = []\n",
    "for character in characters_txt.split(sep=\"\\n\"):\n",
    "    num_per_character.append(alice_txt.count(character))\n",
    "num_per_character\n",
    "\n",
    "# 4. (BONUS, optional): Put the character counts computed above in a \n",
    "# dictionary with character names as the keys and counts as the values.\n",
    "\n",
    "characters = characters_txt.split(sep=\"\\n\")\n",
    "dict(zip(characters, num_per_character))"
   ]
  }
 ],
 "metadata": {
  "jupytext": {
   "cell_metadata_filter": "eval,tags,-all",
   "main_language": "python",
   "notebook_metadata_filter": "-all"
  },
  "kernelspec": {
   "display_name": "Python 3",
   "language": "python",
   "name": "python3"
  },
  "language_info": {
   "codemirror_mode": {
    "name": "ipython",
    "version": 3
   },
   "file_extension": ".py",
   "mimetype": "text/x-python",
   "name": "python",
   "nbconvert_exporter": "python",
   "pygments_lexer": "ipython3",
   "version": "3.7.4"
  }
 },
 "nbformat": 4,
 "nbformat_minor": 4
}
