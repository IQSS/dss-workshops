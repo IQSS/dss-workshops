{
 "cells": [
  {
   "cell_type": "markdown",
   "metadata": {
    "lines_to_next_cell": 0
   },
   "source": []
  },
  {
   "cell_type": "code",
   "execution_count": null,
   "metadata": {
    "hide_input": true,
    "hide_output": true
   },
   "outputs": [],
   "source": [
    "%%R\n",
    "knitr::opts_chunk$set(message=FALSE, fig.path=\"Python/PythonIntro/figures/\")\n",
    "knitr::opts_knit$set(root.dir=\"Python/PythonIntro\") # base.url = \"/\" # base.dir=\"Python/PythonIntro\"\n",
    "# knitr::opts_chunk$set(eval=FALSE, results=FALSE, message=FALSE, warning=FALSE, error=FALSE)"
   ]
  },
  {
   "cell_type": "markdown",
   "metadata": {},
   "source": [
    "# (PART) Python {-}\n",
    "\n",
    "# Python Introduction\n",
    "\n",
    "**Topics**\n",
    "\n",
    "* Reading data\n",
    "* Basic functions\n",
    "* Finding help\n",
    "* Indexing data objects\n",
    "* Working with text data\n",
    "* Conditional operations\n",
    "* Iterating over data structures\n",
    "* Lists and dictionaries"
   ]
  },
  {
   "cell_type": "markdown",
   "metadata": {},
   "source": [
    "## Setup\n",
    "\n",
    "### Class Structure\n",
    "\n",
    "* Informal --- Ask questions at any time. Really!\n",
    "* Collaboration is encouraged - please spend a minute introducing yourself to your neighbors!"
   ]
  },
  {
   "cell_type": "markdown",
   "metadata": {},
   "source": [
    "### Software & Materials\n",
    "\n",
    "####  Install the Anaconda Python distribution\n",
    "\n",
    "If using your own computer please install the Anaconda Python distribution from [https://www.anaconda.com/download/](https://www.anaconda.com/download/). (Note that Python version$\\leq$ 3.0 differs considerably from more recent releases. For this workshop you will need version$\\geq$ 3.6.x)\n",
    "\n",
    "Accepting the defaults proposed by the Anaconda installer is generally recommended.\n",
    "\n",
    "#### Download materials\n",
    "\n",
    "* Download class materials at <https://github.com/IQSS/dss-workshops/raw/master/Python/PythonIntro.zip>\n",
    "* Extract materials from the zipped directory `PythonIntro.zip` (Right-click => Extract All on Windows, double-click on Mac) and move them to your desktop!"
   ]
  },
  {
   "cell_type": "markdown",
   "metadata": {},
   "source": [
    "### Prerequisites\n",
    "\n",
    "This is an introductory Python course:\n",
    "\n",
    "* Assumes no knowledge of Python\n",
    "* Relatively slow-paced"
   ]
  },
  {
   "cell_type": "markdown",
   "metadata": {},
   "source": [
    "### Learning Outcomes\n",
    "\n",
    "* Python language basics and common idioms\n",
    "* Reading files and manipulating data in Python\n",
    "* Iterating over data structures\n",
    "* Python package and application ecosystem"
   ]
  },
  {
   "cell_type": "markdown",
   "metadata": {},
   "source": [
    "### Workshop Outline\n",
    "\n",
    "As an example project we will analyze the text of Lewis Carroll's *Alice's Adventures in Wonderland*. \n",
    "We will use Python to read data from this text file and then, working with nested data structures, ask the following questions:\n",
    "\n",
    "1.  How many total and unique words are there?\n",
    "2.  How many chapters and paragraphs?\n",
    "3.  How many words are in each chapter, and what is the average words per chapter?\n",
    "4.  How many times is each main character mentioned?"
   ]
  },
  {
   "cell_type": "markdown",
   "metadata": {},
   "source": [
    "## What is Python?\n",
    "Python is a relatively easy to learn general purpose programming language. People use Python to manipulate, analyze, and visualize data, make web sites, write games, and much more. Youtube, DropBox, and BitTorrent are among the things people used python to make.\n",
    "\n",
    "Like most popular open source programming languages, Python can be thought of as a *platform* that runs a huge number and variety of packages. The language itself is mostly valuable because it makes it easy to create and use a large number of useful packages.\n",
    "\n",
    "A number of interfaces designed to make it easy to interact with Python are available. The Anaconda distribution that we installed earlier includes both a web-based `Jupyter Notebook` and a more conventional Integrated Development Environment called `Spyder`. For this workshop I encourage you to use `Jupyter Notebook`. In real life you should experiment and choose the interface that you find most comfortable."
   ]
  },
  {
   "cell_type": "markdown",
   "metadata": {},
   "source": [
    "## Python basics\n",
    "\n",
    "### Launch Jupyter Notebook\n",
    "\n",
    "1. Start the `Anaconda Navigator` program\n",
    "2. Click the `Launch` button under `Jupyter Notebook`\n",
    "3. Click `upload`, then in the pop-up window select the `PythonIntro` folder on the desktop\n",
    "4. Open and upload 3 files (note, this is TWO steps): `PythonIntro.ipnb`, `Alice_in_wonderland.txt`, and `Characters.txt`\n",
    "\n",
    "A Jupyter Notebook contains one or more *cells* containing notes or code. To insert a new cell click the `+` button in the upper left. To execute a cell, select it and press `Control+Enter` or click the `Run` button at the top."
   ]
  },
  {
   "cell_type": "markdown",
   "metadata": {},
   "source": [
    "### Reading data from a file\n",
    "\n",
    "Reading information from a file is the first step in many projects, so we'll start there. The workshop materials you downloaded earlier include a file named `Alice_in_wonderland.txt` which contains the text of Lewis Carroll's *Alice's Adventures in Wonderland*."
   ]
  },
  {
   "cell_type": "code",
   "execution_count": null,
   "metadata": {},
   "outputs": [],
   "source": [
    "alice_file = open(\"Alice_in_wonderland.txt\")"
   ]
  },
  {
   "cell_type": "markdown",
   "metadata": {},
   "source": [
    "### Python functions\n",
    "\n",
    "In Python functions perform tasks, and take the form:"
   ]
  },
  {
   "cell_type": "code",
   "execution_count": null,
   "metadata": {},
   "outputs": [],
   "source": [
    "# function_name(arg1, arg2, arg3, ... argn)"
   ]
  },
  {
   "cell_type": "markdown",
   "metadata": {},
   "source": [
    "where `arg1` etc. are arguments to the function.\n",
    "\n",
    "**The `open()` function**\n",
    "\n",
    "We can use the `open()` function to create a file **object** that makes a **connection** to the file. This means that the `alice_file` object name we just created does *not* contain the contents of `Alice_in_wonderland.txt`. It is a representation in Python of the *file itself* rather than the *contents* of the file.\n",
    "\n",
    "### Assignment\n",
    "\n",
    "In Python we can assign a result to an name using the `=` operator."
   ]
  },
  {
   "cell_type": "code",
   "execution_count": null,
   "metadata": {},
   "outputs": [],
   "source": [
    "# objectName = thing_to_assign\n",
    "x = 10"
   ]
  },
  {
   "cell_type": "markdown",
   "metadata": {},
   "source": [
    "The name on the left of the equals sign (`alice_file`) is one that we chose. When choosing names, they must:\n",
    "\n",
    "1. start with a *letter*\n",
    "2. use only *letters*, *numbers* and *underscores*\n",
    "\n",
    "### Object methods\n",
    "\n",
    "The `alice_file` object provides *methods* that we can use to do things with it. Methods are invoked using syntax that looks like `ObjectName.method()`. You can see the methods available for acting on an object by typing the object's name followed by a `.` and pressing the `tab` key. For example, typing `alice_file.` and pressing `tab` will display a list of methods as shown below. \n",
    "\n",
    "![](Python/PythonIntro/images/notebook_file_completion.png).\n",
    "\n",
    "Among the methods we have for doing things with our `alice_file` object is one named `read`. We can use the `help` function to learn more about it."
   ]
  },
  {
   "cell_type": "code",
   "execution_count": null,
   "metadata": {},
   "outputs": [],
   "source": [
    "help(alice_file.read)"
   ]
  },
  {
   "cell_type": "markdown",
   "metadata": {},
   "source": [
    "Since `alice_file.read` looks promising, we will invoke this method and see what it does."
   ]
  },
  {
   "cell_type": "code",
   "execution_count": null,
   "metadata": {},
   "outputs": [],
   "source": [
    "alice_txt = alice_file.read()\n",
    "print(alice_txt[:500]) # the [:500] gets the first 500 character -- more on this later."
   ]
  },
  {
   "cell_type": "markdown",
   "metadata": {},
   "source": [
    "That's all there is to it! We've read the contents of `Alice_in_wonderland.txt` and stored this text in a Python object we named `alice_txt`. Now let's start to explore this object, and learn some more things about Python along the way."
   ]
  },
  {
   "cell_type": "markdown",
   "metadata": {},
   "source": [
    "## Counting chapters, lines, & words\n",
    "\n",
    "Now that we have the text, we can start answering some questions about it. To begin with, how many words does it contain? To answer this question, we can split the text up so there is one element per word, and then count the number of words.\n",
    "\n",
    "### Splitting a string into a list of words\n",
    "\n",
    "How do we figure out how to split strings in Python? We can ask Python what our `alice_txt` object is and what methods it provides. We can ask Python what things are using the `type()` function, like this:"
   ]
  },
  {
   "cell_type": "code",
   "execution_count": null,
   "metadata": {},
   "outputs": [],
   "source": [
    "type(alice_txt)"
   ]
  },
  {
   "cell_type": "markdown",
   "metadata": {},
   "source": [
    "Python tells us that `alice_txt` is of type `str` (i.e., it is a string). We can find out what methods are available for working strings by typing `alice_txt.` and pressing `tab`. We'll see that among the methods is one named `split`, as shown below.\n",
    "\n",
    "![](Python/PythonIntro/images/notebook_string_completion.png) \n",
    "\n",
    "To learn how to use this method we can check the documentation."
   ]
  },
  {
   "cell_type": "code",
   "execution_count": null,
   "metadata": {},
   "outputs": [],
   "source": [
    "help(alice_txt.split)"
   ]
  },
  {
   "cell_type": "markdown",
   "metadata": {},
   "source": [
    "Since the default is to split on whitespace (spaces, newlines, tabs) we can get a reasonable word count simply by calling the split method and counting the number of elements in the result."
   ]
  },
  {
   "cell_type": "code",
   "execution_count": null,
   "metadata": {},
   "outputs": [],
   "source": [
    "alice_words = alice_txt.split() # returns a list (we talk about lists below)\n",
    "type(alice_words)"
   ]
  },
  {
   "cell_type": "markdown",
   "metadata": {},
   "source": [
    "### Working with lists\n",
    "\n",
    "The `split` methods we used to break up the text of *Alice in Wonderland* into words produced a *list*. A lot of the techniques we'll use later to analyze this text also produce lists, so its worth taking a minute to learn more about them.\n",
    "\n",
    "It is always a good idea to know what type of data structure you're working with in Python. As you gain experience, you won't have to look these things up as often, but even experienced Python programmers use the `type()` function to learn about the objects they are working with."
   ]
  },
  {
   "cell_type": "code",
   "execution_count": null,
   "metadata": {},
   "outputs": [],
   "source": [
    "type(alice_words)"
   ]
  },
  {
   "cell_type": "markdown",
   "metadata": {},
   "source": [
    "A *list* in Python is used to store a collection of items:"
   ]
  },
  {
   "cell_type": "code",
   "execution_count": null,
   "metadata": {},
   "outputs": [],
   "source": [
    "# create a list\n",
    "y = [1, \"b\", 3, \"D\", 5, 6]"
   ]
  },
  {
   "cell_type": "markdown",
   "metadata": {},
   "source": [
    " As with other types in Python, you can get a list of methods by typing the name of the object followed by a `.` and pressing `tab`.\n",
    "\n",
    "### Extracting subsets from lists\n",
    "\n",
    "Among the things you can do with a list is extract subsets using **bracket indexing notation**. This is useful in many situations, including the current one where we want to inspect a long list without printing out the whole thing.\n",
    "\n",
    "The examples below show how indexing works in Python."
   ]
  },
  {
   "cell_type": "code",
   "execution_count": null,
   "metadata": {
    "eval": false
   },
   "outputs": [],
   "source": [
    "# syntax\n",
    "object[ start : end : by ]\n",
    "\n",
    "# default\n",
    "object[ 0 : end : 1 ]"
   ]
  },
  {
   "cell_type": "markdown",
   "metadata": {},
   "source": [
    "Note that the displayed representation of lists and other data structures in python often closely matches the syntax used to create them. For example, we can create a list using square brackets, just as we see when we print a list:"
   ]
  },
  {
   "cell_type": "code",
   "execution_count": null,
   "metadata": {},
   "outputs": [],
   "source": [
    "y[0] # returns first element - the number 1 (yes, we count from zero!)\n",
    "y[1] # returns second element - the letter \"b\"\n",
    "y[ :3] # returns a list with only the first 3 elements, but index is of length 4 (0 to 3) because last index is excluded\n",
    "y[2:5] # returns a list with elements 3, \"D\", 5\n",
    "y[-1] # returns last element - the number 6 \n",
    "y[-4: ] # returns a list with last 4 elements"
   ]
  },
  {
   "cell_type": "code",
   "execution_count": null,
   "metadata": {},
   "outputs": [],
   "source": [
    "alice_words[11:20] # returns a list with words 11 through 19\n",
    "alice_words[-10: ] # returns a list with the last 10 words"
   ]
  },
  {
   "cell_type": "markdown",
   "metadata": {},
   "source": [
    "### Using sets to calculate the number of unique words\n",
    "\n",
    "According to our computation above, there are about 26 thousand total words in *Alice's Adventures in Wonderland*. But how many *unique* words are there? Python has a special data structure called a *set* that makes it easy to find out. A *set* drops all duplicates, giving a collection of the unique elements."
   ]
  },
  {
   "cell_type": "code",
   "execution_count": null,
   "metadata": {},
   "outputs": [],
   "source": [
    "len(alice_words) # counts elements in a data structure\n",
    "len(set(alice_words))\n",
    "\n",
    "# set example\n",
    "mySet = {1, 5, 9, 9, 4, 5}\n",
    "len(mySet)"
   ]
  },
  {
   "cell_type": "markdown",
   "metadata": {},
   "source": [
    "There are 5295 unique words in the text."
   ]
  },
  {
   "cell_type": "markdown",
   "metadata": {},
   "source": [
    "## Exercise 0\n",
    "\n",
    "**Reading text from a file & splitting**\n",
    "\n",
    "*Alice's Adventures in Wonderland* is full of memorable characters. The main characters from the story are listed, one-per-line, in the file named `Characters.txt`.\n",
    "\n",
    "NOTE: we will not always explicitly demonstrate everything you need to know in order to complete an exercise. Instead we focus on teaching you how to discover available methods and how use the help function to learn how to use them. It is expected that you will spend some time during the exercises looking for appropriate methods and perhaps reading documentation.\n",
    "\n",
    "1. Open the `Characters.txt` file and read its contents.\n",
    "\n",
    "2. Split text on newlines to produce a list with one element per line. Store the result as `alice_characters`.\n"
   ]
  },
  {
   "cell_type": "markdown",
   "metadata": {},
   "source": [
    "### Counting chapters & paragraphs\n",
    "\n",
    "Now that we know how to split a string and how to work with the resulting list, we can split on chapter markers to count the number of chapters. All we need to do is specify the string to split on. Since each chapter is marked with the string `'CHAPTER '` followed by the chapter number, we can split the text up into chapters using this as the separator."
   ]
  },
  {
   "cell_type": "code",
   "execution_count": null,
   "metadata": {},
   "outputs": [],
   "source": [
    "alice_chapters = alice_txt.split(\"CHAPTER \")\n",
    "len(alice_chapters)"
   ]
  },
  {
   "cell_type": "markdown",
   "metadata": {},
   "source": [
    "Since the first element contains the material *before* the first chapter, this tells us there are twelve chapters in the book.\n",
    "\n",
    "We can count paragraphs in a similar way. Paragraphs are indicated by a blank line, i.e., two newlines in a row. When working with strings we can represent newlines with `\\n`. Paragraphs are indicated by two new lines, and so our basic paragraph separator is `\\n\\n`. We can see this separator by looking at the content."
   ]
  },
  {
   "cell_type": "code",
   "execution_count": null,
   "metadata": {},
   "outputs": [],
   "source": [
    "print(alice_txt[:500]) # explicit printing --- formats text nicely\n",
    "\n",
    "alice_txt[:500] # returns content without printing it"
   ]
  },
  {
   "cell_type": "code",
   "execution_count": null,
   "metadata": {},
   "outputs": [],
   "source": [
    "alice_paragraphs = alice_txt.split(\"\\n\\n\")"
   ]
  },
  {
   "cell_type": "markdown",
   "metadata": {},
   "source": [
    "Before counting the number of paragraphs, I want to inspect the result to see if it looks correct:"
   ]
  },
  {
   "cell_type": "code",
   "execution_count": null,
   "metadata": {},
   "outputs": [],
   "source": [
    "print(alice_paragraphs[0], \"\\n==========\")\n",
    "print(alice_paragraphs[1], \"\\n==========\")\n",
    "print(alice_paragraphs[2], \"\\n==========\")"
   ]
  },
  {
   "cell_type": "markdown",
   "metadata": {},
   "source": [
    "We're counting the title, author, and chapter lines as paragraphs, but this will do for a rough count."
   ]
  },
  {
   "cell_type": "code",
   "execution_count": null,
   "metadata": {},
   "outputs": [],
   "source": [
    "len(alice_paragraphs)"
   ]
  },
  {
   "cell_type": "markdown",
   "metadata": {},
   "source": [
    "## Exercise 1\n",
    "\n",
    "**Count the number of main characters**\n",
    "\n",
    "So far we've learned that there are 12 chapters, around 830 paragraphs, and about 26 thousand words in *Alice's Adventures in Wonderland*. Along the way we've also learned how to open a file and read its contents, split strings, calculate the length of objects, discover methods for string and list objects, and index/subset lists in Python. Now it is time for you to put these skills to use to learn something about the main characters in the story.\n",
    "\n",
    "1. Count the number of main characters in the story (i.e., get the length of the list you created in previous exercise).\n",
    "\n",
    "2. Extract and print just the first character from the list you created in the previous exercise."
   ]
  },
  {
   "cell_type": "markdown",
   "metadata": {},
   "source": [
    "## Working with nested structures\n",
    "\n",
    "**Words within paragraphs within chapters**\n",
    "\n",
    "This far our analysis has treated the text as a \"flat\" data structure. For example, when we counted words we just counted words in the whole document, rather than counting the number of words in each chapter. If we want to treat our document as a nested structure, with words forming sentences, sentences forming paragraphs, paragraphs forming chapters, and chapters forming the book, we need to learn some additional tools. Specifically, we need to learn how to iterate over lists (or other collections) and do things with each element in a collection.\n",
    "\n",
    "There are several ways to iterate in Python, of which we will focus on *for loops*. \n",
    "\n",
    "### Iterating over paragraphs using for-loops\n",
    "\n",
    "A *for loop* is a way of cycling through the elements of a collection and doing something with each one. As a simple example, we can cycle through the first 6 paragraphs and print each one. Cycling through with a loop makes it easy to insert a separator between the paragraphs, making it much easier to read the output.\n",
    "\n",
    "The for loop logic is:\n",
    "\n",
    "![](Python/PythonIntro/images/for_loop_pic_small.png)\n",
    "\n",
    "The for loop syntax is:"
   ]
  },
  {
   "cell_type": "code",
   "execution_count": null,
   "metadata": {
    "eval": false
   },
   "outputs": [],
   "source": [
    "for <thing> in <collection>: \n",
    "    do stuff with <thing>"
   ]
  },
  {
   "cell_type": "markdown",
   "metadata": {},
   "source": [
    "![](Python/PythonIntro/images/python_for_loop_small.png)"
   ]
  },
  {
   "cell_type": "markdown",
   "metadata": {},
   "source": [
    "Notice that the body of the for-loop is indented. This is important, because it is this indentation that defines the *body* of the loop --- the place where things are done. White space matters in Python! A simple example:"
   ]
  },
  {
   "cell_type": "code",
   "execution_count": null,
   "metadata": {},
   "outputs": [],
   "source": [
    "for i in range(10): \n",
    "    print(i)\n",
    "print('DONE.')    "
   ]
  },
  {
   "cell_type": "markdown",
   "metadata": {},
   "source": [
    "Notice that \"DONE.\" is only printed once, since `print('DONE.')` is not indented and is therefore outside of the body of the loop. An example using the Alice text:"
   ]
  },
  {
   "cell_type": "code",
   "execution_count": null,
   "metadata": {},
   "outputs": [],
   "source": [
    "for paragraph in alice_paragraphs[:6]:\n",
    "    print(paragraph)\n",
    "    print('==================================')\n",
    "print('DONE.')"
   ]
  },
  {
   "cell_type": "markdown",
   "metadata": {},
   "source": [
    "Loops in Python are great because the syntax is relatively simple, and because they are very powerful. Inside of the body of a loop you can use all the tools you use elsewhere in python.\n",
    "\n",
    "Here is one more example of a loop, this time iterating over all the chapters and calculating the number of paragraphs in each chapter."
   ]
  },
  {
   "cell_type": "code",
   "execution_count": null,
   "metadata": {},
   "outputs": [],
   "source": [
    "for chapter in alice_chapters[1:]:\n",
    "    paragraphs = chapter.split(\"\\n\\n\")\n",
    "    print(len(paragraphs))"
   ]
  },
  {
   "cell_type": "markdown",
   "metadata": {},
   "source": [
    "### Organizing results in dictionaries\n",
    "\n",
    "Our code for calculating the number of times \"Alice\" was mentioned per chapter worked, but with a little effort we can make it much easier to interpret by associating each count with the chapter it corresponds to. In Python we can use a `dict` (i.e., \"dictionary\") to store key-value pairs.\n",
    "\n",
    "The dictionary structure looks like:"
   ]
  },
  {
   "cell_type": "code",
   "execution_count": null,
   "metadata": {
    "eval": false
   },
   "outputs": [],
   "source": [
    "mydict = {key1:value1, key2:value2, key3:value3}"
   ]
  },
  {
   "cell_type": "markdown",
   "metadata": {},
   "source": [
    "A simple example:"
   ]
  },
  {
   "cell_type": "code",
   "execution_count": null,
   "metadata": {},
   "outputs": [],
   "source": [
    "mydict = {\"apple\":5, \"pear\":6, \"grape\":10}\n",
    "print(mydict)\n",
    "\n",
    "# compare to a list\n",
    "mylist =[5, 6, 10]\n",
    "print(mylist)"
   ]
  },
  {
   "cell_type": "markdown",
   "metadata": {},
   "source": [
    "Now, with the Alice text, first we can iterate over each chapter and grab just the first line (that is, the chapter titles). These will become our keys."
   ]
  },
  {
   "cell_type": "code",
   "execution_count": null,
   "metadata": {},
   "outputs": [],
   "source": [
    "container = [] # a list\n",
    "\n",
    "for i in range(10):\n",
    "    container.append(i) # append elements to the list\n",
    "\n",
    "print(container)    "
   ]
  },
  {
   "cell_type": "markdown",
   "metadata": {},
   "source": [
    "We can create a list of chapter titles:"
   ]
  },
  {
   "cell_type": "code",
   "execution_count": null,
   "metadata": {},
   "outputs": [],
   "source": [
    "chapter_titles = []\n",
    "\n",
    "for chapter in alice_chapters[1:]:\n",
    "    chapter_titles.append(chapter.split(sep=\"\\n\")[0])\n",
    "\n",
    "print(chapter_titles)"
   ]
  },
  {
   "cell_type": "markdown",
   "metadata": {},
   "source": [
    "We can also create counts for each chapter:"
   ]
  },
  {
   "cell_type": "code",
   "execution_count": null,
   "metadata": {},
   "outputs": [],
   "source": [
    "chapter_Alice = []\n",
    "\n",
    "for chapter in alice_chapters[1:]:\n",
    "    chapter_Alice.append(chapter.count(\"Alice\"))"
   ]
  },
  {
   "cell_type": "markdown",
   "metadata": {},
   "source": [
    "Finally we can combine the chapter names and counts and convert them to a dictionary."
   ]
  },
  {
   "cell_type": "code",
   "execution_count": null,
   "metadata": {
    "lines_to_next_cell": 2
   },
   "outputs": [],
   "source": [
    "# combine names and counts\n",
    "mydict = dict(zip(chapter_names, \n",
    "                  chapter_Alice))\n",
    "\n",
    "print(mydict)\n",
    "\n",
    "help(zip)         "
   ]
  },
  {
   "cell_type": "markdown",
   "metadata": {},
   "source": [
    "## Exercise 2\n",
    "\n",
    "**Iterating & counting things**\n",
    "\n",
    "Now that we know how to iterate using for-loops, the possibilities really start to open up. For example, we can use these techniques to count the number of times each character appears in the story. \n",
    "\n",
    "1. Make sure you have both the text and the list of characters.\n",
    "\n",
    "Open and read both \"Alice_in_wonderland.txt\" and\n",
    "\"Characters.txt\" if you have not already done so.\n",
    "\n",
    "2. Which chapter has the most words?\n",
    "\n",
    "Split the text into chapters (i.e., split on \"CHAPTER \") and use a for-loop to iterate over the chapters. \n",
    "For each chapter, split it into words and calculate the length.\n",
    "\n",
    "3. How many times is each character mentioned in the text?\n",
    "\n",
    "Iterate over the list of characters using a for-loop. \n",
    "For each character, call the count method with that character as the argument.\n",
    "\n",
    "4. (BONUS, optional): Put the character counts computed \n",
    "   above in a dictionary with character names as the keys and \n",
    "   counts as the values."
   ]
  },
  {
   "cell_type": "markdown",
   "metadata": {},
   "source": [
    "## Importing numpy & calculating simple statistics\n",
    "\n",
    "Now that we know how to iterate over lists and calculate numbers for each element, we may wish to do some simple math using these numbers. For example, we may want to calculate the mean and standard deviation of the distribution of the number of paragraphs in each chapter. Python has a handful of math functions built-in (e.g., `min()` and `max()`) but built-in math support is pretty limited.\n",
    "\n",
    "When you find that something isn't available in Python itself, its time to look for a package that does it. Although it is somewhat overkill for simply calculating a mean we're going to use a popular package called `numpy` for this. The `numpy` package is included in the Anaconda Python distribution we are using, so we don't need to install it separately.\n",
    "\n",
    "To use `numpy` or other packages, you must first import them. "
   ]
  },
  {
   "cell_type": "code",
   "execution_count": null,
   "metadata": {
    "eval": false
   },
   "outputs": [],
   "source": [
    "import <package-name>"
   ]
  },
  {
   "cell_type": "markdown",
   "metadata": {},
   "source": [
    "We can import `numpy` as follows:"
   ]
  },
  {
   "cell_type": "code",
   "execution_count": null,
   "metadata": {},
   "outputs": [],
   "source": [
    "import numpy"
   ]
  },
  {
   "cell_type": "markdown",
   "metadata": {},
   "source": [
    "To use functions from a package, we can prefix the function with the package name, separated by a period:"
   ]
  },
  {
   "cell_type": "code",
   "execution_count": null,
   "metadata": {
    "eval": false
   },
   "outputs": [],
   "source": [
    "<package-name>.<function_name>()"
   ]
  },
  {
   "cell_type": "markdown",
   "metadata": {},
   "source": [
    "The `numpy` package is very popular and includes a lot of useful functions. For example, we can use it to calculate means and standard deviations:"
   ]
  },
  {
   "cell_type": "code",
   "execution_count": null,
   "metadata": {},
   "outputs": [],
   "source": [
    "print(numpy.mean(paragraphs_per_chapter))\n",
    "print(numpy.std(paragraphs_per_chapter))"
   ]
  },
  {
   "cell_type": "markdown",
   "metadata": {},
   "source": [
    "## Exercise solutions\n",
    "\n",
    "### Ex 0: prototype"
   ]
  },
  {
   "cell_type": "code",
   "execution_count": null,
   "metadata": {},
   "outputs": [],
   "source": [
    "# 1. Open the Characters.txt file and read its contents.\n",
    "\n",
    "characters_file = open(\"Characters.txt\")\n",
    "characters_txt = characters_file.read()\n",
    "\n",
    "# 2. Split text on newlines to produce a list with one element per line. \n",
    "# Store the result as \"alice_characters\".\n",
    "\n",
    "alice_characters = characters_txt.split(sep=\"\\n\")\n",
    "alice_characters"
   ]
  },
  {
   "cell_type": "markdown",
   "metadata": {},
   "source": [
    "### Ex 1: prototype"
   ]
  },
  {
   "cell_type": "code",
   "execution_count": null,
   "metadata": {},
   "outputs": [],
   "source": [
    "# 1. Count the number of main characters in the story (i.e., get the length of the list you created in previous exercise).\n",
    "\n",
    "len(alice_characters)\n",
    "\n",
    "# 2. Extract and print just the first character from the list you created in the previous exercise.\n",
    "\n",
    "print(alice_characters[0])\n",
    "\n",
    "# 3. (BONUS, optional): Sort the list you created in step 2 alphabetically, \n",
    "# and then extract the last element.\n",
    "\n",
    "alice_characters.sort()\n",
    "alice_characters[-1]"
   ]
  },
  {
   "cell_type": "markdown",
   "metadata": {},
   "source": [
    "### Ex 2: prototype"
   ]
  },
  {
   "cell_type": "code",
   "execution_count": null,
   "metadata": {
    "lines_to_next_cell": 2
   },
   "outputs": [],
   "source": [
    "# 1. Make sure you have both the text and the list of characters.\n",
    "# Open and read both \"Alice_in_wonderland.txt\" and \"Characters.txt\" if you have not already done so.\n",
    "\n",
    "characters_txt = open(\"Characters.txt\").read()\n",
    "alice_txt = open(\"Alice_in_wonderland.txt\").read()\n",
    "\n",
    "# 2. Which chapter has the most words?\n",
    "# Split the text into chaptes (i.e., split on \"CHAPTER \") and use a for-loop to iterate over the chapters.\n",
    "# For each chapter, split it into words and calculate the length.\n",
    "\n",
    "words_per_chapter = []\n",
    "for chapter in alice_chapters:\n",
    "    words_per_chapter.append(len(chapter.split()))\n",
    "words_per_chapter\n",
    "\n",
    "# 3. How many times is each character mentioned in the text?\n",
    "# Iterate over the list of characters using a for-loop. \n",
    "# For each character, call the count method with that character as the argument.\n",
    "\n",
    "num_per_character = []\n",
    "for character in characters_txt.split(sep=\"\\n\"):\n",
    "    num_per_character.append(alice_txt.count(character))\n",
    "num_per_character\n",
    "\n",
    "# 4. (BONUS, optional): Put the character counts computed above in a \n",
    "# dictionary with character names as the keys and counts as the values.\n",
    "\n",
    "characters = characters_txt.split(sep=\"\\n\")\n",
    "dict(zip(characters, num_per_character))"
   ]
  },
  {
   "cell_type": "markdown",
   "metadata": {},
   "source": [
    "## Wrap-up\n",
    "\n",
    "### Feedback\n",
    "\n",
    "These workshops are a work in progress, please provide any feedback to: help@iq.harvard.edu\n",
    "\n",
    "### Resources\n",
    "\n",
    "* IQSS \n",
    "    + Workshops: <https://dss.iq.harvard.edu/workshop-materials>\n",
    "    + Data Science Services: <https://dss.iq.harvard.edu/>\n",
    "    + Research Computing Environment: <https://iqss.github.io/dss-rce/>\n",
    "\n",
    "* HBS\n",
    "    + Research Computing Services workshops: <https://training.rcs.hbs.org/workshops>\n",
    "    + Other HBS RCS resources: <https://training.rcs.hbs.org/workshop-materials>\n",
    "    + RCS consulting email: <mailto:research@hbs.edu>\n",
    "    \n",
    "* Graphics \n",
    "    + matplotlib: <https://matplotlib.org/> \n",
    "    + seaborn: <https://seaborn.pydata.org/>\n",
    "    + plotly: <https://plot.ly/python/>\n",
    "\n",
    "* Quantitative Data Analysis \n",
    "    + numpy: <http://www.numpy.org/>\n",
    "    + scipy: <https://www.scipy.org/>\n",
    "    + pandas: <https://pandas.pydata.org/> \n",
    "    + scikit-learn: <http://scikit-learn.org/stable/>\n",
    "    + statsmodels: <http://www.statsmodels.org/stable/> \n",
    "\n",
    "* Text analysis \n",
    "    + textblob: <https://textblob.readthedocs.io/en/dev/>\n",
    "    + nltk: <http://www.nltk.org/>\n",
    "    + Gensim: <https://radimrehurek.com/gensim/>\n",
    "\n",
    "* Webscraping \n",
    "    + scrapy: <https://scrapy.org/>\n",
    "    + requests: <http://docs.python-requests.org/en/master/>\n",
    "    + lxml: <https://lxml.de/>\n",
    "    + BeautifulSoup: <https://www.crummy.com/software/BeautifulSoup/>\n",
    "\n",
    "* Social Network Analysis \n",
    "    + networkx: <https://networkx.github.io/>\n",
    "    + graph-tool: <https://graph-tool.skewed.de/>\n"
   ]
  }
 ],
 "metadata": {
  "jupytext": {
   "cell_metadata_filter": "eval,hide_input,hide_output,-all",
   "main_language": "python",
   "notebook_metadata_filter": "-all"
  }
 },
 "nbformat": 4,
 "nbformat_minor": 2
}
