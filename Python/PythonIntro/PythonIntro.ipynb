{
 "cells": [
  {
   "cell_type": "markdown",
   "metadata": {
    "lines_to_next_cell": 0
   },
   "source": []
  },
  {
   "cell_type": "code",
   "execution_count": null,
   "metadata": {
    "tags": [
     "remove_cell",
     "remove_input"
    ]
   },
   "outputs": [],
   "source": [
    "%%R\n",
    "knitr::opts_chunk$set(eval=TRUE, results=TRUE, message=FALSE, warning=FALSE, error=FALSE, fig.path=\"Python/PythonIntro/figures/\")\n",
    "knitr::opts_knit$set(root.dir=\"Python/PythonIntro\") # base.url = \"/\" # base.dir=\"Python/PythonIntro\""
   ]
  },
  {
   "cell_type": "markdown",
   "metadata": {},
   "source": [
    "# Python Introduction\n",
    "\n",
    "**Topics**\n",
    "\n",
    "* Functions\n",
    "* Objects\n",
    "* Assignment\n",
    "* Finding help\n",
    "* List and dictionary structures\n",
    "* Indexing data structures\n",
    "* Iterating over collections of data\n",
    "* Importing packages"
   ]
  },
  {
   "cell_type": "markdown",
   "metadata": {},
   "source": [
    "## Setup\n",
    "\n",
    "### Class Structure\n",
    "\n",
    "* Informal --- Ask questions at any time. Really!\n",
    "* Collaboration is encouraged - please spend a minute introducing yourself to your neighbors!"
   ]
  },
  {
   "cell_type": "markdown",
   "metadata": {},
   "source": [
    "### Prerequisites\n",
    "\n",
    "This is an introductory Python course:\n",
    "\n",
    "* Assumes no prior knowledge of **how to use** Python\n",
    "* We do assume you know **why** you want to learn Python. If you don't, and want a comparison of Python to other statistical software, see our [Data Science Tools](./DataScienceTools.html) workshop\n",
    "* Relatively slow-paced"
   ]
  },
  {
   "cell_type": "markdown",
   "metadata": {},
   "source": [
    "### Goals\n",
    "\n",
    "<div class=\"alert alert-success\">\n",
    "We will learn about the Python language by analyzing the text of Lewis Carroll's *Alice's Adventures in Wonderland*. \n",
    "In particular, our goals are to learn about:\n",
    "\n",
    "1. What Python is and how it works\n",
    "2. How we can interact with Python\n",
    "3. Foundations of the language (functions, objects, assignment, methods)\n",
    "4. Using methods and lists to analyze data\n",
    "5. Iterating over collections of data to automate repetitive tasks\n",
    "6. Storing related data in dictionaries (as key - value pairs)\n",
    "7. Importing packages to add functionality\n",
    "</div>"
   ]
  },
  {
   "cell_type": "markdown",
   "metadata": {},
   "source": [
    "## Python basics\n",
    "\n",
    "<div class=\"alert alert-info\">\n",
    "**GOAL: To learn about the foundations of the Python language.**\n",
    "\n",
    "1. What Python is and how it works\n",
    "2. Python interfaces\n",
    "3. Functions\n",
    "4. Objects\n",
    "5. Assignment\n",
    "6. Methods\n",
    "</div>"
   ]
  },
  {
   "cell_type": "markdown",
   "metadata": {},
   "source": [
    "### What is Python?\n",
    "\n",
    "* Python is a free general purpose programming language \n",
    "* Python is an interpreted language, not a compiled one, meaning that all commands \n",
    "  typed on the keyboard are directly executed without requiring to build a complete \n",
    "  program (this is like R and unlike C, Fortran, Pascal, etc.)\n",
    "* Python has existed for about 30 years\n",
    "* Python is modular --- most functionality is from add-on packages. So the language can\n",
    "  be thought of as a *platform* for creating and running a large number of useful packages."
   ]
  },
  {
   "cell_type": "markdown",
   "metadata": {},
   "source": [
    "### Why use Python?\n",
    "\n",
    "* Relatively easy to learn\n",
    "* Extremely flexible: can be used to manipulate, analyze, and visualize data, \n",
    "  make web sites, write games, and much more (Youtube and DropBox were written in Python)\n",
    "* Cutting edge machine learning tools\n",
    "* Publication quality graphics\n",
    "* 150,000+ add on packages covering all aspects of statistics and machine learning\n",
    "* Active community of users"
   ]
  },
  {
   "cell_type": "markdown",
   "metadata": {},
   "source": [
    "### How does Python work?\n",
    "\n",
    "While graphical-based statistical software (e.g., SPSS, GraphPad) immediately display\n",
    "the results of an analysis, **Python stores results in an `object` (a data structure)**,\n",
    "so that an analysis can be done with no result displayed. Such a feature is very\n",
    "useful, since a user can extract only that part of the results that is of interest\n",
    "and can pass results into further analyses.\n",
    "\n",
    "For example, if you run a series of 20 regressions and want to compare the\n",
    "different regression coefficients, Python can display only the estimated coefficients:\n",
    "thus the results may take a single line, whereas graphical-based software could\n",
    "open 20 results windows. In addition, these regression coefficients can be passed\n",
    "directly into further analyses --- such as generating predictions.\n",
    "\n",
    "![](Python/PythonIntro/images/python_chain.png)\n",
    "\n",
    "When Python is running, variables, data, functions, results, etc., are **stored in memory**\n",
    "on the computer in the form of `objects` that have a name. The user can\n",
    "**perform actions** on these objects with `operators` (arithmetic, logical,\n",
    "comparison, etc.) and `functions` (which are themselves objects). Here's a\n",
    "schematic of how this all fits together:\n",
    "\n",
    "![](Python/PythonIntro/images/python_works.png)"
   ]
  },
  {
   "cell_type": "markdown",
   "metadata": {},
   "source": [
    "### Interfaces\n",
    "\n",
    "#### Text editors, IDEs, & Notebooks\n",
    "\n",
    "There are different ways of interacting with Python. The two main ways are through:\n",
    "\n",
    "1.  **text editors** or **Integrated Development Environments (IDEs):** Text editors and IDEs are not really separate categories; as you add features to a text editor it becomes more like an IDE. Some editors/IDEs are language-specific while others are general purpose --- typically providing language support via plugins. Here are a few popular editors/IDEs that can be used with Python:\n",
    "\n",
    "| Editor / IDE | Features  | Ease of use | Language support |\n",
    "|:------------ |:--------- |:----------- |:---------------- |\n",
    "| Spyder       | Excellent | Easy        | Python only      |\n",
    "| PyCharm      | Excellent | Moderate    | Python only      |\n",
    "| Jupyter Lab  | Good      | Easy        | Excellent        |\n",
    "| VS code      | Excellent | Easy        | Very good        |\n",
    "| Atom         | Good      | Moderate    | Good             |\n",
    "| Vim          | Excellent | Hard        | Good             |\n",
    "| Emacs        | Excellent | Hard        | Excellent        |\n",
    "\n",
    "2. **Notebooks:** Web-based applications that allow you to create and share documents that contain live code, equations, visualizations, and narrative text. For these workshops, we will use a [Jupyter Notebook](https://jupyter.org/); an open source notebook that has support for 40+ languages. "
   ]
  },
  {
   "cell_type": "markdown",
   "metadata": {},
   "source": [
    "#### Source code & literate programming\n",
    "\n",
    "There are also several different **formats** available for writing code in Python. \n",
    "These basically boil down to a choice between:\n",
    "\n",
    "1. **Source code:** the practice of writing code, and possibly comments, in a plain text document. In Python this is done by writing code in a text file with a `.py` extension. Writing source code has the great advantage of being simple. Souce code is the format of choice if you intend to run your code as a complete script - for example, from the command line.\n",
    "\n",
    "2.  **Literate programming:** the practice of embedding computer code in a natural language document. In Python this is often done using the aformentioned [Jupyter Notebook](https://jupyter.org/), which is a [JSON](https://www.json.org/json-en.html) document containing an ordered list of input/output cells which can contain code, text (using *Markdown*), mathematics, plots, and rich media, usually ending with the `.ipynb` extension. Jupyter Notebooks are easy to write, human-readable, and the format of choice if you intend to run your code interactively, by running small pieces of code and looking at each output. Researchers can use Notebooks to write their journal papers, dissertations, and statistics/math class notes, since it is easy to convert into other formats later, such as HTML (for a webpage), MS Word, or PDF (via LaTeX). \n",
    "\n",
    "Here are some resources for learning more about Jupyter Notebooks: \n",
    "\n",
    "* <https://www.dataquest.io/blog/jupyter-notebook-tutorial/>\n",
    "* <https://www.datacamp.com/community/tutorials/tutorial-jupyter-notebook>\n",
    "* <https://realpython.com/jupyter-notebook-introduction/>"
   ]
  },
  {
   "cell_type": "markdown",
   "metadata": {},
   "source": [
    "### Launch JupyterLab\n",
    "\n",
    "1. Start the `Anaconda Navigator` program\n",
    "2. Click the `Launch` button under `Jupyter Lab`\n",
    "3. A browser window will open with your computer's files listed on the left hand side of the page. Navigate to the folder called `PythonIntro` that you downloaded to your desktop and double-click on the folder\n",
    "4. Within the `PythonIntro` folder, double-click on the file with the word \"BLANK\" in the name (`PythonIntro_BLANK.ipynb`). A pop-up window will ask you to `Select Kernal` --- you should select the Python 3 kernal. The Jupyter Notebook should now open on the right hand side of the page\n",
    "\n",
    "A Jupyter Notebook contains one or more *cells* containing notes or code. To insert a new cell click the `+` button in the upper left. To execute a cell, select it and press `Control+Enter` or click the `Run` button at the top."
   ]
  },
  {
   "cell_type": "markdown",
   "metadata": {},
   "source": [
    "### Syntax rules\n",
    "\n",
    "* Python is case sensitive\n",
    "* Python uses white space as part of the syntax (it's important!)\n",
    "* Variable names should start with a letter (A-Z and a-z) \n",
    "  and can include letters, digits (0-9), and underscores (_)\n",
    "* Comments can be inserted using a hash `#` symbol\n",
    "* Functions must be written with parentheses, even\n",
    "  if there is nothing within them; for example: `len()`"
   ]
  },
  {
   "cell_type": "markdown",
   "metadata": {},
   "source": [
    "### Function calls\n",
    "\n",
    "**Functions perform actions** --- they take some input, called `arguments` and return some\n",
    "output (i.e., a result). Here's a schematic of how a function works:\n",
    "\n",
    "![](Python/PythonIntro/images/function.png)\n",
    "\n",
    "The general form for calling Python functions is"
   ]
  },
  {
   "cell_type": "code",
   "execution_count": null,
   "metadata": {},
   "outputs": [],
   "source": [
    "# function_name(arg1, arg2, arg3, ... argn)"
   ]
  },
  {
   "cell_type": "markdown",
   "metadata": {},
   "source": [
    "The arguments in a function can be objects (data, formulae, expressions, etc.), \n",
    "some of which could be defined by default in the function; these default values may\n",
    "be modified by the user by specifying options."
   ]
  },
  {
   "cell_type": "markdown",
   "metadata": {},
   "source": [
    "### Assignment\n",
    "\n",
    "In Python we can assign a result to an name using the `=` operator."
   ]
  },
  {
   "cell_type": "code",
   "execution_count": null,
   "metadata": {},
   "outputs": [],
   "source": [
    "# name = thing_to_assign\n",
    "x = 10"
   ]
  },
  {
   "cell_type": "markdown",
   "metadata": {},
   "source": [
    "The name on the left of the equals sign is one that we chose. When choosing names, they must:\n",
    "\n",
    "1. start with a *letter*\n",
    "2. use only *letters*, *numbers* and *underscores*"
   ]
  },
  {
   "cell_type": "markdown",
   "metadata": {},
   "source": [
    "### Reading data\n",
    "\n",
    "Reading information from a file is the first step in many projects, so we'll use functions to read data into Python and assign them to a named object. The workshop materials you downloaded earlier include a file named `Alice_in_wonderland.txt` which contains the text of Lewis Carroll's *Alice's Adventures in Wonderland*. We can use the `open()` function to create a file **object** that makes a **connection** to the file:"
   ]
  },
  {
   "cell_type": "code",
   "execution_count": null,
   "metadata": {},
   "outputs": [],
   "source": [
    "alice_file = open(\"Alice_in_wonderland.txt\")"
   ]
  },
  {
   "cell_type": "markdown",
   "metadata": {},
   "source": [
    " The `alice_file` object name we just created does *not* contain the contents of `Alice_in_wonderland.txt`. It is a representation in Python of the *file itself* rather than the *contents* of the file."
   ]
  },
  {
   "cell_type": "markdown",
   "metadata": {},
   "source": [
    "### Object methods\n",
    "\n",
    "The `alice_file` object provides *methods* that we can use to do things with it. Methods are invoked using syntax that looks like `ObjectName.method()`. You can see the methods available for acting on an object by typing the object's name followed by a `.` and pressing the `tab` key. For example, typing `alice_file.` and pressing `tab` will display a list of methods as shown below. \n",
    "\n",
    "![](Python/PythonIntro/images/notebook_file_completion.png).\n",
    "\n",
    "Among the methods we have for doing things with our `alice_file` object is one named `read`. We can use the `help` function to learn more about it."
   ]
  },
  {
   "cell_type": "code",
   "execution_count": null,
   "metadata": {},
   "outputs": [],
   "source": [
    "help(alice_file.read)"
   ]
  },
  {
   "cell_type": "markdown",
   "metadata": {},
   "source": [
    "Since `alice_file.read` looks promising, we will invoke this method and see what it does."
   ]
  },
  {
   "cell_type": "code",
   "execution_count": null,
   "metadata": {},
   "outputs": [],
   "source": [
    "alice_txt = alice_file.read()\n",
    "print(alice_txt[:500]) # the [:500] gets the first 500 character -- more on this later."
   ]
  },
  {
   "cell_type": "markdown",
   "metadata": {},
   "source": [
    "That's all there is to it! We've read the contents of `Alice_in_wonderland.txt` and stored this text in a Python object we named `alice_txt`. Now let's start to explore this object, and learn some more things about Python along the way."
   ]
  },
  {
   "cell_type": "markdown",
   "metadata": {},
   "source": [
    "## Using object methods & lists\n",
    "\n",
    "<div class=\"alert alert-info\">\n",
    "**GOAL: To learn how to use methods and lists to analyze data.** We will do this using the Alice text to count: \n",
    "\n",
    "1.  Words\n",
    "2.  Chapters\n",
    "3.  Paragraphs\n",
    "</div>\n",
    "\n",
    "How many words does the text contain? To answer this question, we can split the text up so there is one element per word, and then count the number of words.\n",
    "\n",
    "### Splitting a string into a list of words\n",
    "\n",
    "How do we figure out how to split strings in Python? We can ask Python what our `alice_txt` object is and what methods it provides. We can ask Python what things are using the `type()` function, like this:"
   ]
  },
  {
   "cell_type": "code",
   "execution_count": null,
   "metadata": {},
   "outputs": [],
   "source": [
    "type(alice_txt)"
   ]
  },
  {
   "cell_type": "markdown",
   "metadata": {},
   "source": [
    "Python tells us that `alice_txt` is of type `str` (i.e., it is a string). We can find out what methods are available for working strings by typing `alice_txt.` and pressing `tab`. We'll see that among the methods is one named `split`, as shown below.\n",
    "\n",
    "![](Python/PythonIntro/images/notebook_string_completion.png) \n",
    "\n",
    "To learn how to use this method we can check the documentation."
   ]
  },
  {
   "cell_type": "code",
   "execution_count": null,
   "metadata": {},
   "outputs": [],
   "source": [
    "help(alice_txt.split)"
   ]
  },
  {
   "cell_type": "markdown",
   "metadata": {},
   "source": [
    "Since the default is to split on whitespace (spaces, newlines, tabs) we can get a reasonable word count simply by calling the split method and counting the number of elements in the result."
   ]
  },
  {
   "cell_type": "code",
   "execution_count": null,
   "metadata": {},
   "outputs": [],
   "source": [
    "alice_words = alice_txt.split() # returns a list\n",
    "type(alice_words)"
   ]
  },
  {
   "cell_type": "markdown",
   "metadata": {},
   "source": [
    "### Working with lists\n",
    "\n",
    "The `split` methods we used to break up the text of *Alice in Wonderland* into words produced a *list*. A lot of the techniques we'll use later to analyze this text also produce lists, so its worth taking a few minutes to learn more about them.\n",
    "\n",
    "Note that the displayed representation of lists and other data structures in Python often closely matches the syntax used to create them. For example, we can create a list using square brackets, just as we see when we print a list.\n",
    "\n",
    "A *list* in Python is used to store a collection of items:"
   ]
  },
  {
   "cell_type": "code",
   "execution_count": null,
   "metadata": {},
   "outputs": [],
   "source": [
    "# create a list\n",
    "y = [1, \"b\", 3, \"D\", 5, 6]"
   ]
  },
  {
   "cell_type": "markdown",
   "metadata": {},
   "source": [
    " As with other types in Python, you can get a list of methods by typing the name of the object followed by a `.` and pressing `tab`.\n",
    "\n",
    "### Extracting subsets from lists\n",
    "\n",
    "Among the things you can do with a list is extract subsets of items using **bracket indexing notation**. This is useful in many situations, including the current one where we want to inspect a long list without printing out the whole thing.\n",
    "\n",
    "The examples below show how indexing works in Python. First using pseudocode:"
   ]
  },
  {
   "cell_type": "code",
   "execution_count": null,
   "metadata": {
    "eval": false
   },
   "outputs": [],
   "source": [
    "# syntax\n",
    "# object[ start : end : by ]\n",
    "\n",
    "# defaults\n",
    "# object[ 0 : end : 1 ]"
   ]
  },
  {
   "cell_type": "markdown",
   "metadata": {},
   "source": [
    "Then using a real list:"
   ]
  },
  {
   "cell_type": "code",
   "execution_count": null,
   "metadata": {},
   "outputs": [],
   "source": [
    "# create a list\n",
    "y = [1, \"b\", 3, \"D\", 5, 6]\n",
    "\n",
    "y[0] # returns first element - the number 1 (yes, the index counts from zero!)\n",
    "y[1] # returns second element - the letter \"b\"\n",
    "y[ :3] # returns a list with only the first 3 elements, but index is of length 4 (0 to 3) because last index is excluded\n",
    "y[2:5] # returns a list with elements 3, \"D\", 5\n",
    "y[-1] # returns last element - the number 6 \n",
    "y[-4: ] # returns a list with last 4 elements"
   ]
  },
  {
   "cell_type": "code",
   "execution_count": null,
   "metadata": {},
   "outputs": [],
   "source": [
    "alice_words[11:20] # returns a list with words 11 through 19\n",
    "alice_words[-10: ] # returns a list with the last 10 words"
   ]
  },
  {
   "cell_type": "markdown",
   "metadata": {},
   "source": [
    "### Using sets to count unique items\n",
    "\n",
    "Now that we have a list containing the individual words from *Alice's Adventures in Wonderland*, we can calculate how many words there are in total using the `len()` (length) function:"
   ]
  },
  {
   "cell_type": "code",
   "execution_count": null,
   "metadata": {},
   "outputs": [],
   "source": [
    "len(alice_words) # counts elements in a data structure"
   ]
  },
  {
   "cell_type": "markdown",
   "metadata": {},
   "source": [
    "According to our above computation, there are about 26 thousand total words in the Alice text. But how many *unique* words are there? Python has a special data structure called a *set* that makes it easy to find out. A *set* drops all duplicates, giving a collection of the unique elements. Here's a simple example:"
   ]
  },
  {
   "cell_type": "code",
   "execution_count": null,
   "metadata": {},
   "outputs": [],
   "source": [
    "# set example\n",
    "mySet = {1, 5, 9, 9, 4, 5}\n",
    "len(mySet)"
   ]
  },
  {
   "cell_type": "markdown",
   "metadata": {},
   "source": [
    "We can now use the `set()` function to convert the list of all words (`alice_words`) into a set of *unique* words and then count them:"
   ]
  },
  {
   "cell_type": "code",
   "execution_count": null,
   "metadata": {},
   "outputs": [],
   "source": [
    "len(set(alice_words)) # counts unique elements in a data structure"
   ]
  },
  {
   "cell_type": "markdown",
   "metadata": {},
   "source": [
    "There are 5295 unique words in the text."
   ]
  },
  {
   "cell_type": "markdown",
   "metadata": {
    "lines_to_next_cell": 0
   },
   "source": [
    "### Exercise 0\n",
    "\n",
    "**Reading text from a file & splitting**\n",
    "\n",
    "*Alice's Adventures in Wonderland* is full of memorable characters. The main characters from the story are listed, one-per-line, in the file named `Characters.txt`.\n",
    "\n",
    "NOTE: we will not always explicitly demonstrate everything you need to know in order to complete an exercise. Instead we focus on teaching you how to discover available methods and how use the help function to learn how to use them. It is expected that you will spend some time during the exercises looking for appropriate methods and perhaps reading documentation.\n",
    "\n",
    "1. Open the `Characters.txt` file and read its contents."
   ]
  },
  {
   "cell_type": "code",
   "execution_count": null,
   "metadata": {},
   "outputs": [],
   "source": [
    "##"
   ]
  },
  {
   "cell_type": "markdown",
   "metadata": {
    "lines_to_next_cell": 0
   },
   "source": [
    "2. Split text on newlines to produce a list with one element per line. Store the result as `alice_characters`. HINT: you can split on newlines using the `\\n` separator."
   ]
  },
  {
   "cell_type": "code",
   "execution_count": null,
   "metadata": {},
   "outputs": [],
   "source": [
    "##"
   ]
  },
  {
   "cell_type": "markdown",
   "metadata": {},
   "source": [
    "<details>\n",
    "  <summary><span style=\"color:red\"><b>Click for Exercise 0 Solution</b></span></summary>\n",
    "  <div class=\"alert alert-danger\">"
   ]
  },
  {
   "cell_type": "code",
   "execution_count": null,
   "metadata": {
    "lines_to_next_cell": 0
   },
   "outputs": [],
   "source": [
    "# 1. Open the Characters.txt file and read its contents.\n",
    "\n",
    "characters_file = open(\"Characters.txt\")\n",
    "characters_txt = characters_file.read()\n",
    "\n",
    "# 2. Split text on newlines to produce a list with one element per line. \n",
    "# Store the result as \"alice_characters\".\n",
    "\n",
    "alice_characters = characters_txt.split(sep=\"\\n\")\n",
    "alice_characters"
   ]
  },
  {
   "cell_type": "markdown",
   "metadata": {},
   "source": [
    "</div>\n",
    "</details>"
   ]
  },
  {
   "cell_type": "markdown",
   "metadata": {},
   "source": [
    "### Control flow\n",
    "\n",
    "Sometimes we may want to control the flow of code in an analysis using **choices**,\n",
    "such as `if` and `else` statements, which allow you to run different code depending on the input.\n",
    "The basic form is:\n",
    "\n",
    "    ```{python, eval=FALSE}\n",
    "    if (condition) true_action else false_action\n",
    "    ```\n",
    "\n",
    "    If `condition` is `TRUE`, `true_action` is evaluated; if `condition` is `FALSE`,\n",
    "    the optional `false_action` is evaluated.\n",
    "\n",
    "The conditions that are evaluated use **logical and relational operators** to determine equivalence or make some other relational comparisons."
   ]
  },
  {
   "cell_type": "markdown",
   "metadata": {},
   "source": [
    "### Logical & relational operators\n",
    "\n",
    "Here's a table of commonly used relational operators:\n",
    "\n",
    " | Operator  | Meaning                   | \n",
    " |:----------|:--------------------------| \n",
    " | `==`      | equal to                  | \n",
    " | `!=`      | not equal to              | \n",
    " | `>`       | greater than              | \n",
    " | `>=`      | greater than or equal to  | \n",
    " | `<`       | less than                 | \n",
    " | `<=`      | less than or equal to     |  \n",
    "\n",
    "These relational operators may be combined with logical operators, such as `and` or `or`, as we'll see below."
   ]
  },
  {
   "cell_type": "markdown",
   "metadata": {},
   "source": [
    "### Counting list elements\n",
    "\n",
    "Now that we know how to split a string and how to work with the resulting list, we can split on chapter markers to count the number of chapters. All we need to do is specify the string to split on. Since each chapter is marked with the string `'CHAPTER '` followed by the chapter number, we can split the text up into chapters using this as the separator."
   ]
  },
  {
   "cell_type": "code",
   "execution_count": null,
   "metadata": {},
   "outputs": [],
   "source": [
    "alice_chapters = alice_txt.split(\"CHAPTER \")\n",
    "len(alice_chapters)"
   ]
  },
  {
   "cell_type": "markdown",
   "metadata": {},
   "source": [
    "Since the first element contains the material *before* the first chapter, this tells us there are twelve chapters in the book.\n",
    "\n",
    "We can also count the number of times the \"Bunny\" and \"Duck\" characters appear in a given Chapter, say Chapter 2:"
   ]
  },
  {
   "cell_type": "code",
   "execution_count": null,
   "metadata": {},
   "outputs": [],
   "source": [
    "bunny_count_ch2 = alice_chapters[2].count(\"Bunny\")\n",
    "print(bunny_count_ch2)\n",
    "\n",
    "duck_count_ch2 = alice_chapters[2].count(\"Duck\")\n",
    "print(duck_count_ch2)"
   ]
  },
  {
   "cell_type": "markdown",
   "metadata": {},
   "source": [
    "By combining choice statements with logical and/or relational operators, we can then determine which of these two characters\n",
    "appears more often in Chapter 2:"
   ]
  },
  {
   "cell_type": "code",
   "execution_count": null,
   "metadata": {},
   "outputs": [],
   "source": [
    "if bunny_count_ch2 < duck_count_ch2:\n",
    "    print(\"Bunny count is less than Duck count in Chapter II.\")\n",
    "elif bunny_count_ch2 > duck_count_ch2:\n",
    "    print(\"Bunny count is larger than Duck count in Chapter II.\")\n",
    "else:\n",
    "    print(\"Bunny count is equal to Duck count in Chapter II.\")"
   ]
  },
  {
   "cell_type": "markdown",
   "metadata": {},
   "source": [
    "We can count paragraphs in a similar way to chapters. Paragraphs are indicated by a blank line, i.e., two newlines in a row. When working with strings we can represent newlines with `\\n`. Paragraphs are indicated by two new lines, and so our basic paragraph separator is `\\n\\n`. We can see this separator by looking at the content."
   ]
  },
  {
   "cell_type": "code",
   "execution_count": null,
   "metadata": {},
   "outputs": [],
   "source": [
    "print(alice_txt[:500]) # explicit printing --- formats text nicely\n",
    "\n",
    "alice_txt[:500] # returns content without printing it"
   ]
  },
  {
   "cell_type": "code",
   "execution_count": null,
   "metadata": {},
   "outputs": [],
   "source": [
    "alice_paragraphs = alice_txt.split(\"\\n\\n\")"
   ]
  },
  {
   "cell_type": "markdown",
   "metadata": {},
   "source": [
    "Before counting the number of paragraphs, I want to inspect the result to see if it looks correct:"
   ]
  },
  {
   "cell_type": "code",
   "execution_count": null,
   "metadata": {},
   "outputs": [],
   "source": [
    "print(alice_paragraphs[0], \"\\n==========\")\n",
    "print(alice_paragraphs[1], \"\\n==========\")\n",
    "print(alice_paragraphs[2], \"\\n==========\")"
   ]
  },
  {
   "cell_type": "markdown",
   "metadata": {},
   "source": [
    "We're counting the title, author, and chapter lines as paragraphs, but this will do for a rough count."
   ]
  },
  {
   "cell_type": "code",
   "execution_count": null,
   "metadata": {},
   "outputs": [],
   "source": [
    "len(alice_paragraphs)"
   ]
  },
  {
   "cell_type": "markdown",
   "metadata": {},
   "source": [
    "Now let's use a logical operator to find out if \"Alice\" or \"Eaglet\" appear in Chapter 10:"
   ]
  },
  {
   "cell_type": "code",
   "execution_count": null,
   "metadata": {},
   "outputs": [],
   "source": [
    "alice_eaglet_exist = \"Alice\" in alice_paragraphs[10] or \"Eaglet\" in alice_paragraphs[10]\n",
    "alice_eaglet_exist"
   ]
  },
  {
   "cell_type": "markdown",
   "metadata": {
    "lines_to_next_cell": 0
   },
   "source": [
    "### Exercise 1\n",
    "\n",
    "**Count the number of main characters**\n",
    "\n",
    "So far we've learned that there are 12 chapters, around 830 paragraphs, and about 26 thousand words in *Alice's Adventures in Wonderland*. Along the way we've also learned how to open a file and read its contents, split strings, calculate the length of objects, discover methods for string and list objects, and index/subset lists in Python. Now it is time for you to put these skills to use to learn something about the main characters in the story.\n",
    "\n",
    "1. Count the number of main characters in the story (i.e., get the length of the list you created in previous exercise)."
   ]
  },
  {
   "cell_type": "code",
   "execution_count": null,
   "metadata": {},
   "outputs": [],
   "source": [
    "##"
   ]
  },
  {
   "cell_type": "markdown",
   "metadata": {
    "lines_to_next_cell": 0
   },
   "source": [
    "2. Extract and print just the first character from the list you created in the previous exercise."
   ]
  },
  {
   "cell_type": "code",
   "execution_count": null,
   "metadata": {},
   "outputs": [],
   "source": [
    "##"
   ]
  },
  {
   "cell_type": "markdown",
   "metadata": {
    "lines_to_next_cell": 0
   },
   "source": [
    "3. Test whether the length of the 3rd and 8th character's names are equal. Test whether the length of\n",
    "   the 3rd character's name is greater than or equal to the length of the 6th character's name. Now test\n",
    "   whether EITHER of the above conditions are true. HINT: use the `len()` function."
   ]
  },
  {
   "cell_type": "code",
   "execution_count": null,
   "metadata": {},
   "outputs": [],
   "source": [
    "##"
   ]
  },
  {
   "cell_type": "markdown",
   "metadata": {
    "lines_to_next_cell": 0
   },
   "source": [
    "4. (BONUS, optional): Sort the list you created in step 2 alphabetically,\n",
    "    and then extract the last element."
   ]
  },
  {
   "cell_type": "code",
   "execution_count": null,
   "metadata": {},
   "outputs": [],
   "source": [
    "##"
   ]
  },
  {
   "cell_type": "markdown",
   "metadata": {},
   "source": [
    "<details>\n",
    "  <summary><span style=\"color:red\"><b>Click for Exercise 1 Solution</b></span></summary>\n",
    "  <div class=\"alert alert-danger\">"
   ]
  },
  {
   "cell_type": "code",
   "execution_count": null,
   "metadata": {
    "lines_to_next_cell": 0
   },
   "outputs": [],
   "source": [
    "# 1. Count the number of main characters in the story (i.e., get the length of the list you created in previous exercise).\n",
    "\n",
    "len(alice_characters)\n",
    "\n",
    "# 2. Extract and print just the first character from the list you created in the previous exercise.\n",
    "\n",
    "print(alice_characters[0])\n",
    "\n",
    "# 3. Test whether the length of the 3rd and 8th character's names are equal. Test whether the length of\n",
    "# the 3rd character's name is greater than or equal to the length of the 6th character's name. Now test\n",
    "# whether EITHER of the above conditions are true. HINT: use the `len()` function.\n",
    "\n",
    "len(alice_characters[2]) == len(alice_characters[7]) or len(alice_characters[2]) >= len(alice_characters[5])\n",
    "\n",
    "\n",
    "# 4. (BONUS, optional): Sort the list you created in step 2 alphabetically,\n",
    "# and then extract the last element.\n",
    "\n",
    "alice_characters.sort()\n",
    "alice_characters[-1]"
   ]
  },
  {
   "cell_type": "markdown",
   "metadata": {},
   "source": [
    "</div>\n",
    "</details>"
   ]
  },
  {
   "cell_type": "markdown",
   "metadata": {},
   "source": [
    "## Iterating over collections of data\n",
    "\n",
    "<div class=\"alert alert-info\">\n",
    "**GOAL: To learn how to automate repetitive tasks by iterating over collections of data.** We will do this using the Alice text to count:\n",
    "\n",
    "1.  Words nested within paragraphs\n",
    "2.  Paragraphs nested within chapters\n",
    "</div>\n",
    "\n",
    "This far our analysis has treated the text as a \"flat\" data structure. For example, when we counted words we just counted words in the whole document, rather than counting the number of words in each chapter. If we want to treat our document as a nested structure, with words forming sentences, sentences forming paragraphs, paragraphs forming chapters, and chapters forming the book, we need to learn some additional tools. Specifically, we need to learn how to iterate over lists (or other collections) and do things with each element in a collection.\n",
    "\n",
    "There are several ways to iterate in Python, of which we will focus on *for loops*. \n",
    "\n",
    "### Iterating over lists using for-loops\n",
    "\n",
    "A *for loop* is a way of cycling through the elements of a collection and doing something with each one. The for loop logic is:\n",
    "\n",
    "<center>\n",
    "![](Python/PythonIntro/images/for_loop_pic_small.png)\n",
    "</center>\n",
    "\n",
    "The for loop syntax is:"
   ]
  },
  {
   "cell_type": "code",
   "execution_count": null,
   "metadata": {
    "eval": false
   },
   "outputs": [],
   "source": [
    "for <thing> in <collection>:\n",
    "    do stuff with <thing>"
   ]
  },
  {
   "cell_type": "markdown",
   "metadata": {},
   "source": [
    "<center>\n",
    "![](Python/PythonIntro/images/python_for_loop_small.png)\n",
    "</center>\n",
    "\n",
    "Notice that:\n",
    "\n",
    "1. **the body of the for-loop is indented**. This is important, because it is this indentation that defines the *body* of the loop --- the place where things are done. \n",
    "2. **White space matters in Python!**\n",
    "\n",
    "A simple example:"
   ]
  },
  {
   "cell_type": "code",
   "execution_count": null,
   "metadata": {},
   "outputs": [],
   "source": [
    "for i in range(10):\n",
    "    print(i)\n",
    "print('DONE.')"
   ]
  },
  {
   "cell_type": "markdown",
   "metadata": {},
   "source": [
    "Notice that \"DONE.\" is only printed once, since `print('DONE.')` is not indented and is therefore outside of the body of the loop. \n",
    "\n",
    "As a simple example using the Alice text, we can cycle through the first 6 paragraphs and print each one. Cycling through with a loop makes it easy to insert a separator between the paragraphs, making it much clearer to read the output:"
   ]
  },
  {
   "cell_type": "code",
   "execution_count": null,
   "metadata": {},
   "outputs": [],
   "source": [
    "for paragraph in alice_paragraphs[:6]:\n",
    "    print(paragraph)\n",
    "    print('==================================')\n",
    "print('DONE.')"
   ]
  },
  {
   "cell_type": "markdown",
   "metadata": {},
   "source": [
    "Loops in Python are great because the syntax is relatively simple, and because they are very powerful. Inside of the body of a loop you can use all the tools you use elsewhere in Python.\n",
    "\n",
    "Here is one more example of a loop, this time iterating over all the chapters and calculating the number of paragraphs in each chapter."
   ]
  },
  {
   "cell_type": "code",
   "execution_count": null,
   "metadata": {},
   "outputs": [],
   "source": [
    "for chapter in alice_chapters[1:]:\n",
    "    paragraphs = chapter.split(\"\\n\\n\")\n",
    "    print(len(paragraphs))"
   ]
  },
  {
   "cell_type": "markdown",
   "metadata": {},
   "source": [
    "### Organizing results in dictionaries\n",
    "\n",
    "It's often useful to store separate pieces of data that are related to one another in a `dict` (i.e., \"dictionary\"), which is designed to store key-value pairs. For example, we can calculate the number of times \"Alice\" is mentioned per chapter and associate each count with the chapter title it corresponds to.\n",
    "\n",
    "The dictionary structure looks like:"
   ]
  },
  {
   "cell_type": "code",
   "execution_count": null,
   "metadata": {
    "eval": false
   },
   "outputs": [],
   "source": [
    "# mydict = {key1:value1, key2:value2, key3:value3}"
   ]
  },
  {
   "cell_type": "markdown",
   "metadata": {},
   "source": [
    "A simple example:"
   ]
  },
  {
   "cell_type": "code",
   "execution_count": null,
   "metadata": {},
   "outputs": [],
   "source": [
    "mydict = {\"apple\":5, \"pear\":6, \"grape\":10}\n",
    "print(mydict)"
   ]
  },
  {
   "cell_type": "code",
   "execution_count": null,
   "metadata": {},
   "outputs": [],
   "source": [
    "# compare the above dict to a list\n",
    "mylist =[5, 6, 10]\n",
    "print(mylist)"
   ]
  },
  {
   "cell_type": "markdown",
   "metadata": {},
   "source": [
    "To associate chapter titles with \"Alice\" counts, we will first need to learn how to **append** elements to a list:"
   ]
  },
  {
   "cell_type": "code",
   "execution_count": null,
   "metadata": {},
   "outputs": [],
   "source": [
    "container = [] # a list\n",
    "\n",
    "for i in range(10):\n",
    "    container.append(i) # append elements to the list\n",
    "\n",
    "print(container)    "
   ]
  },
  {
   "cell_type": "markdown",
   "metadata": {},
   "source": [
    "Now, with the Alice text, first we can iterate over each chapter and grab just the first line (that is, the chapter titles). These will become our **keys**."
   ]
  },
  {
   "cell_type": "code",
   "execution_count": null,
   "metadata": {},
   "outputs": [],
   "source": [
    "chapter_titles = []\n",
    "\n",
    "for chapter in alice_chapters[1:]:\n",
    "    chapter_titles.append(chapter.split(sep=\"\\n\")[0])\n",
    "\n",
    "print(chapter_titles)"
   ]
  },
  {
   "cell_type": "markdown",
   "metadata": {},
   "source": [
    "Next, we can iterate over each chapter and count the number of times \"Alice\" was mentioned. These will become our **values**."
   ]
  },
  {
   "cell_type": "code",
   "execution_count": null,
   "metadata": {},
   "outputs": [],
   "source": [
    "chapter_Alice = []\n",
    "\n",
    "for chapter in alice_chapters[1:]:\n",
    "    chapter_Alice.append(chapter.count(\"Alice\"))"
   ]
  },
  {
   "cell_type": "markdown",
   "metadata": {},
   "source": [
    "Finally we can combine the chapter titles (**keys**) and \"Alice\" counts (**values**) and convert them to a dictionary."
   ]
  },
  {
   "cell_type": "code",
   "execution_count": null,
   "metadata": {
    "lines_to_next_cell": 2
   },
   "outputs": [],
   "source": [
    "# combine titles and counts\n",
    "mydict = dict(zip(chapter_titles, chapter_Alice))\n",
    "\n",
    "print(mydict)\n",
    "\n",
    "help(zip)         "
   ]
  },
  {
   "cell_type": "markdown",
   "metadata": {
    "lines_to_next_cell": 0
   },
   "source": [
    "### Exercise 2\n",
    "\n",
    "**Iterating & counting things**\n",
    "\n",
    "Now that we know how to iterate using for-loops, the possibilities really start to open up. For example, we can use these techniques to count the number of times each character appears in the story.\n",
    "\n",
    "1. Make sure you have both the text and the list of characters.\n",
    "\n",
    "Open and read both \"Alice_in_wonderland.txt\" and\n",
    "\"Characters.txt\" if you have not already done so."
   ]
  },
  {
   "cell_type": "code",
   "execution_count": null,
   "metadata": {},
   "outputs": [],
   "source": [
    "##"
   ]
  },
  {
   "cell_type": "markdown",
   "metadata": {
    "lines_to_next_cell": 0
   },
   "source": [
    "2. Which chapter has the most words?\n",
    "\n",
    "Split the text into chapters (i.e., split on \"CHAPTER \") and use a for-loop to iterate over the chapters.\n",
    "For each chapter, split it into words and calculate the length."
   ]
  },
  {
   "cell_type": "code",
   "execution_count": null,
   "metadata": {},
   "outputs": [],
   "source": [
    "##"
   ]
  },
  {
   "cell_type": "markdown",
   "metadata": {
    "lines_to_next_cell": 0
   },
   "source": [
    "3. How many times is each character mentioned in the text?\n",
    "\n",
    "Iterate over the list of characters using a for-loop. \n",
    "For each character, call the count method with that character as the argument."
   ]
  },
  {
   "cell_type": "code",
   "execution_count": null,
   "metadata": {},
   "outputs": [],
   "source": [
    "##"
   ]
  },
  {
   "cell_type": "markdown",
   "metadata": {
    "lines_to_next_cell": 0
   },
   "source": [
    "4. (BONUS, optional): Put the character counts computed \n",
    "   above in a dictionary with character names as the keys and \n",
    "   counts as the values."
   ]
  },
  {
   "cell_type": "code",
   "execution_count": null,
   "metadata": {},
   "outputs": [],
   "source": [
    "##"
   ]
  },
  {
   "cell_type": "markdown",
   "metadata": {},
   "source": [
    "<details>\n",
    "  <summary><span style=\"color:red\"><b>Click for Exercise 2 Solution</b></span></summary>\n",
    "  <div class=\"alert alert-danger\">"
   ]
  },
  {
   "cell_type": "code",
   "execution_count": null,
   "metadata": {
    "lines_to_next_cell": 0
   },
   "outputs": [],
   "source": [
    "# 1. Make sure you have both the text and the list of characters.\n",
    "# Open and read both \"Alice_in_wonderland.txt\" and \"Characters.txt\" if you have not already done so.\n",
    "\n",
    "characters_txt = open(\"Characters.txt\").read()\n",
    "alice_txt = open(\"Alice_in_wonderland.txt\").read()\n",
    "\n",
    "# 2. Which chapter has the most words?\n",
    "# Split the text into chapters (i.e., split on \"CHAPTER \") and use a for-loop to iterate over the chapters.\n",
    "# For each chapter, split it into words and calculate the length.\n",
    "\n",
    "words_per_chapter = []\n",
    "for chapter in alice_chapters:\n",
    "    words_per_chapter.append(len(chapter.split()))\n",
    "words_per_chapter\n",
    "\n",
    "# 3. How many times is each character mentioned in the text?\n",
    "# Iterate over the list of characters using a for-loop. \n",
    "# For each character, call the count method with that character as the argument.\n",
    "\n",
    "num_per_character = []\n",
    "for character in characters_txt.split(sep=\"\\n\"):\n",
    "    num_per_character.append(alice_txt.count(character))\n",
    "num_per_character\n",
    "\n",
    "# 4. (BONUS, optional): Put the character counts computed above in a \n",
    "# dictionary with character names as the keys and counts as the values.\n",
    "\n",
    "characters = characters_txt.split(sep=\"\\n\")\n",
    "dict(zip(characters, num_per_character))"
   ]
  },
  {
   "cell_type": "markdown",
   "metadata": {},
   "source": [
    "</div>\n",
    "</details>"
   ]
  },
  {
   "cell_type": "markdown",
   "metadata": {},
   "source": [
    "## Importing packages\n",
    "\n",
    "<div class=\"alert alert-info\">\n",
    "**GOAL: To learn how to expand Python's functionality by importing packages.**  \n",
    "\n",
    "1.  Import `numpy`\n",
    "2.  Calculate simple statistics\n",
    "</div>\n",
    "\n",
    "Now that we know how to iterate over lists and calculate numbers for each element, we may wish to do some simple math using these numbers. For example, we may want to calculate the mean and standard deviation of the distribution of the number of paragraphs in each chapter. Python has a handful of math functions built-in (e.g., `min()` and `max()`) but built-in math support is pretty limited.\n",
    "\n",
    "When you find that something isn't available in Python itself, its time to look for a package that does it. Although it is somewhat overkill for simply calculating a mean we're going to use a popular package called `numpy` for this. The `numpy` package is included in the Anaconda Python distribution we are using, so we don't need to install it separately.\n",
    "\n",
    "To use `numpy` or other packages, you must first import them. "
   ]
  },
  {
   "cell_type": "code",
   "execution_count": null,
   "metadata": {
    "eval": false
   },
   "outputs": [],
   "source": [
    "# import <package-name>"
   ]
  },
  {
   "cell_type": "markdown",
   "metadata": {},
   "source": [
    "We can import `numpy` as follows:"
   ]
  },
  {
   "cell_type": "code",
   "execution_count": null,
   "metadata": {},
   "outputs": [],
   "source": [
    "import numpy"
   ]
  },
  {
   "cell_type": "markdown",
   "metadata": {},
   "source": [
    "To use functions from a package, we can prefix the function with the package name, separated by a period:"
   ]
  },
  {
   "cell_type": "code",
   "execution_count": null,
   "metadata": {
    "eval": false
   },
   "outputs": [],
   "source": [
    "# <package-name>.<function_name>()"
   ]
  },
  {
   "cell_type": "markdown",
   "metadata": {},
   "source": [
    "The `numpy` package is very popular and includes a lot of useful functions. For example, we can use it to calculate means and standard deviations:"
   ]
  },
  {
   "cell_type": "code",
   "execution_count": null,
   "metadata": {
    "lines_to_next_cell": 2
   },
   "outputs": [],
   "source": [
    "print(numpy.mean(chapter_Alice))\n",
    "print(numpy.std(chapter_Alice))"
   ]
  },
  {
   "cell_type": "markdown",
   "metadata": {},
   "source": [
    "## Wrap-up\n",
    "\n",
    "### Feedback\n",
    "\n",
    "These workshops are a work in progress, please provide any feedback to: help@iq.harvard.edu\n",
    "\n",
    "### Resources\n",
    "\n",
    "* IQSS \n",
    "    + Workshops: <https://dss.iq.harvard.edu/workshop-materials>\n",
    "    + Data Science Services: <https://dss.iq.harvard.edu/>\n",
    "    + Research Computing Environment: <https://iqss.github.io/dss-rce/>\n",
    "\n",
    "* HBS\n",
    "    + Research Computing Services workshops: <https://training.rcs.hbs.org/workshops>\n",
    "    + Other HBS RCS resources: <https://training.rcs.hbs.org/workshop-materials>\n",
    "    + RCS consulting email: <mailto:research@hbs.edu>\n",
    "    \n",
    "* Graphics \n",
    "    + matplotlib: <https://matplotlib.org/> \n",
    "    + seaborn: <https://seaborn.pydata.org/>\n",
    "    + plotly: <https://plot.ly/python/>\n",
    "\n",
    "* Quantitative Data Analysis \n",
    "    + numpy: <http://www.numpy.org/>\n",
    "    + scipy: <https://www.scipy.org/>\n",
    "    + pandas: <https://pandas.pydata.org/> \n",
    "    + scikit-learn: <http://scikit-learn.org/stable/>\n",
    "    + statsmodels: <http://www.statsmodels.org/stable/> \n",
    "\n",
    "* Text analysis \n",
    "    + textblob: <https://textblob.readthedocs.io/en/dev/>\n",
    "    + nltk: <http://www.nltk.org/>\n",
    "    + Gensim: <https://radimrehurek.com/gensim/>\n",
    "\n",
    "* Webscraping \n",
    "    + scrapy: <https://scrapy.org/>\n",
    "    + requests: <http://docs.python-requests.org/en/master/>\n",
    "    + lxml: <https://lxml.de/>\n",
    "    + BeautifulSoup: <https://www.crummy.com/software/BeautifulSoup/>\n",
    "\n",
    "* Social Network Analysis \n",
    "    + networkx: <https://networkx.github.io/>\n",
    "    + graph-tool: <https://graph-tool.skewed.de/>\n"
   ]
  }
 ],
 "metadata": {
  "jupytext": {
   "cell_metadata_filter": "tags,eval,-all",
   "main_language": "python",
   "notebook_metadata_filter": "-all"
  }
 },
 "nbformat": 4,
 "nbformat_minor": 2
}
