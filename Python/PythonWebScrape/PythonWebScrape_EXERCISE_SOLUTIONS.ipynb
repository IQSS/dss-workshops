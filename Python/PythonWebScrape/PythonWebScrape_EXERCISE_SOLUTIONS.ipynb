{
 "cells": [
  {
   "cell_type": "markdown",
   "metadata": {
    "lines_to_next_cell": 0
   },
   "source": [
    "## Exercise solutions\n",
    "\n",
    "### Ex 0: prototype\n",
    "\n",
    "Question #1: "
   ]
  },
  {
   "cell_type": "code",
   "execution_count": null,
   "metadata": {
    "language": "Python"
   },
   "outputs": [],
   "source": [
    "museum_domain = \"https://www.harvardartmuseums.org\"\n",
    "exhibit_path = \"search/load_next\"\n",
    "exhibit_url = museum_domain + \"/\" + exhibit_path\n",
    "print(exhibit_url)"
   ]
  },
  {
   "cell_type": "markdown",
   "metadata": {
    "lines_to_next_cell": 0
   },
   "source": [
    "Question #2:"
   ]
  },
  {
   "cell_type": "code",
   "execution_count": null,
   "metadata": {
    "language": "Python"
   },
   "outputs": [],
   "source": [
    "import requests\n",
    "from pprint import pprint as print \n",
    "exhibit1 = requests.get(exhibit_url, params = {'type': 'past-exhibition', 'page': 1})\n",
    "print(exhibit1.headers[\"Content-Type\"])\n",
    "exhibit1 = exhibit1.json()\n",
    "print(exhibit1)"
   ]
  },
  {
   "cell_type": "markdown",
   "metadata": {
    "lines_to_next_cell": 0
   },
   "source": [
    "Questions #3+4 (loop solution):"
   ]
  },
  {
   "cell_type": "code",
   "execution_count": null,
   "metadata": {
    "language": "Python"
   },
   "outputs": [],
   "source": [
    "firstFivePages = []\n",
    "for page in range(1, 6):\n",
    "    records_per_page = requests.get(exhibit_url, \\\n",
    "        params = {'type': 'past-exhibition', 'page': page}).json()['records']\n",
    "    firstFivePages.extend(records_per_page)\n",
    "firstFivePages_records = pd.DataFrame.from_records(firstFivePages)\n",
    "print(firstFivePages_records)"
   ]
  },
  {
   "cell_type": "markdown",
   "metadata": {
    "lines_to_next_cell": 0
   },
   "source": [
    "Questions #3+4 (list comprehension solution):"
   ]
  },
  {
   "cell_type": "code",
   "execution_count": null,
   "metadata": {
    "language": "Python"
   },
   "outputs": [],
   "source": [
    "first5Pages = [requests.get(exhibit_url, \\\n",
    "    params = {'type': 'past-exhibition', 'page': page}).json()['records'] for page in range(1, 6)]\n",
    "from itertools import chain\n",
    "first5Pages = list(chain.from_iterable(first5Pages))\n",
    "import pandas as pd\n",
    "first5Pages_records = pd.DataFrame.from_records(first5Pages)\n",
    "print(first5Pages_records)"
   ]
  },
  {
   "cell_type": "markdown",
   "metadata": {
    "lines_to_next_cell": 0
   },
   "source": [
    "### Ex 1: prototype\n",
    "\n",
    "Question #2:"
   ]
  },
  {
   "cell_type": "code",
   "execution_count": null,
   "metadata": {
    "language": "Python"
   },
   "outputs": [],
   "source": [
    "from lxml import html\n",
    "floor_plan = requests.get('https://www.harvardartmuseums.org/visit/floor-plan')\n",
    "floor_plan_html = html.fromstring(floor_plan.text)"
   ]
  },
  {
   "cell_type": "markdown",
   "metadata": {
    "lines_to_next_cell": 0
   },
   "source": [
    "Question #3:"
   ]
  },
  {
   "cell_type": "code",
   "execution_count": null,
   "metadata": {
    "language": "Python"
   },
   "outputs": [],
   "source": [
    "level_one = floor_plan_html.xpath('/html/body/main/section/ul/li[5]/div[2]/ul')[0]\n",
    "print(type(level_one))\n",
    "print(len(level_one))"
   ]
  },
  {
   "cell_type": "code",
   "execution_count": null,
   "metadata": {
    "language": "Python"
   },
   "outputs": [],
   "source": [
    "level_one_facilities = floor_plan_html.xpath('/html/body/main/section/ul/li[5]/div[2]/ul/li')\n",
    "print(len(level_one_facilities))"
   ]
  },
  {
   "cell_type": "code",
   "execution_count": null,
   "metadata": {
    "language": "Python"
   },
   "outputs": [],
   "source": [
    "print([facility.text_content() for facility in level_one_facilities])"
   ]
  },
  {
   "cell_type": "markdown",
   "metadata": {
    "lines_to_next_cell": 0
   },
   "source": [
    "Question #4:"
   ]
  },
  {
   "cell_type": "code",
   "execution_count": null,
   "metadata": {
    "language": "Python"
   },
   "outputs": [],
   "source": [
    "all_levels = floor_plan_html.xpath('/html/body/main/section/ul/li')\n",
    "print(len(all_levels))"
   ]
  },
  {
   "cell_type": "code",
   "execution_count": null,
   "metadata": {
    "language": "Python",
    "lines_to_next_cell": 0
   },
   "outputs": [],
   "source": [
    "all_levels_facilities = []\n",
    "for level in all_levels:\n",
    "    level_facilities = []\n",
    "    level_facilities_collection = level.xpath('div[2]/ul/li')\n",
    "    for level_facility in level_facilities_collection:\n",
    "        level_facilities.append(level_facility.text_content())\n",
    "    all_levels_facilities.append(level_facilities)\n",
    "print(all_levels_facilities)"
   ]
  }
 ],
 "metadata": {
  "jupytext": {
   "cell_metadata_filter": "language,tags,eval,results,-all",
   "main_language": "python",
   "notebook_metadata_filter": "-all"
  },
  "kernelspec": {
   "display_name": "Python 3",
   "language": "python",
   "name": "python3"
  },
  "language_info": {
   "codemirror_mode": {
    "name": "ipython",
    "version": 3
   },
   "file_extension": ".py",
   "mimetype": "text/x-python",
   "name": "python",
   "nbconvert_exporter": "python",
   "pygments_lexer": "ipython3",
   "version": "3.7.5"
  }
 },
 "nbformat": 4,
 "nbformat_minor": 4
}
