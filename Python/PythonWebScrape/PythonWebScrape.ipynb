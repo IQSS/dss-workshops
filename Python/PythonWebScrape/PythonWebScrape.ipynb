{
 "cells": [
  {
   "cell_type": "markdown",
   "metadata": {
    "lines_to_next_cell": 0
   },
   "source": []
  },
  {
   "cell_type": "code",
   "execution_count": null,
   "metadata": {
    "eval": true,
    "hide_input": true,
    "results": false
   },
   "outputs": [],
   "source": [
    "%%R\n",
    "knitr::opts_chunk$set(eval=FALSE, results=FALSE, message=FALSE, warning=FALSE, error=FALSE)"
   ]
  },
  {
   "cell_type": "markdown",
   "metadata": {},
   "source": [
    "# Python Web-Scraping\n",
    "\n",
    "**Topics**\n",
    "\n",
    "* Web basics\n",
    "* Making web requests\n",
    "* Inspecting web sites\n",
    "* Retrieving web data\n",
    "* Using Xpaths to retrieve `html` content\n",
    "* Parsing `html` content\n",
    "* Cleaning and storing text from `html`"
   ]
  },
  {
   "cell_type": "markdown",
   "metadata": {},
   "source": [
    "## Setup"
   ]
  },
  {
   "cell_type": "code",
   "execution_count": null,
   "metadata": {
    "hide_input": true,
    "results": false
   },
   "outputs": [],
   "source": [
    "## This sets some printing options\n",
    "## that make output look nicer.\n",
    "from pprint import pprint as print\n",
    "import pandas as pd\n",
    "pd.set_option('display.width', 133)\n",
    "pd.set_option('display.max_colwidth', 30)\n",
    "pd.set_option('display.max_columns', 5)"
   ]
  },
  {
   "cell_type": "markdown",
   "metadata": {},
   "source": [
    "### Software & Materials\n",
    "\n",
    "####  Install the Anaconda Python distribution\n",
    "If using your own computer please install the Anaconda Python\n",
    "distribution from\n",
    "[https://www.anaconda.com/download/](https://www.anaconda.com/download/).\n",
    "(Note that Python version $\\leq$ 3.0 differs considerably from more\n",
    "recent releases. For this workshop you will need version $\\geq$ 3.6.x)\n",
    "\n",
    "Accepting the defaults proposed by the Anaconda installer is generally\n",
    "recommended.\n",
    "\n",
    "#### Workshop notes\n",
    "\n",
    "* Download class materials at <https://github.com/IQSS/dss-workshops-redux/raw/master/Python/PythonWebScrape.zip>\n",
    "* Extract materials from the zipped directory `PythonWebScrape.zip` (Right-click => Extract All on Windows, double-click on Mac) and move them to your desktop!\n",
    "\n",
    "Start the `Jupyter Notebook` application and open the\n",
    "`PythonWebScrape.ipynb` file in the `PythonWebScrape` folder you\n",
    "downloaded previously. \n",
    "\n",
    "### Goals\n",
    "In this workshop you will\n",
    "\n",
    "* learn basic web scraping principles and techniques,\n",
    "* learn how to use the `requests` package in Python,\n",
    "* practice making requests and manipulating responses from the server.\n",
    "\n",
    "This workshop is relatively *informal*, *example-oriented*, and\n",
    "*hands-on*. We will learn by working through an example web scraping\n",
    "project.\n",
    "\n",
    "Note that this is **not** an introductory workshop. Familiarity with\n",
    "Python, including but not limited to knowledge of lists and\n",
    "dictionaries, indexing, and loops and / or comprehensions is assumed.\n",
    "If you need an introduction to Python or a refresher, we recommend the\n",
    "[IQSS Introduction to Python](https://dss.iq.harvard.edu/workshop-materials#widget-0).\n",
    "\n",
    "Note also that this workshop will not teach you everything you need to\n",
    "know in order to retrieve data from any web service you might wish to\n",
    "scrape. You can expect to learn just enough to be dangerous."
   ]
  },
  {
   "cell_type": "markdown",
   "metadata": {},
   "source": [
    "## Preliminary questions\n",
    "\n",
    "### What is web scraping?\n",
    "Web scraping is the activity of automating retrieval of information\n",
    "from a web service designed for human interaction.\n",
    "\n",
    "### Is web scraping legal? Is it ethical?\n",
    "It depends. If you have legal questions seek legal counsel. You can\n",
    "mitigate some ethical issues by building delays and restrictions into\n",
    "your web scraping program so as to avoid impacting the availability of\n",
    "the web service for other users or the cost of hosting the service for\n",
    "the service provider."
   ]
  },
  {
   "cell_type": "markdown",
   "metadata": {},
   "source": [
    "## Example project \n",
    "In this workshop I will demonstrate web scraping techniques using the\n",
    "Collections page at\n",
    "<https://www.harvardartmuseums.org/collections> and let you use\n",
    "the skills you'll learn to retrieve information from other parts of\n",
    "the Harvard Art Museums website.\n",
    "\n",
    "The basic strategy is pretty much the same for most scraping projects.\n",
    "We will use our web browser (Chrome or Firefox recommended) to examine\n",
    "the page you wish to retrieve data from, and copy/paste information\n",
    "from your web browser into your scraping program.\n",
    "\n",
    "## Take shortcuts if you can\n",
    "We wish to extract information from\n",
    "<https://www.harvardartmuseums.org/collections>. Like most\n",
    "modern web pages, a lot goes on behind the scenes to produce the page\n",
    "we see in our browser. Our goal is to pull back the curtain to see\n",
    "what the website does when we interact with it. Once we see how the\n",
    "website works we can start retrieving data from it. If we are lucky\n",
    "we'll find a resource that returns the data we're looking for in a\n",
    "structured format like [JSON](https://json.org/) or\n",
    "[XML](https://en.wikipedia.org/wiki/XML)."
   ]
  },
  {
   "cell_type": "markdown",
   "metadata": {},
   "source": [
    "### Examining the structure of our target web service\n",
    "\n",
    "We start by opening the collections web page in a web browser and\n",
    "inspecting it.\n",
    "\n",
    "![](Python/PythonWebScrape/images/dev_tools.png)\n",
    "\n",
    "![](Python/PythonWebScrape/images/dev_tools_pane.png)\n",
    "\n",
    "If we scroll down to the bottom of the Collections page, we'll see a\n",
    "button that says \"Load More\". Let's see what happens when we click on\n",
    "that button. To do so, click on \"Network\" in the developer tools\n",
    "window, then click the \"Load More Collections\" button. You should see\n",
    "a list of requests that were made as a result of clicking that button,\n",
    "as shown below.\n",
    "\n",
    "![](Python/PythonWebScrape/images/dev_tools_network.png)"
   ]
  },
  {
   "cell_type": "markdown",
   "metadata": {},
   "source": [
    "If we look at that second request, the one to a script named\n",
    "`browse`, we'll see that it returns all the information we need, in\n",
    "a convenient format called `JSON`. All we need to retrieve collection\n",
    "data is call make `GET` requests to\n",
    "<https://www.harvardartmuseums.org/browse> with the correct\n",
    "parameters.\n",
    "\n",
    "### Making requests using Python\n",
    "The URL we want to retrieve data from has the following structure\n",
    "\n",
    "    scheme                    domain    path  parameters\n",
    "     https www.harvardartmuseums.org  browse  load_amount=10&offset=0\n",
    "\n",
    "It is often convenient to create variables containing the domain(s)\n",
    "and path(s) you'll be working with, as this allows you to swap out\n",
    "paths and parameters as needed. Note that the path is separated from\n",
    "the domain with `/` and the parameters are separated from the path\n",
    "with `?`. If there are multiple parameters they are separated from\n",
    "each other with a `&`.\n",
    "\n",
    "For example, we can define the domain and path of the collections URL\n",
    "as follows:"
   ]
  },
  {
   "cell_type": "code",
   "execution_count": null,
   "metadata": {},
   "outputs": [],
   "source": [
    "museum_domain = 'https://www.harvardartmuseums.org'\n",
    "collection_path = 'browse'\n",
    "\n",
    "collection_url = (museum_domain\n",
    "                  + \"/\"\n",
    "                  + collection_path)\n",
    "\n",
    "print(collection_url)"
   ]
  },
  {
   "cell_type": "markdown",
   "metadata": {},
   "source": [
    "Note that we omit the parameters here because it is usually easier to\n",
    "pass them as a `dict` when using the `requests` library in Python.\n",
    "This will become clearer shortly.\n",
    "\n",
    "Now that we've constructed the URL we wish interact with we're ready\n",
    "to make our first request in Python."
   ]
  },
  {
   "cell_type": "code",
   "execution_count": null,
   "metadata": {},
   "outputs": [],
   "source": [
    "import requests\n",
    "\n",
    "collections1 = requests.get(\n",
    "    collection_url,\n",
    "    params = {'load_amount': 10,\n",
    "                  'offset': 0}\n",
    ")"
   ]
  },
  {
   "cell_type": "code",
   "execution_count": null,
   "metadata": {},
   "outputs": [],
   "source": [
    "# ### Parsing JSON data\n",
    "# We already know from inspecting network traffic in our web\n",
    "# browser that this URL returns JSON, but we can use Python to verify\n",
    "# this assumption.\n",
    "collections1.headers['Content-Type']"
   ]
  },
  {
   "cell_type": "markdown",
   "metadata": {},
   "source": [
    "Since JSON is a structured data format, parsing it into python data\n",
    "structures is easy. In fact, there's a method for that!"
   ]
  },
  {
   "cell_type": "code",
   "execution_count": null,
   "metadata": {},
   "outputs": [],
   "source": [
    "collections1 = collections1.json()\n",
    "print(collections1)"
   ]
  },
  {
   "cell_type": "markdown",
   "metadata": {},
   "source": [
    "That's it. Really, we are done here. Everyone go home!\n",
    "\n",
    "OK not really, there is still more we can lean. But you have to admit\n",
    "that was pretty easy. If you can identify a service that returns the\n",
    "data you want in structured from, web scraping becomes a pretty\n",
    "trivial enterprise. We'll discuss several other scenarios and topics,\n",
    "but for some web scraping tasks this is really all you need to know.\n",
    "\n",
    "### Organizing & saving the data\n",
    "\n",
    "The records we retrieved from\n",
    "`https://www.harvardartmuseums.org/browse` are arranged as a list of\n",
    "dictionaries. We can easily select the fields of arrange these data \n",
    "into a pandas `DataFrame` to facilitate subsequent analysis."
   ]
  },
  {
   "cell_type": "code",
   "execution_count": null,
   "metadata": {},
   "outputs": [],
   "source": [
    "import pandas as pd"
   ]
  },
  {
   "cell_type": "code",
   "execution_count": null,
   "metadata": {},
   "outputs": [],
   "source": [
    "records1 = pd.DataFrame.from_records(collections1['records'])"
   ]
  },
  {
   "cell_type": "code",
   "execution_count": null,
   "metadata": {},
   "outputs": [],
   "source": [
    "print(records1)"
   ]
  },
  {
   "cell_type": "markdown",
   "metadata": {},
   "source": [
    "and write the data to a file."
   ]
  },
  {
   "cell_type": "code",
   "execution_count": null,
   "metadata": {},
   "outputs": [],
   "source": [
    "records1.to_csv(\"records1.csv\")"
   ]
  },
  {
   "cell_type": "markdown",
   "metadata": {},
   "source": [
    "### Iterating to retrieve all the data\n",
    "\n",
    "Of course we don't want just the first page of collections. How can we\n",
    "retrieve all of them?\n",
    "\n",
    "Now that we know the web service works, and how to make requests in\n",
    "Python, we can iterate in the usual way."
   ]
  },
  {
   "cell_type": "code",
   "execution_count": null,
   "metadata": {},
   "outputs": [],
   "source": [
    "records = []\n",
    "for offset in range(0, 50, 10):\n",
    "    param_values = {'load_amount': 10, 'offset': offset}\n",
    "    current_request = requests.get(collection_url, params = param_values)\n",
    "    records += current_request.json()['records']"
   ]
  },
  {
   "cell_type": "code",
   "execution_count": null,
   "metadata": {},
   "outputs": [],
   "source": [
    "## convert list of dicts to a `DataFrame`\n",
    "records_final = pd.DataFrame.from_records(records)"
   ]
  },
  {
   "cell_type": "code",
   "execution_count": null,
   "metadata": {},
   "outputs": [],
   "source": [
    "# write the data to a file.\n",
    "records_final.to_csv(\"records_final.csv\")"
   ]
  },
  {
   "cell_type": "code",
   "execution_count": null,
   "metadata": {},
   "outputs": [],
   "source": [
    "print(records_final)"
   ]
  },
  {
   "cell_type": "markdown",
   "metadata": {},
   "source": [
    "## Exercise 0\n",
    "\n",
    "**Retrieve exhibits data**\n",
    "\n",
    "In this exercise you will retrieve information about the art\n",
    "exhibitions at Harvard Art Museums from\n",
    "`https://www.harvardartmuseums.org/visit/exhibitions`\n",
    "\n",
    "1. Using a web browser (Firefox or Chrome recommended) inspect the\n",
    "   page at `https://www.harvardartmuseums.org/visit/exhibitions`. Examine\n",
    "   the network traffic as you interact with the page. Try to find\n",
    "   where the data displayed on that page comes from.\n",
    "2. Make a `get` request in Python to retrieve the data from the URL\n",
    "   identified in step1.\n",
    "3. Write a *loop* or *list comprehension* in Python to retrieve data\n",
    "   for the first 5 pages of exhibitions data.\n",
    "4. Bonus (optional): Convert the data you retrieved into a pandas \n",
    "  `DataFrame` and save it to a `.csv` file.\n"
   ]
  },
  {
   "cell_type": "markdown",
   "metadata": {},
   "source": [
    "## Parse HTML if you have to\n",
    "As we've seen, you can often inspect network traffic or other sources\n",
    "to locate the source of the data you are interested in and the API\n",
    "used to retrieve it. You should always start by looking for these\n",
    "shortcuts and using them where possible. If you are really lucky,\n",
    "you'll find a shortcut that returns the data as JSON or XML. If you\n",
    "are not quite so lucky, you will have to parse HTML to retrieve the\n",
    "information you need.\n",
    "\n",
    "For example, when I inspected the network traffic while interacting\n",
    "with <https://www.harvardartmuseums.org/visit/calendar> I didn't see\n",
    "any requests that returned JSON data. The best we can do appears to be\n",
    "<https://www.harvardartmuseums.org/visit/calendar?date=>, which\n",
    "unfortunately returns  HTML. \n",
    "\n",
    "### Retrieving HTML\n",
    "The first step is the same as before: we make at `GET` request."
   ]
  },
  {
   "cell_type": "code",
   "execution_count": null,
   "metadata": {},
   "outputs": [],
   "source": [
    "calendar_path = 'visit/calendar'\n",
    "\n",
    "calendar_url = (museum_domain # recall that we defined museum_domain earlier\n",
    "                  + \"/\"\n",
    "                  + calendar_path)\n",
    "\n",
    "print(calendar_url)\n",
    "\n",
    "events0 = requests.get(calendar_url, params = {'date': '2018-11'})"
   ]
  },
  {
   "cell_type": "markdown",
   "metadata": {},
   "source": [
    "As before we can check the headers to see what type of content we\n",
    "received in response to our request."
   ]
  },
  {
   "cell_type": "code",
   "execution_count": null,
   "metadata": {},
   "outputs": [],
   "source": [
    "events0.headers['Content-Type']"
   ]
  },
  {
   "cell_type": "markdown",
   "metadata": {},
   "source": [
    "### Parsing HTML using the lxml library\n",
    "Like JSON, HTML is structured; unlike JSON it is designed to be\n",
    "rendered into a human-readable page rather than simply to store and\n",
    "exchange data in a computer-readable format. Consequently, parsing\n",
    "HTML and extracting information from it is somewhat more difficult\n",
    "than parsing JSON.\n",
    "\n",
    "While JSON parsing is built into the Python `requests` library, parsing\n",
    "HTML requires a separate library. I recommend using the HTML parser\n",
    "from the `lxml` library; others prefer an alternative called\n",
    "`BeautyfulSoup`."
   ]
  },
  {
   "cell_type": "code",
   "execution_count": null,
   "metadata": {},
   "outputs": [],
   "source": [
    "from lxml import html\n",
    "\n",
    "events_html = html.fromstring(events0.text)"
   ]
  },
  {
   "cell_type": "markdown",
   "metadata": {},
   "source": [
    "### Using xpath to extract content from HTML\n",
    "`XPath` is a tool for identifying particular elements withing a HTML\n",
    "document. The developer tools built into modern web browsers make it\n",
    "easy to generate `XPath`s that can used to identify the elements of a\n",
    "web page that we wish to extract.\n",
    "\n",
    "We can open the html document we retrieved and inspect it using\n",
    "our web browser."
   ]
  },
  {
   "cell_type": "code",
   "execution_count": null,
   "metadata": {
    "results": "'hide'"
   },
   "outputs": [],
   "source": [
    "html.open_in_browser(events_html, encoding = 'UTF-8')"
   ]
  },
  {
   "cell_type": "markdown",
   "metadata": {},
   "source": [
    "![](Python/PythonWebScrape/images/dev_tools_right_click.png)\n",
    "\n",
    "![](Python/PythonWebScrape/images/dev_tools_inspect.png)\n",
    "\n",
    "Once we identify the element containing the information of interest we\n",
    "can use our web browser to copy the `XPath` that uniquely identifies\n",
    "that element.\n",
    "\n",
    "![](Python/PythonWebScrape/images/dev_tools_xpath.png)\n",
    "\n",
    "Next we can use python to extract the element of interest:"
   ]
  },
  {
   "cell_type": "code",
   "execution_count": null,
   "metadata": {},
   "outputs": [],
   "source": [
    "events_list_html = events_html.xpath('//*[@id=\"events_list\"]')[0]"
   ]
  },
  {
   "cell_type": "markdown",
   "metadata": {},
   "source": [
    "Once again we can use a web browser to inspect the HTML we're\n",
    "currently working with, and to figure out what we want to extract from\n",
    "it. Let's look at the first element in our events list."
   ]
  },
  {
   "cell_type": "code",
   "execution_count": null,
   "metadata": {
    "results": "'hide'"
   },
   "outputs": [],
   "source": [
    "first_event_html = events_list_html[0]\n",
    "html.open_in_browser(first_event_html, encoding = 'UTF-8')"
   ]
  },
  {
   "cell_type": "markdown",
   "metadata": {},
   "source": [
    "As before we can use our browser to find the xpath of the elements we\n",
    "want.\n",
    "\n",
    "![](Python/PythonWebScrape/images/dev_tools_figcaption.png)\n",
    "\n",
    "(Note that the `html.open_in_browser` function adds enclosing `html`\n",
    "and `body` tags in order to create a complete web page for viewing.\n",
    "This requires that we adjust the `xpath` accordingly.)\n",
    "\n",
    "By repeating this process for each element we want, we can build a\n",
    "list of the xpaths to those elements."
   ]
  },
  {
   "cell_type": "code",
   "execution_count": null,
   "metadata": {},
   "outputs": [],
   "source": [
    "elements_we_want = {'figcaption': 'div/figure/div/figcaption',\n",
    "                    'date': 'div/div/header/time',\n",
    "                    'title': 'div/div/header/h2/a',\n",
    "                    'time': 'div/div/div/p[1]/time',\n",
    "                    'localtion1': 'div/div/div/p[2]/span/span[1]',\n",
    "                    'location2': 'div/div/div/p[2]/span/span[2]'\n",
    "                    }"
   ]
  },
  {
   "cell_type": "markdown",
   "metadata": {},
   "source": [
    "Finally, we can iterate over the elements we want and extract them."
   ]
  },
  {
   "cell_type": "code",
   "execution_count": null,
   "metadata": {},
   "outputs": [],
   "source": [
    "first_event_values = {}\n",
    "for key in elements_we_want.keys():\n",
    "    element = first_event_html.xpath(elements_we_want[key])[0]\n",
    "    first_event_values[key] = element.text_content().strip()\n",
    "\n",
    "print(first_event_values)"
   ]
  },
  {
   "cell_type": "markdown",
   "metadata": {},
   "source": [
    "### Iterating to retrieve content from a list of HTML elements\n",
    "So far we've retrieved information only for the first event. To\n",
    "retrieve data for all the events listed on the page we need to iterate\n",
    "over the events. If we are very lucky, each event will have exactly\n",
    "the same information structured in exactly the same way and we can\n",
    "simply extend the code we wrote above to iterate over the events list.\n",
    "\n",
    "Unfortunately not all these elements are available for every event, so\n",
    "we need to take care to handle the case where one or more of these\n",
    "elements is not available. We can do that by defining a function that\n",
    "tries to retrieve a value and returns an empty string if it fails."
   ]
  },
  {
   "cell_type": "code",
   "execution_count": null,
   "metadata": {},
   "outputs": [],
   "source": [
    "def get_event_info(event, path):\n",
    "    try:\n",
    "        info = event.xpath(path)[0].text.strip()\n",
    "    except:\n",
    "        info = ''\n",
    "    return info"
   ]
  },
  {
   "cell_type": "markdown",
   "metadata": {},
   "source": [
    "Armed with this function we can iterate over the list of events and\n",
    "extract the available information for each one."
   ]
  },
  {
   "cell_type": "code",
   "execution_count": null,
   "metadata": {},
   "outputs": [],
   "source": [
    "all_event_values = {}\n",
    "for key in elements_we_want.keys():\n",
    "    key_values = []\n",
    "    for event in events_list_html: \n",
    "        key_values.append(get_event_info(event, elements_we_want[key]))\n",
    "    all_event_values[key] = key_values"
   ]
  },
  {
   "cell_type": "markdown",
   "metadata": {},
   "source": [
    "For convenience we can arrange these values in a pandas `DataFrame`\n",
    "and save them as .csv files, just as we did with our exhibitions data earlier."
   ]
  },
  {
   "cell_type": "code",
   "execution_count": null,
   "metadata": {},
   "outputs": [],
   "source": [
    "all_event_values = pd.DataFrame.from_dict(all_event_values)\n",
    "\n",
    "all_event_values.to_csv(\"all_event_values.csv\")\n",
    "\n",
    "print(all_event_values)"
   ]
  },
  {
   "cell_type": "markdown",
   "metadata": {},
   "source": [
    "## Exercise 1 \n",
    "\n",
    "**parsing HTML**\n",
    "\n",
    "In this exercise you will retrieve information about the physical\n",
    "layout of the Harvard Art Museums. The web page at\n",
    "<https://www.harvardartmuseums.org/visit/floor-plan> contains this\n",
    "information in HTML from.\n",
    "\n",
    "1. Using a web browser (Firefox or Chrome recommended) inspect the\n",
    "   page at `https://www.harvardartmuseums.org/visit/floor-plan`. Copy\n",
    "   the `XPath` to the element containing the list of level\n",
    "   information. (HINT: the element if interest is a `ul`, i.e.,\n",
    "   `unordered list`.)\n",
    "2. Make a `get` request in Python to retrieve the web page at\n",
    "   <https://www.harvardartmuseums.org/visit/floor-plan>. Extract the\n",
    "   content from your request object and parse it using `html.fromstring`\n",
    "   from the `lxml` library.\n",
    "3. Use your web browser to find the `XPath`s to the facilities housed on\n",
    "   level one. Use Python to extract the text from those `Xpath`s.\n",
    "4. Bonus (optional): Write a *loop* or *list comprehension* in Python\n",
    "   to retrieve data for all the levels."
   ]
  },
  {
   "cell_type": "markdown",
   "metadata": {},
   "source": [
    "## `Scrapy`: for large / complex projects\n",
    "Scraping websites using the `requests` library to make GET and POST\n",
    "requests, and the `lxml` library to process HTML is a good way to\n",
    "learn basic web scraping techniques. It is a good choice for small to\n",
    "medium size projects. For very large or complicated scraping tasks the\n",
    "`scrapy` library offers a number of conveniences, including\n",
    "asynchronously retrieval, session management, convenient methods for\n",
    "extracting and storing values, and more. More information about\n",
    "`scrapy` can be found at <https://doc.scrapy.org>.\n",
    "\n",
    "## Browser drivers: a last resort\n",
    "It is sometimes necessary (or sometimes just easier) to use a web\n",
    "browser as an intermediary rather than communicating directly with a\n",
    "web service. This method has the advantage of being about to use the\n",
    "javascript engine and session management features of a web browser;\n",
    "the main disadvantage is that it is slower and tends to be more\n",
    "fragile than using `requests` or `scrapy` to make requests directly\n",
    "from python. For small scraping projects involving complicated sites\n",
    "with CAPTHAs or lots of complicated javascript using a browser driver\n",
    "can be a good option. More information is available at \n",
    "<https://www.seleniumhq.org/docs/03_webdriver.jsp>."
   ]
  },
  {
   "cell_type": "markdown",
   "metadata": {},
   "source": [
    "## Wrap-up\n",
    "\n",
    "### Feedback\n",
    "\n",
    "These workshops are a work in progress, please provide any feedback to: help@iq.harvard.edu\n",
    "\n",
    "### Resources\n",
    "\n",
    "* IQSS \n",
    "    + Workshops: <https://dss.iq.harvard.edu/workshop-materials>\n",
    "    + Data Science Services: <https://dss.iq.harvard.edu/>\n",
    "    + Research Computing Environment: <https://iqss.github.io/dss-rce/>\n",
    "\n",
    "* HBS\n",
    "    + Research Computing Services workshops: <https://training.rcs.hbs.org/workshops>\n",
    "    + Other HBS RCS resources: <https://training.rcs.hbs.org/workshop-materials>\n",
    "    + RCS consulting email: <mailto:research@hbs.edu>\n",
    "    "
   ]
  }
 ],
 "metadata": {
  "jupytext": {
   "cell_metadata_filter": "hide_input,eval,results,-all",
   "main_language": "python",
   "notebook_metadata_filter": "-all"
  }
 },
 "nbformat": 4,
 "nbformat_minor": 2
}
