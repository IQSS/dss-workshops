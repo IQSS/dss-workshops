{
 "cells": [
  {
   "cell_type": "markdown",
   "metadata": {
    "lines_to_next_cell": 0
   },
   "source": []
  },
  {
   "cell_type": "code",
   "execution_count": null,
   "metadata": {
    "eval": true,
    "hide_input": true,
    "results": false
   },
   "outputs": [],
   "source": [
    "%%R\n",
    "knitr::opts_chunk$set(eval=FALSE, results=FALSE, message=FALSE, warning=FALSE, error=FALSE)"
   ]
  },
  {
   "cell_type": "markdown",
   "metadata": {},
   "source": [
    "# Python Web-Scraping\n",
    "\n",
    "**Topics**\n",
    "\n",
    "* Web basics\n",
    "* Making web requests\n",
    "* Inspecting web sites\n",
    "* Retrieving web data\n",
    "* Using Xpaths to retrieve `html` content\n",
    "* Parsing `html` content\n",
    "* Cleaning and storing text from `html`"
   ]
  },
  {
   "cell_type": "markdown",
   "metadata": {},
   "source": [
    "## Setup\n",
    "\n",
    "### Class Structure\n",
    "\n",
    "* Informal --- Ask questions at any time. Really!\n",
    "* Collaboration is encouraged - please spend a minute introducing yourself to your neighbors!"
   ]
  },
  {
   "cell_type": "markdown",
   "metadata": {},
   "source": [
    "### Prerequisites\n",
    "\n",
    "This is an intermediate / advanced Python course:\n",
    "\n",
    "* Assumes knowledge of Python, including:\n",
    "    + lists\n",
    "    + dictionaries\n",
    "    + logical indexing\n",
    "    + iteration with for-loops\n",
    "* Assumes basic knowledge of web page structure\n",
    "* Relatively fast-paced\n",
    "\n",
    "If you need an introduction to Python or a refresher, we recommend our\n",
    "[Python Introduction](https://iqss.github.io/dss-workshops/PythonIntro.html)."
   ]
  },
  {
   "cell_type": "markdown",
   "metadata": {},
   "source": [
    "### Workshop Outline\n",
    "\n",
    "This workshop is organized into two parts:\n",
    "\n",
    "1. Retrive information in JSON format\n",
    "2. Parse HTML files\n",
    "\n",
    "Note that this workshop will not teach you everything you need to know in\n",
    "order to retrieve data from any web service you might wish to scrape."
   ]
  },
  {
   "cell_type": "markdown",
   "metadata": {},
   "source": [
    "## Preliminary questions\n",
    "\n",
    "### What is web scraping?\n",
    "\n",
    "Web scraping is the activity of automating retrieval of information\n",
    "from a web service designed for human interaction.\n",
    "\n",
    "### Is web scraping legal? Is it ethical?\n",
    "\n",
    "It depends. If you have legal questions seek legal counsel. You can\n",
    "mitigate some ethical issues by building delays and restrictions into\n",
    "your web scraping program so as to avoid impacting the availability of\n",
    "the web service for other users or the cost of hosting the service for\n",
    "the service provider."
   ]
  },
  {
   "cell_type": "markdown",
   "metadata": {},
   "source": [
    "## How does the web work?\n",
    "\n",
    "### Components\n",
    "\n",
    "Computers connected to the web are called **clients** and **servers**. A simplified diagram of how they interact might look like this:\n",
    "\n",
    "![](Python/PythonWebScrape/images/client_server.png)\n",
    "\n",
    "* **Clients** are the typical web user's internet-connected devices (for example, your computer connected to your Wi-Fi) and web-accessing software available on those devices (usually a web browser like Firefox or Chrome).\n",
    "* **Servers** are computers that store webpages, sites, or apps. When a client device wants to access a webpage, a copy of the webpage is downloaded from the server onto the client machine to be displayed in the user's web browser.\n",
    "* Your internet connection allows you to send and receive data on the web.\n",
    "* **TCP/IP** are the communication protocols that define how data should travel across the web.\n",
    "* **Domain Name Servers (DNS)** are like an address book for websites. \n",
    "* **HTTP** is an application protocol that defines a language for clients and servers to speak to each other.\n",
    "\n",
    "### So What Happens, Exactly?\n",
    "\n",
    "When you type a web address into your browser:\n",
    "\n",
    "1. The browser goes to the DNS server, and finds the real address of the server that the website lives on.\n",
    "2. The browser sends an HTTP request message to the server, asking it to send a copy of the website to the client. This message, and all other data sent between the client and the server, is sent across your internet connection using TCP/IP.\n",
    "3. If the server approves the client's request, the server sends the client a \"200 OK\" message, and then starts sending the website's files to the browser as a series of small chunks called *data packets*.\n",
    "4. The browser assembles the small chunks into a complete website and displays it to you."
   ]
  },
  {
   "cell_type": "markdown",
   "metadata": {},
   "source": [
    "## Example project \n",
    "\n",
    "In this workshop I will demonstrate web scraping techniques using the\n",
    "Collections page at\n",
    "<https://www.harvardartmuseums.org/collections> and let you use\n",
    "the skills you'll learn to retrieve information from other parts of\n",
    "the Harvard Art Museums website.\n",
    "\n",
    "The basic strategy is pretty much the same for most scraping projects.\n",
    "We will use our web browser (Chrome or Firefox recommended) to examine\n",
    "the page you wish to retrieve data from, and copy/paste information\n",
    "from your web browser into your scraping program.\n",
    "\n",
    "## Take shortcuts if you can\n",
    "\n",
    "We wish to extract information from\n",
    "<https://www.harvardartmuseums.org/collections>. Like most\n",
    "modern web pages, a lot goes on behind the scenes to produce the page\n",
    "we see in our browser. Our goal is to pull back the curtain to see\n",
    "what the website does when we interact with it. Once we see how the\n",
    "website works we can start retrieving data from it. If we are lucky\n",
    "we'll find a resource that returns the data we're looking for in a\n",
    "structured format like [JSON](https://json.org/) or\n",
    "[XML](https://en.wikipedia.org/wiki/XML)."
   ]
  },
  {
   "cell_type": "markdown",
   "metadata": {},
   "source": [
    "### Examine the website's structure\n",
    "\n",
    "We start by opening the collections web page in a web browser and\n",
    "inspecting it.\n",
    "\n",
    "![](Python/PythonWebScrape/images/dev_tools.png)\n",
    "\n",
    "![](Python/PythonWebScrape/images/dev_tools_pane.png)\n",
    "\n",
    "If we scroll down to the bottom of the Collections page, we'll see a\n",
    "button that says \"Load More\". Let's see what happens when we click on\n",
    "that button. To do so, click on \"Network\" in the developer tools\n",
    "window, then click the \"Load More Collections\" button. You should see\n",
    "a list of requests that were made as a result of clicking that button,\n",
    "as shown below.\n",
    "\n",
    "![](Python/PythonWebScrape/images/dev_tools_network.png)"
   ]
  },
  {
   "cell_type": "markdown",
   "metadata": {},
   "source": [
    "If we look at that second request, the one to a script named\n",
    "`browse`, we'll see that it returns all the information we need, in\n",
    "a convenient format called `JSON`. All we need to retrieve collection\n",
    "data is call make `GET` requests to\n",
    "<https://www.harvardartmuseums.org/browse> with the correct\n",
    "parameters.\n",
    "\n",
    "### Launch JupyterLab\n",
    "\n",
    "1. Start the `Anaconda Navigator` program\n",
    "2. Click the `Launch` button under `Jupyter Lab`\n",
    "3. A browser window will open with your computer's files listed on the left hand side of the page. Navigate to the folder called `PythonWebScrape` that you downloaded to your desktop and double-click on the folder\n",
    "4. Within the `PythonWebScrape` folder, double-click on the file with the word \"BLANK\" in the name (`PythonWebScrape_BLANK.ipynb`). A pop-up window will ask you to `Select Kernal` --- you should select the Python 3 kernal. The Jupyter Notebook should now open on the right hand side of the page\n",
    "\n",
    "A Jupyter Notebook contains one or more *cells* containing notes or code. To insert a new cell click the `+` button in the upper left. To execute a cell, select it and press `Control+Enter` or click the `Run` button at the top.\n"
   ]
  },
  {
   "cell_type": "code",
   "execution_count": null,
   "metadata": {
    "hide_input": true,
    "results": false
   },
   "outputs": [],
   "source": [
    "## This sets some printing options\n",
    "## that make output look nicer.\n",
    "\n",
    "from pprint import pprint as print\n",
    "import pandas as pd\n",
    "pd.set_option('display.width', 133)\n",
    "pd.set_option('display.max_colwidth', 30)\n",
    "pd.set_option('display.max_columns', 5)"
   ]
  },
  {
   "cell_type": "markdown",
   "metadata": {},
   "source": [
    "### Making requests\n",
    "\n",
    "The URL we want to retrieve data from has the following structure\n",
    "\n",
    "    scheme                    domain    path  parameters\n",
    "     https www.harvardartmuseums.org  browse  load_amount=10&offset=0\n",
    "\n",
    "It is often convenient to create variables containing the domain(s)\n",
    "and path(s) you'll be working with, as this allows you to swap out\n",
    "paths and parameters as needed. Note that the path is separated from\n",
    "the domain with `/` and the parameters are separated from the path\n",
    "with `?`. If there are multiple parameters they are separated from\n",
    "each other with a `&`.\n",
    "\n",
    "For example, we can define the domain and path of the collections URL\n",
    "as follows:"
   ]
  },
  {
   "cell_type": "code",
   "execution_count": null,
   "metadata": {},
   "outputs": [],
   "source": [
    "museum_domain = 'https://www.harvardartmuseums.org'\n",
    "collection_path = 'browse'\n",
    "\n",
    "collection_url = (museum_domain\n",
    "                  + \"/\"\n",
    "                  + collection_path)\n",
    "\n",
    "print(collection_url)"
   ]
  },
  {
   "cell_type": "markdown",
   "metadata": {},
   "source": [
    "Note that we omit the parameters here because it is usually easier to\n",
    "pass them as a `dict` when using the `requests` library in Python.\n",
    "This will become clearer shortly.\n",
    "\n",
    "Now that we've constructed the URL we wish interact with we're ready\n",
    "to make our first request in Python."
   ]
  },
  {
   "cell_type": "code",
   "execution_count": null,
   "metadata": {},
   "outputs": [],
   "source": [
    "import requests\n",
    "\n",
    "collections1 = requests.get(\n",
    "    collection_url,\n",
    "    params = {'load_amount': 10,\n",
    "                  'offset': 0}\n",
    ")"
   ]
  },
  {
   "cell_type": "code",
   "execution_count": null,
   "metadata": {},
   "outputs": [],
   "source": [
    "# ### Parsing JSON data\n",
    "# We already know from inspecting network traffic in our web\n",
    "# browser that this URL returns JSON, but we can use Python to verify\n",
    "# this assumption.\n",
    "collections1.headers['Content-Type']"
   ]
  },
  {
   "cell_type": "markdown",
   "metadata": {},
   "source": [
    "Since JSON is a structured data format, parsing it into python data\n",
    "structures is easy. In fact, there's a method for that!"
   ]
  },
  {
   "cell_type": "code",
   "execution_count": null,
   "metadata": {},
   "outputs": [],
   "source": [
    "collections1 = collections1.json()\n",
    "print(collections1)"
   ]
  },
  {
   "cell_type": "markdown",
   "metadata": {},
   "source": [
    "That's it. Really, we are done here. Everyone go home!\n",
    "\n",
    "OK not really, there is still more we can lean. But you have to admit\n",
    "that was pretty easy. If you can identify a service that returns the\n",
    "data you want in structured from, web scraping becomes a pretty\n",
    "trivial enterprise. We'll discuss several other scenarios and topics,\n",
    "but for some web scraping tasks this is really all you need to know.\n",
    "\n",
    "### Organizing & saving the data\n",
    "\n",
    "The records we retrieved from\n",
    "`https://www.harvardartmuseums.org/browse` are arranged as a list of\n",
    "dictionaries. We can easily select the fields of arrange these data \n",
    "into a pandas `DataFrame` to facilitate subsequent analysis."
   ]
  },
  {
   "cell_type": "code",
   "execution_count": null,
   "metadata": {},
   "outputs": [],
   "source": [
    "import pandas as pd"
   ]
  },
  {
   "cell_type": "code",
   "execution_count": null,
   "metadata": {},
   "outputs": [],
   "source": [
    "records1 = pd.DataFrame.from_records(collections1['records'])"
   ]
  },
  {
   "cell_type": "code",
   "execution_count": null,
   "metadata": {},
   "outputs": [],
   "source": [
    "print(records1)"
   ]
  },
  {
   "cell_type": "markdown",
   "metadata": {},
   "source": [
    "and write the data to a file."
   ]
  },
  {
   "cell_type": "code",
   "execution_count": null,
   "metadata": {},
   "outputs": [],
   "source": [
    "records1.to_csv(\"records1.csv\")"
   ]
  },
  {
   "cell_type": "markdown",
   "metadata": {},
   "source": [
    "### Iterating to retrieve all the data\n",
    "\n",
    "Of course we don't want just the first page of collections. How can we\n",
    "retrieve all of them?\n",
    "\n",
    "Now that we know the web service works, and how to make requests in\n",
    "Python, we can iterate in the usual way."
   ]
  },
  {
   "cell_type": "code",
   "execution_count": null,
   "metadata": {},
   "outputs": [],
   "source": [
    "records = []\n",
    "for offset in range(0, 50, 10):\n",
    "    param_values = {'load_amount': 10, 'offset': offset}\n",
    "    current_request = requests.get(collection_url, params = param_values)\n",
    "    records += current_request.json()['records']"
   ]
  },
  {
   "cell_type": "code",
   "execution_count": null,
   "metadata": {},
   "outputs": [],
   "source": [
    "## convert list of dicts to a `DataFrame`\n",
    "records_final = pd.DataFrame.from_records(records)"
   ]
  },
  {
   "cell_type": "code",
   "execution_count": null,
   "metadata": {},
   "outputs": [],
   "source": [
    "# write the data to a file.\n",
    "records_final.to_csv(\"records_final.csv\")"
   ]
  },
  {
   "cell_type": "code",
   "execution_count": null,
   "metadata": {},
   "outputs": [],
   "source": [
    "print(records_final)"
   ]
  },
  {
   "cell_type": "markdown",
   "metadata": {},
   "source": [
    "### Exercise 0\n",
    "\n",
    "**Retrieve exhibits data**\n",
    "\n",
    "In this exercise you will retrieve information about the art\n",
    "exhibitions at Harvard Art Museums from\n",
    "`https://www.harvardartmuseums.org/visit/exhibitions`\n",
    "\n",
    "1. Using a web browser (Firefox or Chrome recommended) inspect the\n",
    "   page at `https://www.harvardartmuseums.org/visit/exhibitions`. Examine\n",
    "   the network traffic as you interact with the page. Try to find\n",
    "   where the data displayed on that page comes from.\n",
    "2. Make a `get` request in Python to retrieve the data from the URL\n",
    "   identified in step1.\n",
    "3. Write a *loop* or *list comprehension* in Python to retrieve data\n",
    "   for the first 5 pages of exhibitions data.\n",
    "4. Bonus (optional): Convert the data you retrieved into a pandas \n",
    "  `DataFrame` and save it to a `.csv` file.\n"
   ]
  },
  {
   "cell_type": "markdown",
   "metadata": {},
   "source": [
    "## Parse HTML if you have to\n",
    "As we've seen, you can often inspect network traffic or other sources\n",
    "to locate the source of the data you are interested in and the API\n",
    "used to retrieve it. You should always start by looking for these\n",
    "shortcuts and using them where possible. If you are really lucky,\n",
    "you'll find a shortcut that returns the data as JSON or XML. If you\n",
    "are not quite so lucky, you will have to parse HTML to retrieve the\n",
    "information you need.\n",
    "\n",
    "### Document Object Model (DOM)\n",
    "To parse HTML, we need to have a nice tree structure that contains the whole HTML file through which we can locate the information. This tree-like structure is the **Document Object Model (DOM)**. DOM is a cross-platform and language-independent interface that treats an XML or HTML document as a tree structure wherein each node is an object representing a part of the document. The DOM represents a document with a logical tree. *Each branch of the tree ends in a node, and each node contains objects*. DOM methods allow programmatic access to the tree; with them one can change the structure, style or content of a document. The following is an example of DOM hierarchy in an HTML document:\n",
    "\n",
    "![](Python/PythonWebScrape/images/DOM.png)"
   ]
  },
  {
   "cell_type": "markdown",
   "metadata": {},
   "source": [
    "### Retrieving HTML\n",
    "\n",
    "When I inspected the network traffic while interacting\n",
    "with <https://www.harvardartmuseums.org/visit/calendar> I didn't see\n",
    "any requests that returned JSON data. The best we can do appears to be\n",
    "<https://www.harvardartmuseums.org/visit/calendar?date=>, which\n",
    "unfortunately returns HTML. \n",
    "\n",
    "The first step is the same as before: we make at `GET` request."
   ]
  },
  {
   "cell_type": "code",
   "execution_count": null,
   "metadata": {},
   "outputs": [],
   "source": [
    "calendar_path = 'visit/calendar'\n",
    "\n",
    "calendar_url = (museum_domain # recall that we defined museum_domain earlier\n",
    "                  + \"/\"\n",
    "                  + calendar_path)\n",
    "\n",
    "print(calendar_url)\n",
    "\n",
    "events0 = requests.get(calendar_url, params = {'date': '2018-11'})"
   ]
  },
  {
   "cell_type": "markdown",
   "metadata": {},
   "source": [
    "As before we can check the headers to see what type of content we\n",
    "received in response to our request."
   ]
  },
  {
   "cell_type": "code",
   "execution_count": null,
   "metadata": {},
   "outputs": [],
   "source": [
    "events0.headers['Content-Type']"
   ]
  },
  {
   "cell_type": "markdown",
   "metadata": {},
   "source": [
    "### Parsing HTML using the lxml library\n",
    "Like JSON, HTML is structured; unlike JSON it is designed to be\n",
    "rendered into a human-readable page rather than simply to store and\n",
    "exchange data in a computer-readable format. Consequently, parsing\n",
    "HTML and extracting information from it is somewhat more difficult\n",
    "than parsing JSON.\n",
    "\n",
    "While JSON parsing is built into the Python `requests` library, parsing\n",
    "HTML requires a separate library. I recommend using the HTML parser\n",
    "from the `lxml` library; others prefer an alternative called\n",
    "`beautifulsoup4`."
   ]
  },
  {
   "cell_type": "code",
   "execution_count": null,
   "metadata": {},
   "outputs": [],
   "source": [
    "from lxml import html\n",
    "\n",
    "events_html = html.fromstring(events0.text)"
   ]
  },
  {
   "cell_type": "markdown",
   "metadata": {},
   "source": [
    "### Using XPath to extract content from HTML\n",
    "`XPath` is a tool for identifying particular elements withing a HTML\n",
    "document. The developer tools built into modern web browsers make it\n",
    "easy to generate `XPath`s that can used to identify the elements of a\n",
    "web page that we wish to extract.\n",
    "\n",
    "We can open the html document we retrieved and inspect it using\n",
    "our web browser."
   ]
  },
  {
   "cell_type": "code",
   "execution_count": null,
   "metadata": {
    "results": "'hide'"
   },
   "outputs": [],
   "source": [
    "html.open_in_browser(events_html, encoding = 'UTF-8')"
   ]
  },
  {
   "cell_type": "markdown",
   "metadata": {},
   "source": [
    "![](Python/PythonWebScrape/images/dev_tools_right_click.png)\n",
    "\n",
    "![](Python/PythonWebScrape/images/dev_tools_inspect.png)\n",
    "\n",
    "Once we identify the element containing the information of interest we\n",
    "can use our web browser to copy the `XPath` that uniquely identifies\n",
    "that element.\n",
    "\n",
    "![](Python/PythonWebScrape/images/dev_tools_xpath.png)\n",
    "\n",
    "Next we can use python to extract the element of interest:"
   ]
  },
  {
   "cell_type": "code",
   "execution_count": null,
   "metadata": {},
   "outputs": [],
   "source": [
    "events_list_html = events_html.xpath('//*[@id=\"events_list\"]')[0]"
   ]
  },
  {
   "cell_type": "markdown",
   "metadata": {},
   "source": [
    "Once again we can use a web browser to inspect the HTML we're\n",
    "currently working with, and to figure out what we want to extract from\n",
    "it. Let's look at the first element in our events list."
   ]
  },
  {
   "cell_type": "code",
   "execution_count": null,
   "metadata": {
    "results": "'hide'"
   },
   "outputs": [],
   "source": [
    "first_event_html = events_list_html[0]\n",
    "html.open_in_browser(first_event_html, encoding = 'UTF-8')"
   ]
  },
  {
   "cell_type": "markdown",
   "metadata": {},
   "source": [
    "As before we can use our browser to find the xpath of the elements we\n",
    "want.\n",
    "\n",
    "![](Python/PythonWebScrape/images/dev_tools_figcaption.png)\n",
    "\n",
    "(Note that the `html.open_in_browser` function adds enclosing `html`\n",
    "and `body` tags in order to create a complete web page for viewing.\n",
    "This requires that we adjust the `xpath` accordingly.)\n",
    "\n",
    "By repeating this process for each element we want, we can build a\n",
    "list of the xpaths to those elements."
   ]
  },
  {
   "cell_type": "code",
   "execution_count": null,
   "metadata": {},
   "outputs": [],
   "source": [
    "elements_we_want = {'figcaption': 'div/figure/div/figcaption',\n",
    "                    'date': 'div/div/header/time',\n",
    "                    'title': 'div/div/header/h2/a',\n",
    "                    'time': 'div/div/div/p[1]/time',\n",
    "                    'localtion1': 'div/div/div/p[2]/span/span[1]',\n",
    "                    'location2': 'div/div/div/p[2]/span/span[2]'\n",
    "                    }"
   ]
  },
  {
   "cell_type": "markdown",
   "metadata": {},
   "source": [
    "Finally, we can iterate over the elements we want and extract them."
   ]
  },
  {
   "cell_type": "code",
   "execution_count": null,
   "metadata": {},
   "outputs": [],
   "source": [
    "first_event_values = {}\n",
    "for key in elements_we_want.keys():\n",
    "    element = first_event_html.xpath(elements_we_want[key])[0]\n",
    "    first_event_values[key] = element.text_content().strip()\n",
    "\n",
    "print(first_event_values)"
   ]
  },
  {
   "cell_type": "markdown",
   "metadata": {},
   "source": [
    "### Iterating to retrieve content from a list of HTML elements\n",
    "So far we've retrieved information only for the first event. To\n",
    "retrieve data for all the events listed on the page we need to iterate\n",
    "over the events. If we are very lucky, each event will have exactly\n",
    "the same information structured in exactly the same way and we can\n",
    "simply extend the code we wrote above to iterate over the events list.\n",
    "\n",
    "Unfortunately, not all these elements are available for every event, so\n",
    "we need to take care to handle the case where one or more of these\n",
    "elements is not available. We can do that by **defining a function** that\n",
    "tries to retrieve a value and returns an empty string if it fails.\n",
    "\n",
    "If you're not familiar with Python functions, here's the basic syntax:"
   ]
  },
  {
   "cell_type": "code",
   "execution_count": null,
   "metadata": {
    "eval": false
   },
   "outputs": [],
   "source": [
    "# anatomy of a function\n",
    "\n",
    "def name_of_function(arg1, arg2, ...argn):  # define the function name and arguments\n",
    "    <body of function>   # specify calculations\n",
    "    return <result>      # output result of calculations"
   ]
  },
  {
   "cell_type": "markdown",
   "metadata": {},
   "source": [
    "Here's a function to perform our task:"
   ]
  },
  {
   "cell_type": "code",
   "execution_count": null,
   "metadata": {},
   "outputs": [],
   "source": [
    "def get_event_info(event, path):\n",
    "    try:\n",
    "        info = event.xpath(path)[0].text.strip()\n",
    "    except:\n",
    "        info = ''\n",
    "    return info"
   ]
  },
  {
   "cell_type": "markdown",
   "metadata": {},
   "source": [
    "Armed with this function we can iterate over the list of events and\n",
    "extract the available information for each one."
   ]
  },
  {
   "cell_type": "code",
   "execution_count": null,
   "metadata": {},
   "outputs": [],
   "source": [
    "all_event_values = {}\n",
    "for key in elements_we_want.keys():\n",
    "    key_values = []\n",
    "    for event in events_list_html: \n",
    "        key_values.append(get_event_info(event, elements_we_want[key]))\n",
    "    all_event_values[key] = key_values"
   ]
  },
  {
   "cell_type": "markdown",
   "metadata": {},
   "source": [
    "For convenience we can arrange these values in a pandas `DataFrame`\n",
    "and save them as .csv files, just as we did with our exhibitions data earlier."
   ]
  },
  {
   "cell_type": "code",
   "execution_count": null,
   "metadata": {},
   "outputs": [],
   "source": [
    "all_event_values = pd.DataFrame.from_dict(all_event_values)\n",
    "\n",
    "all_event_values.to_csv(\"all_event_values.csv\")\n",
    "\n",
    "print(all_event_values)"
   ]
  },
  {
   "cell_type": "markdown",
   "metadata": {},
   "source": [
    "### Exercise 1 \n",
    "\n",
    "**parsing HTML**\n",
    "\n",
    "In this exercise you will retrieve information about the physical\n",
    "layout of the Harvard Art Museums. The web page at\n",
    "<https://www.harvardartmuseums.org/visit/floor-plan> contains this\n",
    "information in HTML from.\n",
    "\n",
    "1. Using a web browser (Firefox or Chrome recommended) inspect the\n",
    "   page at `https://www.harvardartmuseums.org/visit/floor-plan`. Copy\n",
    "   the `XPath` to the element containing the list of level\n",
    "   information. (HINT: the element if interest is a `ul`, i.e.,\n",
    "   `unordered list`.)\n",
    "\n",
    "2. Make a `get` request in Python to retrieve the web page at\n",
    "   <https://www.harvardartmuseums.org/visit/floor-plan>. Extract the\n",
    "   content from your request object and parse it using `html.fromstring`\n",
    "   from the `lxml` library.\n",
    "\n",
    "3. Use your web browser to find the `XPath`s to the facilities housed on\n",
    "   level one. Use Python to extract the text from those `Xpath`s.\n",
    "\n",
    "4. Bonus (optional): Write a *for loop* or *list comprehension* in Python\n",
    "   to retrieve data for all the levels."
   ]
  },
  {
   "cell_type": "markdown",
   "metadata": {},
   "source": [
    "## `Scrapy`: for large / complex projects\n",
    "Scraping websites using the `requests` library to make GET and POST\n",
    "requests, and the `lxml` library to process HTML is a good way to\n",
    "learn basic web scraping techniques. It is a good choice for small to\n",
    "medium size projects. For very large or complicated scraping tasks the\n",
    "`scrapy` library offers a number of conveniences, including\n",
    "asynchronous retrieval, session management, convenient methods for\n",
    "extracting and storing values, and more. More information about\n",
    "`scrapy` can be found at <https://doc.scrapy.org>.\n",
    "\n",
    "## Browser drivers: a last resort\n",
    "It is sometimes necessary (or sometimes just easier) to use a web\n",
    "browser as an intermediary rather than communicate directly with a\n",
    "web service. This method of using a \"browser driver\" has the advantage \n",
    "of being able to use the javascript engine and session management features \n",
    "of a web browser; the main disadvantage is that it is slower and tends to \n",
    "be more fragile than using `requests` or `scrapy` to make requests directly\n",
    "from Python. For small scraping projects involving complicated sites\n",
    "with CAPTHAs or lots of complicated javascript using a browser driver\n",
    "can be a good option. More information is available at \n",
    "<https://www.seleniumhq.org/docs/03_webdriver.jsp>."
   ]
  },
  {
   "cell_type": "markdown",
   "metadata": {},
   "source": [
    "## Exercise solutions\n",
    "\n",
    "### Ex 0: prototype"
   ]
  },
  {
   "cell_type": "markdown",
   "metadata": {},
   "source": [
    "### Ex 1: prototype\n"
   ]
  },
  {
   "cell_type": "markdown",
   "metadata": {},
   "source": [
    "## Wrap-up\n",
    "\n",
    "### Feedback\n",
    "\n",
    "These workshops are a work in progress, please provide any feedback to: help@iq.harvard.edu\n",
    "\n",
    "### Resources\n",
    "\n",
    "* IQSS \n",
    "    + Workshops: <https://dss.iq.harvard.edu/workshop-materials>\n",
    "    + Data Science Services: <https://dss.iq.harvard.edu/>\n",
    "    + Research Computing Environment: <https://iqss.github.io/dss-rce/>\n",
    "\n",
    "* HBS\n",
    "    + Research Computing Services workshops: <https://training.rcs.hbs.org/workshops>\n",
    "    + Other HBS RCS resources: <https://training.rcs.hbs.org/workshop-materials>\n",
    "    + RCS consulting email: <mailto:research@hbs.edu>\n",
    "    "
   ]
  }
 ],
 "metadata": {
  "jupytext": {
   "cell_metadata_filter": "eval,results,hide_input,-all",
   "main_language": "python",
   "notebook_metadata_filter": "-all"
  }
 },
 "nbformat": 4,
 "nbformat_minor": 2
}
